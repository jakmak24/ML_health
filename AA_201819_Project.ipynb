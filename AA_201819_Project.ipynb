{
 "cells": [
  {
   "cell_type": "markdown",
   "metadata": {
    "colab_type": "text",
    "id": "_nL1N0FUxVsP"
   },
   "source": [
    "# Machine Learning / Aprendizagem Automática\n",
    "\n",
    "## Sara C. Madeira, 2018/19\n",
    "\n",
    "# ML Project  - Learning from Mental Health in Tech Surveys "
   ]
  },
  {
   "cell_type": "markdown",
   "metadata": {
    "colab_type": "text",
    "id": "TrZEWwU6xVsR"
   },
   "source": [
    "## Logistics\n",
    "\n",
    "**Students are encouraged to work in teams of 4 people**. \n",
    "\n",
    "Projects with smaller teams are allowed, but will not have better grades for this reason. \n",
    "\n",
    "The quality of the project will dictate its grade, not the number of people working.\n",
    "\n",
    "**The project's solution should be uploaded in Moodle before the end of January, 9th 2019 (last day before the exams season).** \n",
    "\n",
    "**Other deadline date might be considered provided the majority of the students agree with it.**\n",
    "\n",
    "Students should **upload a `.zip` file** containing all the files necessary for project evaluation. \n",
    "\n",
    "**It is mandatory to produce a Jupyter notebook containing code and text/images/tables/etc describing the solution and the results.**\n",
    "\n",
    "**Decisions should be fundamented and results should be critically discussed.**"
   ]
  },
  {
   "cell_type": "markdown",
   "metadata": {
    "colab_type": "text",
    "id": "9WRhqHDvxVsT"
   },
   "source": [
    "## Tools\n",
    "\n",
    "You should use [Python 3](https://www.python.org) and [Jupyter Notebook](http://jupyter.org), together with **[Scikit-learn](http://scikit-learn.org/stable/)**, **[Orange3](https://orange.biolab.si)**, or **both**.\n",
    "\n",
    "**[Orange3](https://orange.biolab.si)** can be used through its **[programmatic version](https://docs.orange.biolab.si/3/data-mining-library/)**, by importing and using its packages, or throught its **workflow version**. \n",
    "\n",
    "If you use workflows you have to deliver the workflow files and explain the options taken in each widget in your notebook."
   ]
  },
  {
   "cell_type": "markdown",
   "metadata": {
    "colab_type": "text",
    "id": "QNDtYYhqxVsV"
   },
   "source": [
    "## Dataset\n",
    "\n",
    "The dataset to be analysed is **`mental-heath-in-tech-2016.csv`**, made avaliable together with this project description. \n",
    "\n",
    "This dataset, downloaded from [Kaggle](https://www.kaggle.com), contains data from [OSMI Mental Health in Tech Survey](https://www.kaggle.com/osmi/mental-health-in-tech-survey), collected during a survey aiming at measuring **attitudes towards mental health and frequency of mental health disorders in the Tech workplace**, carried out in 2016.\n",
    "\n",
    "The **1433 surveys/instances** are described by **63 categorical/numerical features**, where the following questions were asked:\n",
    "\n",
    "* Q1 - \"Are you self-employed?\"\n",
    "* Q2 - \"How many employees does your company or organization have?\"\n",
    "* Q3 - \"Is your employer primarily a tech company/organization?\"\n",
    "* Q4 - \"Is your primary role within your company related to tech/IT?\"\n",
    "* Q5 - \"Does your employer provide mental health benefits as part of healthcare coverage?\"\n",
    "* Q6 - \"Do you know the options for mental health care available under your employer-provided coverage?\"\n",
    "* Q7 - \"Has your employer ever formally discussed mental health (for example, as part of a wellness campaign or other official communication)?\"\n",
    "* Q8 - \"Does your employer offer resources to learn more about mental health concerns and options for seeking help?\"\n",
    "* Q9 - \"Is your anonymity protected if you choose to take advantage of mental health or substance abuse treatment resources provided by your employer?\"\n",
    "* Q10 - \"If a mental health issue prompted you to request a medical leave from work, asking for that leave would be:...\"\n",
    "* Q11 - \"Do you think that discussing a mental health disorder with your employer would have negative consequences?\"\n",
    "* Q12 - \"Do you think that discussing a physical health issue with your employer would have negative consequences?\"\n",
    "* Q13 - \"Would you feel comfortable discussing a mental health disorder with your coworkers?\"\n",
    "* Q14 - \"Would you feel comfortable discussing a mental health disorder with your direct supervisor(s)?\"\n",
    "* Q15 - \"Do you feel that your employer takes mental health as seriously as physical health?\"\n",
    "* Q16 - \"Have you heard of or observed negative consequences for co-workers who have been open about mental health issues in your workplace?\"\n",
    "* Q17 - \"Do you have medical coverage (private insurance or state-provided) which includes treatment of  mental health issues?\"\n",
    "* Q18 - \"Do you know local or online resources to seek help for a mental health disorder?\"\n",
    "* Q19 - \"If you have been diagnosed or treated for a mental health disorder, do you ever reveal this to clients or business contacts?\"\n",
    "* Q20 - \"If you have revealed a mental health issue to a client or business contact, do you believe this has impacted you negatively?\"\n",
    "* Q21 - \"If you have been diagnosed or treated for a mental health disorder, do you ever reveal this to coworkers or employees?\"\n",
    "* Q22 - \"If you have revealed a mental health issue to a coworker or employee, do you believe this has impacted you negatively?\"\n",
    "* Q23 - \"Do you believe your productivity is ever affected by a mental health issue?\"\n",
    "    * Q24 - \"If yes, what percentage of your work time (time performing primary or secondary job functions) is affected by a mental health issue?\"\n",
    "* Q25 - \"Do you have previous employers?\"\n",
    "* Q26 - \"Have your previous employers provided mental health benefits?\"\n",
    "* Q27 - \"Were you aware of the options for mental health care provided by your previous employers?\"\n",
    "* Q28 - \"Did your previous employers ever formally discuss mental health (as part of a wellness campaign or other offi8cial communication)?\"\n",
    "* Q29 - \"Did your previous employers provide resources to learn more about mental health issues and how to seek help?\"\n",
    "* Q30 - \"Was your anonymity protected if you chose to take advantage of mental health or substance abuse treatment resources with previous employers?\"\n",
    "* Q31 - \"Do you think that discussing a mental health disorder with previous employers would have negative consequences?\"\n",
    "* Q32 - \"Do you think that discussing a physical health issue with previous employers would have negative consequences?\"\n",
    "* Q33 - \"Would you have been willing to discuss a mental health issue with your previous co-workers?\"\n",
    "* Q34 - \"Would you have been willing to discuss a mental health issue with your direct supervisor(s)?\"\n",
    "* Q35 - \"Did you feel that your previous employers took mental health as seriously as physical health?\"\n",
    "* Q36 - \"Did you hear of or observe negative consequences for co-workers with mental health issues in your previous workplaces?\"\n",
    "* Q37 - \"Would you be willing to bring up a physical health issue with a potential employer in an interview?\"\n",
    "    * Q38 - \"Why or why not?\"\n",
    "* Q39 - \"Would you bring up a mental health issue with a potential employer in an interview?\" \n",
    "    * Q40 - \"Why or why not?\"\n",
    "* Q41 - \"Do you feel that being identified as a person with a mental health issue would hurt your career?\"\n",
    "* Q42 - \"Do you think that team members/co-workers would view you more negatively if they knew you suffered from a mental health issue?\"\n",
    "* Q43 - \"How willing would you be to share with friends and family that you have a mental illness?\"\n",
    "* Q44 - \"Have you observed or experienced an unsupportive or badly handled response to a mental health issue in your current or previous workplace?\"\n",
    "* Q45 - \"Have your observations of how another individual who discussed a mental health disorder made you less likely to reveal a mental health issue yourself in your current workplace?\"\n",
    "* Q46 - \"Do you have a family history of mental illness?\"\n",
    "* Q47 - \"Have you had a mental health disorder in the past?\"\n",
    "* **Q48 - \"Do you currently have a mental health disorder?\"**\n",
    "    * **Q49 - \"If yes, what condition(s) have you been diagnosed with?\"**\n",
    "    * **Q50 - \"If maybe, what condition(s) do you believe you have?\"**\n",
    "* Q51 - \"Have you been diagnosed with a mental health condition by a medical professional?\"\n",
    "    * Q52 - \"If so, what condition(s) were you diagnosed with?\"\n",
    "* Q53 - \"Have you ever sought treatment for a mental health issue from a mental health professional?\"\n",
    "* Q54 - \"If you have a mental health issue, do you feel that it interferes with your work when being treated effectively?\"\n",
    "* Q55 - \"If you have a mental health issue, do you feel that it interferes with your work when NOT being treated effectively?\"\n",
    "* Q56 - \"What is your age?\"\n",
    "* Q57 - \"What is your gender?\"\n",
    "* Q58 - \"What country do you live in?\"\n",
    "    * Q59 - \"What US state or territory do you live in?\"\n",
    "* Q60 - \"What country do you work in?\"\n",
    "    * Q61 - \"What US state or territory do you work in?\"\n",
    "* Q62 - \"Which of the following best describes your work position?\"\n",
    "* Q63 - \"Do you work remotely?\"\n",
    "\n",
    "**IMPORTANT NOTES:**\n",
    "\n",
    "   1. **Some questions might not be asked**. For example, Q49 and Q50 will only be asked if Q48 is \"yes\". \n",
    "   2. Data can contain **errors/typos**, whose correction might improve the analysis.\n",
    "   3. Data can contain **missing values**, that you might decide to fill.\n",
    "   4. **Not all features are necessarily important** for the analysis.\n",
    "   5. Depending on the analysis, **some features might have to be excluded**. An example is when we want to predict a certain feature and there are other features that only have values for certain values of the target."
   ]
  },
  {
   "cell_type": "markdown",
   "metadata": {
    "colab_type": "text",
    "id": "KewUrA1lxVsW"
   },
   "source": [
    "## Task 0 (Know your Data) - Preliminary Data Analysis"
   ]
  },
  {
   "cell_type": "code",
   "execution_count": 265,
   "metadata": {
    "colab": {},
    "colab_type": "code",
    "id": "gEkQJzYZzKvU"
   },
   "outputs": [],
   "source": [
    "import pandas as pd\n",
    "import numpy as np\n",
    "\n",
    "import matplotlib\n",
    "import matplotlib.pyplot as plt\n",
    "\n",
    "pd.set_option('display.max_rows', 500)\n",
    "pd.set_option('display.max_columns', 500)\n",
    "pd.set_option('display.width', 1000)"
   ]
  },
  {
   "cell_type": "markdown",
   "metadata": {
    "colab_type": "text",
    "id": "MwbqpudrxVsX"
   },
   "source": [
    "## 0.1. Loading Data"
   ]
  },
  {
   "cell_type": "code",
   "execution_count": 266,
   "metadata": {
    "colab": {
     "base_uri": "https://localhost:8080/",
     "height": 986
    },
    "colab_type": "code",
    "id": "UjqQQT-gxZEs",
    "outputId": "e255c78d-6d79-4618-a4fd-9dbace2c1e37"
   },
   "outputs": [
    {
     "data": {
      "text/html": [
       "<div>\n",
       "<style scoped>\n",
       "    .dataframe tbody tr th:only-of-type {\n",
       "        vertical-align: middle;\n",
       "    }\n",
       "\n",
       "    .dataframe tbody tr th {\n",
       "        vertical-align: top;\n",
       "    }\n",
       "\n",
       "    .dataframe thead th {\n",
       "        text-align: right;\n",
       "    }\n",
       "</style>\n",
       "<table border=\"1\" class=\"dataframe\">\n",
       "  <thead>\n",
       "    <tr style=\"text-align: right;\">\n",
       "      <th></th>\n",
       "      <th>Are you self-employed?</th>\n",
       "      <th>How many employees does your company or organization have?</th>\n",
       "      <th>Is your employer primarily a tech company/organization?</th>\n",
       "      <th>Is your primary role within your company related to tech/IT?</th>\n",
       "      <th>Does your employer provide mental health benefits as part of healthcare coverage?</th>\n",
       "      <th>Do you know the options for mental health care available under your employer-provided coverage?</th>\n",
       "      <th>Has your employer ever formally discussed mental health (for example, as part of a wellness campaign or other official communication)?</th>\n",
       "      <th>Does your employer offer resources to learn more about mental health concerns and options for seeking help?</th>\n",
       "      <th>Is your anonymity protected if you choose to take advantage of mental health or substance abuse treatment resources provided by your employer?</th>\n",
       "      <th>If a mental health issue prompted you to request a medical leave from work, asking for that leave would be:</th>\n",
       "      <th>Do you think that discussing a mental health disorder with your employer would have negative consequences?</th>\n",
       "      <th>Do you think that discussing a physical health issue with your employer would have negative consequences?</th>\n",
       "      <th>Would you feel comfortable discussing a mental health disorder with your coworkers?</th>\n",
       "      <th>Would you feel comfortable discussing a mental health disorder with your direct supervisor(s)?</th>\n",
       "      <th>Do you feel that your employer takes mental health as seriously as physical health?</th>\n",
       "      <th>Have you heard of or observed negative consequences for co-workers who have been open about mental health issues in your workplace?</th>\n",
       "      <th>Do you have medical coverage (private insurance or state-provided) which includes treatment of  mental health issues?</th>\n",
       "      <th>Do you know local or online resources to seek help for a mental health disorder?</th>\n",
       "      <th>If you have been diagnosed or treated for a mental health disorder, do you ever reveal this to clients or business contacts?</th>\n",
       "      <th>If you have revealed a mental health issue to a client or business contact, do you believe this has impacted you negatively?</th>\n",
       "      <th>If you have been diagnosed or treated for a mental health disorder, do you ever reveal this to coworkers or employees?</th>\n",
       "      <th>If you have revealed a mental health issue to a coworker or employee, do you believe this has impacted you negatively?</th>\n",
       "      <th>Do you believe your productivity is ever affected by a mental health issue?</th>\n",
       "      <th>If yes, what percentage of your work time (time performing primary or secondary job functions) is affected by a mental health issue?</th>\n",
       "      <th>Do you have previous employers?</th>\n",
       "      <th>Have your previous employers provided mental health benefits?</th>\n",
       "      <th>Were you aware of the options for mental health care provided by your previous employers?</th>\n",
       "      <th>Did your previous employers ever formally discuss mental health (as part of a wellness campaign or other official communication)?</th>\n",
       "      <th>Did your previous employers provide resources to learn more about mental health issues and how to seek help?</th>\n",
       "      <th>Was your anonymity protected if you chose to take advantage of mental health or substance abuse treatment resources with previous employers?</th>\n",
       "      <th>Do you think that discussing a mental health disorder with previous employers would have negative consequences?</th>\n",
       "      <th>Do you think that discussing a physical health issue with previous employers would have negative consequences?</th>\n",
       "      <th>Would you have been willing to discuss a mental health issue with your previous co-workers?</th>\n",
       "      <th>Would you have been willing to discuss a mental health issue with your direct supervisor(s)?</th>\n",
       "      <th>Did you feel that your previous employers took mental health as seriously as physical health?</th>\n",
       "      <th>Did you hear of or observe negative consequences for co-workers with mental health issues in your previous workplaces?</th>\n",
       "      <th>Would you be willing to bring up a physical health issue with a potential employer in an interview?</th>\n",
       "      <th>Why or why not?</th>\n",
       "      <th>Would you bring up a mental health issue with a potential employer in an interview?</th>\n",
       "      <th>Why or why not?.1</th>\n",
       "      <th>Do you feel that being identified as a person with a mental health issue would hurt your career?</th>\n",
       "      <th>Do you think that team members/co-workers would view you more negatively if they knew you suffered from a mental health issue?</th>\n",
       "      <th>How willing would you be to share with friends and family that you have a mental illness?</th>\n",
       "      <th>Have you observed or experienced an unsupportive or badly handled response to a mental health issue in your current or previous workplace?</th>\n",
       "      <th>Have your observations of how another individual who discussed a mental health disorder made you less likely to reveal a mental health issue yourself in your current workplace?</th>\n",
       "      <th>Do you have a family history of mental illness?</th>\n",
       "      <th>Have you had a mental health disorder in the past?</th>\n",
       "      <th>Do you currently have a mental health disorder?</th>\n",
       "      <th>If yes, what condition(s) have you been diagnosed with?</th>\n",
       "      <th>If maybe, what condition(s) do you believe you have?</th>\n",
       "      <th>Have you been diagnosed with a mental health condition by a medical professional?</th>\n",
       "      <th>If so, what condition(s) were you diagnosed with?</th>\n",
       "      <th>Have you ever sought treatment for a mental health issue from a mental health professional?</th>\n",
       "      <th>If you have a mental health issue, do you feel that it interferes with your work when being treated effectively?</th>\n",
       "      <th>If you have a mental health issue, do you feel that it interferes with your work when NOT being treated effectively?</th>\n",
       "      <th>What is your age?</th>\n",
       "      <th>What is your gender?</th>\n",
       "      <th>What country do you live in?</th>\n",
       "      <th>What US state or territory do you live in?</th>\n",
       "      <th>What country do you work in?</th>\n",
       "      <th>What US state or territory do you work in?</th>\n",
       "      <th>Which of the following best describes your work position?</th>\n",
       "      <th>Do you work remotely?</th>\n",
       "    </tr>\n",
       "  </thead>\n",
       "  <tbody>\n",
       "    <tr>\n",
       "      <th>0</th>\n",
       "      <td>0</td>\n",
       "      <td>26-100</td>\n",
       "      <td>1.0</td>\n",
       "      <td>NaN</td>\n",
       "      <td>Not eligible for coverage / N/A</td>\n",
       "      <td>NaN</td>\n",
       "      <td>No</td>\n",
       "      <td>No</td>\n",
       "      <td>I don't know</td>\n",
       "      <td>Very easy</td>\n",
       "      <td>No</td>\n",
       "      <td>No</td>\n",
       "      <td>Maybe</td>\n",
       "      <td>Yes</td>\n",
       "      <td>I don't know</td>\n",
       "      <td>No</td>\n",
       "      <td>NaN</td>\n",
       "      <td>NaN</td>\n",
       "      <td>NaN</td>\n",
       "      <td>NaN</td>\n",
       "      <td>NaN</td>\n",
       "      <td>NaN</td>\n",
       "      <td>NaN</td>\n",
       "      <td>NaN</td>\n",
       "      <td>1</td>\n",
       "      <td>No, none did</td>\n",
       "      <td>N/A (not currently aware)</td>\n",
       "      <td>I don't know</td>\n",
       "      <td>None did</td>\n",
       "      <td>I don't know</td>\n",
       "      <td>Some of them</td>\n",
       "      <td>None of them</td>\n",
       "      <td>Some of my previous employers</td>\n",
       "      <td>Some of my previous employers</td>\n",
       "      <td>I don't know</td>\n",
       "      <td>None of them</td>\n",
       "      <td>Maybe</td>\n",
       "      <td>NaN</td>\n",
       "      <td>Maybe</td>\n",
       "      <td>NaN</td>\n",
       "      <td>Maybe</td>\n",
       "      <td>No, I don't think they would</td>\n",
       "      <td>Somewhat open</td>\n",
       "      <td>No</td>\n",
       "      <td>NaN</td>\n",
       "      <td>No</td>\n",
       "      <td>Yes</td>\n",
       "      <td>No</td>\n",
       "      <td>NaN</td>\n",
       "      <td>NaN</td>\n",
       "      <td>Yes</td>\n",
       "      <td>Anxiety Disorder (Generalized, Social, Phobia,...</td>\n",
       "      <td>0</td>\n",
       "      <td>Not applicable to me</td>\n",
       "      <td>Not applicable to me</td>\n",
       "      <td>39</td>\n",
       "      <td>Male</td>\n",
       "      <td>United Kingdom</td>\n",
       "      <td>NaN</td>\n",
       "      <td>United Kingdom</td>\n",
       "      <td>NaN</td>\n",
       "      <td>Back-end Developer</td>\n",
       "      <td>Sometimes</td>\n",
       "    </tr>\n",
       "    <tr>\n",
       "      <th>1</th>\n",
       "      <td>0</td>\n",
       "      <td>6-25</td>\n",
       "      <td>1.0</td>\n",
       "      <td>NaN</td>\n",
       "      <td>No</td>\n",
       "      <td>Yes</td>\n",
       "      <td>Yes</td>\n",
       "      <td>Yes</td>\n",
       "      <td>Yes</td>\n",
       "      <td>Somewhat easy</td>\n",
       "      <td>No</td>\n",
       "      <td>No</td>\n",
       "      <td>Maybe</td>\n",
       "      <td>Yes</td>\n",
       "      <td>Yes</td>\n",
       "      <td>No</td>\n",
       "      <td>NaN</td>\n",
       "      <td>NaN</td>\n",
       "      <td>NaN</td>\n",
       "      <td>NaN</td>\n",
       "      <td>NaN</td>\n",
       "      <td>NaN</td>\n",
       "      <td>NaN</td>\n",
       "      <td>NaN</td>\n",
       "      <td>1</td>\n",
       "      <td>Yes, they all did</td>\n",
       "      <td>I was aware of some</td>\n",
       "      <td>None did</td>\n",
       "      <td>Some did</td>\n",
       "      <td>Yes, always</td>\n",
       "      <td>None of them</td>\n",
       "      <td>None of them</td>\n",
       "      <td>No, at none of my previous employers</td>\n",
       "      <td>Some of my previous employers</td>\n",
       "      <td>Some did</td>\n",
       "      <td>None of them</td>\n",
       "      <td>Maybe</td>\n",
       "      <td>It would depend on the health issue. If there ...</td>\n",
       "      <td>No</td>\n",
       "      <td>While mental health has become a more prominen...</td>\n",
       "      <td>No, I don't think it would</td>\n",
       "      <td>No, I don't think they would</td>\n",
       "      <td>Somewhat open</td>\n",
       "      <td>No</td>\n",
       "      <td>NaN</td>\n",
       "      <td>Yes</td>\n",
       "      <td>Yes</td>\n",
       "      <td>Yes</td>\n",
       "      <td>Anxiety Disorder (Generalized, Social, Phobia,...</td>\n",
       "      <td>NaN</td>\n",
       "      <td>Yes</td>\n",
       "      <td>Anxiety Disorder (Generalized, Social, Phobia,...</td>\n",
       "      <td>1</td>\n",
       "      <td>Rarely</td>\n",
       "      <td>Sometimes</td>\n",
       "      <td>29</td>\n",
       "      <td>male</td>\n",
       "      <td>United States of America</td>\n",
       "      <td>Illinois</td>\n",
       "      <td>United States of America</td>\n",
       "      <td>Illinois</td>\n",
       "      <td>Back-end Developer|Front-end Developer</td>\n",
       "      <td>Never</td>\n",
       "    </tr>\n",
       "    <tr>\n",
       "      <th>2</th>\n",
       "      <td>0</td>\n",
       "      <td>6-25</td>\n",
       "      <td>1.0</td>\n",
       "      <td>NaN</td>\n",
       "      <td>No</td>\n",
       "      <td>NaN</td>\n",
       "      <td>No</td>\n",
       "      <td>No</td>\n",
       "      <td>I don't know</td>\n",
       "      <td>Neither easy nor difficult</td>\n",
       "      <td>Maybe</td>\n",
       "      <td>No</td>\n",
       "      <td>Maybe</td>\n",
       "      <td>Maybe</td>\n",
       "      <td>I don't know</td>\n",
       "      <td>No</td>\n",
       "      <td>NaN</td>\n",
       "      <td>NaN</td>\n",
       "      <td>NaN</td>\n",
       "      <td>NaN</td>\n",
       "      <td>NaN</td>\n",
       "      <td>NaN</td>\n",
       "      <td>NaN</td>\n",
       "      <td>NaN</td>\n",
       "      <td>1</td>\n",
       "      <td>No, none did</td>\n",
       "      <td>N/A (not currently aware)</td>\n",
       "      <td>None did</td>\n",
       "      <td>Some did</td>\n",
       "      <td>I don't know</td>\n",
       "      <td>I don't know</td>\n",
       "      <td>Some of them</td>\n",
       "      <td>Some of my previous employers</td>\n",
       "      <td>I don't know</td>\n",
       "      <td>I don't know</td>\n",
       "      <td>Some of them</td>\n",
       "      <td>Yes</td>\n",
       "      <td>They would provable need to know, to Judge if ...</td>\n",
       "      <td>Yes</td>\n",
       "      <td>Stigma, mainly.</td>\n",
       "      <td>Maybe</td>\n",
       "      <td>Maybe</td>\n",
       "      <td>Somewhat open</td>\n",
       "      <td>Maybe/Not sure</td>\n",
       "      <td>Yes</td>\n",
       "      <td>No</td>\n",
       "      <td>Maybe</td>\n",
       "      <td>No</td>\n",
       "      <td>NaN</td>\n",
       "      <td>NaN</td>\n",
       "      <td>No</td>\n",
       "      <td>NaN</td>\n",
       "      <td>1</td>\n",
       "      <td>Not applicable to me</td>\n",
       "      <td>Not applicable to me</td>\n",
       "      <td>38</td>\n",
       "      <td>Male</td>\n",
       "      <td>United Kingdom</td>\n",
       "      <td>NaN</td>\n",
       "      <td>United Kingdom</td>\n",
       "      <td>NaN</td>\n",
       "      <td>Back-end Developer</td>\n",
       "      <td>Always</td>\n",
       "    </tr>\n",
       "    <tr>\n",
       "      <th>3</th>\n",
       "      <td>1</td>\n",
       "      <td>NaN</td>\n",
       "      <td>NaN</td>\n",
       "      <td>NaN</td>\n",
       "      <td>NaN</td>\n",
       "      <td>NaN</td>\n",
       "      <td>NaN</td>\n",
       "      <td>NaN</td>\n",
       "      <td>NaN</td>\n",
       "      <td>NaN</td>\n",
       "      <td>NaN</td>\n",
       "      <td>NaN</td>\n",
       "      <td>NaN</td>\n",
       "      <td>NaN</td>\n",
       "      <td>NaN</td>\n",
       "      <td>NaN</td>\n",
       "      <td>1.0</td>\n",
       "      <td>Yes, I know several</td>\n",
       "      <td>Sometimes, if it comes up</td>\n",
       "      <td>I'm not sure</td>\n",
       "      <td>Sometimes, if it comes up</td>\n",
       "      <td>I'm not sure</td>\n",
       "      <td>Yes</td>\n",
       "      <td>1-25%</td>\n",
       "      <td>1</td>\n",
       "      <td>Some did</td>\n",
       "      <td>N/A (not currently aware)</td>\n",
       "      <td>None did</td>\n",
       "      <td>None did</td>\n",
       "      <td>I don't know</td>\n",
       "      <td>Some of them</td>\n",
       "      <td>Some of them</td>\n",
       "      <td>Some of my previous employers</td>\n",
       "      <td>Some of my previous employers</td>\n",
       "      <td>I don't know</td>\n",
       "      <td>Some of them</td>\n",
       "      <td>Yes</td>\n",
       "      <td>old back injury, doesn't cause me many issues ...</td>\n",
       "      <td>Maybe</td>\n",
       "      <td>would not if I was not 100% sure that the disc...</td>\n",
       "      <td>Yes, I think it would</td>\n",
       "      <td>Maybe</td>\n",
       "      <td>Neutral</td>\n",
       "      <td>No</td>\n",
       "      <td>NaN</td>\n",
       "      <td>No</td>\n",
       "      <td>Yes</td>\n",
       "      <td>Yes</td>\n",
       "      <td>Anxiety Disorder (Generalized, Social, Phobia,...</td>\n",
       "      <td>NaN</td>\n",
       "      <td>Yes</td>\n",
       "      <td>Anxiety Disorder (Generalized, Social, Phobia,...</td>\n",
       "      <td>1</td>\n",
       "      <td>Sometimes</td>\n",
       "      <td>Sometimes</td>\n",
       "      <td>43</td>\n",
       "      <td>male</td>\n",
       "      <td>United Kingdom</td>\n",
       "      <td>NaN</td>\n",
       "      <td>United Kingdom</td>\n",
       "      <td>NaN</td>\n",
       "      <td>Supervisor/Team Lead</td>\n",
       "      <td>Sometimes</td>\n",
       "    </tr>\n",
       "    <tr>\n",
       "      <th>4</th>\n",
       "      <td>0</td>\n",
       "      <td>6-25</td>\n",
       "      <td>0.0</td>\n",
       "      <td>1.0</td>\n",
       "      <td>Yes</td>\n",
       "      <td>Yes</td>\n",
       "      <td>No</td>\n",
       "      <td>No</td>\n",
       "      <td>No</td>\n",
       "      <td>Neither easy nor difficult</td>\n",
       "      <td>Yes</td>\n",
       "      <td>Maybe</td>\n",
       "      <td>Maybe</td>\n",
       "      <td>No</td>\n",
       "      <td>No</td>\n",
       "      <td>No</td>\n",
       "      <td>NaN</td>\n",
       "      <td>NaN</td>\n",
       "      <td>NaN</td>\n",
       "      <td>NaN</td>\n",
       "      <td>NaN</td>\n",
       "      <td>NaN</td>\n",
       "      <td>NaN</td>\n",
       "      <td>NaN</td>\n",
       "      <td>1</td>\n",
       "      <td>I don't know</td>\n",
       "      <td>N/A (not currently aware)</td>\n",
       "      <td>Some did</td>\n",
       "      <td>None did</td>\n",
       "      <td>I don't know</td>\n",
       "      <td>Some of them</td>\n",
       "      <td>Some of them</td>\n",
       "      <td>No, at none of my previous employers</td>\n",
       "      <td>Some of my previous employers</td>\n",
       "      <td>Some did</td>\n",
       "      <td>Some of them</td>\n",
       "      <td>Maybe</td>\n",
       "      <td>Depending on the interview stage and whether I...</td>\n",
       "      <td>No</td>\n",
       "      <td>I don't know</td>\n",
       "      <td>Yes, I think it would</td>\n",
       "      <td>Maybe</td>\n",
       "      <td>Somewhat open</td>\n",
       "      <td>Yes, I experienced</td>\n",
       "      <td>Yes</td>\n",
       "      <td>Yes</td>\n",
       "      <td>Yes</td>\n",
       "      <td>Yes</td>\n",
       "      <td>Anxiety Disorder (Generalized, Social, Phobia,...</td>\n",
       "      <td>NaN</td>\n",
       "      <td>Yes</td>\n",
       "      <td>Anxiety Disorder (Generalized, Social, Phobia,...</td>\n",
       "      <td>1</td>\n",
       "      <td>Sometimes</td>\n",
       "      <td>Sometimes</td>\n",
       "      <td>43</td>\n",
       "      <td>Female</td>\n",
       "      <td>United States of America</td>\n",
       "      <td>Illinois</td>\n",
       "      <td>United States of America</td>\n",
       "      <td>Illinois</td>\n",
       "      <td>Executive Leadership|Supervisor/Team Lead|Dev ...</td>\n",
       "      <td>Sometimes</td>\n",
       "    </tr>\n",
       "  </tbody>\n",
       "</table>\n",
       "</div>"
      ],
      "text/plain": [
       "   Are you self-employed? How many employees does your company or organization have?  Is your employer primarily a tech company/organization?  Is your primary role within your company related to tech/IT? Does your employer provide mental health benefits as part of healthcare coverage? Do you know the options for mental health care available under your employer-provided coverage? Has your employer ever formally discussed mental health (for example, as part of a wellness campaign or other official communication)? Does your employer offer resources to learn more about mental health concerns and options for seeking help? Is your anonymity protected if you choose to take advantage of mental health or substance abuse treatment resources provided by your employer? If a mental health issue prompted you to request a medical leave from work, asking for that leave would be: Do you think that discussing a mental health disorder with your employer would have negative consequences?  \\\n",
       "0                       0                                             26-100                                                        1.0                                                      NaN                               Not eligible for coverage / N/A                                                                               NaN                                                                                              No                                                                                                                                     No                                                                                                I don't know                                                                                                                                      Very easy                                                                                                          No                                                           \n",
       "1                       0                                               6-25                                                        1.0                                                      NaN                                                            No                                                                               Yes                                                                                             Yes                                                                                                                                    Yes                                                                                                         Yes                                                                                                                                  Somewhat easy                                                                                                          No                                                           \n",
       "2                       0                                               6-25                                                        1.0                                                      NaN                                                            No                                                                               NaN                                                                                              No                                                                                                                                     No                                                                                                I don't know                                                                                                                     Neither easy nor difficult                                                                                                       Maybe                                                           \n",
       "3                       1                                                NaN                                                        NaN                                                      NaN                                                           NaN                                                                               NaN                                                                                             NaN                                                                                                                                    NaN                                                                                                         NaN                                                                                                                                            NaN                                                                                                         NaN                                                           \n",
       "4                       0                                               6-25                                                        0.0                                                      1.0                                                           Yes                                                                               Yes                                                                                              No                                                                                                                                     No                                                                                                          No                                                                                                                     Neither easy nor difficult                                                                                                         Yes                                                           \n",
       "\n",
       "  Do you think that discussing a physical health issue with your employer would have negative consequences? Would you feel comfortable discussing a mental health disorder with your coworkers? Would you feel comfortable discussing a mental health disorder with your direct supervisor(s)? Do you feel that your employer takes mental health as seriously as physical health? Have you heard of or observed negative consequences for co-workers who have been open about mental health issues in your workplace?  Do you have medical coverage (private insurance or state-provided) which includes treatment of  mental health issues? Do you know local or online resources to seek help for a mental health disorder? If you have been diagnosed or treated for a mental health disorder, do you ever reveal this to clients or business contacts? If you have revealed a mental health issue to a client or business contact, do you believe this has impacted you negatively?  \\\n",
       "0                                                 No                                                                                                     Maybe                                                                                 Yes                                                                                   I don't know                                                                                  No                                                                                                                                 NaN                                                                                                                    NaN                                                                              NaN                                                                                                                          NaN                                                                             \n",
       "1                                                 No                                                                                                     Maybe                                                                                 Yes                                                                                            Yes                                                                                  No                                                                                                                                 NaN                                                                                                                    NaN                                                                              NaN                                                                                                                          NaN                                                                             \n",
       "2                                                 No                                                                                                     Maybe                                                                               Maybe                                                                                   I don't know                                                                                  No                                                                                                                                 NaN                                                                                                                    NaN                                                                              NaN                                                                                                                          NaN                                                                             \n",
       "3                                                NaN                                                                                                       NaN                                                                                 NaN                                                                                            NaN                                                                                 NaN                                                                                                                                 1.0                                                                                                    Yes, I know several                                                        Sometimes, if it comes up                                                                                                                 I'm not sure                                                                             \n",
       "4                                              Maybe                                                                                                     Maybe                                                                                  No                                                                                             No                                                                                  No                                                                                                                                 NaN                                                                                                                    NaN                                                                              NaN                                                                                                                          NaN                                                                             \n",
       "\n",
       "  If you have been diagnosed or treated for a mental health disorder, do you ever reveal this to coworkers or employees? If you have revealed a mental health issue to a coworker or employee, do you believe this has impacted you negatively? Do you believe your productivity is ever affected by a mental health issue? If yes, what percentage of your work time (time performing primary or secondary job functions) is affected by a mental health issue?  Do you have previous employers? Have your previous employers provided mental health benefits? Were you aware of the options for mental health care provided by your previous employers? Did your previous employers ever formally discuss mental health (as part of a wellness campaign or other official communication)? Did your previous employers provide resources to learn more about mental health issues and how to seek help?  \\\n",
       "0                                                NaN                                                                                                                    NaN                                                                                                                    NaN                                                                         NaN                                                                                                                  1                                       No, none did                                     N/A (not currently aware)                                                                              I don't know                                                                                                                          None did                                                             \n",
       "1                                                NaN                                                                                                                    NaN                                                                                                                    NaN                                                                         NaN                                                                                                                  1                                  Yes, they all did                                           I was aware of some                                                                                  None did                                                                                                                          Some did                                                             \n",
       "2                                                NaN                                                                                                                    NaN                                                                                                                    NaN                                                                         NaN                                                                                                                  1                                       No, none did                                     N/A (not currently aware)                                                                                  None did                                                                                                                          Some did                                                             \n",
       "3                          Sometimes, if it comes up                                                                                                           I'm not sure                                                                                                                    Yes                                                                       1-25%                                                                                                                  1                                           Some did                                     N/A (not currently aware)                                                                                  None did                                                                                                                          None did                                                             \n",
       "4                                                NaN                                                                                                                    NaN                                                                                                                    NaN                                                                         NaN                                                                                                                  1                                       I don't know                                     N/A (not currently aware)                                                                                  Some did                                                                                                                          None did                                                             \n",
       "\n",
       "  Was your anonymity protected if you chose to take advantage of mental health or substance abuse treatment resources with previous employers? Do you think that discussing a mental health disorder with previous employers would have negative consequences? Do you think that discussing a physical health issue with previous employers would have negative consequences? Would you have been willing to discuss a mental health issue with your previous co-workers? Would you have been willing to discuss a mental health issue with your direct supervisor(s)? Did you feel that your previous employers took mental health as seriously as physical health? Did you hear of or observe negative consequences for co-workers with mental health issues in your previous workplaces? Would you be willing to bring up a physical health issue with a potential employer in an interview?                                    Why or why not?  \\\n",
       "0                                       I don't know                                                                                                                                 Some of them                                                                                                    None of them                                                                                  Some of my previous employers                                                               Some of my previous employers                                                                                 I don't know                                                                                  None of them                                                                                                                  Maybe                                                                                                 NaN   \n",
       "1                                        Yes, always                                                                                                                                 None of them                                                                                                    None of them                                                                           No, at none of my previous employers                                                               Some of my previous employers                                                                                     Some did                                                                                  None of them                                                                                                                  Maybe                                                   It would depend on the health issue. If there ...   \n",
       "2                                       I don't know                                                                                                                                 I don't know                                                                                                    Some of them                                                                                  Some of my previous employers                                                                                I don't know                                                                                 I don't know                                                                                  Some of them                                                                                                                    Yes                                                   They would provable need to know, to Judge if ...   \n",
       "3                                       I don't know                                                                                                                                 Some of them                                                                                                    Some of them                                                                                  Some of my previous employers                                                               Some of my previous employers                                                                                 I don't know                                                                                  Some of them                                                                                                                    Yes                                                   old back injury, doesn't cause me many issues ...   \n",
       "4                                       I don't know                                                                                                                                 Some of them                                                                                                    Some of them                                                                           No, at none of my previous employers                                                               Some of my previous employers                                                                                     Some did                                                                                  Some of them                                                                                                                  Maybe                                                   Depending on the interview stage and whether I...   \n",
       "\n",
       "  Would you bring up a mental health issue with a potential employer in an interview?                                  Why or why not?.1 Do you feel that being identified as a person with a mental health issue would hurt your career? Do you think that team members/co-workers would view you more negatively if they knew you suffered from a mental health issue? How willing would you be to share with friends and family that you have a mental illness? Have you observed or experienced an unsupportive or badly handled response to a mental health issue in your current or previous workplace? Have your observations of how another individual who discussed a mental health disorder made you less likely to reveal a mental health issue yourself in your current workplace? Do you have a family history of mental illness? Have you had a mental health disorder in the past? Do you currently have a mental health disorder? If yes, what condition(s) have you been diagnosed with?  \\\n",
       "0                                              Maybe                                                                                 NaN                                              Maybe                                                                     No, I don't think they would                                                                                                                  Somewhat open                                                                                        No                                                                                                                                        NaN                                                                                                                                                                            No                                                Yes                                              No                                                NaN        \n",
       "1                                                 No                                   While mental health has become a more prominen...                         No, I don't think it would                                                                     No, I don't think they would                                                                                                                  Somewhat open                                                                                        No                                                                                                                                        NaN                                                                                                                                                                           Yes                                                Yes                                             Yes  Anxiety Disorder (Generalized, Social, Phobia,...        \n",
       "2                                                Yes                                                                    Stigma, mainly.                                               Maybe                                                                                            Maybe                                                                                                                  Somewhat open                                                                            Maybe/Not sure                                                                                                                                        Yes                                                                                                                                                                            No                                              Maybe                                              No                                                NaN        \n",
       "3                                              Maybe                                   would not if I was not 100% sure that the disc...                              Yes, I think it would                                                                                            Maybe                                                                                                                        Neutral                                                                                        No                                                                                                                                        NaN                                                                                                                                                                            No                                                Yes                                             Yes  Anxiety Disorder (Generalized, Social, Phobia,...        \n",
       "4                                                 No                                                                        I don't know                              Yes, I think it would                                                                                            Maybe                                                                                                                  Somewhat open                                                                        Yes, I experienced                                                                                                                                        Yes                                                                                                                                                                           Yes                                                Yes                                             Yes  Anxiety Disorder (Generalized, Social, Phobia,...        \n",
       "\n",
       "  If maybe, what condition(s) do you believe you have? Have you been diagnosed with a mental health condition by a medical professional?  If so, what condition(s) were you diagnosed with?  Have you ever sought treatment for a mental health issue from a mental health professional? If you have a mental health issue, do you feel that it interferes with your work when being treated effectively? If you have a mental health issue, do you feel that it interferes with your work when NOT being treated effectively?  What is your age? What is your gender? What country do you live in? What US state or territory do you live in? What country do you work in? What US state or territory do you work in? Which of the following best describes your work position? Do you work remotely?  \n",
       "0                                                NaN                                                  Yes                                 Anxiety Disorder (Generalized, Social, Phobia,...                                                  0                                                                         Not applicable to me                                                                                             Not applicable to me                                                                                   39                 Male               United Kingdom                                        NaN               United Kingdom                                        NaN                                 Back-end Developer                    Sometimes  \n",
       "1                                                NaN                                                  Yes                                 Anxiety Disorder (Generalized, Social, Phobia,...                                                  1                                                                                       Rarely                                                                                                        Sometimes                                                                                   29                 male     United States of America                                   Illinois     United States of America                                   Illinois             Back-end Developer|Front-end Developer                        Never  \n",
       "2                                                NaN                                                   No                                                                               NaN                                                  1                                                                         Not applicable to me                                                                                             Not applicable to me                                                                                   38                Male                United Kingdom                                        NaN               United Kingdom                                        NaN                                 Back-end Developer                       Always  \n",
       "3                                                NaN                                                  Yes                                 Anxiety Disorder (Generalized, Social, Phobia,...                                                  1                                                                                    Sometimes                                                                                                        Sometimes                                                                                   43                 male               United Kingdom                                        NaN               United Kingdom                                        NaN                               Supervisor/Team Lead                    Sometimes  \n",
       "4                                                NaN                                                  Yes                                 Anxiety Disorder (Generalized, Social, Phobia,...                                                  1                                                                                    Sometimes                                                                                                        Sometimes                                                                                   43               Female     United States of America                                   Illinois     United States of America                                   Illinois  Executive Leadership|Supervisor/Team Lead|Dev ...                    Sometimes  "
      ]
     },
     "execution_count": 266,
     "metadata": {},
     "output_type": "execute_result"
    }
   ],
   "source": [
    "df = pd.read_csv('mental-heath-in-tech-2016.csv')\n",
    "df.head()"
   ]
  },
  {
   "cell_type": "markdown",
   "metadata": {
    "colab_type": "text",
    "id": "AHd54IFyxVsa"
   },
   "source": [
    "## 0.2. Understanding Data"
   ]
  },
  {
   "cell_type": "markdown",
   "metadata": {
    "colab_type": "text",
    "id": "oNaBW9NvxVsb"
   },
   "source": [
    "In this task you should understand better the features you have, the distribution of values, potential errors, etc and plan/describe what data preprocessing steps should be performed next.\n",
    "\n",
    "### Data Exploration\n",
    "As a first step we explore what questions we have and what dependencies they my be involved in:\n",
    "*  Q1 is asking for self employment and influences what questions are getting asked by what people\n",
    "*  If the instance is self employed it did not answer questions 2 to 16, but answer question 17 to 24.\n",
    "*  Equivalently instances who are not self employed are answering 2 to 16, but not 17 to 24.\n",
    "*  Questions 26-36 were only answered by instances with previous employers. \n",
    "*  Similar to Q1, also Q48 asking if the instance is suffering from a mental issue, is also determining if the next questions asking for more details about the desease (Q49 to Q55) are applicable.\n",
    "\n",
    "We have to take this dependencies into account for our further classification steps later on."
   ]
  },
  {
   "cell_type": "markdown",
   "metadata": {},
   "source": [
    "**TODO** illustrate that somehow"
   ]
  },
  {
   "cell_type": "markdown",
   "metadata": {},
   "source": [
    "## Dealing with Missing values\n",
    "Our data has many missing values due to various different reasons, like the dependencies between questionnaire questions and others. We have to decide how we are going to deal with these. The most naive approach would just remove all NaN values, but that would shrink our data set significantely. So we decided to apply the following **principles**:\n",
    "\n",
    "* Many questions have an intrinsic order structure regarding the possible answers. For example many catergorical questions with quantified values like 1-25, 26-50, 51-100 (in one instance) or never, sometimes, always etc. need to be treated that way. If we have missing values in caterogical questions, where the answers are still totally orderabele, we are filling in the missing values with the mean value of that particular feature for all isntances.\n",
    "* However if these categorical answers can not be ordered linearily, we are filling the missing value with the most frequently occuring value.\n",
    "\n",
    "Another approach is to put the answer on the left most place of any lineraliy orderd scale."
   ]
  },
  {
   "cell_type": "code",
   "execution_count": 267,
   "metadata": {},
   "outputs": [],
   "source": [
    "path_to_df = 'mental-heath-in-tech-2016.csv'\n",
    "refactored_df = pd.read_csv(path_to_df)\n",
    "names = ['Q{}'.format(i+1) for i in range(len(df.columns))]\n",
    "refactored_df.columns = names\n",
    "\n",
    "#Questions 2-16 were not answered by self-emplyed people\n",
    "for i in range(2,17):\n",
    "    refactored_df[\"Q\"+str(i)] = refactored_df.apply(lambda row: \"Not asked\" if row[\"Q1\"] == 1 else row[\"Q\"+str(i)],axis=1)\n",
    "\n",
    "#Questions 2-16 were not answered by non self-emplyed people\n",
    "for i in range(17,25):\n",
    "    refactored_df[\"Q\"+str(i)] = refactored_df.apply(lambda row: \"Not asked\" if row[\"Q1\"] == 0 else row[\"Q\"+str(i)],axis=1)\n",
    "\n",
    "#Questions 26-36 were not answered if no previous employers\n",
    "for i in range(26,37):\n",
    "    refactored_df[\"Q\"+str(i)] = refactored_df.apply(lambda row: \"Not asked\" if row[\"Q25\"] == 0 else row[\"Q\"+str(i)],axis=1)\n",
    "\n",
    "refactored_df[\"Q6\"] = refactored_df[\"Q6\"].map(lambda x: \"No\" if x is np.nan  else x)\n",
    "\n",
    "refactored_df[\"Q24\"] = refactored_df.apply(lambda row: \"Not applicable to me\" if row[\"Q23\"] not in [\"Yes\",\"Not asked\"] else row[\"Q24\"],axis=1)\n",
    "    \n",
    "refactored_df[\"Q44\"] = refactored_df[\"Q44\"].map(lambda x: \"Maybe/Not sure\" if x is np.nan else x)\n",
    "refactored_df[\"Q45\"] = refactored_df[\"Q45\"].map(lambda x: \"Not answered\" if x is np.nan else x)# may be possible to make some assumptions\n",
    "   \n",
    "#merge Qs 49+50+52 into Q49\n",
    "refactored_df[\"Q49\"] = refactored_df.apply(lambda row: row[\"Q49\"] if row[\"Q48\"] == \"Yes\" else row[\"Q50\"], axis=1) \n",
    "refactored_df[\"Q49\"] = refactored_df.apply(lambda row: \"Not identified\" if row[\"Q48\"] == \"No\" else row[\"Q49\"], axis=1) \n",
    "refactored_df[\"Q49\"] = refactored_df.apply(lambda row: row[\"Q52\"] if row[\"Q51\"] == \"Yes\" and row[\"Q49\"] is np.nan else row[\"Q49\"], axis=1) \n",
    "refactored_df[\"Q49\"] = refactored_df.apply(lambda row: \"Not identified\" if row[\"Q49\"] is np.nan else row[\"Q49\"], axis=1)\n",
    "refactored_df[\"Q49\"] = refactored_df[\"Q49\"].map(lambda x: \"Not identified\" if x in [\"We're all hurt, right?!\"] else x)\n",
    "refactored_df.drop([\"Q50\",\"Q52\"], axis=1, inplace=True)\n",
    "\n",
    "age_mean = round(refactored_df[\"Q56\"].map(lambda x: x if x > 15 and x < 90 else np.nan).mean())\n",
    "refactored_df[\"Q56\"] = refactored_df[\"Q56\"].map(lambda x: x if x > 15 and x < 90 else age_mean)\n",
    "\n",
    "refactored_df[\"Q57\"] = refactored_df[\"Q57\"].map(lambda x: \"F\" if isinstance(x,str) and x.lower().strip() in [\"woman\",\"female\",\"f\",\"fm\",\"fem\",\"f|\"] else x)\n",
    "refactored_df[\"Q57\"] = refactored_df[\"Q57\"].map(lambda x: \"M\" if isinstance(x,str) and x.lower().strip() in [\"male\",\"m\",\"man\",\"dude\",\"m|\"] else x)\n",
    "refactored_df[\"Q57\"] = refactored_df[\"Q57\"].map(lambda x: \"M\" if isinstance(x,str) and x.lower().strip().find(\"ma\") == 0 else x)\n",
    "refactored_df[\"Q57\"] = refactored_df[\"Q57\"].map(lambda x: \"F\" if isinstance(x,str) and x.lower().strip().find(\"female\") >= 0 else x)\n",
    "refactored_df[\"Q57\"] = refactored_df[\"Q57\"].map(lambda x: \"F\" if isinstance(x,str) and x.lower().strip().find(\"woman\") >= 0 else x)\n",
    "refactored_df[\"Q57\"] = refactored_df[\"Q57\"].map(lambda x: \"F\" if isinstance(x,str) and x.lower().strip().find(\"feminine\") >= 0 else x)\n",
    "refactored_df[\"Q57\"] = refactored_df[\"Q57\"].map(lambda x: \"M\" if isinstance(x,str) and x.lower().strip().find(\"male\") >= 0 else x)\n",
    "refactored_df[\"Q57\"] = refactored_df[\"Q57\"].map(lambda x: \"M\" if isinstance(x,str) and x.lower().strip().find(\"man\") >= 0 else x)\n",
    "refactored_df[\"Q57\"] = refactored_df[\"Q57\"].map(lambda x: \"M\" if isinstance(x,str) and x.lower().strip().find(\"masculine\") >= 0 else x)\n",
    "refactored_df[\"Q57\"] = refactored_df[\"Q57\"].map(lambda x: \"M\" if isinstance(x,str) and x.lower().strip().find(\"dude\") >= 0 else x)\n",
    "refactored_df[\"Q57\"] = refactored_df[\"Q57\"].map(lambda x: \"U\" if x not in [\"F\",\"M\"] else x)\n",
    "\n",
    "refactored_df[\"Q59\"] = refactored_df[\"Q59\"].map(lambda x: \"Not USA\" if x is np.nan else x) # may be possible to make some assumptions\n",
    "refactored_df[\"Q61\"] = refactored_df[\"Q61\"].map(lambda x: \"Not USA\" if x is np.nan  else x) # may be possible to make some assumptions\n",
    "\n",
    "#descriptions or little impact\n",
    "refactored_df.drop([\"Q38\",\"Q40\"], axis=1, inplace=True)\n",
    "#mainly nan values\n",
    "refactored_df.drop([\"Q20\",\"Q4\"], axis=1, inplace=True)\n",
    "#Have you been diagnosed with a mental health condition by a medical professional?\n",
    "refactored_df.drop([\"Q51\"], axis=1, inplace=True)\n",
    "\n",
    "refactored_df[\"Q62\"] = refactored_df[\"Q62\"].map(lambda x: \"Designer\" if isinstance(x,str) and x.lower().strip().find(\"design\") >= 0 else x)\n",
    "refactored_df[\"Q62\"] = refactored_df[\"Q62\"].map(lambda x: \"One-person shop\" if isinstance(x,str) and x.lower().strip().find(\"shop\") >= 0 else x)\n",
    "refactored_df[\"Q62\"] = refactored_df[\"Q62\"].map(lambda x: \"Leader\" if isinstance(x,str) and x.lower().strip().find(\"lead\") >= 0 else x)\n",
    "refactored_df[\"Q62\"] = refactored_df[\"Q62\"].map(lambda x: \"Developer\" if isinstance(x,str) and x.lower().strip().find(\"dev\") >= 0 else x)\n",
    "refactored_df[\"Q62\"] = refactored_df[\"Q62\"].map(lambda x: \"Other\" if x not in [\"Leader\",\"One-person shop\",\"Developer\",\"Designer\"] else x)\n"
   ]
  },
  {
   "cell_type": "markdown",
   "metadata": {
    "colab_type": "text",
    "id": "hQh5ChcvxVsd"
   },
   "source": [
    "## Task 1 (Supervised Learning) - Predicting if a person has a mental health disorder "
   ]
  },
  {
   "cell_type": "markdown",
   "metadata": {
    "colab_type": "text",
    "id": "_qW7v3vSxVsf"
   },
   "source": [
    "In this task you should **learn classifiers to predict if a person currently has a mental health disorder**:\n",
    "\n",
    "* Choose one classifier in each category: Tree models, Rule models, Linear models, Distance-based models, and Probabilistic models.\n",
    "* Use a train/test scheme or cross-valiation.\n",
    "* Describe the parameters used.\n",
    "* Evaluate the results using an evaluation measure and confusion matrices.\n",
    "* Choose the best classifier and fundament you choice."
   ]
  },
  {
   "cell_type": "markdown",
   "metadata": {
    "colab_type": "text",
    "id": "pLC6gvU3xVsg"
   },
   "source": [
    "## 1.1. Preprocessing Data for Classification"
   ]
  },
  {
   "cell_type": "markdown",
   "metadata": {
    "colab_type": "raw",
    "id": "rTWvABGHxVsh"
   },
   "source": [
    "### Flattening of categorical values\n",
    "To transform our data to a suitable format by projecting all non numerical values into a totally ordered numerical space"
   ]
  },
  {
   "cell_type": "code",
   "execution_count": 268,
   "metadata": {},
   "outputs": [],
   "source": [
    "def fill_nan_mean(n):\n",
    "    return n.fillna(round(n.mean()))\n",
    "\n",
    "def fill_nan_left(n):\n",
    "    return n.fillna(-1)\n",
    "\n",
    "fill_nan = fill_nan_left\n",
    "def normalize_orderable(s,order_scale):\n",
    "    n = s.map(lambda x: order_scale.index(x) if x in order_scale else np.nan)\n",
    "    n = fill_nan(n)\n",
    "    return n\n",
    "\n",
    "def normalize_orderable(s,order_scale):\n",
    "    n = s.map(lambda x: order_scale.index(x) if x in order_scale else np.nan)\n",
    "    n = fill_nan(n)\n",
    "    return n"
   ]
  },
  {
   "cell_type": "code",
   "execution_count": 269,
   "metadata": {},
   "outputs": [],
   "source": [
    "normalised_df = refactored_df.copy()"
   ]
  },
  {
   "cell_type": "code",
   "execution_count": 270,
   "metadata": {},
   "outputs": [
    {
     "data": {
      "text/plain": [
       "array([0, 1], dtype=int64)"
      ]
     },
     "execution_count": 270,
     "metadata": {},
     "output_type": "execute_result"
    }
   ],
   "source": [
    "refactored_df['Q1'].unique()"
   ]
  },
  {
   "cell_type": "code",
   "execution_count": 271,
   "metadata": {},
   "outputs": [
    {
     "data": {
      "text/plain": [
       "array(['26-100', '6-25', 'Not asked', 'More than 1000', '100-500',\n",
       "       '500-1000', '1-5'], dtype=object)"
      ]
     },
     "execution_count": 271,
     "metadata": {},
     "output_type": "execute_result"
    }
   ],
   "source": [
    "refactored_df['Q2'].unique()"
   ]
  },
  {
   "cell_type": "code",
   "execution_count": 272,
   "metadata": {},
   "outputs": [
    {
     "data": {
      "text/plain": [
       "array([ 2.,  1., -1.,  5.,  3.,  4.,  0.])"
      ]
     },
     "execution_count": 272,
     "metadata": {},
     "output_type": "execute_result"
    }
   ],
   "source": [
    "normalised_df[\"Q2\"]= normalize_orderable(refactored_df[\"Q2\"],['1-5','6-25','26-100','100-500','500-1000','More than 1000'])\n",
    "normalised_df['Q2'].unique()"
   ]
  },
  {
   "cell_type": "code",
   "execution_count": 273,
   "metadata": {},
   "outputs": [
    {
     "data": {
      "text/plain": [
       "1.0          883\n",
       "Not asked    287\n",
       "0.0          263\n",
       "Name: Q3, dtype: int64"
      ]
     },
     "execution_count": 273,
     "metadata": {},
     "output_type": "execute_result"
    }
   ],
   "source": [
    "refactored_df['Q3'].value_counts()"
   ]
  },
  {
   "cell_type": "code",
   "execution_count": 274,
   "metadata": {},
   "outputs": [
    {
     "data": {
      "text/plain": [
       "array([ 1., -1.,  0.])"
      ]
     },
     "execution_count": 274,
     "metadata": {},
     "output_type": "execute_result"
    }
   ],
   "source": [
    "normalised_df[\"Q3\"] = refactored_df[\"Q3\"].map(lambda x: x if x != 'Not asked' else np.nan)\n",
    "normalised_df[\"Q3\"] = fill_nan(normalised_df[\"Q3\"])\n",
    "normalised_df['Q3'].unique()"
   ]
  },
  {
   "cell_type": "code",
   "execution_count": 275,
   "metadata": {},
   "outputs": [
    {
     "data": {
      "text/plain": [
       "array(['Not eligible for coverage / N/A', 'No', 'Not asked', 'Yes',\n",
       "       \"I don't know\"], dtype=object)"
      ]
     },
     "execution_count": 275,
     "metadata": {},
     "output_type": "execute_result"
    }
   ],
   "source": [
    "refactored_df['Q5'].unique()"
   ]
  },
  {
   "cell_type": "code",
   "execution_count": 276,
   "metadata": {},
   "outputs": [
    {
     "data": {
      "text/plain": [
       "array([-1.,  0.,  2.,  1.])"
      ]
     },
     "execution_count": 276,
     "metadata": {},
     "output_type": "execute_result"
    }
   ],
   "source": [
    "normalised_df[\"Q5\"] =  normalize_orderable(refactored_df[\"Q5\"],['No',\"I don't know\",'Yes'])\n",
    "normalised_df[\"Q5\"].unique()"
   ]
  },
  {
   "cell_type": "code",
   "execution_count": 277,
   "metadata": {},
   "outputs": [
    {
     "data": {
      "text/plain": [
       "array(['No', 'Yes', 'Not asked', 'I am not sure'], dtype=object)"
      ]
     },
     "execution_count": 277,
     "metadata": {},
     "output_type": "execute_result"
    }
   ],
   "source": [
    "refactored_df['Q6'].unique()"
   ]
  },
  {
   "cell_type": "code",
   "execution_count": 278,
   "metadata": {},
   "outputs": [
    {
     "data": {
      "text/plain": [
       "array([ 0.,  2., -1.,  1.])"
      ]
     },
     "execution_count": 278,
     "metadata": {},
     "output_type": "execute_result"
    }
   ],
   "source": [
    "normalised_df[\"Q6\"] = normalize_orderable(refactored_df[\"Q6\"],['No',\"I am not sure\",'Yes'])\n",
    "normalised_df[\"Q6\"].unique()"
   ]
  },
  {
   "cell_type": "code",
   "execution_count": 279,
   "metadata": {},
   "outputs": [
    {
     "data": {
      "text/plain": [
       "array(['No', 'Yes', 'Not asked', \"I don't know\"], dtype=object)"
      ]
     },
     "execution_count": 279,
     "metadata": {},
     "output_type": "execute_result"
    }
   ],
   "source": [
    "refactored_df['Q7'].unique()"
   ]
  },
  {
   "cell_type": "code",
   "execution_count": 280,
   "metadata": {},
   "outputs": [
    {
     "data": {
      "text/plain": [
       "array([ 0.,  2., -1.,  1.])"
      ]
     },
     "execution_count": 280,
     "metadata": {},
     "output_type": "execute_result"
    }
   ],
   "source": [
    "normalised_df[\"Q7\"] = normalize_orderable(refactored_df[\"Q7\"],['No',\"I don't know\",'Yes'])\n",
    "normalised_df[\"Q7\"].unique()"
   ]
  },
  {
   "cell_type": "code",
   "execution_count": 281,
   "metadata": {},
   "outputs": [
    {
     "data": {
      "text/plain": [
       "array(['No', 'Yes', 'Not asked', \"I don't know\"], dtype=object)"
      ]
     },
     "execution_count": 281,
     "metadata": {},
     "output_type": "execute_result"
    }
   ],
   "source": [
    "refactored_df['Q8'].unique()"
   ]
  },
  {
   "cell_type": "code",
   "execution_count": 282,
   "metadata": {},
   "outputs": [
    {
     "data": {
      "text/plain": [
       "array([ 0.,  2., -1.,  1.])"
      ]
     },
     "execution_count": 282,
     "metadata": {},
     "output_type": "execute_result"
    }
   ],
   "source": [
    "normalised_df[\"Q8\"] = normalize_orderable(refactored_df[\"Q8\"],['No',\"I don't know\",'Yes'])\n",
    "normalised_df[\"Q8\"].unique()"
   ]
  },
  {
   "cell_type": "code",
   "execution_count": 283,
   "metadata": {},
   "outputs": [
    {
     "data": {
      "text/plain": [
       "array([\"I don't know\", 'Yes', 'Not asked', 'No'], dtype=object)"
      ]
     },
     "execution_count": 283,
     "metadata": {},
     "output_type": "execute_result"
    }
   ],
   "source": [
    "refactored_df['Q9'].unique()"
   ]
  },
  {
   "cell_type": "code",
   "execution_count": 284,
   "metadata": {},
   "outputs": [
    {
     "data": {
      "text/plain": [
       "array([ 1.,  2., -1.,  0.])"
      ]
     },
     "execution_count": 284,
     "metadata": {},
     "output_type": "execute_result"
    }
   ],
   "source": [
    "normalised_df[\"Q9\"] = normalize_orderable(refactored_df[\"Q9\"],['No',\"I don't know\",'Yes'])\n",
    "normalised_df[\"Q9\"].unique()"
   ]
  },
  {
   "cell_type": "code",
   "execution_count": 285,
   "metadata": {},
   "outputs": [
    {
     "data": {
      "text/plain": [
       "array(['Very easy', 'Somewhat easy', 'Neither easy nor difficult',\n",
       "       'Not asked', 'Very difficult', 'Somewhat difficult',\n",
       "       \"I don't know\"], dtype=object)"
      ]
     },
     "execution_count": 285,
     "metadata": {},
     "output_type": "execute_result"
    }
   ],
   "source": [
    "refactored_df['Q10'].unique()"
   ]
  },
  {
   "cell_type": "code",
   "execution_count": 286,
   "metadata": {},
   "outputs": [
    {
     "data": {
      "text/plain": [
       "array([ 5.,  4.,  3., -1.,  0.,  1.,  2.])"
      ]
     },
     "execution_count": 286,
     "metadata": {},
     "output_type": "execute_result"
    }
   ],
   "source": [
    "normalised_df[\"Q10\"] = normalize_orderable(refactored_df[\"Q10\"],['Very difficult', 'Somewhat difficult', \"I don't know\",'Neither easy nor difficult','Somewhat easy','Very easy']) \n",
    "normalised_df[\"Q10\"].unique()"
   ]
  },
  {
   "cell_type": "code",
   "execution_count": 287,
   "metadata": {},
   "outputs": [
    {
     "data": {
      "text/plain": [
       "array(['No', 'Maybe', 'Not asked', 'Yes'], dtype=object)"
      ]
     },
     "execution_count": 287,
     "metadata": {},
     "output_type": "execute_result"
    }
   ],
   "source": [
    "refactored_df['Q11'].unique()"
   ]
  },
  {
   "cell_type": "code",
   "execution_count": 288,
   "metadata": {},
   "outputs": [
    {
     "data": {
      "text/plain": [
       "array([ 0.,  1., -1.,  2.])"
      ]
     },
     "execution_count": 288,
     "metadata": {},
     "output_type": "execute_result"
    }
   ],
   "source": [
    "normalised_df[\"Q11\"] = normalize_orderable(refactored_df[\"Q11\"],['No',\"Maybe\",'Yes'])\n",
    "normalised_df[\"Q11\"].unique()"
   ]
  },
  {
   "cell_type": "code",
   "execution_count": 289,
   "metadata": {},
   "outputs": [
    {
     "data": {
      "text/plain": [
       "array(['No', 'Not asked', 'Maybe', 'Yes'], dtype=object)"
      ]
     },
     "execution_count": 289,
     "metadata": {},
     "output_type": "execute_result"
    }
   ],
   "source": [
    "refactored_df['Q12'].unique()"
   ]
  },
  {
   "cell_type": "code",
   "execution_count": 290,
   "metadata": {},
   "outputs": [
    {
     "data": {
      "text/plain": [
       "array([ 0., -1.,  1.,  2.])"
      ]
     },
     "execution_count": 290,
     "metadata": {},
     "output_type": "execute_result"
    }
   ],
   "source": [
    "normalised_df[\"Q12\"] = normalize_orderable(refactored_df[\"Q12\"],['No',\"Maybe\",'Yes'])\n",
    "normalised_df[\"Q12\"].unique()"
   ]
  },
  {
   "cell_type": "code",
   "execution_count": 291,
   "metadata": {},
   "outputs": [
    {
     "data": {
      "text/plain": [
       "array(['Maybe', 'Not asked', 'Yes', 'No'], dtype=object)"
      ]
     },
     "execution_count": 291,
     "metadata": {},
     "output_type": "execute_result"
    }
   ],
   "source": [
    "refactored_df['Q13'].unique()"
   ]
  },
  {
   "cell_type": "code",
   "execution_count": 292,
   "metadata": {},
   "outputs": [
    {
     "data": {
      "text/plain": [
       "array([ 1., -1.,  2.,  0.])"
      ]
     },
     "execution_count": 292,
     "metadata": {},
     "output_type": "execute_result"
    }
   ],
   "source": [
    "normalised_df[\"Q13\"] = normalize_orderable(refactored_df[\"Q13\"],['No',\"Maybe\",'Yes'])\n",
    "normalised_df[\"Q13\"].unique()"
   ]
  },
  {
   "cell_type": "code",
   "execution_count": 293,
   "metadata": {},
   "outputs": [
    {
     "data": {
      "text/plain": [
       "array(['Yes', 'Maybe', 'Not asked', 'No'], dtype=object)"
      ]
     },
     "execution_count": 293,
     "metadata": {},
     "output_type": "execute_result"
    }
   ],
   "source": [
    "refactored_df['Q14'].unique()"
   ]
  },
  {
   "cell_type": "code",
   "execution_count": 294,
   "metadata": {},
   "outputs": [
    {
     "data": {
      "text/plain": [
       "array([ 2.,  1., -1.,  0.])"
      ]
     },
     "execution_count": 294,
     "metadata": {},
     "output_type": "execute_result"
    }
   ],
   "source": [
    "normalised_df[\"Q14\"] = normalize_orderable(refactored_df[\"Q14\"],['No',\"Maybe\",'Yes'])\n",
    "normalised_df[\"Q14\"].unique()"
   ]
  },
  {
   "cell_type": "code",
   "execution_count": 295,
   "metadata": {},
   "outputs": [
    {
     "data": {
      "text/plain": [
       "array([\"I don't know\", 'Yes', 'Not asked', 'No'], dtype=object)"
      ]
     },
     "execution_count": 295,
     "metadata": {},
     "output_type": "execute_result"
    }
   ],
   "source": [
    "refactored_df['Q15'].unique()"
   ]
  },
  {
   "cell_type": "code",
   "execution_count": 296,
   "metadata": {},
   "outputs": [
    {
     "data": {
      "text/plain": [
       "array([ 1.,  2., -1.,  0.])"
      ]
     },
     "execution_count": 296,
     "metadata": {},
     "output_type": "execute_result"
    }
   ],
   "source": [
    "normalised_df[\"Q15\"] = normalize_orderable(refactored_df[\"Q15\"],['No',\"I don't know\",'Yes'])\n",
    "normalised_df[\"Q15\"].unique()"
   ]
  },
  {
   "cell_type": "code",
   "execution_count": 297,
   "metadata": {},
   "outputs": [
    {
     "data": {
      "text/plain": [
       "array(['No', 'Not asked', 'Yes'], dtype=object)"
      ]
     },
     "execution_count": 297,
     "metadata": {},
     "output_type": "execute_result"
    }
   ],
   "source": [
    "refactored_df['Q16'].unique()"
   ]
  },
  {
   "cell_type": "code",
   "execution_count": 298,
   "metadata": {},
   "outputs": [
    {
     "data": {
      "text/plain": [
       "array([ 0., -1.,  1.])"
      ]
     },
     "execution_count": 298,
     "metadata": {},
     "output_type": "execute_result"
    }
   ],
   "source": [
    "normalised_df[\"Q16\"] = normalize_orderable(refactored_df[\"Q16\"],['No','Yes'])\n",
    "normalised_df[\"Q16\"].unique()"
   ]
  },
  {
   "cell_type": "code",
   "execution_count": 299,
   "metadata": {},
   "outputs": [
    {
     "data": {
      "text/plain": [
       "array(['Not asked', 1.0, 0.0], dtype=object)"
      ]
     },
     "execution_count": 299,
     "metadata": {},
     "output_type": "execute_result"
    }
   ],
   "source": [
    "refactored_df['Q17'].unique()"
   ]
  },
  {
   "cell_type": "code",
   "execution_count": 300,
   "metadata": {},
   "outputs": [
    {
     "data": {
      "text/plain": [
       "array([-1.,  1.,  0.])"
      ]
     },
     "execution_count": 300,
     "metadata": {},
     "output_type": "execute_result"
    }
   ],
   "source": [
    "normalised_df[\"Q17\"] = refactored_df[\"Q17\"].map(lambda x: x if x != 'Not asked' else np.nan)\n",
    "normalised_df[\"Q17\"] = fill_nan(normalised_df[\"Q17\"])\n",
    "normalised_df['Q17'].unique()"
   ]
  },
  {
   "cell_type": "code",
   "execution_count": 301,
   "metadata": {},
   "outputs": [
    {
     "data": {
      "text/plain": [
       "array(['Not asked', 'Yes, I know several', 'I know some',\n",
       "       \"No, I don't know any\"], dtype=object)"
      ]
     },
     "execution_count": 301,
     "metadata": {},
     "output_type": "execute_result"
    }
   ],
   "source": [
    "refactored_df['Q18'].unique()"
   ]
  },
  {
   "cell_type": "code",
   "execution_count": 302,
   "metadata": {},
   "outputs": [
    {
     "data": {
      "text/plain": [
       "array([-1.,  2.,  1.,  0.])"
      ]
     },
     "execution_count": 302,
     "metadata": {},
     "output_type": "execute_result"
    }
   ],
   "source": [
    "normalised_df[\"Q18\"] = normalize_orderable(refactored_df[\"Q18\"],[\"No, I don't know any\", 'I know some','Yes, I know several'])\n",
    "normalised_df['Q18'].unique()"
   ]
  },
  {
   "cell_type": "code",
   "execution_count": 303,
   "metadata": {},
   "outputs": [
    {
     "data": {
      "text/plain": [
       "array(['Not asked', 'Sometimes, if it comes up',\n",
       "       \"No, because it doesn't matter\",\n",
       "       'No, because it would impact me negatively',\n",
       "       'Not applicable to me', 'Yes, always'], dtype=object)"
      ]
     },
     "execution_count": 303,
     "metadata": {},
     "output_type": "execute_result"
    }
   ],
   "source": [
    "refactored_df['Q19'].unique()"
   ]
  },
  {
   "cell_type": "code",
   "execution_count": 304,
   "metadata": {},
   "outputs": [
    {
     "data": {
      "text/plain": [
       "array([-1.,  3.,  1.,  0.,  2.,  4.])"
      ]
     },
     "execution_count": 304,
     "metadata": {},
     "output_type": "execute_result"
    }
   ],
   "source": [
    "normalised_df[\"Q19\"] = normalize_orderable(refactored_df[\"Q19\"],['No, because it would impact me negatively',\"No, because it doesn't matter\",'Not applicable to me','Sometimes, if it comes up','Yes, always'])\n",
    "normalised_df['Q19'].unique()"
   ]
  },
  {
   "cell_type": "code",
   "execution_count": 305,
   "metadata": {},
   "outputs": [
    {
     "data": {
      "text/plain": [
       "array(['Not asked', 'Sometimes, if it comes up',\n",
       "       'No, because it would impact me negatively',\n",
       "       'Not applicable to me', 'Yes, always',\n",
       "       \"No, because it doesn't matter\"], dtype=object)"
      ]
     },
     "execution_count": 305,
     "metadata": {},
     "output_type": "execute_result"
    }
   ],
   "source": [
    "refactored_df['Q21'].unique()"
   ]
  },
  {
   "cell_type": "code",
   "execution_count": 306,
   "metadata": {},
   "outputs": [
    {
     "data": {
      "text/plain": [
       "array([-1.,  3.,  0.,  2.,  4.,  1.])"
      ]
     },
     "execution_count": 306,
     "metadata": {},
     "output_type": "execute_result"
    }
   ],
   "source": [
    "normalised_df[\"Q21\"] = normalize_orderable(refactored_df[\"Q21\"],['No, because it would impact me negatively',\"No, because it doesn't matter\",'Not applicable to me','Sometimes, if it comes up','Yes, always'])\n",
    "normalised_df['Q21'].unique()"
   ]
  },
  {
   "cell_type": "code",
   "execution_count": 307,
   "metadata": {},
   "outputs": [
    {
     "data": {
      "text/plain": [
       "array(['Not asked', \"I'm not sure\", 'No', 'Yes', 'Not applicable to me'],\n",
       "      dtype=object)"
      ]
     },
     "execution_count": 307,
     "metadata": {},
     "output_type": "execute_result"
    }
   ],
   "source": [
    "refactored_df['Q22'].unique()"
   ]
  },
  {
   "cell_type": "code",
   "execution_count": 308,
   "metadata": {},
   "outputs": [
    {
     "data": {
      "text/plain": [
       "array([-1.,  1.,  0.,  2.])"
      ]
     },
     "execution_count": 308,
     "metadata": {},
     "output_type": "execute_result"
    }
   ],
   "source": [
    "normalised_df[\"Q22\"] = normalize_orderable(refactored_df[\"Q22\"],['No',\"I'm not sure\",'Yes'])\n",
    "normalised_df['Q22'].unique()"
   ]
  },
  {
   "cell_type": "code",
   "execution_count": 309,
   "metadata": {},
   "outputs": [
    {
     "data": {
      "text/plain": [
       "array(['Not asked', 'Yes', 'Not applicable to me', 'No', 'Unsure'],\n",
       "      dtype=object)"
      ]
     },
     "execution_count": 309,
     "metadata": {},
     "output_type": "execute_result"
    }
   ],
   "source": [
    "refactored_df['Q23'].unique()"
   ]
  },
  {
   "cell_type": "code",
   "execution_count": 310,
   "metadata": {},
   "outputs": [
    {
     "data": {
      "text/plain": [
       "array([-1.,  2.,  0.,  1.])"
      ]
     },
     "execution_count": 310,
     "metadata": {},
     "output_type": "execute_result"
    }
   ],
   "source": [
    "normalised_df[\"Q23\"] = normalize_orderable(refactored_df[\"Q23\"],['No',\"Unsure\",'Yes'])\n",
    "normalised_df['Q23'].unique()"
   ]
  },
  {
   "cell_type": "code",
   "execution_count": 311,
   "metadata": {},
   "outputs": [
    {
     "data": {
      "text/plain": [
       "array(['Not asked', '1-25%', '76-100%', 'Not applicable to me', '26-50%',\n",
       "       '51-75%'], dtype=object)"
      ]
     },
     "execution_count": 311,
     "metadata": {},
     "output_type": "execute_result"
    }
   ],
   "source": [
    "refactored_df['Q24'].unique()"
   ]
  },
  {
   "cell_type": "code",
   "execution_count": 312,
   "metadata": {},
   "outputs": [
    {
     "data": {
      "text/plain": [
       "array([-1.,  0.,  3.,  1.,  2.])"
      ]
     },
     "execution_count": 312,
     "metadata": {},
     "output_type": "execute_result"
    }
   ],
   "source": [
    "normalised_df[\"Q24\"] = normalize_orderable(refactored_df[\"Q24\"],['1-25%','26-50%','51-75%','76-100%'])\n",
    "normalised_df[\"Q24\"].unique()"
   ]
  },
  {
   "cell_type": "code",
   "execution_count": 313,
   "metadata": {},
   "outputs": [
    {
     "data": {
      "text/plain": [
       "array([1, 0], dtype=int64)"
      ]
     },
     "execution_count": 313,
     "metadata": {},
     "output_type": "execute_result"
    }
   ],
   "source": [
    "refactored_df['Q25'].unique()"
   ]
  },
  {
   "cell_type": "code",
   "execution_count": 314,
   "metadata": {},
   "outputs": [
    {
     "data": {
      "text/plain": [
       "array(['No, none did', 'Yes, they all did', 'Some did', \"I don't know\",\n",
       "       'Not asked'], dtype=object)"
      ]
     },
     "execution_count": 314,
     "metadata": {},
     "output_type": "execute_result"
    }
   ],
   "source": [
    "refactored_df['Q26'].unique()"
   ]
  },
  {
   "cell_type": "code",
   "execution_count": 315,
   "metadata": {},
   "outputs": [
    {
     "data": {
      "text/plain": [
       "array([ 0.,  3.,  2.,  1., -1.])"
      ]
     },
     "execution_count": 315,
     "metadata": {},
     "output_type": "execute_result"
    }
   ],
   "source": [
    "normalised_df[\"Q26\"] = normalize_orderable(refactored_df[\"Q26\"],['No, none did',\"I don't know\", 'Some did','Yes, they all did'])\n",
    "normalised_df['Q26'].unique()"
   ]
  },
  {
   "cell_type": "code",
   "execution_count": 316,
   "metadata": {},
   "outputs": [
    {
     "data": {
      "text/plain": [
       "array(['N/A (not currently aware)', 'I was aware of some',\n",
       "       'Yes, I was aware of all of them', 'No, I only became aware later',\n",
       "       'Not asked'], dtype=object)"
      ]
     },
     "execution_count": 316,
     "metadata": {},
     "output_type": "execute_result"
    }
   ],
   "source": [
    "refactored_df['Q27'].unique()"
   ]
  },
  {
   "cell_type": "code",
   "execution_count": 317,
   "metadata": {},
   "outputs": [
    {
     "data": {
      "text/plain": [
       "array([ 0.,  2.,  3.,  1., -1.])"
      ]
     },
     "execution_count": 317,
     "metadata": {},
     "output_type": "execute_result"
    }
   ],
   "source": [
    "normalised_df[\"Q27\"] = normalize_orderable(refactored_df[\"Q27\"],['N/A (not currently aware)','No, I only became aware later','I was aware of some','Yes, I was aware of all of them'])\n",
    "normalised_df['Q27'].unique()"
   ]
  },
  {
   "cell_type": "code",
   "execution_count": 318,
   "metadata": {},
   "outputs": [
    {
     "data": {
      "text/plain": [
       "array([ 1.,  0.,  2., -1.,  3.])"
      ]
     },
     "execution_count": 318,
     "metadata": {},
     "output_type": "execute_result"
    }
   ],
   "source": [
    "normalised_df[\"Q28\"] = normalize_orderable(refactored_df[\"Q28\"],['None did',\"I don't know\", 'Some did','Yes, they all did'])\n",
    "normalised_df['Q28'].unique()"
   ]
  },
  {
   "cell_type": "code",
   "execution_count": 319,
   "metadata": {},
   "outputs": [
    {
     "data": {
      "text/plain": [
       "array(['None did', 'Some did', 'Not asked', 'Yes, they all did'],\n",
       "      dtype=object)"
      ]
     },
     "execution_count": 319,
     "metadata": {},
     "output_type": "execute_result"
    }
   ],
   "source": [
    "refactored_df['Q29'].unique()"
   ]
  },
  {
   "cell_type": "code",
   "execution_count": 320,
   "metadata": {},
   "outputs": [
    {
     "data": {
      "text/plain": [
       "array([ 0.,  1., -1.,  2.])"
      ]
     },
     "execution_count": 320,
     "metadata": {},
     "output_type": "execute_result"
    }
   ],
   "source": [
    "normalised_df[\"Q29\"] = normalize_orderable(refactored_df[\"Q29\"],['None did','Some did','Yes, they all did'])\n",
    "normalised_df['Q29'].unique()"
   ]
  },
  {
   "cell_type": "code",
   "execution_count": 321,
   "metadata": {},
   "outputs": [
    {
     "data": {
      "text/plain": [
       "array([\"I don't know\", 'Yes, always', 'Sometimes', 'No', 'Not asked'],\n",
       "      dtype=object)"
      ]
     },
     "execution_count": 321,
     "metadata": {},
     "output_type": "execute_result"
    }
   ],
   "source": [
    "refactored_df['Q30'].unique()"
   ]
  },
  {
   "cell_type": "code",
   "execution_count": 322,
   "metadata": {},
   "outputs": [
    {
     "data": {
      "text/plain": [
       "array([ 1.,  3.,  2.,  0., -1.])"
      ]
     },
     "execution_count": 322,
     "metadata": {},
     "output_type": "execute_result"
    }
   ],
   "source": [
    "normalised_df[\"Q30\"] = normalize_orderable(refactored_df[\"Q30\"],['No',\"I don't know\",'Sometimes','Yes, always'])\n",
    "normalised_df['Q30'].unique()"
   ]
  },
  {
   "cell_type": "code",
   "execution_count": 323,
   "metadata": {},
   "outputs": [
    {
     "data": {
      "text/plain": [
       "array(['Some of them', 'None of them', \"I don't know\", 'Yes, all of them',\n",
       "       'Not asked'], dtype=object)"
      ]
     },
     "execution_count": 323,
     "metadata": {},
     "output_type": "execute_result"
    }
   ],
   "source": [
    "refactored_df['Q31'].unique()"
   ]
  },
  {
   "cell_type": "code",
   "execution_count": 324,
   "metadata": {},
   "outputs": [
    {
     "data": {
      "text/plain": [
       "array([ 2.,  0.,  1.,  3., -1.])"
      ]
     },
     "execution_count": 324,
     "metadata": {},
     "output_type": "execute_result"
    }
   ],
   "source": [
    "normalised_df[\"Q31\"] = normalize_orderable(refactored_df[\"Q31\"],['None of them', \"I don't know\",'Some of them', 'Yes, all of them'])\n",
    "normalised_df['Q31'].unique()"
   ]
  },
  {
   "cell_type": "code",
   "execution_count": 325,
   "metadata": {},
   "outputs": [
    {
     "data": {
      "text/plain": [
       "array(['None of them', 'Some of them', 'Yes, all of them', 'Not asked'],\n",
       "      dtype=object)"
      ]
     },
     "execution_count": 325,
     "metadata": {},
     "output_type": "execute_result"
    }
   ],
   "source": [
    "refactored_df['Q32'].unique()"
   ]
  },
  {
   "cell_type": "code",
   "execution_count": 326,
   "metadata": {},
   "outputs": [
    {
     "data": {
      "text/plain": [
       "array([ 0.,  2.,  3., -1.])"
      ]
     },
     "execution_count": 326,
     "metadata": {},
     "output_type": "execute_result"
    }
   ],
   "source": [
    "normalised_df[\"Q32\"] = normalize_orderable(refactored_df[\"Q32\"],['None of them', \"I don't know\",'Some of them', 'Yes, all of them'])\n",
    "normalised_df['Q32'].unique()"
   ]
  },
  {
   "cell_type": "code",
   "execution_count": 327,
   "metadata": {},
   "outputs": [
    {
     "data": {
      "text/plain": [
       "array(['Some of my previous employers',\n",
       "       'No, at none of my previous employers',\n",
       "       'Yes, at all of my previous employers', 'Not asked'], dtype=object)"
      ]
     },
     "execution_count": 327,
     "metadata": {},
     "output_type": "execute_result"
    }
   ],
   "source": [
    "refactored_df['Q33'].unique()"
   ]
  },
  {
   "cell_type": "code",
   "execution_count": 328,
   "metadata": {},
   "outputs": [
    {
     "data": {
      "text/plain": [
       "array([ 1.,  0.,  2., -1.])"
      ]
     },
     "execution_count": 328,
     "metadata": {},
     "output_type": "execute_result"
    }
   ],
   "source": [
    "normalised_df[\"Q33\"] = normalize_orderable(refactored_df[\"Q33\"],['No, at none of my previous employers','Some of my previous employers','Yes, at all of my previous employers'])\n",
    "normalised_df['Q33'].unique()"
   ]
  },
  {
   "cell_type": "code",
   "execution_count": 329,
   "metadata": {},
   "outputs": [
    {
     "data": {
      "text/plain": [
       "array(['Some of my previous employers', \"I don't know\",\n",
       "       'No, at none of my previous employers',\n",
       "       'Yes, at all of my previous employers', 'Not asked'], dtype=object)"
      ]
     },
     "execution_count": 329,
     "metadata": {},
     "output_type": "execute_result"
    }
   ],
   "source": [
    "refactored_df['Q34'].unique()"
   ]
  },
  {
   "cell_type": "code",
   "execution_count": 330,
   "metadata": {},
   "outputs": [
    {
     "data": {
      "text/plain": [
       "array([ 2.,  1.,  0.,  3., -1.])"
      ]
     },
     "execution_count": 330,
     "metadata": {},
     "output_type": "execute_result"
    }
   ],
   "source": [
    "normalised_df[\"Q34\"] = normalize_orderable(refactored_df[\"Q34\"],['No, at none of my previous employers',\"I don't know\",'Some of my previous employers','Yes, at all of my previous employers'])\n",
    "normalised_df['Q34'].unique()"
   ]
  },
  {
   "cell_type": "code",
   "execution_count": 331,
   "metadata": {},
   "outputs": [
    {
     "data": {
      "text/plain": [
       "array([\"I don't know\", 'Some did', 'None did', 'Yes, they all did',\n",
       "       'Not asked'], dtype=object)"
      ]
     },
     "execution_count": 331,
     "metadata": {},
     "output_type": "execute_result"
    }
   ],
   "source": [
    "refactored_df['Q35'].unique()"
   ]
  },
  {
   "cell_type": "code",
   "execution_count": 332,
   "metadata": {},
   "outputs": [
    {
     "data": {
      "text/plain": [
       "array([ 1.,  2.,  0.,  3., -1.])"
      ]
     },
     "execution_count": 332,
     "metadata": {},
     "output_type": "execute_result"
    }
   ],
   "source": [
    "normalised_df[\"Q35\"] = normalize_orderable(refactored_df[\"Q35\"],['None did',\"I don't know\", 'Some did','Yes, they all did'])\n",
    "normalised_df['Q35'].unique()"
   ]
  },
  {
   "cell_type": "code",
   "execution_count": 333,
   "metadata": {},
   "outputs": [
    {
     "data": {
      "text/plain": [
       "array(['None of them', 'Some of them', 'Not asked', 'Yes, all of them'],\n",
       "      dtype=object)"
      ]
     },
     "execution_count": 333,
     "metadata": {},
     "output_type": "execute_result"
    }
   ],
   "source": [
    "refactored_df['Q36'].unique()"
   ]
  },
  {
   "cell_type": "code",
   "execution_count": 334,
   "metadata": {},
   "outputs": [
    {
     "data": {
      "text/plain": [
       "array([ 0.,  1., -1.,  2.])"
      ]
     },
     "execution_count": 334,
     "metadata": {},
     "output_type": "execute_result"
    }
   ],
   "source": [
    "normalised_df[\"Q36\"] = normalize_orderable(refactored_df[\"Q36\"],['None of them','Some of them', 'Yes, all of them'])\n",
    "normalised_df['Q36'].unique()"
   ]
  },
  {
   "cell_type": "code",
   "execution_count": 335,
   "metadata": {},
   "outputs": [
    {
     "data": {
      "text/plain": [
       "array(['Maybe', 'Yes', 'No'], dtype=object)"
      ]
     },
     "execution_count": 335,
     "metadata": {},
     "output_type": "execute_result"
    }
   ],
   "source": [
    "refactored_df['Q37'].unique()"
   ]
  },
  {
   "cell_type": "code",
   "execution_count": 336,
   "metadata": {},
   "outputs": [
    {
     "data": {
      "text/plain": [
       "array([1, 2, 0], dtype=int64)"
      ]
     },
     "execution_count": 336,
     "metadata": {},
     "output_type": "execute_result"
    }
   ],
   "source": [
    "normalised_df[\"Q37\"] = normalize_orderable(refactored_df[\"Q37\"],['No',\"Maybe\",'Yes'])\n",
    "normalised_df['Q37'].unique()"
   ]
  },
  {
   "cell_type": "code",
   "execution_count": 337,
   "metadata": {},
   "outputs": [
    {
     "data": {
      "text/plain": [
       "array(['Maybe', 'No', 'Yes'], dtype=object)"
      ]
     },
     "execution_count": 337,
     "metadata": {},
     "output_type": "execute_result"
    }
   ],
   "source": [
    "refactored_df['Q39'].unique()"
   ]
  },
  {
   "cell_type": "code",
   "execution_count": 338,
   "metadata": {},
   "outputs": [
    {
     "data": {
      "text/plain": [
       "array([1, 0, 2], dtype=int64)"
      ]
     },
     "execution_count": 338,
     "metadata": {},
     "output_type": "execute_result"
    }
   ],
   "source": [
    "normalised_df[\"Q39\"] = normalize_orderable(refactored_df[\"Q39\"],['No',\"Maybe\",'Yes'])\n",
    "normalised_df['Q39'].unique()"
   ]
  },
  {
   "cell_type": "code",
   "execution_count": 339,
   "metadata": {},
   "outputs": [
    {
     "data": {
      "text/plain": [
       "array(['Maybe', \"No, I don't think it would\", 'Yes, I think it would',\n",
       "       'No, it has not', 'Yes, it has'], dtype=object)"
      ]
     },
     "execution_count": 339,
     "metadata": {},
     "output_type": "execute_result"
    }
   ],
   "source": [
    "refactored_df['Q41'].unique()"
   ]
  },
  {
   "cell_type": "code",
   "execution_count": 340,
   "metadata": {},
   "outputs": [
    {
     "data": {
      "text/plain": [
       "array([2, 1, 3, 0, 4], dtype=int64)"
      ]
     },
     "execution_count": 340,
     "metadata": {},
     "output_type": "execute_result"
    }
   ],
   "source": [
    "normalised_df[\"Q41\"] = normalize_orderable(refactored_df[\"Q41\"],['No, it has not',\"No, I don't think it would\",'Maybe','Yes, I think it would','Yes, it has'])\n",
    "normalised_df['Q41'].unique()"
   ]
  },
  {
   "cell_type": "code",
   "execution_count": 341,
   "metadata": {},
   "outputs": [
    {
     "data": {
      "text/plain": [
       "array([\"No, I don't think they would\", 'Maybe', 'Yes, they do',\n",
       "       'Yes, I think they would', 'No, they do not'], dtype=object)"
      ]
     },
     "execution_count": 341,
     "metadata": {},
     "output_type": "execute_result"
    }
   ],
   "source": [
    "refactored_df['Q42'].unique()"
   ]
  },
  {
   "cell_type": "code",
   "execution_count": 342,
   "metadata": {},
   "outputs": [
    {
     "data": {
      "text/plain": [
       "array([1, 2, 4, 3, 0], dtype=int64)"
      ]
     },
     "execution_count": 342,
     "metadata": {},
     "output_type": "execute_result"
    }
   ],
   "source": [
    "normalised_df[\"Q42\"] = normalize_orderable(refactored_df[\"Q42\"],['No, they do not',\"No, I don't think they would\",'Maybe','Yes, I think they would','Yes, they do'])\n",
    "normalised_df['Q42'].unique()"
   ]
  },
  {
   "cell_type": "code",
   "execution_count": 343,
   "metadata": {
    "scrolled": true
   },
   "outputs": [
    {
     "data": {
      "text/plain": [
       "array(['Somewhat open', 'Neutral',\n",
       "       'Not applicable to me (I do not have a mental illness)',\n",
       "       'Very open', 'Not open at all', 'Somewhat not open'], dtype=object)"
      ]
     },
     "execution_count": 343,
     "metadata": {},
     "output_type": "execute_result"
    }
   ],
   "source": [
    "refactored_df['Q43'].unique()"
   ]
  },
  {
   "cell_type": "code",
   "execution_count": 344,
   "metadata": {},
   "outputs": [
    {
     "data": {
      "text/plain": [
       "array([4, 2, 3, 5, 0, 1], dtype=int64)"
      ]
     },
     "execution_count": 344,
     "metadata": {},
     "output_type": "execute_result"
    }
   ],
   "source": [
    "normalised_df[\"Q43\"] = normalize_orderable(refactored_df[\"Q43\"],['Not open at all','Somewhat not open','Neutral','Not applicable to me (I do not have a mental illness)','Somewhat open','Very open'])\n",
    "normalised_df['Q43'].unique()"
   ]
  },
  {
   "cell_type": "code",
   "execution_count": 345,
   "metadata": {},
   "outputs": [
    {
     "data": {
      "text/plain": [
       "array(['No', 'Maybe/Not sure', 'Yes, I experienced', 'Yes, I observed'],\n",
       "      dtype=object)"
      ]
     },
     "execution_count": 345,
     "metadata": {},
     "output_type": "execute_result"
    }
   ],
   "source": [
    "refactored_df['Q44'].unique()"
   ]
  },
  {
   "cell_type": "code",
   "execution_count": 346,
   "metadata": {},
   "outputs": [
    {
     "data": {
      "text/plain": [
       "array([0, 1, 3, 2], dtype=int64)"
      ]
     },
     "execution_count": 346,
     "metadata": {},
     "output_type": "execute_result"
    }
   ],
   "source": [
    "normalised_df[\"Q44\"] = normalize_orderable(refactored_df[\"Q44\"],['No', 'Maybe/Not sure','Yes, I observed','Yes, I experienced'])\n",
    "normalised_df['Q44'].unique()"
   ]
  },
  {
   "cell_type": "code",
   "execution_count": 347,
   "metadata": {},
   "outputs": [
    {
     "data": {
      "text/plain": [
       "array(['Not answered', 'Yes', 'No', 'Maybe'], dtype=object)"
      ]
     },
     "execution_count": 347,
     "metadata": {},
     "output_type": "execute_result"
    }
   ],
   "source": [
    "refactored_df['Q45'].unique()"
   ]
  },
  {
   "cell_type": "code",
   "execution_count": 348,
   "metadata": {},
   "outputs": [
    {
     "data": {
      "text/plain": [
       "array([-1.,  2.,  0.,  1.])"
      ]
     },
     "execution_count": 348,
     "metadata": {},
     "output_type": "execute_result"
    }
   ],
   "source": [
    "normalised_df[\"Q45\"] = normalize_orderable(refactored_df[\"Q45\"],['No',\"Maybe\",'Yes'])\n",
    "normalised_df['Q45'].unique()"
   ]
  },
  {
   "cell_type": "code",
   "execution_count": 349,
   "metadata": {},
   "outputs": [
    {
     "data": {
      "text/plain": [
       "array(['No', 'Yes', \"I don't know\"], dtype=object)"
      ]
     },
     "execution_count": 349,
     "metadata": {},
     "output_type": "execute_result"
    }
   ],
   "source": [
    "refactored_df['Q46'].unique()"
   ]
  },
  {
   "cell_type": "code",
   "execution_count": 350,
   "metadata": {},
   "outputs": [
    {
     "data": {
      "text/plain": [
       "array([0, 2, 1], dtype=int64)"
      ]
     },
     "execution_count": 350,
     "metadata": {},
     "output_type": "execute_result"
    }
   ],
   "source": [
    "normalised_df[\"Q46\"] = normalize_orderable(refactored_df[\"Q46\"],['No',\"I don't know\",'Yes'])\n",
    "normalised_df['Q46'].unique()"
   ]
  },
  {
   "cell_type": "code",
   "execution_count": 351,
   "metadata": {},
   "outputs": [
    {
     "data": {
      "text/plain": [
       "array(['Yes', 'Maybe', 'No'], dtype=object)"
      ]
     },
     "execution_count": 351,
     "metadata": {},
     "output_type": "execute_result"
    }
   ],
   "source": [
    "refactored_df['Q47'].unique()"
   ]
  },
  {
   "cell_type": "code",
   "execution_count": 352,
   "metadata": {},
   "outputs": [
    {
     "data": {
      "text/plain": [
       "array([2, 1, 0], dtype=int64)"
      ]
     },
     "execution_count": 352,
     "metadata": {},
     "output_type": "execute_result"
    }
   ],
   "source": [
    "normalised_df[\"Q47\"] = normalize_orderable(refactored_df[\"Q47\"],['No',\"Maybe\",'Yes'])\n",
    "normalised_df['Q47'].unique()"
   ]
  },
  {
   "cell_type": "code",
   "execution_count": 353,
   "metadata": {},
   "outputs": [
    {
     "data": {
      "text/plain": [
       "array(['No', 'Yes', 'Maybe'], dtype=object)"
      ]
     },
     "execution_count": 353,
     "metadata": {},
     "output_type": "execute_result"
    }
   ],
   "source": [
    "#target Do you have disorder('No',\"Maybe\",'Yes')\n",
    "refactored_df['Q48'].unique()"
   ]
  },
  {
   "cell_type": "code",
   "execution_count": 354,
   "metadata": {},
   "outputs": [
    {
     "data": {
      "text/plain": [
       "array([0, 2, 1], dtype=int64)"
      ]
     },
     "execution_count": 354,
     "metadata": {},
     "output_type": "execute_result"
    }
   ],
   "source": [
    "normalised_df[\"Q48\"] = normalize_orderable(refactored_df[\"Q48\"],['No',\"Maybe\",'Yes'])\n",
    "normalised_df['Q48'].unique()"
   ]
  },
  {
   "cell_type": "code",
   "execution_count": 355,
   "metadata": {},
   "outputs": [
    {
     "data": {
      "text/plain": [
       "array(['Not identified',\n",
       "       'Anxiety Disorder (Generalized, Social, Phobia, etc)|Mood Disorder (Depression, Bipolar Disorder, etc)',\n",
       "       'Anxiety Disorder (Generalized, Social, Phobia, etc)|Stress Response Syndromes',\n",
       "       'Anxiety Disorder (Generalized, Social, Phobia, etc)|Stress Response Syndromes|Substance Use Disorder',\n",
       "       'Anxiety Disorder (Generalized, Social, Phobia, etc)|Substance Use Disorder',\n",
       "       'Mood Disorder (Depression, Bipolar Disorder, etc)',\n",
       "       'Anxiety Disorder (Generalized, Social, Phobia, etc)',\n",
       "       'Substance Use Disorder|Addictive Disorder',\n",
       "       'Anxiety Disorder (Generalized, Social, Phobia, etc)|Obsessive-Compulsive Disorder',\n",
       "       'Anxiety Disorder (Generalized, Social, Phobia, etc)|Mood Disorder (Depression, Bipolar Disorder, etc)|Eating Disorder (Anorexia, Bulimia, etc)|Obsessive-Compulsive Disorder',\n",
       "       'Personality Disorder (Borderline, Antisocial, Paranoid, etc)|Attention Deficit Hyperactivity Disorder',\n",
       "       'Anxiety Disorder (Generalized, Social, Phobia, etc)|Mood Disorder (Depression, Bipolar Disorder, etc)|Substance Use Disorder|Addictive Disorder',\n",
       "       'Mood Disorder (Depression, Bipolar Disorder, etc)|Personality Disorder (Borderline, Antisocial, Paranoid, etc)',\n",
       "       'Mood Disorder (Depression, Bipolar Disorder, etc)|Anxiety Disorder (Generalized, Social, Phobia, etc)',\n",
       "       'Anxiety Disorder (Generalized, Social, Phobia, etc)|Mood Disorder (Depression, Bipolar Disorder, etc)|Personality Disorder (Borderline, Antisocial, Paranoid, etc)',\n",
       "       'Mood Disorder (Depression, Bipolar Disorder, etc)|Attention Deficit Hyperactivity Disorder',\n",
       "       'Anxiety Disorder (Generalized, Social, Phobia, etc)|Attention Deficit Hyperactivity Disorder',\n",
       "       'Anxiety Disorder (Generalized, Social, Phobia, etc)|Mood Disorder (Depression, Bipolar Disorder, etc)|Psychotic Disorder (Schizophrenia, Schizoaffective, etc)',\n",
       "       'Mood Disorder (Depression, Bipolar Disorder, etc)|Attention Deficit Hyperactivity Disorder|Post-traumatic Stress Disorder',\n",
       "       'Anxiety Disorder (Generalized, Social, Phobia, etc)|Mood Disorder (Depression, Bipolar Disorder, etc)|Attention Deficit Hyperactivity Disorder',\n",
       "       'Personality Disorder (Borderline, Antisocial, Paranoid, etc)',\n",
       "       'Anxiety Disorder (Generalized, Social, Phobia, etc)|Mood Disorder (Depression, Bipolar Disorder, etc)|Eating Disorder (Anorexia, Bulimia, etc)',\n",
       "       'Mood Disorder (Depression, Bipolar Disorder, etc)|Eating Disorder (Anorexia, Bulimia, etc)|Personality Disorder (Borderline, Antisocial, Paranoid, etc)',\n",
       "       'Mood Disorder (Depression, Bipolar Disorder, etc)|Eating Disorder (Anorexia, Bulimia, etc)|Obsessive-Compulsive Disorder',\n",
       "       'Attention Deficit Hyperactivity Disorder|Pervasive Developmental Disorder (Not Otherwise Specified)',\n",
       "       'Mood Disorder (Depression, Bipolar Disorder, etc)|Attention Deficit Hyperactivity Disorder|Addictive Disorder',\n",
       "       'Anxiety Disorder (Generalized, Social, Phobia, etc)|Eating Disorder (Anorexia, Bulimia, etc)|Stress Response Syndromes',\n",
       "       'Seasonal Affective Disorder',\n",
       "       'Attention Deficit Hyperactivity Disorder|Mood Disorder (Depression, Bipolar Disorder, etc)',\n",
       "       'Burn out',\n",
       "       'Anxiety Disorder (Generalized, Social, Phobia, etc)|Mood Disorder (Depression, Bipolar Disorder, etc)|Obsessive-Compulsive Disorder',\n",
       "       'PDD-NOS',\n",
       "       'Mood Disorder (Depression, Bipolar Disorder, etc)|Substance Use Disorder',\n",
       "       'Mood Disorder (Depression, Bipolar Disorder, etc)|Eating Disorder (Anorexia, Bulimia, etc)',\n",
       "       'Obsessive-Compulsive Disorder|Suicidal Ideation',\n",
       "       'Anxiety Disorder (Generalized, Social, Phobia, etc)|Post-traumatic Stress Disorder|Stress Response Syndromes',\n",
       "       'Attention Deficit Hyperactivity Disorder',\n",
       "       'Post-traumatic Stress Disorder|Dissociative Disorder',\n",
       "       'Mood Disorder (Depression, Bipolar Disorder, etc)|Attention Deficit Hyperactivity Disorder|Substance Use Disorder',\n",
       "       'Anxiety Disorder (Generalized, Social, Phobia, etc)|Mood Disorder (Depression, Bipolar Disorder, etc)|Stress Response Syndromes',\n",
       "       'Anxiety Disorder (Generalized, Social, Phobia, etc)|Mood Disorder (Depression, Bipolar Disorder, etc)|Obsessive-Compulsive Disorder|Stress Response Syndromes',\n",
       "       'Burnout',\n",
       "       'Anxiety Disorder (Generalized, Social, Phobia, etc)|Mood Disorder (Depression, Bipolar Disorder, etc)|Addictive Disorder',\n",
       "       'Anxiety Disorder (Generalized, Social, Phobia, etc)|Mood Disorder (Depression, Bipolar Disorder, etc)|Eating Disorder (Anorexia, Bulimia, etc)|Personality Disorder (Borderline, Antisocial, Paranoid, etc)|Obsessive-Compulsive Disorder|Stress Response Syndromes|Dissociative Disorder|Substance Use Disorder',\n",
       "       'Gender Identity Disorder',\n",
       "       'Anxiety Disorder (Generalized, Social, Phobia, etc)|Mood Disorder (Depression, Bipolar Disorder, etc)|Attention Deficit Hyperactivity Disorder|Personality Disorder (Borderline, Antisocial, Paranoid, etc)',\n",
       "       'Substance Use Disorder',\n",
       "       'Stress Response Syndromes|Anxiety Disorder (Generalized, Social, Phobia, etc)',\n",
       "       'Mood Disorder (Depression, Bipolar Disorder, etc)|Obsessive-Compulsive Disorder|Stress Response Syndromes|Addictive Disorder',\n",
       "       'Anxiety Disorder (Generalized, Social, Phobia, etc)|Mood Disorder (Depression, Bipolar Disorder, etc)|Attention Deficit Hyperactivity Disorder|Obsessive-Compulsive Disorder|Substance Use Disorder',\n",
       "       'Anxiety Disorder (Generalized, Social, Phobia, etc)|Mood Disorder (Depression, Bipolar Disorder, etc)|Personality Disorder (Borderline, Antisocial, Paranoid, etc)|Post-traumatic Stress Disorder|Substance Use Disorder|Addictive Disorder',\n",
       "       'Attention Deficit Hyperactivity Disorder|Obsessive-Compulsive Disorder|Stress Response Syndromes',\n",
       "       'Anxiety Disorder (Generalized, Social, Phobia, etc)|Mood Disorder (Depression, Bipolar Disorder, etc)|Post-traumatic Stress Disorder',\n",
       "       'Mood Disorder (Depression, Bipolar Disorder, etc)|Personality Disorder (Borderline, Antisocial, Paranoid, etc)|Substance Use Disorder',\n",
       "       'Anxiety Disorder (Generalized, Social, Phobia, etc)|Addictive Disorder',\n",
       "       'Mood Disorder (Depression, Bipolar Disorder, etc)|Personality Disorder (Borderline, Antisocial, Paranoid, etc)|Post-traumatic Stress Disorder',\n",
       "       'Mood Disorder (Depression, Bipolar Disorder, etc)|Attention Deficit Hyperactivity Disorder|Personality Disorder (Borderline, Antisocial, Paranoid, etc)',\n",
       "       'Anxiety Disorder (Generalized, Social, Phobia, etc)|Mood Disorder (Depression, Bipolar Disorder, etc)|Substance Use Disorder',\n",
       "       'Anxiety Disorder (Generalized, Social, Phobia, etc)|Post-traumatic Stress Disorder',\n",
       "       'Anxiety Disorder (Generalized, Social, Phobia, etc)|Tinnitus',\n",
       "       'Anxiety Disorder (Generalized, Social, Phobia, etc)|Mood Disorder (Depression, Bipolar Disorder, etc)|Post-traumatic Stress Disorder|Substance Use Disorder|Addictive Disorder',\n",
       "       'Anxiety Disorder (Generalized, Social, Phobia, etc)|Attention Deficit Hyperactivity Disorder|Post-traumatic Stress Disorder',\n",
       "       'Psychotic Disorder (Schizophrenia, Schizoaffective, etc)|Personality Disorder (Borderline, Antisocial, Paranoid, etc)|Stress Response Syndromes',\n",
       "       'Mood Disorder (Depression, Bipolar Disorder, etc)|Obsessive-Compulsive Disorder',\n",
       "       'Mood Disorder (Depression, Bipolar Disorder, etc)|Post-traumatic Stress Disorder',\n",
       "       'Addictive Disorder|Substance Use Disorder|Obsessive-Compulsive Disorder|Personality Disorder (Borderline, Antisocial, Paranoid, etc)|Mood Disorder (Depression, Bipolar Disorder, etc)',\n",
       "       'Anxiety Disorder (Generalized, Social, Phobia, etc)|Mood Disorder (Depression, Bipolar Disorder, etc)|Attention Deficit Hyperactivity Disorder|Post-traumatic Stress Disorder|Substance Use Disorder',\n",
       "       'Depression', \"Autism (Asperger's)\",\n",
       "       'Anxiety Disorder (Generalized, Social, Phobia, etc)|Obsessive-Compulsive Disorder|Post-traumatic Stress Disorder',\n",
       "       'Anxiety Disorder (Generalized, Social, Phobia, etc)|Mood Disorder (Depression, Bipolar Disorder, etc)|Psychotic Disorder (Schizophrenia, Schizoaffective, etc)|Personality Disorder (Borderline, Antisocial, Paranoid, etc)|Stress Response Syndromes',\n",
       "       'Mood Disorder (Depression, Bipolar Disorder, etc)|Personality Disorder (Borderline, Antisocial, Paranoid, etc)|Addictive Disorder',\n",
       "       'Anxiety Disorder (Generalized, Social, Phobia, etc)|Mood Disorder (Depression, Bipolar Disorder, etc)|Attention Deficit Hyperactivity Disorder|Post-traumatic Stress Disorder',\n",
       "       'Traumatic Brain Injury',\n",
       "       'Anxiety Disorder (Generalized, Social, Phobia, etc)|Mood Disorder (Depression, Bipolar Disorder, etc)|Dissociative Disorder',\n",
       "       'Anxiety Disorder (Generalized, Social, Phobia, etc)|Mood Disorder (Depression, Bipolar Disorder, etc)|Eating Disorder (Anorexia, Bulimia, etc)|Attention Deficit Hyperactivity Disorder',\n",
       "       'Mood Disorder (Depression, Bipolar Disorder, etc)|Addictive Disorder',\n",
       "       'Addictive Disorder',\n",
       "       'Mood Disorder (Depression, Bipolar Disorder, etc)|Personality Disorder (Borderline, Antisocial, Paranoid, etc)|Obsessive-Compulsive Disorder|Substance Use Disorder',\n",
       "       'Anxiety Disorder (Generalized, Social, Phobia, etc)|Mood Disorder (Depression, Bipolar Disorder, etc)|Attention Deficit Hyperactivity Disorder|Personality Disorder (Borderline, Antisocial, Paranoid, etc)|Obsessive-Compulsive Disorder|Post-traumatic Stress Disorder',\n",
       "       'Anxiety Disorder (Generalized, Social, Phobia, etc)|Attention Deficit Hyperactivity Disorder|Obsessive-Compulsive Disorder',\n",
       "       'Anxiety Disorder (Generalized, Social, Phobia, etc)|Mood Disorder (Depression, Bipolar Disorder, etc)|Stress Response Syndromes|Substance Use Disorder',\n",
       "       'Anxiety Disorder (Generalized, Social, Phobia, etc)|Personality Disorder (Borderline, Antisocial, Paranoid, etc)|Obsessive-Compulsive Disorder',\n",
       "       'Mood Disorder (Depression, Bipolar Disorder, etc)|Gender Dysphoria',\n",
       "       'Anxiety Disorder (Generalized, Social, Phobia, etc)|Asperges',\n",
       "       'Obsessive-Compulsive Disorder',\n",
       "       'Anxiety Disorder (Generalized, Social, Phobia, etc)|Mood Disorder (Depression, Bipolar Disorder, etc)|Attention Deficit Hyperactivity Disorder|Personality Disorder (Borderline, Antisocial, Paranoid, etc)|Obsessive-Compulsive Disorder',\n",
       "       'Anxiety Disorder (Generalized, Social, Phobia, etc)|Stress Response Syndromes|Addictive Disorder',\n",
       "       'Attention Deficit Hyperactivity Disorder|PTSD (undiagnosed)',\n",
       "       'Post-traumatic Stress Disorder|Stress Response Syndromes',\n",
       "       'Mood Disorder (Depression, Bipolar Disorder, etc)|Stress Response Syndromes',\n",
       "       'Post-traumatic Stress Disorder',\n",
       "       'Mood Disorder (Depression, Bipolar Disorder, etc)|Eating Disorder (Anorexia, Bulimia, etc)|Attention Deficit Hyperactivity Disorder|Personality Disorder (Borderline, Antisocial, Paranoid, etc)|Stress Response Syndromes',\n",
       "       'Anxiety Disorder (Generalized, Social, Phobia, etc)|Mood Disorder (Depression, Bipolar Disorder, etc)|Personality Disorder (Borderline, Antisocial, Paranoid, etc)|Post-traumatic Stress Disorder',\n",
       "       'Stress Response Syndromes|Substance Use Disorder|Addictive Disorder',\n",
       "       'Psychotic Disorder (Schizophrenia, Schizoaffective, etc)|Stress Response Syndromes',\n",
       "       'Anxiety Disorder (Generalized, Social, Phobia, etc)|Attention Deficit Hyperactivity Disorder|Substance Use Disorder',\n",
       "       'Anxiety Disorder (Generalized, Social, Phobia, etc)|Mood Disorder (Depression, Bipolar Disorder, etc)|Post-traumatic Stress Disorder|Stress Response Syndromes',\n",
       "       'Psychotic Disorder (Schizophrenia, Schizoaffective, etc)',\n",
       "       'Personality Disorder (Borderline, Antisocial, Paranoid, etc)|Mood Disorder (Depression, Bipolar Disorder, etc)|Anxiety Disorder (Generalized, Social, Phobia, etc)',\n",
       "       'Anxiety Disorder (Generalized, Social, Phobia, etc)|Mood Disorder (Depression, Bipolar Disorder, etc)|Attention Deficit Hyperactivity Disorder|Obsessive-Compulsive Disorder',\n",
       "       'Anxiety Disorder (Generalized, Social, Phobia, etc)|Mood Disorder (Depression, Bipolar Disorder, etc)|Attention Deficit Hyperactivity Disorder|Personality Disorder (Borderline, Antisocial, Paranoid, etc)|Stress Response Syndromes|Addictive Disorder',\n",
       "       'Mood Disorder (Depression, Bipolar Disorder, etc)|Psychotic Disorder (Schizophrenia, Schizoaffective, etc)|Attention Deficit Hyperactivity Disorder|Personality Disorder (Borderline, Antisocial, Paranoid, etc)|Post-traumatic Stress Disorder|Dissociative Disorder|Depersonalisation',\n",
       "       'Anxiety Disorder (Generalized, Social, Phobia, etc)|Mood Disorder (Depression, Bipolar Disorder, etc)|Obsessive-Compulsive Disorder|Post-traumatic Stress Disorder|Stress Response Syndromes',\n",
       "       'Anxiety Disorder (Generalized, Social, Phobia, etc)|Mood Disorder (Depression, Bipolar Disorder, etc)|Eating Disorder (Anorexia, Bulimia, etc)|Personality Disorder (Borderline, Antisocial, Paranoid, etc)|Post-traumatic Stress Disorder|Substance Use Disorder|Addictive Disorder',\n",
       "       'Mood Disorder (Depression, Bipolar Disorder, etc)|Attention Deficit Hyperactivity Disorder|Obsessive-Compulsive Disorder|Addictive Disorder',\n",
       "       'Anxiety Disorder (Generalized, Social, Phobia, etc)|Mood Disorder (Depression, Bipolar Disorder, etc)|Personality Disorder (Borderline, Antisocial, Paranoid, etc)|Post-traumatic Stress Disorder|Stress Response Syndromes|Substance Use Disorder|Addictive Disorder',\n",
       "       'Anxiety Disorder (Generalized, Social, Phobia, etc)|Mood Disorder (Depression, Bipolar Disorder, etc)|Post-traumatic Stress Disorder|Addictive Disorder|Autism',\n",
       "       'Anxiety Disorder (Generalized, Social, Phobia, etc)|Mood Disorder (Depression, Bipolar Disorder, etc)|Post-traumatic Stress Disorder|Addictive Disorder',\n",
       "       'Anxiety Disorder (Generalized, Social, Phobia, etc)|Mood Disorder (Depression, Bipolar Disorder, etc)|Attention Deficit Hyperactivity Disorder|Obsessive-Compulsive Disorder|Post-traumatic Stress Disorder|Substance Use Disorder',\n",
       "       'post-partum / anxiety',\n",
       "       'Obsessive-Compulsive Disorder|Substance Use Disorder',\n",
       "       'Anxiety Disorder (Generalized, Social, Phobia, etc)|Personality Disorder (Borderline, Antisocial, Paranoid, etc)',\n",
       "       'Stress Response Syndromes',\n",
       "       'Mood Disorder (Depression, Bipolar Disorder, etc)|Attention Deficit Hyperactivity Disorder|Personality Disorder (Borderline, Antisocial, Paranoid, etc)|Stress Response Syndromes|Addictive Disorder',\n",
       "       'Mood Disorder (Depression, Bipolar Disorder, etc)|Post-traumatic Stress Disorder|Dissociative Disorder',\n",
       "       'Anxiety Disorder (Generalized, Social, Phobia, etc)|Mood Disorder (Depression, Bipolar Disorder, etc)|Personality Disorder (Borderline, Antisocial, Paranoid, etc)|Substance Use Disorder|Addictive Disorder',\n",
       "       'Anxiety Disorder (Generalized, Social, Phobia, etc)|Attention Deficit Hyperactivity Disorder|Stress Response Syndromes',\n",
       "       'Anxiety Disorder (Generalized, Social, Phobia, etc)|Obsessive-Compulsive Disorder|Stress Response Syndromes',\n",
       "       'Dissociative Disorder|Post-traumatic Stress Disorder|Personality Disorder (Borderline, Antisocial, Paranoid, etc)',\n",
       "       'Anxiety Disorder (Generalized, Social, Phobia, etc)|Mood Disorder (Depression, Bipolar Disorder, etc)|Attention Deficit Hyperactivity Disorder|Stress Response Syndromes',\n",
       "       'Mood Disorder (Depression, Bipolar Disorder, etc)|Post-traumatic Stress Disorder|Addictive Disorder',\n",
       "       'Sexual addiction',\n",
       "       'Dissociative Disorder|Stress Response Syndromes|Personality Disorder (Borderline, Antisocial, Paranoid, etc)|Mood Disorder (Depression, Bipolar Disorder, etc)|Anxiety Disorder (Generalized, Social, Phobia, etc)',\n",
       "       'Anxiety Disorder (Generalized, Social, Phobia, etc)|Attention Deficit Hyperactivity Disorder|Post-traumatic Stress Disorder|Addictive Disorder',\n",
       "       'Combination of physical impairment (strongly near-sighted) with a possibly mental one (MCD / \"ADHD\", though its actually a stimulus filtering impairment)',\n",
       "       'Anxiety Disorder (Generalized, Social, Phobia, etc)|Mood Disorder (Depression, Bipolar Disorder, etc)|Psychotic Disorder (Schizophrenia, Schizoaffective, etc)|Obsessive-Compulsive Disorder|Post-traumatic Stress Disorder',\n",
       "       'Anxiety Disorder (Generalized, Social, Phobia, etc)|Mood Disorder (Depression, Bipolar Disorder, etc)|Personality Disorder (Borderline, Antisocial, Paranoid, etc)|Stress Response Syndromes',\n",
       "       'Anxiety Disorder (Generalized, Social, Phobia, etc)|Mood Disorder (Depression, Bipolar Disorder, etc)|Personality Disorder (Borderline, Antisocial, Paranoid, etc)|Obsessive-Compulsive Disorder',\n",
       "       'Mood Disorder (Depression, Bipolar Disorder, etc)|Attention Deficit Hyperactivity Disorder|Post-traumatic Stress Disorder|Substance Use Disorder',\n",
       "       'Anxiety Disorder (Generalized, Social, Phobia, etc)|Personality Disorder (Borderline, Antisocial, Paranoid, etc)|Substance Use Disorder|Addictive Disorder',\n",
       "       'Mood Disorder (Depression, Bipolar Disorder, etc)|Attention Deficit Hyperactivity Disorder|Dissociative Disorder',\n",
       "       'Anxiety Disorder (Generalized, Social, Phobia, etc)|Mood Disorder (Depression, Bipolar Disorder, etc)|Psychotic Disorder (Schizophrenia, Schizoaffective, etc)|Eating Disorder (Anorexia, Bulimia, etc)|Attention Deficit Hyperactivity Disorder|Obsessive-Compulsive Disorder|Post-traumatic Stress Disorder|Stress Response Syndromes',\n",
       "       'Stress Response Syndromes|Sleeping Disorder',\n",
       "       \"I haven't been formally diagnosed, so I felt uncomfortable answering, but Social Anxiety and Depression.\",\n",
       "       'Anxiety Disorder (Generalized, Social, Phobia, etc)|Mood Disorder (Depression, Bipolar Disorder, etc)|Eating Disorder (Anorexia, Bulimia, etc)|Post-traumatic Stress Disorder',\n",
       "       'Personality Disorder (Borderline, Antisocial, Paranoid, etc)|Substance Use Disorder|Addictive Disorder',\n",
       "       'Eating Disorder (Anorexia, Bulimia, etc)|Mood Disorder (Depression, Bipolar Disorder, etc)',\n",
       "       'Attention Deficit Hyperactivity Disorder|Post-traumatic Stress Disorder|Substance Use Disorder',\n",
       "       'Personality Disorder (Borderline, Antisocial, Paranoid, etc)|Addictive Disorder',\n",
       "       'Attention Deficit Hyperactivity Disorder|Mood Disorder (Depression, Bipolar Disorder, etc)|Anxiety Disorder (Generalized, Social, Phobia, etc)',\n",
       "       'Anxiety Disorder (Generalized, Social, Phobia, etc)|Mood Disorder (Depression, Bipolar Disorder, etc)|Obsessive-Compulsive Disorder|Post-traumatic Stress Disorder',\n",
       "       'Eating Disorder (Anorexia, Bulimia, etc)',\n",
       "       'Anxiety Disorder (Generalized, Social, Phobia, etc)|Attention Deficit Hyperactivity Disorder|Dissociative Disorder|Substance Use Disorder',\n",
       "       'Autism Spectrum Disorder',\n",
       "       'Anxiety Disorder (Generalized, Social, Phobia, etc)|Mood Disorder (Depression, Bipolar Disorder, etc)|Personality Disorder (Borderline, Antisocial, Paranoid, etc)|Post-traumatic Stress Disorder|Dissociative Disorder|Substance Use Disorder|Addictive Disorder',\n",
       "       'Anxiety Disorder (Generalized, Social, Phobia, etc)|Mood Disorder (Depression, Bipolar Disorder, etc)|Obsessive-Compulsive Disorder|Substance Use Disorder',\n",
       "       'Obsessive-Compulsive Disorder|Personality Disorder (Borderline, Antisocial, Paranoid, etc)|Mood Disorder (Depression, Bipolar Disorder, etc)|Anxiety Disorder (Generalized, Social, Phobia, etc)',\n",
       "       'Anxiety Disorder (Generalized, Social, Phobia, etc)|Attention Deficit Hyperactivity Disorder|Addictive Disorder',\n",
       "       'Anxiety Disorder (Generalized, Social, Phobia, etc)|Mood Disorder (Depression, Bipolar Disorder, etc)|Personality Disorder (Borderline, Antisocial, Paranoid, etc)|Obsessive-Compulsive Disorder|Stress Response Syndromes|Addictive Disorder',\n",
       "       'Asperger Syndrome',\n",
       "       'Transgender|Mood Disorder (Depression, Bipolar Disorder, etc)|Anxiety Disorder (Generalized, Social, Phobia, etc)',\n",
       "       'Anxiety Disorder (Generalized, Social, Phobia, etc)|Mood Disorder (Depression, Bipolar Disorder, etc)|Eating Disorder (Anorexia, Bulimia, etc)|Attention Deficit Hyperactivity Disorder|Personality Disorder (Borderline, Antisocial, Paranoid, etc)|Obsessive-Compulsive Disorder|Post-traumatic Stress Disorder|Stress Response Syndromes',\n",
       "       'Anxiety Disorder (Generalized, Social, Phobia, etc)|Mood Disorder (Depression, Bipolar Disorder, etc)|Personality Disorder (Borderline, Antisocial, Paranoid, etc)|Stress Response Syndromes|Addictive Disorder',\n",
       "       'Anxiety Disorder (Generalized, Social, Phobia, etc)|Dissociative Disorder|Autism',\n",
       "       'Mood Disorder (Depression, Bipolar Disorder, etc)|Eating Disorder (Anorexia, Bulimia, etc)|Attention Deficit Hyperactivity Disorder|Personality Disorder (Borderline, Antisocial, Paranoid, etc)',\n",
       "       'Anxiety Disorder (Generalized, Social, Phobia, etc)|Mood Disorder (Depression, Bipolar Disorder, etc)|Attention Deficit Hyperactivity Disorder|Substance Use Disorder',\n",
       "       \"Anxiety Disorder (Generalized, Social, Phobia, etc)|Attention Deficit Hyperactivity Disorder|Asperger's\",\n",
       "       'Mood Disorder (Depression, Bipolar Disorder, etc)|Addictive Disorder|Intimate Disorder',\n",
       "       'Anxiety Disorder (Generalized, Social, Phobia, etc)|Mood Disorder (Depression, Bipolar Disorder, etc)|Dissociative Disorder|Autism',\n",
       "       'Attention Deficit Hyperactivity Disorder|Obsessive-Compulsive Disorder',\n",
       "       'depersonalization disorder',\n",
       "       'Personality Disorder (Borderline, Antisocial, Paranoid, etc)|Mood Disorder (Depression, Bipolar Disorder, etc)',\n",
       "       'Anxiety Disorder (Generalized, Social, Phobia, etc)|Mood Disorder (Depression, Bipolar Disorder, etc)|Attention Deficit Hyperactivity Disorder|Obsessive-Compulsive Disorder|Addictive Disorder',\n",
       "       'Autism',\n",
       "       'Anxiety Disorder (Generalized, Social, Phobia, etc)|Mood Disorder (Depression, Bipolar Disorder, etc)|Post-traumatic Stress Disorder|Substance Use Disorder',\n",
       "       'Anxiety Disorder (Generalized, Social, Phobia, etc)|Mood Disorder (Depression, Bipolar Disorder, etc)|Eating Disorder (Anorexia, Bulimia, etc)|Attention Deficit Hyperactivity Disorder|Post-traumatic Stress Disorder',\n",
       "       'Obsessive-Compulsive Disorder|Mood Disorder (Depression, Bipolar Disorder, etc)',\n",
       "       'Anxiety Disorder (Generalized, Social, Phobia, etc)|Mood Disorder (Depression, Bipolar Disorder, etc)|Attention Deficit Hyperactivity Disorder|Post-traumatic Stress Disorder|Addictive Disorder',\n",
       "       'Stress Response Syndromes|Post-traumatic Stress Disorder|Personality Disorder (Borderline, Antisocial, Paranoid, etc)|Attention Deficit Hyperactivity Disorder|Mood Disorder (Depression, Bipolar Disorder, etc)',\n",
       "       'Substance Use Disorder|Obsessive-Compulsive Disorder',\n",
       "       'Attention Deficit Hyperactivity Disorder|Addictive Disorder',\n",
       "       'Psychotic Disorder (Schizophrenia, Schizoaffective, etc)|Obsessive-Compulsive Disorder|ADD (w/o Hyperactivity)',\n",
       "       'Anxiety Disorder (Generalized, Social, Phobia, etc)|Mood Disorder (Depression, Bipolar Disorder, etc)|Eating Disorder (Anorexia, Bulimia, etc)|Attention Deficit Hyperactivity Disorder|Obsessive-Compulsive Disorder|Post-traumatic Stress Disorder|Stress Response Syndromes|Dissociative Disorder|Addictive Disorder',\n",
       "       'Anxiety Disorder (Generalized, Social, Phobia, etc)|Mood Disorder (Depression, Bipolar Disorder, etc)|Attention Deficit Hyperactivity Disorder|Personality Disorder (Borderline, Antisocial, Paranoid, etc)|Addictive Disorder',\n",
       "       'Anxiety Disorder (Generalized, Social, Phobia, etc)|Mood Disorder (Depression, Bipolar Disorder, etc)|Attention Deficit Hyperactivity Disorder|Dissociative Disorder',\n",
       "       'Schizotypal Personality Disorder',\n",
       "       'Anxiety Disorder (Generalized, Social, Phobia, etc)|Post-traumatic Stress Disorder|Stress Response Syndromes|Autism spectrum disorder',\n",
       "       'Obsessive-Compulsive Disorder|Eating Disorder (Anorexia, Bulimia, etc)|Mood Disorder (Depression, Bipolar Disorder, etc)|Anxiety Disorder (Generalized, Social, Phobia, etc)'],\n",
       "      dtype=object)"
      ]
     },
     "execution_count": 355,
     "metadata": {},
     "output_type": "execute_result"
    }
   ],
   "source": [
    "refactored_df['Q49'].unique()#target disorder type, not used in this chapter"
   ]
  },
  {
   "cell_type": "code",
   "execution_count": 356,
   "metadata": {},
   "outputs": [
    {
     "data": {
      "text/plain": [
       "array([0, 1], dtype=int64)"
      ]
     },
     "execution_count": 356,
     "metadata": {},
     "output_type": "execute_result"
    }
   ],
   "source": [
    "refactored_df['Q53'].unique()"
   ]
  },
  {
   "cell_type": "code",
   "execution_count": 357,
   "metadata": {},
   "outputs": [
    {
     "data": {
      "text/plain": [
       "array(['Not applicable to me', 'Rarely', 'Sometimes', 'Never', 'Often'],\n",
       "      dtype=object)"
      ]
     },
     "execution_count": 357,
     "metadata": {},
     "output_type": "execute_result"
    }
   ],
   "source": [
    "refactored_df['Q54'].unique()"
   ]
  },
  {
   "cell_type": "code",
   "execution_count": 358,
   "metadata": {},
   "outputs": [
    {
     "data": {
      "text/plain": [
       "array([1, 2, 3, 0, 4], dtype=int64)"
      ]
     },
     "execution_count": 358,
     "metadata": {},
     "output_type": "execute_result"
    }
   ],
   "source": [
    "normalised_df[\"Q54\"] = normalize_orderable(refactored_df[\"Q54\"],['Never','Not applicable to me', 'Rarely', 'Sometimes', 'Often'])\n",
    "normalised_df['Q54'].unique()"
   ]
  },
  {
   "cell_type": "code",
   "execution_count": 359,
   "metadata": {},
   "outputs": [
    {
     "data": {
      "text/plain": [
       "array(['Not applicable to me', 'Sometimes', 'Often', 'Rarely', 'Never'],\n",
       "      dtype=object)"
      ]
     },
     "execution_count": 359,
     "metadata": {},
     "output_type": "execute_result"
    }
   ],
   "source": [
    "refactored_df['Q55'].unique()"
   ]
  },
  {
   "cell_type": "code",
   "execution_count": 360,
   "metadata": {},
   "outputs": [
    {
     "data": {
      "text/plain": [
       "array([1, 3, 4, 2, 0], dtype=int64)"
      ]
     },
     "execution_count": 360,
     "metadata": {},
     "output_type": "execute_result"
    }
   ],
   "source": [
    "normalised_df[\"Q55\"] = normalize_orderable(refactored_df[\"Q55\"],['Never','Not applicable to me','Rarely', 'Sometimes', 'Often'])\n",
    "normalised_df['Q55'].unique()"
   ]
  },
  {
   "cell_type": "code",
   "execution_count": 361,
   "metadata": {},
   "outputs": [
    {
     "data": {
      "text/plain": [
       "0       39\n",
       "1       29\n",
       "2       38\n",
       "3       43\n",
       "4       43\n",
       "5       42\n",
       "6       30\n",
       "7       37\n",
       "8       44\n",
       "9       30\n",
       "10      28\n",
       "11      34\n",
       "12      30\n",
       "13      44\n",
       "14      35\n",
       "15      52\n",
       "16      32\n",
       "17      34\n",
       "18      25\n",
       "19      31\n",
       "20      26\n",
       "21      35\n",
       "22      25\n",
       "23      33\n",
       "24      38\n",
       "25      42\n",
       "26      27\n",
       "27      35\n",
       "28      34\n",
       "29      32\n",
       "30      32\n",
       "31      30\n",
       "32      31\n",
       "33      37\n",
       "34      36\n",
       "35      33\n",
       "36      44\n",
       "37      29\n",
       "38      29\n",
       "39      44\n",
       "40      34\n",
       "41      40\n",
       "42      46\n",
       "43      28\n",
       "44      41\n",
       "45      33\n",
       "46      32\n",
       "47      45\n",
       "48      43\n",
       "49      37\n",
       "50      37\n",
       "51      27\n",
       "52      31\n",
       "53      36\n",
       "54      34\n",
       "55      31\n",
       "56      30\n",
       "57      32\n",
       "58      40\n",
       "59      40\n",
       "60      41\n",
       "61      27\n",
       "62      30\n",
       "63      29\n",
       "64      38\n",
       "65      35\n",
       "66      35\n",
       "67      29\n",
       "68      28\n",
       "69      27\n",
       "70      39\n",
       "71      28\n",
       "72      46\n",
       "73      40\n",
       "74      37\n",
       "75      41\n",
       "76      19\n",
       "77      38\n",
       "78      33\n",
       "79      33\n",
       "80      21\n",
       "81      36\n",
       "82      39\n",
       "83      35\n",
       "84      36\n",
       "85      45\n",
       "86      41\n",
       "87      35\n",
       "88      30\n",
       "89      24\n",
       "90      33\n",
       "91      35\n",
       "92      26\n",
       "93      17\n",
       "94      29\n",
       "95      26\n",
       "96      36\n",
       "97      46\n",
       "98      39\n",
       "99      28\n",
       "100     40\n",
       "101     23\n",
       "102     30\n",
       "103     28\n",
       "104     27\n",
       "105     31\n",
       "106     39\n",
       "107     34\n",
       "108     30\n",
       "109     30\n",
       "110     31\n",
       "111     30\n",
       "112     32\n",
       "113     22\n",
       "114     37\n",
       "115     51\n",
       "116     26\n",
       "117     41\n",
       "118     39\n",
       "119     43\n",
       "120     30\n",
       "121     24\n",
       "122     30\n",
       "123     28\n",
       "124     48\n",
       "125     55\n",
       "126     36\n",
       "127     38\n",
       "128     34\n",
       "129     44\n",
       "130     45\n",
       "131     45\n",
       "132     30\n",
       "133     34\n",
       "134     37\n",
       "135     38\n",
       "136     31\n",
       "137     33\n",
       "138     29\n",
       "139     35\n",
       "140     42\n",
       "141     26\n",
       "142     36\n",
       "143     21\n",
       "144     34\n",
       "145     40\n",
       "146     35\n",
       "147     44\n",
       "148     35\n",
       "149     45\n",
       "150     42\n",
       "151     40\n",
       "152     50\n",
       "153     36\n",
       "154     31\n",
       "155     29\n",
       "156     37\n",
       "157     31\n",
       "158     42\n",
       "159     25\n",
       "160     27\n",
       "161     41\n",
       "162     41\n",
       "163     55\n",
       "164     21\n",
       "165     37\n",
       "166     34\n",
       "167     40\n",
       "168     25\n",
       "169     36\n",
       "170     25\n",
       "171     35\n",
       "172     37\n",
       "173     45\n",
       "174     26\n",
       "175     23\n",
       "176     22\n",
       "177     46\n",
       "178     31\n",
       "179     27\n",
       "180     37\n",
       "181     37\n",
       "182     26\n",
       "183     23\n",
       "184     40\n",
       "185     29\n",
       "186     37\n",
       "187     34\n",
       "188     40\n",
       "189     39\n",
       "190     28\n",
       "191     28\n",
       "192     27\n",
       "193     48\n",
       "194     49\n",
       "195     35\n",
       "196     35\n",
       "197     38\n",
       "198     32\n",
       "199     42\n",
       "200     33\n",
       "201     35\n",
       "202     24\n",
       "203     29\n",
       "204     29\n",
       "205     24\n",
       "206     30\n",
       "207     30\n",
       "208     44\n",
       "209     37\n",
       "210     28\n",
       "211     42\n",
       "212     30\n",
       "213     36\n",
       "214     30\n",
       "215     29\n",
       "216     25\n",
       "217     25\n",
       "218     24\n",
       "219     25\n",
       "220     31\n",
       "221     37\n",
       "222     35\n",
       "223     26\n",
       "224     31\n",
       "225     29\n",
       "226     33\n",
       "227     30\n",
       "228     30\n",
       "229     29\n",
       "230     25\n",
       "231     27\n",
       "232     26\n",
       "233     38\n",
       "234     49\n",
       "235     30\n",
       "236     34\n",
       "237     31\n",
       "238     29\n",
       "239     31\n",
       "240     34\n",
       "241     28\n",
       "242     35\n",
       "243     27\n",
       "244     33\n",
       "245     37\n",
       "246     45\n",
       "247     31\n",
       "248     36\n",
       "249     30\n",
       "        ..\n",
       "1183    33\n",
       "1184    29\n",
       "1185    32\n",
       "1186    43\n",
       "1187    49\n",
       "1188    44\n",
       "1189    29\n",
       "1190    27\n",
       "1191    30\n",
       "1192    43\n",
       "1193    30\n",
       "1194    33\n",
       "1195    27\n",
       "1196    26\n",
       "1197    47\n",
       "1198    30\n",
       "1199    39\n",
       "1200    36\n",
       "1201    34\n",
       "1202    25\n",
       "1203    28\n",
       "1204    38\n",
       "1205    39\n",
       "1206    32\n",
       "1207    27\n",
       "1208    31\n",
       "1209    30\n",
       "1210    34\n",
       "1211    26\n",
       "1212    27\n",
       "1213    29\n",
       "1214    37\n",
       "1215    49\n",
       "1216    39\n",
       "1217    42\n",
       "1218    28\n",
       "1219    33\n",
       "1220    30\n",
       "1221    70\n",
       "1222    25\n",
       "1223    45\n",
       "1224    63\n",
       "1225    40\n",
       "1226    39\n",
       "1227    31\n",
       "1228    34\n",
       "1229    44\n",
       "1230    45\n",
       "1231    43\n",
       "1232    29\n",
       "1233    27\n",
       "1234    37\n",
       "1235    41\n",
       "1236    30\n",
       "1237    28\n",
       "1238    28\n",
       "1239    39\n",
       "1240    22\n",
       "1241    31\n",
       "1242    29\n",
       "1243    33\n",
       "1244    37\n",
       "1245    42\n",
       "1246    31\n",
       "1247    34\n",
       "1248    49\n",
       "1249    29\n",
       "1250    40\n",
       "1251    46\n",
       "1252    31\n",
       "1253    43\n",
       "1254    45\n",
       "1255    32\n",
       "1256    38\n",
       "1257    40\n",
       "1258    38\n",
       "1259    32\n",
       "1260    37\n",
       "1261    24\n",
       "1262    25\n",
       "1263    24\n",
       "1264    34\n",
       "1265    55\n",
       "1266    32\n",
       "1267    29\n",
       "1268    20\n",
       "1269    41\n",
       "1270    33\n",
       "1271    25\n",
       "1272    29\n",
       "1273    24\n",
       "1274    39\n",
       "1275    39\n",
       "1276    44\n",
       "1277    30\n",
       "1278    31\n",
       "1279    37\n",
       "1280    42\n",
       "1281    35\n",
       "1282    30\n",
       "1283    30\n",
       "1284    33\n",
       "1285    31\n",
       "1286    39\n",
       "1287    27\n",
       "1288    34\n",
       "1289    31\n",
       "1290    30\n",
       "1291    34\n",
       "1292    20\n",
       "1293    39\n",
       "1294    50\n",
       "1295    22\n",
       "1296    41\n",
       "1297    37\n",
       "1298    32\n",
       "1299    26\n",
       "1300    38\n",
       "1301    21\n",
       "1302    27\n",
       "1303    37\n",
       "1304    45\n",
       "1305    26\n",
       "1306    30\n",
       "1307    21\n",
       "1308    21\n",
       "1309    29\n",
       "1310    46\n",
       "1311    28\n",
       "1312    26\n",
       "1313    37\n",
       "1314    44\n",
       "1315    45\n",
       "1316    35\n",
       "1317    39\n",
       "1318    37\n",
       "1319    35\n",
       "1320    29\n",
       "1321    49\n",
       "1322    21\n",
       "1323    26\n",
       "1324    35\n",
       "1325    56\n",
       "1326    53\n",
       "1327    48\n",
       "1328    24\n",
       "1329    37\n",
       "1330    27\n",
       "1331    39\n",
       "1332    31\n",
       "1333    34\n",
       "1334    33\n",
       "1335    22\n",
       "1336    25\n",
       "1337    34\n",
       "1338    30\n",
       "1339    37\n",
       "1340    26\n",
       "1341    29\n",
       "1342    29\n",
       "1343    27\n",
       "1344    27\n",
       "1345    23\n",
       "1346    24\n",
       "1347    22\n",
       "1348    28\n",
       "1349    22\n",
       "1350    32\n",
       "1351    35\n",
       "1352    26\n",
       "1353    31\n",
       "1354    32\n",
       "1355    37\n",
       "1356    24\n",
       "1357    33\n",
       "1358    28\n",
       "1359    22\n",
       "1360    46\n",
       "1361    30\n",
       "1362    29\n",
       "1363    22\n",
       "1364    24\n",
       "1365    29\n",
       "1366    30\n",
       "1367    25\n",
       "1368    39\n",
       "1369    31\n",
       "1370    25\n",
       "1371    39\n",
       "1372    31\n",
       "1373    35\n",
       "1374    31\n",
       "1375    23\n",
       "1376    30\n",
       "1377    28\n",
       "1378    23\n",
       "1379    26\n",
       "1380    24\n",
       "1381    32\n",
       "1382    35\n",
       "1383    30\n",
       "1384    32\n",
       "1385    35\n",
       "1386    26\n",
       "1387    30\n",
       "1388    29\n",
       "1389    39\n",
       "1390    37\n",
       "1391    35\n",
       "1392    25\n",
       "1393    22\n",
       "1394    33\n",
       "1395    23\n",
       "1396    29\n",
       "1397    28\n",
       "1398    30\n",
       "1399    28\n",
       "1400    28\n",
       "1401    37\n",
       "1402    30\n",
       "1403    27\n",
       "1404    29\n",
       "1405    28\n",
       "1406    26\n",
       "1407    29\n",
       "1408    34\n",
       "1409    36\n",
       "1410    38\n",
       "1411    22\n",
       "1412    24\n",
       "1413    24\n",
       "1414    36\n",
       "1415    24\n",
       "1416    24\n",
       "1417    31\n",
       "1418    39\n",
       "1419    41\n",
       "1420    29\n",
       "1421    37\n",
       "1422    30\n",
       "1423    24\n",
       "1424    22\n",
       "1425    24\n",
       "1426    26\n",
       "1427    38\n",
       "1428    34\n",
       "1429    56\n",
       "1430    52\n",
       "1431    30\n",
       "1432    25\n",
       "Name: Q56, Length: 1433, dtype: int64"
      ]
     },
     "execution_count": 361,
     "metadata": {},
     "output_type": "execute_result"
    }
   ],
   "source": [
    "normalised_df[\"Q56\"]"
   ]
  },
  {
   "cell_type": "code",
   "execution_count": 362,
   "metadata": {},
   "outputs": [
    {
     "data": {
      "text/plain": [
       "array(['M', 'F', 'U'], dtype=object)"
      ]
     },
     "execution_count": 362,
     "metadata": {},
     "output_type": "execute_result"
    }
   ],
   "source": [
    "refactored_df[\"Q57\"].unique()"
   ]
  },
  {
   "cell_type": "code",
   "execution_count": 363,
   "metadata": {},
   "outputs": [
    {
     "data": {
      "text/plain": [
       "array([0, 2, 1], dtype=int64)"
      ]
     },
     "execution_count": 363,
     "metadata": {},
     "output_type": "execute_result"
    }
   ],
   "source": [
    "normalised_df[\"Q57\"] = normalize_orderable(refactored_df[\"Q57\"],['M','U','F'])\n",
    "normalised_df['Q57'].unique()"
   ]
  },
  {
   "cell_type": "code",
   "execution_count": 364,
   "metadata": {},
   "outputs": [],
   "source": [
    "#\"Q58\",\"Q59\",\"Q60\",\"Q61\",\"Q62\" places"
   ]
  },
  {
   "cell_type": "code",
   "execution_count": 365,
   "metadata": {},
   "outputs": [
    {
     "data": {
      "text/plain": [
       "array(['United Kingdom', 'United States of America', 'Canada', 'Germany',\n",
       "       'Netherlands', 'Czech Republic', 'Lithuania', 'Australia',\n",
       "       'France', 'Venezuela', 'Poland', 'Belgium', 'Brazil', 'Denmark',\n",
       "       'Sweden', 'Russia', 'Spain', 'India', 'Mexico', 'Switzerland',\n",
       "       'Norway', 'Argentina', 'Ireland', 'Italy', 'Finland', 'Colombia',\n",
       "       'Costa Rica', 'Vietnam', 'Bulgaria', 'New Zealand', 'South Africa',\n",
       "       'Slovakia', 'Austria', 'Bangladesh', 'Algeria', 'Pakistan',\n",
       "       'Afghanistan', 'Greece', 'Romania', 'Other', 'Brunei', 'Japan',\n",
       "       'Iran', 'Hungary', 'Israel', 'Ecuador', 'Bosnia and Herzegovina',\n",
       "       'China', 'Chile', 'Guatemala', 'Taiwan', 'Serbia', 'Estonia'],\n",
       "      dtype=object)"
      ]
     },
     "execution_count": 365,
     "metadata": {},
     "output_type": "execute_result"
    }
   ],
   "source": [
    "refactored_df[\"Q58\"].unique()"
   ]
  },
  {
   "cell_type": "code",
   "execution_count": 366,
   "metadata": {},
   "outputs": [
    {
     "data": {
      "text/plain": [
       "array([ 0,  1,  2,  3,  4,  5,  6,  7,  8,  9, 10, 11, 12, 13, 14, 15, 16,\n",
       "       17, 18, 19, 20, 21, 22, 23, 24, 25, 26, 27, 28, 29, 30, 31, 32, 33,\n",
       "       34, 35, 36, 37, 38, 39, 40, 41, 42, 43, 44, 45, 46, 47, 48, 49, 50,\n",
       "       51, 52], dtype=int64)"
      ]
     },
     "execution_count": 366,
     "metadata": {},
     "output_type": "execute_result"
    }
   ],
   "source": [
    "normalised_df[\"Q58\"] = refactored_df[\"Q58\"].map(lambda x: list(refactored_df[\"Q58\"].unique()).index(x))\n",
    "normalised_df['Q58'].unique()"
   ]
  },
  {
   "cell_type": "code",
   "execution_count": 367,
   "metadata": {},
   "outputs": [
    {
     "data": {
      "text/plain": [
       "array(['Not USA', 'Illinois', 'Tennessee', 'Virginia', 'California',\n",
       "       'Kentucky', 'Oregon', 'Pennsylvania', 'New Jersey', 'Georgia',\n",
       "       'Washington', 'New York', 'Indiana', 'Minnesota', 'West Virginia',\n",
       "       'Florida', 'Massachusetts', 'North Dakota', 'Texas', 'Maryland',\n",
       "       'Wisconsin', 'Michigan', 'Vermont', 'North Carolina', 'Kansas',\n",
       "       'District of Columbia', 'Nevada', 'Utah', 'Connecticut',\n",
       "       'Colorado', 'Ohio', 'Iowa', 'South Dakota', 'Nebraska', 'Maine',\n",
       "       'Missouri', 'Arizona', 'Oklahoma', 'Idaho', 'Rhode Island',\n",
       "       'Alabama', 'Louisiana', 'South Carolina', 'New Hampshire',\n",
       "       'New Mexico', 'Montana', 'Alaska', 'Delaware'], dtype=object)"
      ]
     },
     "execution_count": 367,
     "metadata": {},
     "output_type": "execute_result"
    }
   ],
   "source": [
    "refactored_df[\"Q59\"].unique()"
   ]
  },
  {
   "cell_type": "code",
   "execution_count": 368,
   "metadata": {},
   "outputs": [
    {
     "data": {
      "text/plain": [
       "array([ 0,  1,  2,  3,  4,  5,  6,  7,  8,  9, 10, 11, 12, 13, 14, 15, 16,\n",
       "       17, 18, 19, 20, 21, 22, 23, 24, 25, 26, 27, 28, 29, 30, 31, 32, 33,\n",
       "       34, 35, 36, 37, 38, 39, 40, 41, 42, 43, 44, 45, 46, 47],\n",
       "      dtype=int64)"
      ]
     },
     "execution_count": 368,
     "metadata": {},
     "output_type": "execute_result"
    }
   ],
   "source": [
    "normalised_df[\"Q59\"] = refactored_df[\"Q59\"].map(lambda x: list(refactored_df[\"Q59\"].unique()).index(x))\n",
    "normalised_df['Q59'].unique()"
   ]
  },
  {
   "cell_type": "code",
   "execution_count": 369,
   "metadata": {},
   "outputs": [
    {
     "data": {
      "text/plain": [
       "array(['United Kingdom', 'United States of America', 'Canada', 'Germany',\n",
       "       'Netherlands', 'Czech Republic', 'Lithuania', 'Australia',\n",
       "       'France', 'Venezuela', 'Poland', 'Belgium', 'Brazil', 'Denmark',\n",
       "       'Sweden', 'Russia', 'Spain', 'India', 'United Arab Emirates',\n",
       "       'Mexico', 'Switzerland', 'Norway', 'Argentina', 'Ireland', 'Italy',\n",
       "       'Finland', 'Turkey', 'Colombia', 'Costa Rica', 'Vietnam',\n",
       "       'Bulgaria', 'New Zealand', 'South Africa', 'Slovakia', 'Austria',\n",
       "       'Bangladesh', 'Pakistan', 'Afghanistan', 'Greece', 'Other',\n",
       "       'Romania', 'Brunei', 'Iran', 'Hungary', 'Israel', 'Japan',\n",
       "       'Ecuador', 'Bosnia and Herzegovina', 'China', 'Chile', 'Guatemala',\n",
       "       'Serbia', 'Estonia'], dtype=object)"
      ]
     },
     "execution_count": 369,
     "metadata": {},
     "output_type": "execute_result"
    }
   ],
   "source": [
    "refactored_df[\"Q60\"].unique()"
   ]
  },
  {
   "cell_type": "code",
   "execution_count": 370,
   "metadata": {},
   "outputs": [
    {
     "data": {
      "text/plain": [
       "array([ 0,  1,  2,  3,  4,  5,  6,  7,  8,  9, 10, 11, 12, 13, 14, 15, 16,\n",
       "       17, 18, 19, 20, 21, 22, 23, 24, 25, 26, 27, 28, 29, 30, 31, 32, 33,\n",
       "       34, 35, 36, 37, 38, 39, 40, 41, 42, 43, 44, 45, 46, 47, 48, 49, 50,\n",
       "       51, 52], dtype=int64)"
      ]
     },
     "execution_count": 370,
     "metadata": {},
     "output_type": "execute_result"
    }
   ],
   "source": [
    "normalised_df[\"Q60\"] = refactored_df[\"Q60\"].map(lambda x: list(refactored_df[\"Q60\"].unique()).index(x))\n",
    "normalised_df['Q60'].unique()"
   ]
  },
  {
   "cell_type": "code",
   "execution_count": 371,
   "metadata": {},
   "outputs": [
    {
     "data": {
      "text/plain": [
       "array(['Not USA', 'Illinois', 'Tennessee', 'Virginia', 'California',\n",
       "       'Kentucky', 'Oregon', 'Pennsylvania', 'New Jersey', 'Georgia',\n",
       "       'Washington', 'New York', 'Indiana', 'Minnesota', 'Ohio',\n",
       "       'Florida', 'Massachusetts', 'North Dakota', 'Texas',\n",
       "       'District of Columbia', 'Michigan', 'Vermont', 'North Carolina',\n",
       "       'Missouri', 'Kansas', 'Nevada', 'Utah', 'Connecticut', 'Maryland',\n",
       "       'Colorado', 'Iowa', 'South Dakota', 'Hawaii', 'Nebraska', 'Maine',\n",
       "       'Arizona', 'Oklahoma', 'Wisconsin', 'Rhode Island', 'Alabama',\n",
       "       'West Virginia', 'Louisiana', 'South Carolina', 'New Hampshire',\n",
       "       'New Mexico', 'Montana', 'Idaho', 'Alaska', 'Delaware'],\n",
       "      dtype=object)"
      ]
     },
     "execution_count": 371,
     "metadata": {},
     "output_type": "execute_result"
    }
   ],
   "source": [
    "refactored_df[\"Q61\"].unique()"
   ]
  },
  {
   "cell_type": "code",
   "execution_count": 372,
   "metadata": {},
   "outputs": [
    {
     "data": {
      "text/plain": [
       "array([ 0,  1,  2,  3,  4,  5,  6,  7,  8,  9, 10, 11, 12, 13, 14, 15, 16,\n",
       "       17, 18, 19, 20, 21, 22, 23, 24, 25, 26, 27, 28, 29, 30, 31, 32, 33,\n",
       "       34, 35, 36, 37, 38, 39, 40, 41, 42, 43, 44, 45, 46, 47, 48],\n",
       "      dtype=int64)"
      ]
     },
     "execution_count": 372,
     "metadata": {},
     "output_type": "execute_result"
    }
   ],
   "source": [
    "normalised_df[\"Q61\"] = refactored_df[\"Q61\"].map(lambda x: list(refactored_df[\"Q61\"].unique()).index(x))\n",
    "normalised_df['Q61'].unique()"
   ]
  },
  {
   "cell_type": "code",
   "execution_count": 373,
   "metadata": {},
   "outputs": [
    {
     "data": {
      "text/plain": [
       "array(['Developer', 'Leader', 'Designer', 'One-person shop', 'Other'],\n",
       "      dtype=object)"
      ]
     },
     "execution_count": 373,
     "metadata": {},
     "output_type": "execute_result"
    }
   ],
   "source": [
    "refactored_df[\"Q62\"].unique()"
   ]
  },
  {
   "cell_type": "code",
   "execution_count": 374,
   "metadata": {},
   "outputs": [
    {
     "data": {
      "text/plain": [
       "array([0, 1, 2, 3, 4], dtype=int64)"
      ]
     },
     "execution_count": 374,
     "metadata": {},
     "output_type": "execute_result"
    }
   ],
   "source": [
    "normalised_df[\"Q62\"] = refactored_df[\"Q62\"].map(lambda x: list(refactored_df[\"Q62\"].unique()).index(x))\n",
    "normalised_df['Q62'].unique()"
   ]
  },
  {
   "cell_type": "code",
   "execution_count": 375,
   "metadata": {},
   "outputs": [
    {
     "data": {
      "text/plain": [
       "array(['Sometimes', 'Never', 'Always'], dtype=object)"
      ]
     },
     "execution_count": 375,
     "metadata": {},
     "output_type": "execute_result"
    }
   ],
   "source": [
    "refactored_df[\"Q63\"].unique()"
   ]
  },
  {
   "cell_type": "code",
   "execution_count": 376,
   "metadata": {},
   "outputs": [
    {
     "data": {
      "text/plain": [
       "array([1, 0, 2], dtype=int64)"
      ]
     },
     "execution_count": 376,
     "metadata": {},
     "output_type": "execute_result"
    }
   ],
   "source": [
    "normalised_df[\"Q63\"] = normalize_orderable(refactored_df[\"Q63\"],['Never','Sometimes','Always'])\n",
    "normalised_df['Q63'].unique()"
   ]
  },
  {
   "cell_type": "markdown",
   "metadata": {
    "colab_type": "text",
    "id": "XMQKf9IPxVsi"
   },
   "source": [
    "## 1.2. Learning Classifiers"
   ]
  },
  {
   "cell_type": "markdown",
   "metadata": {
    "colab_type": "text",
    "id": "UUQs6MbIxVsj"
   },
   "source": [
    "..."
   ]
  },
  {
   "cell_type": "code",
   "execution_count": 377,
   "metadata": {
    "scrolled": false
   },
   "outputs": [],
   "source": [
    "import seaborn as sns; sns.set()\n",
    "from sklearn.metrics import confusion_matrix\n",
    "import matplotlib.pyplot as plt\n",
    "from sklearn.model_selection import train_test_split\n",
    "\n",
    "X = normalised_df[[col for col in normalised_df if col not in ['Q48', 'Q49',\"Q54\",\"Q55\"]]]\n",
    "y = normalised_df[\"Q48\"]\n",
    "\n",
    "TEST_SIZE=0.3\n",
    "X_train, X_test, y_train, y_test = train_test_split(X, y, test_size = TEST_SIZE, random_state=42)\n",
    "\n",
    "def evaluate(clf,name=\"Classifier\"):\n",
    "    \n",
    "    clf = clf.fit(X_train, y_train)\n",
    "    print(\"Training set score =\", clf.score(X_train, y_train))\n",
    "    print(\"Test set score =\", clf.score(X_test, y_test))\n",
    "    \n",
    "    plt.suptitle('Confusion Matrix - '+ name)\n",
    "    plt.subplot(1, 2, 1)\n",
    "    plt.title('Train data {}% , {} samples'.format((1-TEST_SIZE)*100,len(y_train)))\n",
    "    y_train_pred = clf.predict(X_train)\n",
    "    y_train_pred = np.round(y_train_pred)\n",
    "    cm_test = confusion_matrix(y_train, y_train_pred)\n",
    "    sns.heatmap(cm_test.T, square=True, annot=True, fmt='d', cbar=False,xticklabels=[\"No\",\"Maybe\",\"Yes\"],yticklabels=[\"No\",\"Maybe\",\"Yes\"])\n",
    "    plt.xlabel('Predicted')\n",
    "    plt.ylabel('Actual')\n",
    "    \n",
    "    plt.subplot(1, 2, 2)\n",
    "    plt.title('Test data {}% , {} samples'.format((TEST_SIZE)*100,len(y_test)))\n",
    "    y_test_pred = clf.predict(X_test)\n",
    "    y_test_pred = np.round(y_test_pred)\n",
    "    cm_test = confusion_matrix(y_test, y_test_pred)\n",
    "    sns.heatmap(cm_test.T, square=True, annot=True, fmt='d', cbar=False,xticklabels=[\"No\",\"Maybe\",\"Yes\"],yticklabels=[\"No\",\"Maybe\",\"Yes\"])\n",
    "    plt.xlabel('Predicted')\n",
    "    plt.ylabel('Actual')\n",
    "    \n",
    "    plt.tight_layout()\n",
    "    plt.show()\n"
   ]
  },
  {
   "cell_type": "code",
   "execution_count": 378,
   "metadata": {},
   "outputs": [
    {
     "name": "stdout",
     "output_type": "stream",
     "text": [
      "Training set score = 1.0\n",
      "Test set score = 0.5558139534883721\n"
     ]
    },
    {
     "data": {
      "image/png": "[encoded data removed]",
      "text/plain": [
       "<Figure size 432x288 with 2 Axes>"
      ]
     },
     "metadata": {},
     "output_type": "display_data"
    }
   ],
   "source": [
    "from sklearn import tree\n",
    "tree_clf = tree.DecisionTreeClassifier(criterion=\"gini\", random_state=20)\n",
    "evaluate(tree_clf,\"Tree classifier\")\n",
    "# import graphviz \n",
    "# dot_data = tree.export_graphviz(tree_clf, out_file=\"tree.dot\", feature_names= X.columns, filled=True, rounded=True, special_characters=True)  \n",
    "# from subprocess import call\n",
    "# call(['dot.bat', '-T', 'png', 'tree.dot', '-o', 'tree.png'])"
   ]
  },
  {
   "cell_type": "code",
   "execution_count": 379,
   "metadata": {},
   "outputs": [
    {
     "name": "stdout",
     "output_type": "stream",
     "text": [
      "Training set score = 0.5383586014533037\n",
      "Test set score = 0.47020161526090126\n"
     ]
    },
    {
     "data": {
      "image/png": "[encoded data removed]",
      "text/plain": [
       "<Figure size 432x288 with 2 Axes>"
      ]
     },
     "metadata": {},
     "output_type": "display_data"
    }
   ],
   "source": [
    "from sklearn.linear_model import LinearRegression\n",
    "lr_clf = LinearRegression()\n",
    "evaluate(lr_clf,\"LinearRegression classifier\")"
   ]
  },
  {
   "cell_type": "code",
   "execution_count": 380,
   "metadata": {},
   "outputs": [
    {
     "name": "stdout",
     "output_type": "stream",
     "text": [
      "Training set score = 0.7018943170488534\n",
      "Test set score = 0.6813953488372093\n"
     ]
    },
    {
     "data": {
      "image/png": "[encoded data removed]",
      "text/plain": [
       "<Figure size 432x288 with 2 Axes>"
      ]
     },
     "metadata": {},
     "output_type": "display_data"
    }
   ],
   "source": [
    "from sklearn.linear_model import LogisticRegression\n",
    "logreg_clf = LogisticRegression(multi_class=\"auto\",solver=\"liblinear\")\n",
    "evaluate(logreg_clf ,\"LogisticRegression classifier\")"
   ]
  },
  {
   "cell_type": "code",
   "execution_count": 381,
   "metadata": {
    "scrolled": false
   },
   "outputs": [
    {
     "name": "stdout",
     "output_type": "stream",
     "text": [
      "Training set score = 0.5383262550021817\n",
      "Test set score = 0.4703995557267751\n"
     ]
    },
    {
     "data": {
      "image/png": "[encoded data removed]",
      "text/plain": [
       "<Figure size 432x288 with 2 Axes>"
      ]
     },
     "metadata": {},
     "output_type": "display_data"
    }
   ],
   "source": [
    "from sklearn.linear_model import Ridge\n",
    "ridge_clf = Ridge()\n",
    "evaluate(ridge_clf ,\"Ridge classifier\")"
   ]
  },
  {
   "cell_type": "code",
   "execution_count": 382,
   "metadata": {},
   "outputs": [
    {
     "name": "stdout",
     "output_type": "stream",
     "text": [
      "Training set score = 0.7058823529411765\n",
      "Test set score = 0.4697674418604651\n"
     ]
    },
    {
     "data": {
      "image/png": "[encoded data removed]",
      "text/plain": [
       "<Figure size 432x288 with 2 Axes>"
      ]
     },
     "metadata": {},
     "output_type": "display_data"
    }
   ],
   "source": [
    "from sklearn.neighbors import KNeighborsClassifier\n",
    "knn_clf = KNeighborsClassifier(n_neighbors=3)\n",
    "evaluate(knn_clf ,\"KNN classifier\")"
   ]
  },
  {
   "cell_type": "code",
   "execution_count": 383,
   "metadata": {},
   "outputs": [
    {
     "name": "stdout",
     "output_type": "stream",
     "text": [
      "Training set score = 0.6301096709870389\n",
      "Test set score = 0.5976744186046512\n"
     ]
    },
    {
     "data": {
      "image/png": "[encoded data removed]",
      "text/plain": [
       "<Figure size 432x288 with 2 Axes>"
      ]
     },
     "metadata": {},
     "output_type": "display_data"
    }
   ],
   "source": [
    "from sklearn.naive_bayes import GaussianNB\n",
    "gnb_clf = GaussianNB()\n",
    "evaluate(gnb_clf ,\"GNB classifier\")"
   ]
  },
  {
   "cell_type": "code",
   "execution_count": 384,
   "metadata": {},
   "outputs": [
    {
     "name": "stdout",
     "output_type": "stream",
     "text": [
      "Training set score = 0.6999002991026919\n",
      "Test set score = 0.627906976744186\n"
     ]
    },
    {
     "data": {
      "image/png": "[encoded data removed]",
      "text/plain": [
       "<Figure size 432x288 with 2 Axes>"
      ]
     },
     "metadata": {},
     "output_type": "display_data"
    },
    {
     "data": {
      "text/plain": [
       "900"
      ]
     },
     "execution_count": 384,
     "metadata": {},
     "output_type": "execute_result"
    }
   ],
   "source": [
    "from sklearn.svm import SVC\n",
    "svm_rbf_clf = SVC(gamma='scale',kernel=\"rbf\")\n",
    "evaluate(svm_rbf_clf,\"SVM rbf\")\n",
    "len(svm_rbf_clf.support_vectors_)"
   ]
  },
  {
   "cell_type": "code",
   "execution_count": 385,
   "metadata": {},
   "outputs": [
    {
     "name": "stdout",
     "output_type": "stream",
     "text": [
      "Training set score = 0.7238285144566301\n",
      "Test set score = 0.6813953488372093\n"
     ]
    },
    {
     "data": {
      "image/png": "[encoded data removed]",
      "text/plain": [
       "<Figure size 432x288 with 2 Axes>"
      ]
     },
     "metadata": {},
     "output_type": "display_data"
    },
    {
     "data": {
      "text/plain": [
       "611"
      ]
     },
     "execution_count": 385,
     "metadata": {},
     "output_type": "execute_result"
    }
   ],
   "source": [
    "from sklearn.svm import SVC\n",
    "svm_lin_clf = SVC(gamma='scale',kernel=\"linear\")\n",
    "evaluate(svm_lin_clf,\"SVM linear\")\n",
    "len(svm_lin_clf.support_vectors_)"
   ]
  },
  {
   "cell_type": "code",
   "execution_count": 263,
   "metadata": {},
   "outputs": [
    {
     "name": "stdout",
     "output_type": "stream",
     "text": [
      "Training set score = 0.8295114656031904\n",
      "Test set score = 0.6465116279069767\n"
     ]
    },
    {
     "data": {
      "image/png": "[encoded data removed]",
      "text/plain": [
       "<Figure size 432x288 with 2 Axes>"
      ]
     },
     "metadata": {},
     "output_type": "display_data"
    },
    {
     "data": {
      "text/plain": [
       "680"
      ]
     },
     "execution_count": 263,
     "metadata": {},
     "output_type": "execute_result"
    }
   ],
   "source": [
    "from sklearn.svm import SVC\n",
    "svm_poly_clf = SVC(gamma='scale',kernel=\"poly\")\n",
    "evaluate(svm_poly_clf,\"SVM polynomial\")\n",
    "len(svm_poly_clf.support_vectors_)"
   ]
  },
  {
   "cell_type": "markdown",
   "metadata": {
    "colab_type": "text",
    "id": "mlTrhdYDxVsk"
   },
   "source": [
    "## 1.3. Classification - Results and Discussion "
   ]
  },
  {
   "cell_type": "markdown",
   "metadata": {
    "colab_type": "text",
    "id": "cqlqU4iDxVsm"
   },
   "source": [
    "..."
   ]
  },
  {
   "cell_type": "markdown",
   "metadata": {
    "colab_type": "text",
    "id": "2bs1_ubfxVsn"
   },
   "source": [
    "## Task 2 (Unsupervised Learning) - Charactering people with mental health disorders"
   ]
  },
  {
   "cell_type": "markdown",
   "metadata": {
    "colab_type": "text",
    "id": "xZzPoI8DxVso"
   },
   "source": [
    "In this task you should **use unsupervised learning algorithms and try to characterize people with mental health disorders**:\n",
    "* Use association rule mining to find **associations between features and mental health disorders**.\n",
    "* Use **clustering algorithms to find groups describing similar people**, for example, is it possible to find groups of people with the same/similar mental health disorders.\n",
    "* **Be creative and define your own unsupervised analysis!** What would it be interesting to find out ?"
   ]
  },
  {
   "cell_type": "markdown",
   "metadata": {
    "colab_type": "text",
    "id": "qLPo83vTxVsp"
   },
   "source": [
    "## 2.1. Preprocessing Data for Association Rule Mining"
   ]
  },
  {
   "cell_type": "code",
   "execution_count": 121,
   "metadata": {
    "colab_type": "text",
    "id": "fRzL__4zxVsp"
   },
   "outputs": [
    {
     "data": {
      "text/html": [
       "<div>\n",
       "<style scoped>\n",
       "    .dataframe tbody tr th:only-of-type {\n",
       "        vertical-align: middle;\n",
       "    }\n",
       "\n",
       "    .dataframe tbody tr th {\n",
       "        vertical-align: top;\n",
       "    }\n",
       "\n",
       "    .dataframe thead th {\n",
       "        text-align: right;\n",
       "    }\n",
       "</style>\n",
       "<table border=\"1\" class=\"dataframe\">\n",
       "  <thead>\n",
       "    <tr style=\"text-align: right;\">\n",
       "      <th></th>\n",
       "      <th>Are you self-employed?</th>\n",
       "      <th>How many employees does your company or organization have?</th>\n",
       "      <th>Is your employer primarily a tech company/organization?</th>\n",
       "      <th>Is your primary role within your company related to tech/IT?</th>\n",
       "      <th>Does your employer provide mental health benefits as part of healthcare coverage?</th>\n",
       "      <th>Do you know the options for mental health care available under your employer-provided coverage?</th>\n",
       "      <th>Has your employer ever formally discussed mental health (for example, as part of a wellness campaign or other official communication)?</th>\n",
       "      <th>Does your employer offer resources to learn more about mental health concerns and options for seeking help?</th>\n",
       "      <th>Is your anonymity protected if you choose to take advantage of mental health or substance abuse treatment resources provided by your employer?</th>\n",
       "      <th>If a mental health issue prompted you to request a medical leave from work, asking for that leave would be:</th>\n",
       "      <th>Do you think that discussing a mental health disorder with your employer would have negative consequences?</th>\n",
       "      <th>Do you think that discussing a physical health issue with your employer would have negative consequences?</th>\n",
       "      <th>Would you feel comfortable discussing a mental health disorder with your coworkers?</th>\n",
       "      <th>Would you feel comfortable discussing a mental health disorder with your direct supervisor(s)?</th>\n",
       "      <th>Do you feel that your employer takes mental health as seriously as physical health?</th>\n",
       "      <th>Have you heard of or observed negative consequences for co-workers who have been open about mental health issues in your workplace?</th>\n",
       "      <th>Do you have medical coverage (private insurance or state-provided) which includes treatment of  mental health issues?</th>\n",
       "      <th>Do you know local or online resources to seek help for a mental health disorder?</th>\n",
       "      <th>If you have been diagnosed or treated for a mental health disorder, do you ever reveal this to clients or business contacts?</th>\n",
       "      <th>If you have revealed a mental health issue to a client or business contact, do you believe this has impacted you negatively?</th>\n",
       "      <th>If you have been diagnosed or treated for a mental health disorder, do you ever reveal this to coworkers or employees?</th>\n",
       "      <th>If you have revealed a mental health issue to a coworker or employee, do you believe this has impacted you negatively?</th>\n",
       "      <th>Do you believe your productivity is ever affected by a mental health issue?</th>\n",
       "      <th>If yes, what percentage of your work time (time performing primary or secondary job functions) is affected by a mental health issue?</th>\n",
       "      <th>Do you have previous employers?</th>\n",
       "      <th>Have your previous employers provided mental health benefits?</th>\n",
       "      <th>Were you aware of the options for mental health care provided by your previous employers?</th>\n",
       "      <th>Did your previous employers ever formally discuss mental health (as part of a wellness campaign or other official communication)?</th>\n",
       "      <th>Did your previous employers provide resources to learn more about mental health issues and how to seek help?</th>\n",
       "      <th>Was your anonymity protected if you chose to take advantage of mental health or substance abuse treatment resources with previous employers?</th>\n",
       "      <th>Do you think that discussing a mental health disorder with previous employers would have negative consequences?</th>\n",
       "      <th>Do you think that discussing a physical health issue with previous employers would have negative consequences?</th>\n",
       "      <th>Would you have been willing to discuss a mental health issue with your previous co-workers?</th>\n",
       "      <th>Would you have been willing to discuss a mental health issue with your direct supervisor(s)?</th>\n",
       "      <th>Did you feel that your previous employers took mental health as seriously as physical health?</th>\n",
       "      <th>Did you hear of or observe negative consequences for co-workers with mental health issues in your previous workplaces?</th>\n",
       "      <th>Would you be willing to bring up a physical health issue with a potential employer in an interview?</th>\n",
       "      <th>Why or why not?</th>\n",
       "      <th>Would you bring up a mental health issue with a potential employer in an interview?</th>\n",
       "      <th>Why or why not?.1</th>\n",
       "      <th>Do you feel that being identified as a person with a mental health issue would hurt your career?</th>\n",
       "      <th>Do you think that team members/co-workers would view you more negatively if they knew you suffered from a mental health issue?</th>\n",
       "      <th>How willing would you be to share with friends and family that you have a mental illness?</th>\n",
       "      <th>Have you observed or experienced an unsupportive or badly handled response to a mental health issue in your current or previous workplace?</th>\n",
       "      <th>Have your observations of how another individual who discussed a mental health disorder made you less likely to reveal a mental health issue yourself in your current workplace?</th>\n",
       "      <th>Do you have a family history of mental illness?</th>\n",
       "      <th>Have you had a mental health disorder in the past?</th>\n",
       "      <th>Do you currently have a mental health disorder?</th>\n",
       "      <th>If yes, what condition(s) have you been diagnosed with?</th>\n",
       "      <th>If maybe, what condition(s) do you believe you have?</th>\n",
       "      <th>Have you been diagnosed with a mental health condition by a medical professional?</th>\n",
       "      <th>If so, what condition(s) were you diagnosed with?</th>\n",
       "      <th>Have you ever sought treatment for a mental health issue from a mental health professional?</th>\n",
       "      <th>If you have a mental health issue, do you feel that it interferes with your work when being treated effectively?</th>\n",
       "      <th>If you have a mental health issue, do you feel that it interferes with your work when NOT being treated effectively?</th>\n",
       "      <th>What is your age?</th>\n",
       "      <th>What is your gender?</th>\n",
       "      <th>What country do you live in?</th>\n",
       "      <th>What US state or territory do you live in?</th>\n",
       "      <th>What country do you work in?</th>\n",
       "      <th>What US state or territory do you work in?</th>\n",
       "      <th>Which of the following best describes your work position?</th>\n",
       "      <th>Do you work remotely?</th>\n",
       "    </tr>\n",
       "  </thead>\n",
       "  <tbody>\n",
       "    <tr>\n",
       "      <th>0</th>\n",
       "      <td>0</td>\n",
       "      <td>26-100</td>\n",
       "      <td>1.0</td>\n",
       "      <td>NaN</td>\n",
       "      <td>Not eligible for coverage / N/A</td>\n",
       "      <td>NaN</td>\n",
       "      <td>No</td>\n",
       "      <td>No</td>\n",
       "      <td>I don't know</td>\n",
       "      <td>Very easy</td>\n",
       "      <td>No</td>\n",
       "      <td>No</td>\n",
       "      <td>Maybe</td>\n",
       "      <td>Yes</td>\n",
       "      <td>I don't know</td>\n",
       "      <td>No</td>\n",
       "      <td>NaN</td>\n",
       "      <td>NaN</td>\n",
       "      <td>NaN</td>\n",
       "      <td>NaN</td>\n",
       "      <td>NaN</td>\n",
       "      <td>NaN</td>\n",
       "      <td>NaN</td>\n",
       "      <td>NaN</td>\n",
       "      <td>1</td>\n",
       "      <td>No, none did</td>\n",
       "      <td>N/A (not currently aware)</td>\n",
       "      <td>I don't know</td>\n",
       "      <td>None did</td>\n",
       "      <td>I don't know</td>\n",
       "      <td>Some of them</td>\n",
       "      <td>None of them</td>\n",
       "      <td>Some of my previous employers</td>\n",
       "      <td>Some of my previous employers</td>\n",
       "      <td>I don't know</td>\n",
       "      <td>None of them</td>\n",
       "      <td>Maybe</td>\n",
       "      <td>NaN</td>\n",
       "      <td>Maybe</td>\n",
       "      <td>NaN</td>\n",
       "      <td>Maybe</td>\n",
       "      <td>No, I don't think they would</td>\n",
       "      <td>Somewhat open</td>\n",
       "      <td>No</td>\n",
       "      <td>NaN</td>\n",
       "      <td>No</td>\n",
       "      <td>Yes</td>\n",
       "      <td>No</td>\n",
       "      <td>NaN</td>\n",
       "      <td>NaN</td>\n",
       "      <td>Yes</td>\n",
       "      <td>Anxiety Disorder (Generalized, Social, Phobia,...</td>\n",
       "      <td>0</td>\n",
       "      <td>Not applicable to me</td>\n",
       "      <td>Not applicable to me</td>\n",
       "      <td>39</td>\n",
       "      <td>Male</td>\n",
       "      <td>United Kingdom</td>\n",
       "      <td>NaN</td>\n",
       "      <td>United Kingdom</td>\n",
       "      <td>NaN</td>\n",
       "      <td>Back-end Developer</td>\n",
       "      <td>Sometimes</td>\n",
       "    </tr>\n",
       "    <tr>\n",
       "      <th>1</th>\n",
       "      <td>0</td>\n",
       "      <td>6-25</td>\n",
       "      <td>1.0</td>\n",
       "      <td>NaN</td>\n",
       "      <td>No</td>\n",
       "      <td>Yes</td>\n",
       "      <td>Yes</td>\n",
       "      <td>Yes</td>\n",
       "      <td>Yes</td>\n",
       "      <td>Somewhat easy</td>\n",
       "      <td>No</td>\n",
       "      <td>No</td>\n",
       "      <td>Maybe</td>\n",
       "      <td>Yes</td>\n",
       "      <td>Yes</td>\n",
       "      <td>No</td>\n",
       "      <td>NaN</td>\n",
       "      <td>NaN</td>\n",
       "      <td>NaN</td>\n",
       "      <td>NaN</td>\n",
       "      <td>NaN</td>\n",
       "      <td>NaN</td>\n",
       "      <td>NaN</td>\n",
       "      <td>NaN</td>\n",
       "      <td>1</td>\n",
       "      <td>Yes, they all did</td>\n",
       "      <td>I was aware of some</td>\n",
       "      <td>None did</td>\n",
       "      <td>Some did</td>\n",
       "      <td>Yes, always</td>\n",
       "      <td>None of them</td>\n",
       "      <td>None of them</td>\n",
       "      <td>No, at none of my previous employers</td>\n",
       "      <td>Some of my previous employers</td>\n",
       "      <td>Some did</td>\n",
       "      <td>None of them</td>\n",
       "      <td>Maybe</td>\n",
       "      <td>It would depend on the health issue. If there ...</td>\n",
       "      <td>No</td>\n",
       "      <td>While mental health has become a more prominen...</td>\n",
       "      <td>No, I don't think it would</td>\n",
       "      <td>No, I don't think they would</td>\n",
       "      <td>Somewhat open</td>\n",
       "      <td>No</td>\n",
       "      <td>NaN</td>\n",
       "      <td>Yes</td>\n",
       "      <td>Yes</td>\n",
       "      <td>Yes</td>\n",
       "      <td>Anxiety Disorder (Generalized, Social, Phobia,...</td>\n",
       "      <td>NaN</td>\n",
       "      <td>Yes</td>\n",
       "      <td>Anxiety Disorder (Generalized, Social, Phobia,...</td>\n",
       "      <td>1</td>\n",
       "      <td>Rarely</td>\n",
       "      <td>Sometimes</td>\n",
       "      <td>29</td>\n",
       "      <td>male</td>\n",
       "      <td>United States of America</td>\n",
       "      <td>Illinois</td>\n",
       "      <td>United States of America</td>\n",
       "      <td>Illinois</td>\n",
       "      <td>Back-end Developer|Front-end Developer</td>\n",
       "      <td>Never</td>\n",
       "    </tr>\n",
       "    <tr>\n",
       "      <th>2</th>\n",
       "      <td>0</td>\n",
       "      <td>6-25</td>\n",
       "      <td>1.0</td>\n",
       "      <td>NaN</td>\n",
       "      <td>No</td>\n",
       "      <td>NaN</td>\n",
       "      <td>No</td>\n",
       "      <td>No</td>\n",
       "      <td>I don't know</td>\n",
       "      <td>Neither easy nor difficult</td>\n",
       "      <td>Maybe</td>\n",
       "      <td>No</td>\n",
       "      <td>Maybe</td>\n",
       "      <td>Maybe</td>\n",
       "      <td>I don't know</td>\n",
       "      <td>No</td>\n",
       "      <td>NaN</td>\n",
       "      <td>NaN</td>\n",
       "      <td>NaN</td>\n",
       "      <td>NaN</td>\n",
       "      <td>NaN</td>\n",
       "      <td>NaN</td>\n",
       "      <td>NaN</td>\n",
       "      <td>NaN</td>\n",
       "      <td>1</td>\n",
       "      <td>No, none did</td>\n",
       "      <td>N/A (not currently aware)</td>\n",
       "      <td>None did</td>\n",
       "      <td>Some did</td>\n",
       "      <td>I don't know</td>\n",
       "      <td>I don't know</td>\n",
       "      <td>Some of them</td>\n",
       "      <td>Some of my previous employers</td>\n",
       "      <td>I don't know</td>\n",
       "      <td>I don't know</td>\n",
       "      <td>Some of them</td>\n",
       "      <td>Yes</td>\n",
       "      <td>They would provable need to know, to Judge if ...</td>\n",
       "      <td>Yes</td>\n",
       "      <td>Stigma, mainly.</td>\n",
       "      <td>Maybe</td>\n",
       "      <td>Maybe</td>\n",
       "      <td>Somewhat open</td>\n",
       "      <td>Maybe/Not sure</td>\n",
       "      <td>Yes</td>\n",
       "      <td>No</td>\n",
       "      <td>Maybe</td>\n",
       "      <td>No</td>\n",
       "      <td>NaN</td>\n",
       "      <td>NaN</td>\n",
       "      <td>No</td>\n",
       "      <td>NaN</td>\n",
       "      <td>1</td>\n",
       "      <td>Not applicable to me</td>\n",
       "      <td>Not applicable to me</td>\n",
       "      <td>38</td>\n",
       "      <td>Male</td>\n",
       "      <td>United Kingdom</td>\n",
       "      <td>NaN</td>\n",
       "      <td>United Kingdom</td>\n",
       "      <td>NaN</td>\n",
       "      <td>Back-end Developer</td>\n",
       "      <td>Always</td>\n",
       "    </tr>\n",
       "    <tr>\n",
       "      <th>3</th>\n",
       "      <td>1</td>\n",
       "      <td>NaN</td>\n",
       "      <td>NaN</td>\n",
       "      <td>NaN</td>\n",
       "      <td>NaN</td>\n",
       "      <td>NaN</td>\n",
       "      <td>NaN</td>\n",
       "      <td>NaN</td>\n",
       "      <td>NaN</td>\n",
       "      <td>NaN</td>\n",
       "      <td>NaN</td>\n",
       "      <td>NaN</td>\n",
       "      <td>NaN</td>\n",
       "      <td>NaN</td>\n",
       "      <td>NaN</td>\n",
       "      <td>NaN</td>\n",
       "      <td>1.0</td>\n",
       "      <td>Yes, I know several</td>\n",
       "      <td>Sometimes, if it comes up</td>\n",
       "      <td>I'm not sure</td>\n",
       "      <td>Sometimes, if it comes up</td>\n",
       "      <td>I'm not sure</td>\n",
       "      <td>Yes</td>\n",
       "      <td>1-25%</td>\n",
       "      <td>1</td>\n",
       "      <td>Some did</td>\n",
       "      <td>N/A (not currently aware)</td>\n",
       "      <td>None did</td>\n",
       "      <td>None did</td>\n",
       "      <td>I don't know</td>\n",
       "      <td>Some of them</td>\n",
       "      <td>Some of them</td>\n",
       "      <td>Some of my previous employers</td>\n",
       "      <td>Some of my previous employers</td>\n",
       "      <td>I don't know</td>\n",
       "      <td>Some of them</td>\n",
       "      <td>Yes</td>\n",
       "      <td>old back injury, doesn't cause me many issues ...</td>\n",
       "      <td>Maybe</td>\n",
       "      <td>would not if I was not 100% sure that the disc...</td>\n",
       "      <td>Yes, I think it would</td>\n",
       "      <td>Maybe</td>\n",
       "      <td>Neutral</td>\n",
       "      <td>No</td>\n",
       "      <td>NaN</td>\n",
       "      <td>No</td>\n",
       "      <td>Yes</td>\n",
       "      <td>Yes</td>\n",
       "      <td>Anxiety Disorder (Generalized, Social, Phobia,...</td>\n",
       "      <td>NaN</td>\n",
       "      <td>Yes</td>\n",
       "      <td>Anxiety Disorder (Generalized, Social, Phobia,...</td>\n",
       "      <td>1</td>\n",
       "      <td>Sometimes</td>\n",
       "      <td>Sometimes</td>\n",
       "      <td>43</td>\n",
       "      <td>male</td>\n",
       "      <td>United Kingdom</td>\n",
       "      <td>NaN</td>\n",
       "      <td>United Kingdom</td>\n",
       "      <td>NaN</td>\n",
       "      <td>Supervisor/Team Lead</td>\n",
       "      <td>Sometimes</td>\n",
       "    </tr>\n",
       "    <tr>\n",
       "      <th>4</th>\n",
       "      <td>0</td>\n",
       "      <td>6-25</td>\n",
       "      <td>0.0</td>\n",
       "      <td>1.0</td>\n",
       "      <td>Yes</td>\n",
       "      <td>Yes</td>\n",
       "      <td>No</td>\n",
       "      <td>No</td>\n",
       "      <td>No</td>\n",
       "      <td>Neither easy nor difficult</td>\n",
       "      <td>Yes</td>\n",
       "      <td>Maybe</td>\n",
       "      <td>Maybe</td>\n",
       "      <td>No</td>\n",
       "      <td>No</td>\n",
       "      <td>No</td>\n",
       "      <td>NaN</td>\n",
       "      <td>NaN</td>\n",
       "      <td>NaN</td>\n",
       "      <td>NaN</td>\n",
       "      <td>NaN</td>\n",
       "      <td>NaN</td>\n",
       "      <td>NaN</td>\n",
       "      <td>NaN</td>\n",
       "      <td>1</td>\n",
       "      <td>I don't know</td>\n",
       "      <td>N/A (not currently aware)</td>\n",
       "      <td>Some did</td>\n",
       "      <td>None did</td>\n",
       "      <td>I don't know</td>\n",
       "      <td>Some of them</td>\n",
       "      <td>Some of them</td>\n",
       "      <td>No, at none of my previous employers</td>\n",
       "      <td>Some of my previous employers</td>\n",
       "      <td>Some did</td>\n",
       "      <td>Some of them</td>\n",
       "      <td>Maybe</td>\n",
       "      <td>Depending on the interview stage and whether I...</td>\n",
       "      <td>No</td>\n",
       "      <td>I don't know</td>\n",
       "      <td>Yes, I think it would</td>\n",
       "      <td>Maybe</td>\n",
       "      <td>Somewhat open</td>\n",
       "      <td>Yes, I experienced</td>\n",
       "      <td>Yes</td>\n",
       "      <td>Yes</td>\n",
       "      <td>Yes</td>\n",
       "      <td>Yes</td>\n",
       "      <td>Anxiety Disorder (Generalized, Social, Phobia,...</td>\n",
       "      <td>NaN</td>\n",
       "      <td>Yes</td>\n",
       "      <td>Anxiety Disorder (Generalized, Social, Phobia,...</td>\n",
       "      <td>1</td>\n",
       "      <td>Sometimes</td>\n",
       "      <td>Sometimes</td>\n",
       "      <td>43</td>\n",
       "      <td>Female</td>\n",
       "      <td>United States of America</td>\n",
       "      <td>Illinois</td>\n",
       "      <td>United States of America</td>\n",
       "      <td>Illinois</td>\n",
       "      <td>Executive Leadership|Supervisor/Team Lead|Dev ...</td>\n",
       "      <td>Sometimes</td>\n",
       "    </tr>\n",
       "  </tbody>\n",
       "</table>\n",
       "</div>"
      ],
      "text/plain": [
       "   Are you self-employed? How many employees does your company or organization have?  Is your employer primarily a tech company/organization?  Is your primary role within your company related to tech/IT? Does your employer provide mental health benefits as part of healthcare coverage? Do you know the options for mental health care available under your employer-provided coverage? Has your employer ever formally discussed mental health (for example, as part of a wellness campaign or other official communication)? Does your employer offer resources to learn more about mental health concerns and options for seeking help? Is your anonymity protected if you choose to take advantage of mental health or substance abuse treatment resources provided by your employer? If a mental health issue prompted you to request a medical leave from work, asking for that leave would be: Do you think that discussing a mental health disorder with your employer would have negative consequences?  \\\n",
       "0                       0                                             26-100                                                        1.0                                                      NaN                               Not eligible for coverage / N/A                                                                               NaN                                                                                              No                                                                                                                                     No                                                                                                I don't know                                                                                                                                      Very easy                                                                                                          No                                                           \n",
       "1                       0                                               6-25                                                        1.0                                                      NaN                                                            No                                                                               Yes                                                                                             Yes                                                                                                                                    Yes                                                                                                         Yes                                                                                                                                  Somewhat easy                                                                                                          No                                                           \n",
       "2                       0                                               6-25                                                        1.0                                                      NaN                                                            No                                                                               NaN                                                                                              No                                                                                                                                     No                                                                                                I don't know                                                                                                                     Neither easy nor difficult                                                                                                       Maybe                                                           \n",
       "3                       1                                                NaN                                                        NaN                                                      NaN                                                           NaN                                                                               NaN                                                                                             NaN                                                                                                                                    NaN                                                                                                         NaN                                                                                                                                            NaN                                                                                                         NaN                                                           \n",
       "4                       0                                               6-25                                                        0.0                                                      1.0                                                           Yes                                                                               Yes                                                                                              No                                                                                                                                     No                                                                                                          No                                                                                                                     Neither easy nor difficult                                                                                                         Yes                                                           \n",
       "\n",
       "  Do you think that discussing a physical health issue with your employer would have negative consequences? Would you feel comfortable discussing a mental health disorder with your coworkers? Would you feel comfortable discussing a mental health disorder with your direct supervisor(s)? Do you feel that your employer takes mental health as seriously as physical health? Have you heard of or observed negative consequences for co-workers who have been open about mental health issues in your workplace?  Do you have medical coverage (private insurance or state-provided) which includes treatment of  mental health issues? Do you know local or online resources to seek help for a mental health disorder? If you have been diagnosed or treated for a mental health disorder, do you ever reveal this to clients or business contacts? If you have revealed a mental health issue to a client or business contact, do you believe this has impacted you negatively?  \\\n",
       "0                                                 No                                                                                                     Maybe                                                                                 Yes                                                                                   I don't know                                                                                  No                                                                                                                                 NaN                                                                                                                    NaN                                                                              NaN                                                                                                                          NaN                                                                             \n",
       "1                                                 No                                                                                                     Maybe                                                                                 Yes                                                                                            Yes                                                                                  No                                                                                                                                 NaN                                                                                                                    NaN                                                                              NaN                                                                                                                          NaN                                                                             \n",
       "2                                                 No                                                                                                     Maybe                                                                               Maybe                                                                                   I don't know                                                                                  No                                                                                                                                 NaN                                                                                                                    NaN                                                                              NaN                                                                                                                          NaN                                                                             \n",
       "3                                                NaN                                                                                                       NaN                                                                                 NaN                                                                                            NaN                                                                                 NaN                                                                                                                                 1.0                                                                                                    Yes, I know several                                                        Sometimes, if it comes up                                                                                                                 I'm not sure                                                                             \n",
       "4                                              Maybe                                                                                                     Maybe                                                                                  No                                                                                             No                                                                                  No                                                                                                                                 NaN                                                                                                                    NaN                                                                              NaN                                                                                                                          NaN                                                                             \n",
       "\n",
       "  If you have been diagnosed or treated for a mental health disorder, do you ever reveal this to coworkers or employees? If you have revealed a mental health issue to a coworker or employee, do you believe this has impacted you negatively? Do you believe your productivity is ever affected by a mental health issue? If yes, what percentage of your work time (time performing primary or secondary job functions) is affected by a mental health issue?  Do you have previous employers? Have your previous employers provided mental health benefits? Were you aware of the options for mental health care provided by your previous employers? Did your previous employers ever formally discuss mental health (as part of a wellness campaign or other official communication)? Did your previous employers provide resources to learn more about mental health issues and how to seek help?  \\\n",
       "0                                                NaN                                                                                                                    NaN                                                                                                                    NaN                                                                         NaN                                                                                                                  1                                       No, none did                                     N/A (not currently aware)                                                                              I don't know                                                                                                                          None did                                                             \n",
       "1                                                NaN                                                                                                                    NaN                                                                                                                    NaN                                                                         NaN                                                                                                                  1                                  Yes, they all did                                           I was aware of some                                                                                  None did                                                                                                                          Some did                                                             \n",
       "2                                                NaN                                                                                                                    NaN                                                                                                                    NaN                                                                         NaN                                                                                                                  1                                       No, none did                                     N/A (not currently aware)                                                                                  None did                                                                                                                          Some did                                                             \n",
       "3                          Sometimes, if it comes up                                                                                                           I'm not sure                                                                                                                    Yes                                                                       1-25%                                                                                                                  1                                           Some did                                     N/A (not currently aware)                                                                                  None did                                                                                                                          None did                                                             \n",
       "4                                                NaN                                                                                                                    NaN                                                                                                                    NaN                                                                         NaN                                                                                                                  1                                       I don't know                                     N/A (not currently aware)                                                                                  Some did                                                                                                                          None did                                                             \n",
       "\n",
       "  Was your anonymity protected if you chose to take advantage of mental health or substance abuse treatment resources with previous employers? Do you think that discussing a mental health disorder with previous employers would have negative consequences? Do you think that discussing a physical health issue with previous employers would have negative consequences? Would you have been willing to discuss a mental health issue with your previous co-workers? Would you have been willing to discuss a mental health issue with your direct supervisor(s)? Did you feel that your previous employers took mental health as seriously as physical health? Did you hear of or observe negative consequences for co-workers with mental health issues in your previous workplaces? Would you be willing to bring up a physical health issue with a potential employer in an interview?                                    Why or why not?  \\\n",
       "0                                       I don't know                                                                                                                                 Some of them                                                                                                    None of them                                                                                  Some of my previous employers                                                               Some of my previous employers                                                                                 I don't know                                                                                  None of them                                                                                                                  Maybe                                                                                                 NaN   \n",
       "1                                        Yes, always                                                                                                                                 None of them                                                                                                    None of them                                                                           No, at none of my previous employers                                                               Some of my previous employers                                                                                     Some did                                                                                  None of them                                                                                                                  Maybe                                                   It would depend on the health issue. If there ...   \n",
       "2                                       I don't know                                                                                                                                 I don't know                                                                                                    Some of them                                                                                  Some of my previous employers                                                                                I don't know                                                                                 I don't know                                                                                  Some of them                                                                                                                    Yes                                                   They would provable need to know, to Judge if ...   \n",
       "3                                       I don't know                                                                                                                                 Some of them                                                                                                    Some of them                                                                                  Some of my previous employers                                                               Some of my previous employers                                                                                 I don't know                                                                                  Some of them                                                                                                                    Yes                                                   old back injury, doesn't cause me many issues ...   \n",
       "4                                       I don't know                                                                                                                                 Some of them                                                                                                    Some of them                                                                           No, at none of my previous employers                                                               Some of my previous employers                                                                                     Some did                                                                                  Some of them                                                                                                                  Maybe                                                   Depending on the interview stage and whether I...   \n",
       "\n",
       "  Would you bring up a mental health issue with a potential employer in an interview?                                  Why or why not?.1 Do you feel that being identified as a person with a mental health issue would hurt your career? Do you think that team members/co-workers would view you more negatively if they knew you suffered from a mental health issue? How willing would you be to share with friends and family that you have a mental illness? Have you observed or experienced an unsupportive or badly handled response to a mental health issue in your current or previous workplace? Have your observations of how another individual who discussed a mental health disorder made you less likely to reveal a mental health issue yourself in your current workplace? Do you have a family history of mental illness? Have you had a mental health disorder in the past? Do you currently have a mental health disorder? If yes, what condition(s) have you been diagnosed with?  \\\n",
       "0                                              Maybe                                                                                 NaN                                              Maybe                                                                     No, I don't think they would                                                                                                                  Somewhat open                                                                                        No                                                                                                                                        NaN                                                                                                                                                                            No                                                Yes                                              No                                                NaN        \n",
       "1                                                 No                                   While mental health has become a more prominen...                         No, I don't think it would                                                                     No, I don't think they would                                                                                                                  Somewhat open                                                                                        No                                                                                                                                        NaN                                                                                                                                                                           Yes                                                Yes                                             Yes  Anxiety Disorder (Generalized, Social, Phobia,...        \n",
       "2                                                Yes                                                                    Stigma, mainly.                                               Maybe                                                                                            Maybe                                                                                                                  Somewhat open                                                                            Maybe/Not sure                                                                                                                                        Yes                                                                                                                                                                            No                                              Maybe                                              No                                                NaN        \n",
       "3                                              Maybe                                   would not if I was not 100% sure that the disc...                              Yes, I think it would                                                                                            Maybe                                                                                                                        Neutral                                                                                        No                                                                                                                                        NaN                                                                                                                                                                            No                                                Yes                                             Yes  Anxiety Disorder (Generalized, Social, Phobia,...        \n",
       "4                                                 No                                                                        I don't know                              Yes, I think it would                                                                                            Maybe                                                                                                                  Somewhat open                                                                        Yes, I experienced                                                                                                                                        Yes                                                                                                                                                                           Yes                                                Yes                                             Yes  Anxiety Disorder (Generalized, Social, Phobia,...        \n",
       "\n",
       "  If maybe, what condition(s) do you believe you have? Have you been diagnosed with a mental health condition by a medical professional?  If so, what condition(s) were you diagnosed with?  Have you ever sought treatment for a mental health issue from a mental health professional? If you have a mental health issue, do you feel that it interferes with your work when being treated effectively? If you have a mental health issue, do you feel that it interferes with your work when NOT being treated effectively?  What is your age? What is your gender? What country do you live in? What US state or territory do you live in? What country do you work in? What US state or territory do you work in? Which of the following best describes your work position? Do you work remotely?  \n",
       "0                                                NaN                                                  Yes                                 Anxiety Disorder (Generalized, Social, Phobia,...                                                  0                                                                         Not applicable to me                                                                                             Not applicable to me                                                                                   39                 Male               United Kingdom                                        NaN               United Kingdom                                        NaN                                 Back-end Developer                    Sometimes  \n",
       "1                                                NaN                                                  Yes                                 Anxiety Disorder (Generalized, Social, Phobia,...                                                  1                                                                                       Rarely                                                                                                        Sometimes                                                                                   29                 male     United States of America                                   Illinois     United States of America                                   Illinois             Back-end Developer|Front-end Developer                        Never  \n",
       "2                                                NaN                                                   No                                                                               NaN                                                  1                                                                         Not applicable to me                                                                                             Not applicable to me                                                                                   38                Male                United Kingdom                                        NaN               United Kingdom                                        NaN                                 Back-end Developer                       Always  \n",
       "3                                                NaN                                                  Yes                                 Anxiety Disorder (Generalized, Social, Phobia,...                                                  1                                                                                    Sometimes                                                                                                        Sometimes                                                                                   43                 male               United Kingdom                                        NaN               United Kingdom                                        NaN                               Supervisor/Team Lead                    Sometimes  \n",
       "4                                                NaN                                                  Yes                                 Anxiety Disorder (Generalized, Social, Phobia,...                                                  1                                                                                    Sometimes                                                                                                        Sometimes                                                                                   43               Female     United States of America                                   Illinois     United States of America                                   Illinois  Executive Leadership|Supervisor/Team Lead|Dev ...                    Sometimes  "
      ]
     },
     "execution_count": 121,
     "metadata": {},
     "output_type": "execute_result"
    }
   ],
   "source": [
    "df = pd.read_csv('mental-heath-in-tech-2016.csv')\n",
    "df.head()"
   ]
  },
  {
   "cell_type": "code",
   "execution_count": 122,
   "metadata": {},
   "outputs": [],
   "source": [
    "column_names = ['Q{}'.format(i+1) for i in range(len(df.columns))]\n",
    "df.columns = column_names"
   ]
  },
  {
   "cell_type": "code",
   "execution_count": 123,
   "metadata": {},
   "outputs": [],
   "source": [
    "for name in column_names:\n",
    "    df[name] = df[name].apply(lambda x: '{}: '.format(name) + str(x) if pd.notnull(x) else np.nan)"
   ]
  },
  {
   "cell_type": "code",
   "execution_count": 124,
   "metadata": {},
   "outputs": [
    {
     "data": {
      "text/html": [
       "<div>\n",
       "<style scoped>\n",
       "    .dataframe tbody tr th:only-of-type {\n",
       "        vertical-align: middle;\n",
       "    }\n",
       "\n",
       "    .dataframe tbody tr th {\n",
       "        vertical-align: top;\n",
       "    }\n",
       "\n",
       "    .dataframe thead th {\n",
       "        text-align: right;\n",
       "    }\n",
       "</style>\n",
       "<table border=\"1\" class=\"dataframe\">\n",
       "  <thead>\n",
       "    <tr style=\"text-align: right;\">\n",
       "      <th></th>\n",
       "      <th>Q1</th>\n",
       "      <th>Q2</th>\n",
       "      <th>Q3</th>\n",
       "      <th>Q4</th>\n",
       "      <th>Q5</th>\n",
       "      <th>Q6</th>\n",
       "      <th>Q7</th>\n",
       "      <th>Q8</th>\n",
       "      <th>Q9</th>\n",
       "      <th>Q10</th>\n",
       "      <th>Q11</th>\n",
       "      <th>Q12</th>\n",
       "      <th>Q13</th>\n",
       "      <th>Q14</th>\n",
       "      <th>Q15</th>\n",
       "      <th>Q16</th>\n",
       "      <th>Q17</th>\n",
       "      <th>Q18</th>\n",
       "      <th>Q19</th>\n",
       "      <th>Q20</th>\n",
       "      <th>Q21</th>\n",
       "      <th>Q22</th>\n",
       "      <th>Q23</th>\n",
       "      <th>Q24</th>\n",
       "      <th>Q25</th>\n",
       "      <th>Q26</th>\n",
       "      <th>Q27</th>\n",
       "      <th>Q28</th>\n",
       "      <th>Q29</th>\n",
       "      <th>Q30</th>\n",
       "      <th>Q31</th>\n",
       "      <th>Q32</th>\n",
       "      <th>Q33</th>\n",
       "      <th>Q34</th>\n",
       "      <th>Q35</th>\n",
       "      <th>Q36</th>\n",
       "      <th>Q37</th>\n",
       "      <th>Q38</th>\n",
       "      <th>Q39</th>\n",
       "      <th>Q40</th>\n",
       "      <th>Q41</th>\n",
       "      <th>Q42</th>\n",
       "      <th>Q43</th>\n",
       "      <th>Q44</th>\n",
       "      <th>Q45</th>\n",
       "      <th>Q46</th>\n",
       "      <th>Q47</th>\n",
       "      <th>Q48</th>\n",
       "      <th>Q49</th>\n",
       "      <th>Q50</th>\n",
       "      <th>Q51</th>\n",
       "      <th>Q52</th>\n",
       "      <th>Q53</th>\n",
       "      <th>Q54</th>\n",
       "      <th>Q55</th>\n",
       "      <th>Q56</th>\n",
       "      <th>Q57</th>\n",
       "      <th>Q58</th>\n",
       "      <th>Q59</th>\n",
       "      <th>Q60</th>\n",
       "      <th>Q61</th>\n",
       "      <th>Q62</th>\n",
       "      <th>Q63</th>\n",
       "    </tr>\n",
       "  </thead>\n",
       "  <tbody>\n",
       "    <tr>\n",
       "      <th>0</th>\n",
       "      <td>Q1: 0</td>\n",
       "      <td>Q2: 26-100</td>\n",
       "      <td>Q3: 1.0</td>\n",
       "      <td>NaN</td>\n",
       "      <td>Q5: Not eligible for coverage / N/A</td>\n",
       "      <td>NaN</td>\n",
       "      <td>Q7: No</td>\n",
       "      <td>Q8: No</td>\n",
       "      <td>Q9: I don't know</td>\n",
       "      <td>Q10: Very easy</td>\n",
       "      <td>Q11: No</td>\n",
       "      <td>Q12: No</td>\n",
       "      <td>Q13: Maybe</td>\n",
       "      <td>Q14: Yes</td>\n",
       "      <td>Q15: I don't know</td>\n",
       "      <td>Q16: No</td>\n",
       "      <td>NaN</td>\n",
       "      <td>NaN</td>\n",
       "      <td>NaN</td>\n",
       "      <td>NaN</td>\n",
       "      <td>NaN</td>\n",
       "      <td>NaN</td>\n",
       "      <td>NaN</td>\n",
       "      <td>NaN</td>\n",
       "      <td>Q25: 1</td>\n",
       "      <td>Q26: No, none did</td>\n",
       "      <td>Q27: N/A (not currently aware)</td>\n",
       "      <td>Q28: I don't know</td>\n",
       "      <td>Q29: None did</td>\n",
       "      <td>Q30: I don't know</td>\n",
       "      <td>Q31: Some of them</td>\n",
       "      <td>Q32: None of them</td>\n",
       "      <td>Q33: Some of my previous employers</td>\n",
       "      <td>Q34: Some of my previous employers</td>\n",
       "      <td>Q35: I don't know</td>\n",
       "      <td>Q36: None of them</td>\n",
       "      <td>Q37: Maybe</td>\n",
       "      <td>NaN</td>\n",
       "      <td>Q39: Maybe</td>\n",
       "      <td>NaN</td>\n",
       "      <td>Q41: Maybe</td>\n",
       "      <td>Q42: No, I don't think they would</td>\n",
       "      <td>Q43: Somewhat open</td>\n",
       "      <td>Q44: No</td>\n",
       "      <td>NaN</td>\n",
       "      <td>Q46: No</td>\n",
       "      <td>Q47: Yes</td>\n",
       "      <td>Q48: No</td>\n",
       "      <td>NaN</td>\n",
       "      <td>NaN</td>\n",
       "      <td>Q51: Yes</td>\n",
       "      <td>Q52: Anxiety Disorder (Generalized, Social, Ph...</td>\n",
       "      <td>Q53: 0</td>\n",
       "      <td>Q54: Not applicable to me</td>\n",
       "      <td>Q55: Not applicable to me</td>\n",
       "      <td>Q56: 39</td>\n",
       "      <td>Q57: Male</td>\n",
       "      <td>Q58: United Kingdom</td>\n",
       "      <td>NaN</td>\n",
       "      <td>Q60: United Kingdom</td>\n",
       "      <td>NaN</td>\n",
       "      <td>Q62: Back-end Developer</td>\n",
       "      <td>Q63: Sometimes</td>\n",
       "    </tr>\n",
       "    <tr>\n",
       "      <th>1</th>\n",
       "      <td>Q1: 0</td>\n",
       "      <td>Q2: 6-25</td>\n",
       "      <td>Q3: 1.0</td>\n",
       "      <td>NaN</td>\n",
       "      <td>Q5: No</td>\n",
       "      <td>Q6: Yes</td>\n",
       "      <td>Q7: Yes</td>\n",
       "      <td>Q8: Yes</td>\n",
       "      <td>Q9: Yes</td>\n",
       "      <td>Q10: Somewhat easy</td>\n",
       "      <td>Q11: No</td>\n",
       "      <td>Q12: No</td>\n",
       "      <td>Q13: Maybe</td>\n",
       "      <td>Q14: Yes</td>\n",
       "      <td>Q15: Yes</td>\n",
       "      <td>Q16: No</td>\n",
       "      <td>NaN</td>\n",
       "      <td>NaN</td>\n",
       "      <td>NaN</td>\n",
       "      <td>NaN</td>\n",
       "      <td>NaN</td>\n",
       "      <td>NaN</td>\n",
       "      <td>NaN</td>\n",
       "      <td>NaN</td>\n",
       "      <td>Q25: 1</td>\n",
       "      <td>Q26: Yes, they all did</td>\n",
       "      <td>Q27: I was aware of some</td>\n",
       "      <td>Q28: None did</td>\n",
       "      <td>Q29: Some did</td>\n",
       "      <td>Q30: Yes, always</td>\n",
       "      <td>Q31: None of them</td>\n",
       "      <td>Q32: None of them</td>\n",
       "      <td>Q33: No, at none of my previous employers</td>\n",
       "      <td>Q34: Some of my previous employers</td>\n",
       "      <td>Q35: Some did</td>\n",
       "      <td>Q36: None of them</td>\n",
       "      <td>Q37: Maybe</td>\n",
       "      <td>Q38: It would depend on the health issue. If t...</td>\n",
       "      <td>Q39: No</td>\n",
       "      <td>Q40: While mental health has become a more pro...</td>\n",
       "      <td>Q41: No, I don't think it would</td>\n",
       "      <td>Q42: No, I don't think they would</td>\n",
       "      <td>Q43: Somewhat open</td>\n",
       "      <td>Q44: No</td>\n",
       "      <td>NaN</td>\n",
       "      <td>Q46: Yes</td>\n",
       "      <td>Q47: Yes</td>\n",
       "      <td>Q48: Yes</td>\n",
       "      <td>Q49: Anxiety Disorder (Generalized, Social, Ph...</td>\n",
       "      <td>NaN</td>\n",
       "      <td>Q51: Yes</td>\n",
       "      <td>Q52: Anxiety Disorder (Generalized, Social, Ph...</td>\n",
       "      <td>Q53: 1</td>\n",
       "      <td>Q54: Rarely</td>\n",
       "      <td>Q55: Sometimes</td>\n",
       "      <td>Q56: 29</td>\n",
       "      <td>Q57: male</td>\n",
       "      <td>Q58: United States of America</td>\n",
       "      <td>Q59: Illinois</td>\n",
       "      <td>Q60: United States of America</td>\n",
       "      <td>Q61: Illinois</td>\n",
       "      <td>Q62: Back-end Developer|Front-end Developer</td>\n",
       "      <td>Q63: Never</td>\n",
       "    </tr>\n",
       "    <tr>\n",
       "      <th>2</th>\n",
       "      <td>Q1: 0</td>\n",
       "      <td>Q2: 6-25</td>\n",
       "      <td>Q3: 1.0</td>\n",
       "      <td>NaN</td>\n",
       "      <td>Q5: No</td>\n",
       "      <td>NaN</td>\n",
       "      <td>Q7: No</td>\n",
       "      <td>Q8: No</td>\n",
       "      <td>Q9: I don't know</td>\n",
       "      <td>Q10: Neither easy nor difficult</td>\n",
       "      <td>Q11: Maybe</td>\n",
       "      <td>Q12: No</td>\n",
       "      <td>Q13: Maybe</td>\n",
       "      <td>Q14: Maybe</td>\n",
       "      <td>Q15: I don't know</td>\n",
       "      <td>Q16: No</td>\n",
       "      <td>NaN</td>\n",
       "      <td>NaN</td>\n",
       "      <td>NaN</td>\n",
       "      <td>NaN</td>\n",
       "      <td>NaN</td>\n",
       "      <td>NaN</td>\n",
       "      <td>NaN</td>\n",
       "      <td>NaN</td>\n",
       "      <td>Q25: 1</td>\n",
       "      <td>Q26: No, none did</td>\n",
       "      <td>Q27: N/A (not currently aware)</td>\n",
       "      <td>Q28: None did</td>\n",
       "      <td>Q29: Some did</td>\n",
       "      <td>Q30: I don't know</td>\n",
       "      <td>Q31: I don't know</td>\n",
       "      <td>Q32: Some of them</td>\n",
       "      <td>Q33: Some of my previous employers</td>\n",
       "      <td>Q34: I don't know</td>\n",
       "      <td>Q35: I don't know</td>\n",
       "      <td>Q36: Some of them</td>\n",
       "      <td>Q37: Yes</td>\n",
       "      <td>Q38: They would provable need to know, to Judg...</td>\n",
       "      <td>Q39: Yes</td>\n",
       "      <td>Q40: Stigma, mainly.</td>\n",
       "      <td>Q41: Maybe</td>\n",
       "      <td>Q42: Maybe</td>\n",
       "      <td>Q43: Somewhat open</td>\n",
       "      <td>Q44: Maybe/Not sure</td>\n",
       "      <td>Q45: Yes</td>\n",
       "      <td>Q46: No</td>\n",
       "      <td>Q47: Maybe</td>\n",
       "      <td>Q48: No</td>\n",
       "      <td>NaN</td>\n",
       "      <td>NaN</td>\n",
       "      <td>Q51: No</td>\n",
       "      <td>NaN</td>\n",
       "      <td>Q53: 1</td>\n",
       "      <td>Q54: Not applicable to me</td>\n",
       "      <td>Q55: Not applicable to me</td>\n",
       "      <td>Q56: 38</td>\n",
       "      <td>Q57: Male</td>\n",
       "      <td>Q58: United Kingdom</td>\n",
       "      <td>NaN</td>\n",
       "      <td>Q60: United Kingdom</td>\n",
       "      <td>NaN</td>\n",
       "      <td>Q62: Back-end Developer</td>\n",
       "      <td>Q63: Always</td>\n",
       "    </tr>\n",
       "    <tr>\n",
       "      <th>3</th>\n",
       "      <td>Q1: 1</td>\n",
       "      <td>NaN</td>\n",
       "      <td>NaN</td>\n",
       "      <td>NaN</td>\n",
       "      <td>NaN</td>\n",
       "      <td>NaN</td>\n",
       "      <td>NaN</td>\n",
       "      <td>NaN</td>\n",
       "      <td>NaN</td>\n",
       "      <td>NaN</td>\n",
       "      <td>NaN</td>\n",
       "      <td>NaN</td>\n",
       "      <td>NaN</td>\n",
       "      <td>NaN</td>\n",
       "      <td>NaN</td>\n",
       "      <td>NaN</td>\n",
       "      <td>Q17: 1.0</td>\n",
       "      <td>Q18: Yes, I know several</td>\n",
       "      <td>Q19: Sometimes, if it comes up</td>\n",
       "      <td>Q20: I'm not sure</td>\n",
       "      <td>Q21: Sometimes, if it comes up</td>\n",
       "      <td>Q22: I'm not sure</td>\n",
       "      <td>Q23: Yes</td>\n",
       "      <td>Q24: 1-25%</td>\n",
       "      <td>Q25: 1</td>\n",
       "      <td>Q26: Some did</td>\n",
       "      <td>Q27: N/A (not currently aware)</td>\n",
       "      <td>Q28: None did</td>\n",
       "      <td>Q29: None did</td>\n",
       "      <td>Q30: I don't know</td>\n",
       "      <td>Q31: Some of them</td>\n",
       "      <td>Q32: Some of them</td>\n",
       "      <td>Q33: Some of my previous employers</td>\n",
       "      <td>Q34: Some of my previous employers</td>\n",
       "      <td>Q35: I don't know</td>\n",
       "      <td>Q36: Some of them</td>\n",
       "      <td>Q37: Yes</td>\n",
       "      <td>Q38: old back injury, doesn't cause me many is...</td>\n",
       "      <td>Q39: Maybe</td>\n",
       "      <td>Q40: would not if I was not 100% sure that the...</td>\n",
       "      <td>Q41: Yes, I think it would</td>\n",
       "      <td>Q42: Maybe</td>\n",
       "      <td>Q43: Neutral</td>\n",
       "      <td>Q44: No</td>\n",
       "      <td>NaN</td>\n",
       "      <td>Q46: No</td>\n",
       "      <td>Q47: Yes</td>\n",
       "      <td>Q48: Yes</td>\n",
       "      <td>Q49: Anxiety Disorder (Generalized, Social, Ph...</td>\n",
       "      <td>NaN</td>\n",
       "      <td>Q51: Yes</td>\n",
       "      <td>Q52: Anxiety Disorder (Generalized, Social, Ph...</td>\n",
       "      <td>Q53: 1</td>\n",
       "      <td>Q54: Sometimes</td>\n",
       "      <td>Q55: Sometimes</td>\n",
       "      <td>Q56: 43</td>\n",
       "      <td>Q57: male</td>\n",
       "      <td>Q58: United Kingdom</td>\n",
       "      <td>NaN</td>\n",
       "      <td>Q60: United Kingdom</td>\n",
       "      <td>NaN</td>\n",
       "      <td>Q62: Supervisor/Team Lead</td>\n",
       "      <td>Q63: Sometimes</td>\n",
       "    </tr>\n",
       "    <tr>\n",
       "      <th>4</th>\n",
       "      <td>Q1: 0</td>\n",
       "      <td>Q2: 6-25</td>\n",
       "      <td>Q3: 0.0</td>\n",
       "      <td>Q4: 1.0</td>\n",
       "      <td>Q5: Yes</td>\n",
       "      <td>Q6: Yes</td>\n",
       "      <td>Q7: No</td>\n",
       "      <td>Q8: No</td>\n",
       "      <td>Q9: No</td>\n",
       "      <td>Q10: Neither easy nor difficult</td>\n",
       "      <td>Q11: Yes</td>\n",
       "      <td>Q12: Maybe</td>\n",
       "      <td>Q13: Maybe</td>\n",
       "      <td>Q14: No</td>\n",
       "      <td>Q15: No</td>\n",
       "      <td>Q16: No</td>\n",
       "      <td>NaN</td>\n",
       "      <td>NaN</td>\n",
       "      <td>NaN</td>\n",
       "      <td>NaN</td>\n",
       "      <td>NaN</td>\n",
       "      <td>NaN</td>\n",
       "      <td>NaN</td>\n",
       "      <td>NaN</td>\n",
       "      <td>Q25: 1</td>\n",
       "      <td>Q26: I don't know</td>\n",
       "      <td>Q27: N/A (not currently aware)</td>\n",
       "      <td>Q28: Some did</td>\n",
       "      <td>Q29: None did</td>\n",
       "      <td>Q30: I don't know</td>\n",
       "      <td>Q31: Some of them</td>\n",
       "      <td>Q32: Some of them</td>\n",
       "      <td>Q33: No, at none of my previous employers</td>\n",
       "      <td>Q34: Some of my previous employers</td>\n",
       "      <td>Q35: Some did</td>\n",
       "      <td>Q36: Some of them</td>\n",
       "      <td>Q37: Maybe</td>\n",
       "      <td>Q38: Depending on the interview stage and whet...</td>\n",
       "      <td>Q39: No</td>\n",
       "      <td>Q40: I don't know</td>\n",
       "      <td>Q41: Yes, I think it would</td>\n",
       "      <td>Q42: Maybe</td>\n",
       "      <td>Q43: Somewhat open</td>\n",
       "      <td>Q44: Yes, I experienced</td>\n",
       "      <td>Q45: Yes</td>\n",
       "      <td>Q46: Yes</td>\n",
       "      <td>Q47: Yes</td>\n",
       "      <td>Q48: Yes</td>\n",
       "      <td>Q49: Anxiety Disorder (Generalized, Social, Ph...</td>\n",
       "      <td>NaN</td>\n",
       "      <td>Q51: Yes</td>\n",
       "      <td>Q52: Anxiety Disorder (Generalized, Social, Ph...</td>\n",
       "      <td>Q53: 1</td>\n",
       "      <td>Q54: Sometimes</td>\n",
       "      <td>Q55: Sometimes</td>\n",
       "      <td>Q56: 43</td>\n",
       "      <td>Q57: Female</td>\n",
       "      <td>Q58: United States of America</td>\n",
       "      <td>Q59: Illinois</td>\n",
       "      <td>Q60: United States of America</td>\n",
       "      <td>Q61: Illinois</td>\n",
       "      <td>Q62: Executive Leadership|Supervisor/Team Lead...</td>\n",
       "      <td>Q63: Sometimes</td>\n",
       "    </tr>\n",
       "  </tbody>\n",
       "</table>\n",
       "</div>"
      ],
      "text/plain": [
       "      Q1          Q2       Q3       Q4                                   Q5       Q6       Q7       Q8                Q9                              Q10         Q11         Q12         Q13         Q14                Q15      Q16       Q17                       Q18                             Q19                Q20                             Q21                Q22       Q23         Q24     Q25                     Q26                             Q27                Q28            Q29                Q30                Q31                Q32                                        Q33                                 Q34                Q35                Q36         Q37                                                Q38         Q39                                                Q40                              Q41                                Q42                 Q43                      Q44       Q45       Q46         Q47       Q48                                                Q49  \\\n",
       "0  Q1: 0  Q2: 26-100  Q3: 1.0      NaN  Q5: Not eligible for coverage / N/A      NaN   Q7: No   Q8: No  Q9: I don't know                   Q10: Very easy     Q11: No     Q12: No  Q13: Maybe    Q14: Yes  Q15: I don't know  Q16: No       NaN                       NaN                             NaN                NaN                             NaN                NaN       NaN         NaN  Q25: 1       Q26: No, none did  Q27: N/A (not currently aware)  Q28: I don't know  Q29: None did  Q30: I don't know  Q31: Some of them  Q32: None of them         Q33: Some of my previous employers  Q34: Some of my previous employers  Q35: I don't know  Q36: None of them  Q37: Maybe                                                NaN  Q39: Maybe                                                NaN                       Q41: Maybe  Q42: No, I don't think they would  Q43: Somewhat open                  Q44: No       NaN   Q46: No    Q47: Yes   Q48: No                                                NaN   \n",
       "1  Q1: 0    Q2: 6-25  Q3: 1.0      NaN                               Q5: No  Q6: Yes  Q7: Yes  Q8: Yes           Q9: Yes               Q10: Somewhat easy     Q11: No     Q12: No  Q13: Maybe    Q14: Yes           Q15: Yes  Q16: No       NaN                       NaN                             NaN                NaN                             NaN                NaN       NaN         NaN  Q25: 1  Q26: Yes, they all did        Q27: I was aware of some      Q28: None did  Q29: Some did   Q30: Yes, always  Q31: None of them  Q32: None of them  Q33: No, at none of my previous employers  Q34: Some of my previous employers      Q35: Some did  Q36: None of them  Q37: Maybe  Q38: It would depend on the health issue. If t...     Q39: No  Q40: While mental health has become a more pro...  Q41: No, I don't think it would  Q42: No, I don't think they would  Q43: Somewhat open                  Q44: No       NaN  Q46: Yes    Q47: Yes  Q48: Yes  Q49: Anxiety Disorder (Generalized, Social, Ph...   \n",
       "2  Q1: 0    Q2: 6-25  Q3: 1.0      NaN                               Q5: No      NaN   Q7: No   Q8: No  Q9: I don't know  Q10: Neither easy nor difficult  Q11: Maybe     Q12: No  Q13: Maybe  Q14: Maybe  Q15: I don't know  Q16: No       NaN                       NaN                             NaN                NaN                             NaN                NaN       NaN         NaN  Q25: 1       Q26: No, none did  Q27: N/A (not currently aware)      Q28: None did  Q29: Some did  Q30: I don't know  Q31: I don't know  Q32: Some of them         Q33: Some of my previous employers                   Q34: I don't know  Q35: I don't know  Q36: Some of them    Q37: Yes  Q38: They would provable need to know, to Judg...    Q39: Yes                              Q40: Stigma, mainly.                        Q41: Maybe                         Q42: Maybe  Q43: Somewhat open      Q44: Maybe/Not sure  Q45: Yes   Q46: No  Q47: Maybe   Q48: No                                                NaN   \n",
       "3  Q1: 1         NaN      NaN      NaN                                  NaN      NaN      NaN      NaN               NaN                              NaN         NaN         NaN         NaN         NaN                NaN      NaN  Q17: 1.0  Q18: Yes, I know several  Q19: Sometimes, if it comes up  Q20: I'm not sure  Q21: Sometimes, if it comes up  Q22: I'm not sure  Q23: Yes  Q24: 1-25%  Q25: 1           Q26: Some did  Q27: N/A (not currently aware)      Q28: None did  Q29: None did  Q30: I don't know  Q31: Some of them  Q32: Some of them         Q33: Some of my previous employers  Q34: Some of my previous employers  Q35: I don't know  Q36: Some of them    Q37: Yes  Q38: old back injury, doesn't cause me many is...  Q39: Maybe  Q40: would not if I was not 100% sure that the...       Q41: Yes, I think it would                         Q42: Maybe        Q43: Neutral                  Q44: No       NaN   Q46: No    Q47: Yes  Q48: Yes  Q49: Anxiety Disorder (Generalized, Social, Ph...   \n",
       "4  Q1: 0    Q2: 6-25  Q3: 0.0  Q4: 1.0                              Q5: Yes  Q6: Yes   Q7: No   Q8: No            Q9: No  Q10: Neither easy nor difficult    Q11: Yes  Q12: Maybe  Q13: Maybe     Q14: No            Q15: No  Q16: No       NaN                       NaN                             NaN                NaN                             NaN                NaN       NaN         NaN  Q25: 1       Q26: I don't know  Q27: N/A (not currently aware)      Q28: Some did  Q29: None did  Q30: I don't know  Q31: Some of them  Q32: Some of them  Q33: No, at none of my previous employers  Q34: Some of my previous employers      Q35: Some did  Q36: Some of them  Q37: Maybe  Q38: Depending on the interview stage and whet...     Q39: No                                  Q40: I don't know       Q41: Yes, I think it would                         Q42: Maybe  Q43: Somewhat open  Q44: Yes, I experienced  Q45: Yes  Q46: Yes    Q47: Yes  Q48: Yes  Q49: Anxiety Disorder (Generalized, Social, Ph...   \n",
       "\n",
       "   Q50       Q51                                                Q52     Q53                        Q54                        Q55      Q56          Q57                            Q58            Q59                            Q60            Q61                                                Q62             Q63  \n",
       "0  NaN  Q51: Yes  Q52: Anxiety Disorder (Generalized, Social, Ph...  Q53: 0  Q54: Not applicable to me  Q55: Not applicable to me  Q56: 39    Q57: Male            Q58: United Kingdom            NaN            Q60: United Kingdom            NaN                            Q62: Back-end Developer  Q63: Sometimes  \n",
       "1  NaN  Q51: Yes  Q52: Anxiety Disorder (Generalized, Social, Ph...  Q53: 1                Q54: Rarely             Q55: Sometimes  Q56: 29    Q57: male  Q58: United States of America  Q59: Illinois  Q60: United States of America  Q61: Illinois        Q62: Back-end Developer|Front-end Developer      Q63: Never  \n",
       "2  NaN   Q51: No                                                NaN  Q53: 1  Q54: Not applicable to me  Q55: Not applicable to me  Q56: 38   Q57: Male             Q58: United Kingdom            NaN            Q60: United Kingdom            NaN                            Q62: Back-end Developer     Q63: Always  \n",
       "3  NaN  Q51: Yes  Q52: Anxiety Disorder (Generalized, Social, Ph...  Q53: 1             Q54: Sometimes             Q55: Sometimes  Q56: 43    Q57: male            Q58: United Kingdom            NaN            Q60: United Kingdom            NaN                          Q62: Supervisor/Team Lead  Q63: Sometimes  \n",
       "4  NaN  Q51: Yes  Q52: Anxiety Disorder (Generalized, Social, Ph...  Q53: 1             Q54: Sometimes             Q55: Sometimes  Q56: 43  Q57: Female  Q58: United States of America  Q59: Illinois  Q60: United States of America  Q61: Illinois  Q62: Executive Leadership|Supervisor/Team Lead...  Q63: Sometimes  "
      ]
     },
     "execution_count": 124,
     "metadata": {},
     "output_type": "execute_result"
    }
   ],
   "source": [
    "df.head()"
   ]
  },
  {
   "cell_type": "code",
   "execution_count": 125,
   "metadata": {},
   "outputs": [
    {
     "data": {
      "text/plain": [
       "array(['Q48: No', 'Q48: Yes', 'Q48: Maybe'], dtype=object)"
      ]
     },
     "execution_count": 125,
     "metadata": {},
     "output_type": "execute_result"
    }
   ],
   "source": [
    "df['Q48'].unique()"
   ]
  },
  {
   "cell_type": "markdown",
   "metadata": {},
   "source": [
    "Transformation: One hot encoding across all columns, across all values"
   ]
  },
  {
   "cell_type": "code",
   "execution_count": 126,
   "metadata": {},
   "outputs": [
    {
     "name": "stderr",
     "output_type": "stream",
     "text": [
      "C:\\Users\\User\\Anaconda3\\lib\\site-packages\\ipykernel_launcher.py:1: FutureWarning: Method .as_matrix will be removed in a future version. Use .values instead.\n",
      "  \"\"\"Entry point for launching an IPython kernel.\n"
     ]
    }
   ],
   "source": [
    "input_lists = df.as_matrix().tolist()\n",
    "cleaned_lists = []\n",
    "for l in input_lists:\n",
    "    l = [x for x in l if str(x) != 'nan']\n",
    "    cleaned_lists.append(l)"
   ]
  },
  {
   "cell_type": "code",
   "execution_count": 127,
   "metadata": {},
   "outputs": [],
   "source": [
    "from mlxtend.preprocessing import OnehotTransactions"
   ]
  },
  {
   "cell_type": "code",
   "execution_count": 128,
   "metadata": {},
   "outputs": [
    {
     "name": "stderr",
     "output_type": "stream",
     "text": [
      "C:\\Users\\User\\Anaconda3\\lib\\site-packages\\mlxtend\\preprocessing\\onehot.py:66: DeprecationWarning: OnehotTransactions has been deprecated and will be removed in future. Please use TransactionEncoder instead.\n",
      "  warnings.warn(msg, DeprecationWarning)\n"
     ]
    },
    {
     "data": {
      "text/html": [
       "<div>\n",
       "<style scoped>\n",
       "    .dataframe tbody tr th:only-of-type {\n",
       "        vertical-align: middle;\n",
       "    }\n",
       "\n",
       "    .dataframe tbody tr th {\n",
       "        vertical-align: top;\n",
       "    }\n",
       "\n",
       "    .dataframe thead th {\n",
       "        text-align: right;\n",
       "    }\n",
       "</style>\n",
       "<table border=\"1\" class=\"dataframe\">\n",
       "  <thead>\n",
       "    <tr style=\"text-align: right;\">\n",
       "      <th></th>\n",
       "      <th>Q10: I don't know</th>\n",
       "      <th>Q10: Neither easy nor difficult</th>\n",
       "      <th>Q10: Somewhat difficult</th>\n",
       "      <th>Q10: Somewhat easy</th>\n",
       "      <th>Q10: Very difficult</th>\n",
       "      <th>Q10: Very easy</th>\n",
       "      <th>Q11: Maybe</th>\n",
       "      <th>Q11: No</th>\n",
       "      <th>Q11: Yes</th>\n",
       "      <th>Q12: Maybe</th>\n",
       "      <th>Q12: No</th>\n",
       "      <th>Q12: Yes</th>\n",
       "      <th>Q13: Maybe</th>\n",
       "      <th>Q13: No</th>\n",
       "      <th>Q13: Yes</th>\n",
       "      <th>Q14: Maybe</th>\n",
       "      <th>Q14: No</th>\n",
       "      <th>Q14: Yes</th>\n",
       "      <th>Q15: I don't know</th>\n",
       "      <th>Q15: No</th>\n",
       "      <th>Q15: Yes</th>\n",
       "      <th>Q16: No</th>\n",
       "      <th>Q16: Yes</th>\n",
       "      <th>Q17: 0.0</th>\n",
       "      <th>Q17: 1.0</th>\n",
       "      <th>Q18: I know some</th>\n",
       "      <th>Q18: No, I don't know any</th>\n",
       "      <th>Q18: Yes, I know several</th>\n",
       "      <th>Q19: No, because it doesn't matter</th>\n",
       "      <th>Q19: No, because it would impact me negatively</th>\n",
       "      <th>Q19: Not applicable to me</th>\n",
       "      <th>Q19: Sometimes, if it comes up</th>\n",
       "      <th>Q19: Yes, always</th>\n",
       "      <th>Q1: 0</th>\n",
       "      <th>Q1: 1</th>\n",
       "      <th>Q20: I'm not sure</th>\n",
       "      <th>Q20: No</th>\n",
       "      <th>Q20: Yes</th>\n",
       "      <th>Q21: No, because it doesn't matter</th>\n",
       "      <th>Q21: No, because it would impact me negatively</th>\n",
       "      <th>Q21: Not applicable to me</th>\n",
       "      <th>Q21: Sometimes, if it comes up</th>\n",
       "      <th>Q21: Yes, always</th>\n",
       "      <th>Q22: I'm not sure</th>\n",
       "      <th>Q22: No</th>\n",
       "      <th>Q22: Not applicable to me</th>\n",
       "      <th>Q22: Yes</th>\n",
       "      <th>Q23: No</th>\n",
       "      <th>Q23: Not applicable to me</th>\n",
       "      <th>Q23: Unsure</th>\n",
       "      <th>Q23: Yes</th>\n",
       "      <th>Q24: 1-25%</th>\n",
       "      <th>Q24: 26-50%</th>\n",
       "      <th>Q24: 51-75%</th>\n",
       "      <th>Q24: 76-100%</th>\n",
       "      <th>Q25: 0</th>\n",
       "      <th>Q25: 1</th>\n",
       "      <th>Q26: I don't know</th>\n",
       "      <th>Q26: No, none did</th>\n",
       "      <th>Q26: Some did</th>\n",
       "      <th>Q26: Yes, they all did</th>\n",
       "      <th>Q27: I was aware of some</th>\n",
       "      <th>Q27: N/A (not currently aware)</th>\n",
       "      <th>Q27: No, I only became aware later</th>\n",
       "      <th>Q27: Yes, I was aware of all of them</th>\n",
       "      <th>Q28: I don't know</th>\n",
       "      <th>Q28: None did</th>\n",
       "      <th>Q28: Some did</th>\n",
       "      <th>Q28: Yes, they all did</th>\n",
       "      <th>Q29: None did</th>\n",
       "      <th>Q29: Some did</th>\n",
       "      <th>Q29: Yes, they all did</th>\n",
       "      <th>Q2: 1-5</th>\n",
       "      <th>Q2: 100-500</th>\n",
       "      <th>Q2: 26-100</th>\n",
       "      <th>Q2: 500-1000</th>\n",
       "      <th>Q2: 6-25</th>\n",
       "      <th>Q2: More than 1000</th>\n",
       "      <th>Q30: I don't know</th>\n",
       "      <th>Q30: No</th>\n",
       "      <th>Q30: Sometimes</th>\n",
       "      <th>Q30: Yes, always</th>\n",
       "      <th>Q31: I don't know</th>\n",
       "      <th>Q31: None of them</th>\n",
       "      <th>Q31: Some of them</th>\n",
       "      <th>Q31: Yes, all of them</th>\n",
       "      <th>Q32: None of them</th>\n",
       "      <th>Q32: Some of them</th>\n",
       "      <th>Q32: Yes, all of them</th>\n",
       "      <th>Q33: No, at none of my previous employers</th>\n",
       "      <th>Q33: Some of my previous employers</th>\n",
       "      <th>Q33: Yes, at all of my previous employers</th>\n",
       "      <th>Q34: I don't know</th>\n",
       "      <th>Q34: No, at none of my previous employers</th>\n",
       "      <th>Q34: Some of my previous employers</th>\n",
       "      <th>Q34: Yes, at all of my previous employers</th>\n",
       "      <th>Q35: I don't know</th>\n",
       "      <th>Q35: None did</th>\n",
       "      <th>Q35: Some did</th>\n",
       "      <th>Q35: Yes, they all did</th>\n",
       "      <th>Q36: None of them</th>\n",
       "      <th>Q36: Some of them</th>\n",
       "      <th>Q36: Yes, all of them</th>\n",
       "      <th>Q37: Maybe</th>\n",
       "      <th>Q37: No</th>\n",
       "      <th>Q37: Yes</th>\n",
       "      <th>Q38:  Don't trust potential employers to not judge.</th>\n",
       "      <th>Q38:  QF</th>\n",
       "      <th>Q38: .</th>\n",
       "      <th>Q38: ?</th>\n",
       "      <th>Q38: A health issue would have a negative effect on getting the job.</th>\n",
       "      <th>Q38: A place where I need to look and sound my best doesn't seem like the time to mention that I have something \"disordered\" about me.</th>\n",
       "      <th>Q38: A sleep-related disorder prevents me from being able to arrive at early hours, which a large part of employers require.</th>\n",
       "      <th>Q38: AFAIK, during an interview, it's recommended to not discuss things that may impair one's availability, or might cause excessive drain on insurance benefits. So much so that it might cause the employer to choose another candidate.</th>\n",
       "      <th>Q38: AT least at the places I have worked - IT in banking..it was a very macho hardass culture across the board. In nonprofit spots - the budgets were so tight everyone complained all the time and had it hard...not as hard as me with untreated ADHD, depression and anxiety...but hard. It should have come up in all previous workplaces but I never feel safe bringing it up. I freelance now so I can deal with structuring my own work hours etc...but, I am really really struggling both due to isolation and just...freelancing is a real grind. If I didn't have Obamacare I would be completely screwed. AS it is I am only semi screwed. ALSO  - what I wish you would ask in this survey is about caretaking. \n",
       "I am female in IT..and disabled. I take care of my elderly mother and my developmentally disabled brother. \n",
       "What NEVER gets discussed is who does the caretaking in families when someone breaks down or is unable to work...it's women, sisters, daughters, mothers... So PLEASE work caretaking survey questions into your surveys.\n",
       "\n",
       "I can't just say it's about me...I'm under water because no one is helping with my brother or mother..least of all my father who died penniless after years on wall street making millions. He was ADHD too...and alcoholic and depressed...but, he was a \"master of the universe\" type doing IPOs for tech companies...and a \"liberatarian\"... \n",
       "\n",
       "So yeah - please get more intersectional in how you survey this landscape. I'm screwed NOT just because of my disabilities...but my gender as well.\n",
       "\n",
       "Sooo - this survey should have a \"Did we miss anything\" open question at the end. Two things. One - My ADHD is an asset when treated and understood...Also - When I finally got coverage at work 20 years ago...I was put on a med which I had a very bad reaction to - at work. Getting treated (after decades) ended up cratering my worklife for ten years or so. Wrong meds *really* messed me up - along with wrong DX. I couldn't be open about it. And then had a serious breakdown at work...and was fired immediately. No mercy. No understanding - I told them what was going on and I was gone. Because I wasn't well.. I couldn't defend myself. I became homeless for a while. I'm OK now...but it was a *mess* caused BY getting poor medical treatment for pretty run of the mill depression...I was in Silicon Valley at the time and over 30 and female. There was NO space for me to be anything less that 120% perfect as I was one of very few women working in SV at the time.</th>\n",
       "      <th>Q38: Afraid it would affect outcome</th>\n",
       "      <th>Q38: Afraid it would cost me the job.</th>\n",
       "      <th>Q38: Afraid of adding something negative to the balance sheet</th>\n",
       "      <th>Q38: Afraid of prejudice</th>\n",
       "      <th>Q38: Afraid of seeming weak.</th>\n",
       "      <th>Q38: Although I know in some places employers are not supposed to discriminate against candidates due to ability status, some still do. If and only if it were something that would require significant accommodations or if it was a visible disability, like a wheelchair, would I bring it up.</th>\n",
       "      <th>Q38: Although illegal, I wouldn't want a physical health issue to weigh on someones mind when they make the decision whether or not to hire me.</th>\n",
       "      <th>Q38: Although it should be protected, not convinced it wouldn't harm my chances.</th>\n",
       "      <th>Q38: An employer should know any limitations you have.</th>\n",
       "      <th>Q38: An employer weighs the impact to quality/availability of work and the cost to productivity as well as the cost (in my case) to ensure that I have the proper equipment (I'm obese).  Unfortunately, it's not something that's avoidable for the employer to notice.</th>\n",
       "      <th>Q38: Any health issue is potentially a liability, so I would hesitate to mention it unless it had direct bearing on the job responsibilities.</th>\n",
       "      <th>Q38: Any perceived issue could affect hirability, anti-discrimination policy or no.</th>\n",
       "      <th>Q38: Anything that would add complications or additional load on my potential employer seems to only have negative ramifications.</th>\n",
       "      <th>Q38: As I don't suffer from anything particularly serious it's hard to imagine, but if I did I feel more as if I would be compelled to state this; as if it was likely to affect my ability to work I would want to be upfront about it. If it didn't affect my ability to work I might avoid mentioning it straight away to mitigate the chance of negative concequences</th>\n",
       "      <th>Q38: As a matter of privacy, I would not.</th>\n",
       "      <th>Q38: As a middle-aged women coder, I feel I already have two strikes against me when I interview.</th>\n",
       "      <th>Q38: As a type 1 diabetic I try to advocate for equal treatment and would not avoid bringing up a physical health issue</th>\n",
       "      <th>Q38: As it may inhibit my chances of getting the position.</th>\n",
       "      <th>Q38: BECAUSE</th>\n",
       "      <th>Q38: Because I don't trust insurance companies.</th>\n",
       "      <th>Q38: Because I feel it would be a big negative.</th>\n",
       "      <th>Q38: Because I think it would hurt your chances of being hired. Although it depends on the physical issue.</th>\n",
       "      <th>Q38: Because I value honesty very much and know that setting expectations in very beneficial for everybody</th>\n",
       "      <th>Q38: Because I would want the job.</th>\n",
       "      <th>Q38: Because I wouldn't want to work for a company who wouldn't support someone with a condition.</th>\n",
       "      <th>Q38: Because I'd be automatically sorted out. Let's face it folks: Whether its a \"physical\" or a \"mental\" impairment, reality and the \"would be nice\" situation / laws are two complete different things.</th>\n",
       "      <th>Q38: Because I'd die if I had to physically work beyond my capacity.</th>\n",
       "      <th>Q38: Because I'd want to know if they can provide an ergonomic keyboard, or are happy with a worker plugging their own keyboard into their computers.</th>\n",
       "      <th>Q38: Because as long as I can do my job, it's really not any of their business.</th>\n",
       "      <th>Q38: Because despite all of the laws governing non discrimination, employers will go with what's easiest and come up with a different reason as to why they're not hiring you. Employees are ultimately resources to be leveraged, and companies don't want to get less for their money.</th>\n",
       "      <th>Q38: Because if they can't deal with it, then I don't want to work with them.</th>\n",
       "      <th>Q38: Because it can be seen as a weakness and they may chose another applicant over me because of it.</th>\n",
       "      <th>Q38: Because it is important</th>\n",
       "      <th>Q38: Because it may have some significant impact on my performance if I am not accomodated accordingly.</th>\n",
       "      <th>Q38: Because it might affect my ability to get to the office in the future.</th>\n",
       "      <th>Q38: Because it might be important for the employer in case it affects my productivity.</th>\n",
       "      <th>Q38: Because it might mean I don't get the job. I have in the last if I knew I had time off coming up or it meant I needed special treatment</th>\n",
       "      <th>Q38: Because it would impact the relationship (there might be adjustments needed to the work space for example) and I believe honesty up front to be the best approach.</th>\n",
       "      <th>Q38: Because it's an unfortunate part of who I am.</th>\n",
       "      <th>Q38: Because it's common</th>\n",
       "      <th>Q38: Because it's illegal for them to ask and there is no obligation for me to offer the information.</th>\n",
       "      <th>Q38: Because it's important for them to know who they are hiring and for me to establish my needs early.</th>\n",
       "      <th>Q38: Because it's important.</th>\n",
       "      <th>Q38: Because it's none of their business.</th>\n",
       "      <th>Q38: Because its apparent and more accepted than a mental issue</th>\n",
       "      <th>Q38: Because my working environment might require improvement or at least adaptation like a lighter place/bigger screen/special desk. I think this conversation will be receive normal. Or at least as normal as speaking about money and advantages.</th>\n",
       "      <th>Q38: Because of the potential for discrimination</th>\n",
       "      <th>Q38: Because physical health is an accepted illness. Mental illness is considered to be an opt-out at times.</th>\n",
       "      <th>Q38: Because physical issues are visible</th>\n",
       "      <th>Q38: Because the “survival of the fittest\" mentality. No one wants to ihre someone with the probably highscore of sick days</th>\n",
       "      <th>Q38: Because there's nothing to be ashamed of.</th>\n",
       "      <th>Q38: Because they should know up front and it is illegal for them to not hire someone because of a physical impairment or issue</th>\n",
       "      <th>Q38: Because they wouldn't hire me probably</th>\n",
       "      <th>Q38: Because why do they need to know.</th>\n",
       "      <th>Q38: Because you cannot lie about it, since it's gonna show up at some point since physical disorder often comes with not being able to do certain things the same way as people who don't suffer disorders.</th>\n",
       "      <th>Q38: Because, if it were a physical health issue that might affect my job performance, it'd be difficult to hide and a potential might resent the fact that I wasn't forthcoming about it in an interview.</th>\n",
       "      <th>Q38: Being honest upfront shows respect for the future employer. If they see that as a stumbling block in hiring you, then it probably wouldn't have been a good fit in the long run anyways.</th>\n",
       "      <th>Q38: Being open usually is the best</th>\n",
       "      <th>Q38: Being viewed as problematic. Too personal. Maybe allude to it vaguely, at best.</th>\n",
       "      <th>Q38: Better to disclose something like that up front in case it impacts work.</th>\n",
       "      <th>Q38: Better to have it out with them now rather than wait. Have spoken in the industry about burnout.</th>\n",
       "      <th>Q38: Bias happens. I wouldn't want it to be a factor. However, I'm overweight, and I know it's been a factor in some interviews. Can't hide that. Even though that is the only thing I have wrong with me.</th>\n",
       "      <th>Q38: Bias towards something that may not be relevant to the work</th>\n",
       "      <th>Q38: Biases exist</th>\n",
       "      <th>Q38: Bit knowing the environment if the new employer would make me nervous to do so</th>\n",
       "      <th>Q38: Bringing up such an issue can only decrease your chances of employment. However, I don't feel it would have a strong effect in my line of work.</th>\n",
       "      <th>Q38: Can damage my opportunity to ge in the job</th>\n",
       "      <th>Q38: Chronic physical health issues often affect hiring decisions, even though employers won't say so.  I'm diabetic, and have observed this to be true.</th>\n",
       "      <th>Q38: Comfort discussing personal issues with someone who I've presumably only recently met.</th>\n",
       "      <th>Q38: Companies are more equipped to accommodate physical health issues and it looks bad if they don't.</th>\n",
       "      <th>Q38: Completely dependant on the relevance of the mental health issue and it's impact on the work being applied for.</th>\n",
       "      <th>Q38: Completely depends upon what the issue would be.</th>\n",
       "      <th>Q38: Concern it could overshadow legit issues</th>\n",
       "      <th>Q38: Concerned would not get the job</th>\n",
       "      <th>Q38: Correctness and openness the base for a healthy wirk relationship</th>\n",
       "      <th>Q38: Could be seen as a potential problem in the future</th>\n",
       "      <th>Q38: Could be seen as a weakness, or a reason why you couldn't be as productive.</th>\n",
       "      <th>Q38: Could impact the outcome of the interview.</th>\n",
       "      <th>Q38: Could impact their willingness to hire, even subconsciously.</th>\n",
       "      <th>Q38: Could only hurt my chances</th>\n",
       "      <th>Q38: Cultural bias and potential elimination from consideration.</th>\n",
       "      <th>Q38: Deafness can be viewed as a physical health issue, and not many employers are willing to go out of their way to accommodate that.</th>\n",
       "      <th>Q38: Dependant on how comfortable I felt speaking the interviewer(s), dependant if they have mentioned there is an avenue/approach they embrace to address physical health issues.</th>\n",
       "      <th>Q38: Dependent upon impact on work duties.</th>\n",
       "      <th>Q38: Depending  on work impact</th>\n",
       "      <th>Q38: Depending on how 'safe' I'm made to feel during the interview process I might feel it might reflect badly which, if I really *needed* the job I might not want to risk.</th>\n",
       "      <th>Q38: Depending on how strong my position as interviewee is, I might prefer to wait until the offer stage rather than bring it up at interview</th>\n",
       "      <th>Q38: Depending on the exact nature of the issue I might think they wouldn't want to hire me</th>\n",
       "      <th>Q38: Depending on the interview stage and whether I required an accommodation, I would</th>\n",
       "      <th>Q38: Depending on the nature of the health issue, I may feel uncomfortable sharing it with someone I'm not close to.</th>\n",
       "      <th>Q38: Depends greatly on the job involved.  I can adapt quickly to jobs involving heavy lifting, for example, but would not admit that it would probably wind me to start with.  Most physical health issues severe enough to discuss are visible, and if they are not (say I have cancer and am going to be going on chemo) I would not discuss because of huge possibility of not being hired due to potential for medical leave / lots of absence.</th>\n",
       "      <th>Q38: Depends if it affected the job</th>\n",
       "      <th>Q38: Depends if it's going to have an impact on that particular job</th>\n",
       "      <th>Q38: Depends if it's relevant</th>\n",
       "      <th>Q38: Depends in the health issue</th>\n",
       "      <th>Q38: Depends in the interview, would it be relevant at that point, am I seriously interested in the job or not</th>\n",
       "      <th>Q38: Depends on how acute the issue was</th>\n",
       "      <th>Q38: Depends on how personal and to what extent it would affect my position</th>\n",
       "      <th>Q38: Depends on if it would affect my job, and even then I wouldn't necessarily bring it up in case it made them not hire me. Like a pregnancy for example.</th>\n",
       "      <th>Q38: Depends on potential impact on job</th>\n",
       "      <th>Q38: Depends on relevance to performance</th>\n",
       "      <th>Q38: Depends on relevance to work</th>\n",
       "      <th>Q38: Depends on relevancy to the job.</th>\n",
       "      <th>Q38: Depends on the ability to do the job. If it has no bearing, then I wouldn't discuss it. If I needed accommodations to do the job, I may.</th>\n",
       "      <th>Q38: Depends on the context, usually they have no need to know</th>\n",
       "      <th>Q38: Depends on the context.</th>\n",
       "      <th>Q38: Depends on the employer and how specifically it is referenced.  Likely would ask about their short-term disability and qualifying events</th>\n",
       "      <th>Q38: Depends on the employer, the mood and the flow of the conversation. Nothing is set in stone, conversations like these are fluid.</th>\n",
       "      <th>Q38: Depends on the feel of the interview</th>\n",
       "      <th>Q38: Depends on the issue and whether it would impact my ability to do the job in question or not.</th>\n",
       "      <th>Q38: Depends on the issue, how it affected my work or responsibilities.</th>\n",
       "      <th>Q38: Depends on the issue. Maybe you would need accommodations for a wheelchair.</th>\n",
       "      <th>Q38: Depends on the job and organisation</th>\n",
       "      <th>Q38: Depends on the nature of the physical health issue, whether it was chronic and the impact on the work. In almost all cases, I would not discuss it because just increases the chance of discrimination.</th>\n",
       "      <th>Q38: Depends on the physical health issue and how severely it affects me. For example, I would talk about my carpal tunnel, because it affects my job performance and I need ergonomic keyboards and mice in order to not be in constant pain. I wouldn't bring up my polycystic ovarian syndrome (PCOS) because it does not affect my work performance.</th>\n",
       "      <th>Q38: Depends on the physical issue and how impacting it is to my ability to work.</th>\n",
       "      <th>Q38: Depends on the physical issue and/or the position being applied for.</th>\n",
       "      <th>Q38: Depends on the social perception of the issue.</th>\n",
       "      <th>Q38: Depends on the type of job, if it would affect my work, I would bring it up.</th>\n",
       "      <th>Q38: Depends on the vibe from the interview.</th>\n",
       "      <th>Q38: Depends on the view of the employer about mental health.</th>\n",
       "      <th>Q38: Depends on their character.</th>\n",
       "      <th>Q38: Depends on what it is and how embarrassing it is</th>\n",
       "      <th>Q38: Depends on what it is.</th>\n",
       "      <th>Q38: Depends on what the issue was and whether it would affect the kind of work I could do.</th>\n",
       "      <th>Q38: Depends on whether I thought it would have a negative impact on me getting the job</th>\n",
       "      <th>Q38: Depends on whether I thought it would impact job performance, and whether I would expect allowances to be made for my health issue.</th>\n",
       "      <th>Q38: Depends on whether it might hinder or modify the way I work at the employer</th>\n",
       "      <th>Q38: Depends on whether it would put me in the position of needing to ask for accommodations.</th>\n",
       "      <th>Q38: Depends what it is. If it's something relevant that affects my physical functioning (e.g. if I was blinded or had no legs or something)</th>\n",
       "      <th>Q38: Depends what it was and how it affected my ability to do the job, no change in ability, no discussion.</th>\n",
       "      <th>Q38: Depends whether it would affect my ability to carry out the job.</th>\n",
       "      <th>Q38: Depends whether it would be relevant to my performance or cause significant outages.</th>\n",
       "      <th>Q38: Depends, if it affected the job then yes I would talk about it.</th>\n",
       "      <th>Q38: Depends, if it affects the productivity, no</th>\n",
       "      <th>...</th>\n",
       "      <th>Q62: Designer|Support|Supervisor/Team Lead</th>\n",
       "      <th>Q62: Dev Evangelist/Advocate</th>\n",
       "      <th>Q62: Dev Evangelist/Advocate|Back-end Developer</th>\n",
       "      <th>Q62: Dev Evangelist/Advocate|Back-end Developer|Designer|Front-end Developer</th>\n",
       "      <th>Q62: Dev Evangelist/Advocate|Back-end Developer|Front-end Developer</th>\n",
       "      <th>Q62: Dev Evangelist/Advocate|Back-end Developer|Support</th>\n",
       "      <th>Q62: Dev Evangelist/Advocate|DevOps/SysAdmin</th>\n",
       "      <th>Q62: Dev Evangelist/Advocate|DevOps/SysAdmin|Back-end Developer</th>\n",
       "      <th>Q62: Dev Evangelist/Advocate|DevOps/SysAdmin|Designer|Front-end Developer|Back-end Developer</th>\n",
       "      <th>Q62: Dev Evangelist/Advocate|DevOps/SysAdmin|Designer|Front-end Developer|Support</th>\n",
       "      <th>Q62: Dev Evangelist/Advocate|DevOps/SysAdmin|Support|Back-end Developer|Front-end Developer|One-person shop</th>\n",
       "      <th>Q62: Dev Evangelist/Advocate|Front-end Developer|Back-end Developer|DevOps/SysAdmin</th>\n",
       "      <th>Q62: Dev Evangelist/Advocate|One-person shop|Back-end Developer|Support|DevOps/SysAdmin</th>\n",
       "      <th>Q62: Dev Evangelist/Advocate|Support</th>\n",
       "      <th>Q62: Dev Evangelist/Advocate|Support|Back-end Developer</th>\n",
       "      <th>Q62: Dev Evangelist/Advocate|Support|Back-end Developer|Front-end Developer</th>\n",
       "      <th>Q62: DevOps/SysAdmin</th>\n",
       "      <th>Q62: DevOps/SysAdmin|Back-end Developer</th>\n",
       "      <th>Q62: DevOps/SysAdmin|Back-end Developer|Front-end Developer</th>\n",
       "      <th>Q62: DevOps/SysAdmin|Back-end Developer|Front-end Developer|Designer</th>\n",
       "      <th>Q62: DevOps/SysAdmin|Back-end Developer|Front-end Developer|One-person shop</th>\n",
       "      <th>Q62: DevOps/SysAdmin|Back-end Developer|One-person shop</th>\n",
       "      <th>Q62: DevOps/SysAdmin|Back-end Developer|One-person shop|Front-end Developer</th>\n",
       "      <th>Q62: DevOps/SysAdmin|Designer</th>\n",
       "      <th>Q62: DevOps/SysAdmin|Designer|Front-end Developer|Back-end Developer</th>\n",
       "      <th>Q62: DevOps/SysAdmin|Dev Evangelist/Advocate|Supervisor/Team Lead|Executive Leadership</th>\n",
       "      <th>Q62: DevOps/SysAdmin|Executive Leadership</th>\n",
       "      <th>Q62: DevOps/SysAdmin|Front-end Developer|Back-end Developer</th>\n",
       "      <th>Q62: DevOps/SysAdmin|Front-end Developer|Back-end Developer|Support</th>\n",
       "      <th>Q62: DevOps/SysAdmin|One-person shop</th>\n",
       "      <th>Q62: DevOps/SysAdmin|One-person shop|Front-end Developer|Back-end Developer</th>\n",
       "      <th>Q62: DevOps/SysAdmin|Other</th>\n",
       "      <th>Q62: DevOps/SysAdmin|Supervisor/Team Lead</th>\n",
       "      <th>Q62: DevOps/SysAdmin|Support</th>\n",
       "      <th>Q62: DevOps/SysAdmin|Support|Back-end Developer</th>\n",
       "      <th>Q62: DevOps/SysAdmin|Support|Back-end Developer|Front-end Developer</th>\n",
       "      <th>Q62: DevOps/SysAdmin|Support|Back-end Developer|Front-end Developer|Designer</th>\n",
       "      <th>Q62: DevOps/SysAdmin|Support|Back-end Developer|One-person shop</th>\n",
       "      <th>Q62: DevOps/SysAdmin|Support|Back-end Developer|One-person shop|Front-end Developer</th>\n",
       "      <th>Q62: DevOps/SysAdmin|Support|Front-end Developer|Back-end Developer</th>\n",
       "      <th>Q62: DevOps/SysAdmin|Support|One-person shop</th>\n",
       "      <th>Q62: DevOps/SysAdmin|Support|Sales|Front-end Developer|Designer|One-person shop</th>\n",
       "      <th>Q62: DevOps/SysAdmin|Support|Sales|One-person shop|Designer|Front-end Developer|Back-end Developer</th>\n",
       "      <th>Q62: Executive Leadership</th>\n",
       "      <th>Q62: Executive Leadership|Back-end Developer|Front-end Developer</th>\n",
       "      <th>Q62: Executive Leadership|Dev Evangelist/Advocate</th>\n",
       "      <th>Q62: Executive Leadership|DevOps/SysAdmin|Back-end Developer</th>\n",
       "      <th>Q62: Executive Leadership|DevOps/SysAdmin|Back-end Developer|Support</th>\n",
       "      <th>Q62: Executive Leadership|Front-end Developer|Back-end Developer|Sales|Supervisor/Team Lead</th>\n",
       "      <th>Q62: Executive Leadership|One-person shop|Front-end Developer|Back-end Developer|Support|Supervisor/Team Lead</th>\n",
       "      <th>Q62: Executive Leadership|Other</th>\n",
       "      <th>Q62: Executive Leadership|Supervisor/Team Lead</th>\n",
       "      <th>Q62: Executive Leadership|Supervisor/Team Lead|Back-end Developer</th>\n",
       "      <th>Q62: Executive Leadership|Supervisor/Team Lead|Back-end Developer|DevOps/SysAdmin</th>\n",
       "      <th>Q62: Executive Leadership|Supervisor/Team Lead|Back-end Developer|Front-end Developer|Designer</th>\n",
       "      <th>Q62: Executive Leadership|Supervisor/Team Lead|Designer</th>\n",
       "      <th>Q62: Executive Leadership|Supervisor/Team Lead|Dev Evangelist/Advocate|Back-end Developer</th>\n",
       "      <th>Q62: Executive Leadership|Supervisor/Team Lead|Dev Evangelist/Advocate|DevOps/SysAdmin|Back-end Developer|Front-end Developer</th>\n",
       "      <th>Q62: Executive Leadership|Supervisor/Team Lead|Dev Evangelist/Advocate|DevOps/SysAdmin|Support|Back-end Developer|Front-end Developer</th>\n",
       "      <th>Q62: Executive Leadership|Supervisor/Team Lead|DevOps/SysAdmin|Back-end Developer|Front-end Developer|One-person shop</th>\n",
       "      <th>Q62: Executive Leadership|Supervisor/Team Lead|DevOps/SysAdmin|Support|Back-end Developer|Front-end Developer</th>\n",
       "      <th>Q62: Executive Leadership|Supervisor/Team Lead|Front-end Developer</th>\n",
       "      <th>Q62: Executive Leadership|Supervisor/Team Lead|Front-end Developer|Back-end Developer</th>\n",
       "      <th>Q62: Executive Leadership|Supervisor/Team Lead|HR|DevOps/SysAdmin|Support|Sales|Back-end Developer|One-person shop|Designer|Front-end Developer</th>\n",
       "      <th>Q62: Executive Leadership|Supervisor/Team Lead|Sales</th>\n",
       "      <th>Q62: Executive Leadership|Supervisor/Team Lead|Support|Sales|Designer|Front-end Developer|Back-end Developer</th>\n",
       "      <th>Q62: Front-end Developer</th>\n",
       "      <th>Q62: Front-end Developer|Back-end Developer</th>\n",
       "      <th>Q62: Front-end Developer|Back-end Developer|Dev Evangelist/Advocate</th>\n",
       "      <th>Q62: Front-end Developer|Back-end Developer|Dev Evangelist/Advocate|Supervisor/Team Lead</th>\n",
       "      <th>Q62: Front-end Developer|Back-end Developer|DevOps/SysAdmin</th>\n",
       "      <th>Q62: Front-end Developer|Back-end Developer|DevOps/SysAdmin|Dev Evangelist/Advocate</th>\n",
       "      <th>Q62: Front-end Developer|Back-end Developer|DevOps/SysAdmin|Supervisor/Team Lead</th>\n",
       "      <th>Q62: Front-end Developer|Back-end Developer|DevOps/SysAdmin|Supervisor/Team Lead|Executive Leadership</th>\n",
       "      <th>Q62: Front-end Developer|Back-end Developer|Executive Leadership</th>\n",
       "      <th>Q62: Front-end Developer|Back-end Developer|Other</th>\n",
       "      <th>Q62: Front-end Developer|Back-end Developer|Sales|DevOps/SysAdmin</th>\n",
       "      <th>Q62: Front-end Developer|Back-end Developer|Sales|Executive Leadership</th>\n",
       "      <th>Q62: Front-end Developer|Back-end Developer|Sales|Support|DevOps/SysAdmin|Supervisor/Team Lead|Executive Leadership</th>\n",
       "      <th>Q62: Front-end Developer|Back-end Developer|Supervisor/Team Lead</th>\n",
       "      <th>Q62: Front-end Developer|Back-end Developer|Supervisor/Team Lead|Executive Leadership</th>\n",
       "      <th>Q62: Front-end Developer|Back-end Developer|Support</th>\n",
       "      <th>Q62: Front-end Developer|Back-end Developer|Support|Dev Evangelist/Advocate</th>\n",
       "      <th>Q62: Front-end Developer|Back-end Developer|Support|DevOps/SysAdmin</th>\n",
       "      <th>Q62: Front-end Developer|Back-end Developer|Support|DevOps/SysAdmin|Dev Evangelist/Advocate</th>\n",
       "      <th>Q62: Front-end Developer|Back-end Developer|Support|DevOps/SysAdmin|Executive Leadership</th>\n",
       "      <th>Q62: Front-end Developer|Back-end Developer|Support|Other</th>\n",
       "      <th>Q62: Front-end Developer|Back-end Developer|Support|Supervisor/Team Lead</th>\n",
       "      <th>Q62: Front-end Developer|Designer</th>\n",
       "      <th>Q62: Front-end Developer|Designer|One-person shop</th>\n",
       "      <th>Q62: Front-end Developer|Executive Leadership</th>\n",
       "      <th>Q62: Front-end Developer|One-person shop</th>\n",
       "      <th>Q62: Front-end Developer|Supervisor/Team Lead</th>\n",
       "      <th>Q62: Front-end Developer|Support</th>\n",
       "      <th>Q62: HR</th>\n",
       "      <th>Q62: HR|Dev Evangelist/Advocate|Sales</th>\n",
       "      <th>Q62: HR|Supervisor/Team Lead|Executive Leadership</th>\n",
       "      <th>Q62: One-person shop</th>\n",
       "      <th>Q62: One-person shop|Back-end Developer</th>\n",
       "      <th>Q62: One-person shop|Back-end Developer|Dev Evangelist/Advocate</th>\n",
       "      <th>Q62: One-person shop|Back-end Developer|DevOps/SysAdmin</th>\n",
       "      <th>Q62: One-person shop|Back-end Developer|DevOps/SysAdmin|Dev Evangelist/Advocate|Other</th>\n",
       "      <th>Q62: One-person shop|Back-end Developer|Other</th>\n",
       "      <th>Q62: One-person shop|Back-end Developer|Sales|DevOps/SysAdmin|Executive Leadership</th>\n",
       "      <th>Q62: One-person shop|Back-end Developer|Sales|Support|DevOps/SysAdmin|Dev Evangelist/Advocate|Supervisor/Team Lead|Executive Leadership|Other</th>\n",
       "      <th>Q62: One-person shop|Back-end Developer|Sales|Support|Supervisor/Team Lead|Executive Leadership</th>\n",
       "      <th>Q62: One-person shop|Back-end Developer|Supervisor/Team Lead</th>\n",
       "      <th>Q62: One-person shop|Designer</th>\n",
       "      <th>Q62: One-person shop|Designer|Front-end Developer</th>\n",
       "      <th>Q62: One-person shop|Designer|Front-end Developer|Back-end Developer</th>\n",
       "      <th>Q62: One-person shop|Designer|Front-end Developer|Back-end Developer|Dev Evangelist/Advocate|Supervisor/Team Lead</th>\n",
       "      <th>Q62: One-person shop|Designer|Front-end Developer|Back-end Developer|Sales|Support</th>\n",
       "      <th>Q62: One-person shop|Designer|Front-end Developer|Back-end Developer|Support</th>\n",
       "      <th>Q62: One-person shop|Designer|Front-end Developer|Back-end Developer|Support|Dev Evangelist/Advocate</th>\n",
       "      <th>Q62: One-person shop|Designer|Front-end Developer|Back-end Developer|Support|DevOps/SysAdmin|Other</th>\n",
       "      <th>Q62: One-person shop|Designer|Front-end Developer|Supervisor/Team Lead</th>\n",
       "      <th>Q62: One-person shop|Designer|Front-end Developer|Support</th>\n",
       "      <th>Q62: One-person shop|Designer|Front-end Developer|Support|Dev Evangelist/Advocate</th>\n",
       "      <th>Q62: One-person shop|Designer|Sales|Executive Leadership</th>\n",
       "      <th>Q62: One-person shop|Designer|Sales|Support|Supervisor/Team Lead</th>\n",
       "      <th>Q62: One-person shop|Designer|Support</th>\n",
       "      <th>Q62: One-person shop|DevOps/SysAdmin</th>\n",
       "      <th>Q62: One-person shop|DevOps/SysAdmin|Executive Leadership</th>\n",
       "      <th>Q62: One-person shop|Front-end Developer</th>\n",
       "      <th>Q62: One-person shop|Front-end Developer|Back-end Developer</th>\n",
       "      <th>Q62: One-person shop|Front-end Developer|Back-end Developer|Dev Evangelist/Advocate|Other</th>\n",
       "      <th>Q62: One-person shop|Front-end Developer|Back-end Developer|DevOps/SysAdmin</th>\n",
       "      <th>Q62: One-person shop|Front-end Developer|Back-end Developer|DevOps/SysAdmin|Supervisor/Team Lead</th>\n",
       "      <th>Q62: One-person shop|Front-end Developer|Back-end Developer|DevOps/SysAdmin|Supervisor/Team Lead|Executive Leadership</th>\n",
       "      <th>Q62: One-person shop|Front-end Developer|Back-end Developer|Sales|Support|DevOps/SysAdmin</th>\n",
       "      <th>Q62: One-person shop|Front-end Developer|Back-end Developer|Supervisor/Team Lead|Executive Leadership</th>\n",
       "      <th>Q62: One-person shop|Front-end Developer|Back-end Developer|Support|Other</th>\n",
       "      <th>Q62: One-person shop|Other</th>\n",
       "      <th>Q62: Other</th>\n",
       "      <th>Q62: Other|Back-end Developer</th>\n",
       "      <th>Q62: Other|Back-end Developer|Front-end Developer</th>\n",
       "      <th>Q62: Other|Back-end Developer|Front-end Developer|Designer</th>\n",
       "      <th>Q62: Other|Back-end Developer|Front-end Developer|One-person shop</th>\n",
       "      <th>Q62: Other|Back-end Developer|Supervisor/Team Lead</th>\n",
       "      <th>Q62: Other|Designer|Front-end Developer</th>\n",
       "      <th>Q62: Other|Dev Evangelist/Advocate</th>\n",
       "      <th>Q62: Other|Dev Evangelist/Advocate|Back-end Developer|Front-end Developer</th>\n",
       "      <th>Q62: Other|Dev Evangelist/Advocate|DevOps/SysAdmin|Support|Back-end Developer|Front-end Developer|One-person shop</th>\n",
       "      <th>Q62: Other|Dev Evangelist/Advocate|One-person shop</th>\n",
       "      <th>Q62: Other|Dev Evangelist/Advocate|Sales|Back-end Developer|Front-end Developer</th>\n",
       "      <th>Q62: Other|Dev Evangelist/Advocate|Support</th>\n",
       "      <th>Q62: Other|DevOps/SysAdmin|Back-end Developer</th>\n",
       "      <th>Q62: Other|DevOps/SysAdmin|Support|Back-end Developer</th>\n",
       "      <th>Q62: Other|Executive Leadership</th>\n",
       "      <th>Q62: Other|Executive Leadership|Supervisor/Team Lead|Back-end Developer</th>\n",
       "      <th>Q62: Other|Executive Leadership|Supervisor/Team Lead|Dev Evangelist/Advocate|DevOps/SysAdmin|Back-end Developer|One-person shop</th>\n",
       "      <th>Q62: Other|Executive Leadership|Supervisor/Team Lead|HR|Support|Sales|Designer|One-person shop</th>\n",
       "      <th>Q62: Other|Front-end Developer</th>\n",
       "      <th>Q62: Other|Front-end Developer|Back-end Developer|Sales|DevOps/SysAdmin|Dev Evangelist/Advocate</th>\n",
       "      <th>Q62: Other|Front-end Developer|Designer</th>\n",
       "      <th>Q62: Other|Front-end Developer|Designer|One-person shop</th>\n",
       "      <th>Q62: Other|HR</th>\n",
       "      <th>Q62: Other|One-person shop</th>\n",
       "      <th>Q62: Other|One-person shop|Back-end Developer|Sales|Support|DevOps/SysAdmin|Dev Evangelist/Advocate|Supervisor/Team Lead</th>\n",
       "      <th>Q62: Other|One-person shop|Designer|Front-end Developer</th>\n",
       "      <th>Q62: Other|One-person shop|Designer|Front-end Developer|Back-end Developer|Support|Supervisor/Team Lead</th>\n",
       "      <th>Q62: Other|Supervisor/Team Lead</th>\n",
       "      <th>Q62: Other|Supervisor/Team Lead|Back-end Developer|Front-end Developer</th>\n",
       "      <th>Q62: Other|Supervisor/Team Lead|Back-end Developer|One-person shop</th>\n",
       "      <th>Q62: Other|Supervisor/Team Lead|Dev Evangelist/Advocate</th>\n",
       "      <th>Q62: Other|Supervisor/Team Lead|Dev Evangelist/Advocate|DevOps/SysAdmin|Support|Back-end Developer</th>\n",
       "      <th>Q62: Other|Supervisor/Team Lead|Dev Evangelist/Advocate|DevOps/SysAdmin|Support|Back-end Developer|Front-end Developer|Designer|One-person shop</th>\n",
       "      <th>Q62: Other|Supervisor/Team Lead|Dev Evangelist/Advocate|DevOps/SysAdmin|Support|Back-end Developer|Front-end Developer|One-person shop</th>\n",
       "      <th>Q62: Other|Supervisor/Team Lead|DevOps/SysAdmin|Back-end Developer|Support</th>\n",
       "      <th>Q62: Other|Supervisor/Team Lead|DevOps/SysAdmin|Support|Front-end Developer|Back-end Developer</th>\n",
       "      <th>Q62: Other|Supervisor/Team Lead|Front-end Developer</th>\n",
       "      <th>Q62: Other|Supervisor/Team Lead|Support|Back-end Developer|Designer</th>\n",
       "      <th>Q62: Other|Support</th>\n",
       "      <th>Q62: Other|Support|Back-end Developer|Front-end Developer|Designer</th>\n",
       "      <th>Q62: Sales</th>\n",
       "      <th>Q62: Sales|Support|DevOps/SysAdmin|Executive Leadership</th>\n",
       "      <th>Q62: Supervisor/Team Lead</th>\n",
       "      <th>Q62: Supervisor/Team Lead|Back-end Developer</th>\n",
       "      <th>Q62: Supervisor/Team Lead|Back-end Developer|Designer</th>\n",
       "      <th>Q62: Supervisor/Team Lead|Back-end Developer|DevOps/SysAdmin</th>\n",
       "      <th>Q62: Supervisor/Team Lead|Back-end Developer|DevOps/SysAdmin|Dev Evangelist/Advocate</th>\n",
       "      <th>Q62: Supervisor/Team Lead|Back-end Developer|Front-end Developer</th>\n",
       "      <th>Q62: Supervisor/Team Lead|Back-end Developer|Front-end Developer|Designer</th>\n",
       "      <th>Q62: Supervisor/Team Lead|Back-end Developer|Front-end Developer|One-person shop</th>\n",
       "      <th>Q62: Supervisor/Team Lead|Back-end Developer|One-person shop</th>\n",
       "      <th>Q62: Supervisor/Team Lead|Back-end Developer|Support|DevOps/SysAdmin</th>\n",
       "      <th>Q62: Supervisor/Team Lead|Designer</th>\n",
       "      <th>Q62: Supervisor/Team Lead|Designer|Front-end Developer|Support</th>\n",
       "      <th>Q62: Supervisor/Team Lead|Dev Evangelist/Advocate|Back-end Developer</th>\n",
       "      <th>Q62: Supervisor/Team Lead|Dev Evangelist/Advocate|Back-end Developer|Designer|Front-end Developer</th>\n",
       "      <th>Q62: Supervisor/Team Lead|Dev Evangelist/Advocate|Back-end Developer|Front-end Developer</th>\n",
       "      <th>Q62: Supervisor/Team Lead|Dev Evangelist/Advocate|DevOps/SysAdmin|Support|Back-end Developer|Designer|Front-end Developer</th>\n",
       "      <th>Q62: Supervisor/Team Lead|DevOps/SysAdmin</th>\n",
       "      <th>Q62: Supervisor/Team Lead|DevOps/SysAdmin|Back-end Developer</th>\n",
       "      <th>Q62: Supervisor/Team Lead|DevOps/SysAdmin|Back-end Developer|Designer</th>\n",
       "      <th>Q62: Supervisor/Team Lead|DevOps/SysAdmin|Back-end Developer|Designer|Front-end Developer</th>\n",
       "      <th>Q62: Supervisor/Team Lead|DevOps/SysAdmin|Back-end Developer|Front-end Developer</th>\n",
       "      <th>Q62: Supervisor/Team Lead|DevOps/SysAdmin|Back-end Developer|Support</th>\n",
       "      <th>Q62: Supervisor/Team Lead|DevOps/SysAdmin|Front-end Developer|Back-end Developer</th>\n",
       "      <th>Q62: Supervisor/Team Lead|DevOps/SysAdmin|HR</th>\n",
       "      <th>Q62: Supervisor/Team Lead|DevOps/SysAdmin|Support</th>\n",
       "      <th>Q62: Supervisor/Team Lead|DevOps/SysAdmin|Support|Back-end Developer</th>\n",
       "      <th>Q62: Supervisor/Team Lead|DevOps/SysAdmin|Support|Back-end Developer|Front-end Developer</th>\n",
       "      <th>Q62: Supervisor/Team Lead|DevOps/SysAdmin|Support|Back-end Developer|Front-end Developer|Designer</th>\n",
       "      <th>Q62: Supervisor/Team Lead|DevOps/SysAdmin|Support|Front-end Developer|Designer|One-person shop</th>\n",
       "      <th>Q62: Supervisor/Team Lead|Executive Leadership</th>\n",
       "      <th>Q62: Supervisor/Team Lead|Front-end Developer</th>\n",
       "      <th>Q62: Supervisor/Team Lead|Front-end Developer|Back-end Developer</th>\n",
       "      <th>Q62: Supervisor/Team Lead|Front-end Developer|Back-end Developer|Dev Evangelist/Advocate</th>\n",
       "      <th>Q62: Supervisor/Team Lead|Front-end Developer|Back-end Developer|DevOps/SysAdmin</th>\n",
       "      <th>Q62: Supervisor/Team Lead|Front-end Developer|Back-end Developer|DevOps/SysAdmin|Dev Evangelist/Advocate</th>\n",
       "      <th>Q62: Supervisor/Team Lead|Front-end Developer|Back-end Developer|Support|DevOps/SysAdmin</th>\n",
       "      <th>Q62: Supervisor/Team Lead|Front-end Developer|Designer</th>\n",
       "      <th>Q62: Supervisor/Team Lead|Other</th>\n",
       "      <th>Q62: Supervisor/Team Lead|Sales</th>\n",
       "      <th>Q62: Supervisor/Team Lead|Support</th>\n",
       "      <th>Q62: Supervisor/Team Lead|Support|Back-end Developer</th>\n",
       "      <th>Q62: Supervisor/Team Lead|Support|Back-end Developer|Front-end Developer</th>\n",
       "      <th>Q62: Supervisor/Team Lead|Support|Front-end Developer|Back-end Developer</th>\n",
       "      <th>Q62: Supervisor/Team Lead|Support|One-person shop|Designer|Front-end Developer|Sales</th>\n",
       "      <th>Q62: Support</th>\n",
       "      <th>Q62: Support|Back-end Developer</th>\n",
       "      <th>Q62: Support|Back-end Developer|Front-end Developer</th>\n",
       "      <th>Q62: Support|Back-end Developer|Front-end Developer|Designer</th>\n",
       "      <th>Q62: Support|Back-end Developer|Front-end Developer|One-person shop</th>\n",
       "      <th>Q62: Support|Back-end Developer|One-person shop</th>\n",
       "      <th>Q62: Support|Designer</th>\n",
       "      <th>Q62: Support|Designer|Front-end Developer</th>\n",
       "      <th>Q62: Support|DevOps/SysAdmin</th>\n",
       "      <th>Q62: Support|Front-end Developer|Back-end Developer</th>\n",
       "      <th>Q62: Support|Front-end Developer|Designer</th>\n",
       "      <th>Q62: Support|HR|Supervisor/Team Lead|Executive Leadership</th>\n",
       "      <th>Q62: Support|Other</th>\n",
       "      <th>Q62: Support|Sales|Back-end Developer|Front-end Developer|Designer|One-person shop</th>\n",
       "      <th>Q62: Support|Sales|Designer</th>\n",
       "      <th>Q63: Always</th>\n",
       "      <th>Q63: Never</th>\n",
       "      <th>Q63: Sometimes</th>\n",
       "      <th>Q6: I am not sure</th>\n",
       "      <th>Q6: No</th>\n",
       "      <th>Q6: Yes</th>\n",
       "      <th>Q7: I don't know</th>\n",
       "      <th>Q7: No</th>\n",
       "      <th>Q7: Yes</th>\n",
       "      <th>Q8: I don't know</th>\n",
       "      <th>Q8: No</th>\n",
       "      <th>Q8: Yes</th>\n",
       "      <th>Q9: I don't know</th>\n",
       "      <th>Q9: No</th>\n",
       "      <th>Q9: Yes</th>\n",
       "    </tr>\n",
       "  </thead>\n",
       "  <tbody>\n",
       "    <tr>\n",
       "      <th>0</th>\n",
       "      <td>False</td>\n",
       "      <td>False</td>\n",
       "      <td>False</td>\n",
       "      <td>False</td>\n",
       "      <td>False</td>\n",
       "      <td>True</td>\n",
       "      <td>False</td>\n",
       "      <td>True</td>\n",
       "      <td>False</td>\n",
       "      <td>False</td>\n",
       "      <td>True</td>\n",
       "      <td>False</td>\n",
       "      <td>True</td>\n",
       "      <td>False</td>\n",
       "      <td>False</td>\n",
       "      <td>False</td>\n",
       "      <td>False</td>\n",
       "      <td>True</td>\n",
       "      <td>True</td>\n",
       "      <td>False</td>\n",
       "      <td>False</td>\n",
       "      <td>True</td>\n",
       "      <td>False</td>\n",
       "      <td>False</td>\n",
       "      <td>False</td>\n",
       "      <td>False</td>\n",
       "      <td>False</td>\n",
       "      <td>False</td>\n",
       "      <td>False</td>\n",
       "      <td>False</td>\n",
       "      <td>False</td>\n",
       "      <td>False</td>\n",
       "      <td>False</td>\n",
       "      <td>True</td>\n",
       "      <td>False</td>\n",
       "      <td>False</td>\n",
       "      <td>False</td>\n",
       "      <td>False</td>\n",
       "      <td>False</td>\n",
       "      <td>False</td>\n",
       "      <td>False</td>\n",
       "      <td>False</td>\n",
       "      <td>False</td>\n",
       "      <td>False</td>\n",
       "      <td>False</td>\n",
       "      <td>False</td>\n",
       "      <td>False</td>\n",
       "      <td>False</td>\n",
       "      <td>False</td>\n",
       "      <td>False</td>\n",
       "      <td>False</td>\n",
       "      <td>False</td>\n",
       "      <td>False</td>\n",
       "      <td>False</td>\n",
       "      <td>False</td>\n",
       "      <td>False</td>\n",
       "      <td>True</td>\n",
       "      <td>False</td>\n",
       "      <td>True</td>\n",
       "      <td>False</td>\n",
       "      <td>False</td>\n",
       "      <td>False</td>\n",
       "      <td>True</td>\n",
       "      <td>False</td>\n",
       "      <td>False</td>\n",
       "      <td>True</td>\n",
       "      <td>False</td>\n",
       "      <td>False</td>\n",
       "      <td>False</td>\n",
       "      <td>True</td>\n",
       "      <td>False</td>\n",
       "      <td>False</td>\n",
       "      <td>False</td>\n",
       "      <td>False</td>\n",
       "      <td>True</td>\n",
       "      <td>False</td>\n",
       "      <td>False</td>\n",
       "      <td>False</td>\n",
       "      <td>True</td>\n",
       "      <td>False</td>\n",
       "      <td>False</td>\n",
       "      <td>False</td>\n",
       "      <td>False</td>\n",
       "      <td>False</td>\n",
       "      <td>True</td>\n",
       "      <td>False</td>\n",
       "      <td>True</td>\n",
       "      <td>False</td>\n",
       "      <td>False</td>\n",
       "      <td>False</td>\n",
       "      <td>True</td>\n",
       "      <td>False</td>\n",
       "      <td>False</td>\n",
       "      <td>False</td>\n",
       "      <td>True</td>\n",
       "      <td>False</td>\n",
       "      <td>True</td>\n",
       "      <td>False</td>\n",
       "      <td>False</td>\n",
       "      <td>False</td>\n",
       "      <td>True</td>\n",
       "      <td>False</td>\n",
       "      <td>False</td>\n",
       "      <td>True</td>\n",
       "      <td>False</td>\n",
       "      <td>False</td>\n",
       "      <td>False</td>\n",
       "      <td>False</td>\n",
       "      <td>False</td>\n",
       "      <td>False</td>\n",
       "      <td>False</td>\n",
       "      <td>False</td>\n",
       "      <td>False</td>\n",
       "      <td>False</td>\n",
       "      <td>False</td>\n",
       "      <td>False</td>\n",
       "      <td>False</td>\n",
       "      <td>False</td>\n",
       "      <td>False</td>\n",
       "      <td>False</td>\n",
       "      <td>False</td>\n",
       "      <td>False</td>\n",
       "      <td>False</td>\n",
       "      <td>False</td>\n",
       "      <td>False</td>\n",
       "      <td>False</td>\n",
       "      <td>False</td>\n",
       "      <td>False</td>\n",
       "      <td>False</td>\n",
       "      <td>False</td>\n",
       "      <td>False</td>\n",
       "      <td>False</td>\n",
       "      <td>False</td>\n",
       "      <td>False</td>\n",
       "      <td>False</td>\n",
       "      <td>False</td>\n",
       "      <td>False</td>\n",
       "      <td>False</td>\n",
       "      <td>False</td>\n",
       "      <td>False</td>\n",
       "      <td>False</td>\n",
       "      <td>False</td>\n",
       "      <td>False</td>\n",
       "      <td>False</td>\n",
       "      <td>False</td>\n",
       "      <td>False</td>\n",
       "      <td>False</td>\n",
       "      <td>False</td>\n",
       "      <td>False</td>\n",
       "      <td>False</td>\n",
       "      <td>False</td>\n",
       "      <td>False</td>\n",
       "      <td>False</td>\n",
       "      <td>False</td>\n",
       "      <td>False</td>\n",
       "      <td>False</td>\n",
       "      <td>False</td>\n",
       "      <td>False</td>\n",
       "      <td>False</td>\n",
       "      <td>False</td>\n",
       "      <td>False</td>\n",
       "      <td>False</td>\n",
       "      <td>False</td>\n",
       "      <td>False</td>\n",
       "      <td>False</td>\n",
       "      <td>False</td>\n",
       "      <td>False</td>\n",
       "      <td>False</td>\n",
       "      <td>False</td>\n",
       "      <td>False</td>\n",
       "      <td>False</td>\n",
       "      <td>False</td>\n",
       "      <td>False</td>\n",
       "      <td>False</td>\n",
       "      <td>False</td>\n",
       "      <td>False</td>\n",
       "      <td>False</td>\n",
       "      <td>False</td>\n",
       "      <td>False</td>\n",
       "      <td>False</td>\n",
       "      <td>False</td>\n",
       "      <td>False</td>\n",
       "      <td>False</td>\n",
       "      <td>False</td>\n",
       "      <td>False</td>\n",
       "      <td>False</td>\n",
       "      <td>False</td>\n",
       "      <td>False</td>\n",
       "      <td>False</td>\n",
       "      <td>False</td>\n",
       "      <td>False</td>\n",
       "      <td>False</td>\n",
       "      <td>False</td>\n",
       "      <td>False</td>\n",
       "      <td>False</td>\n",
       "      <td>False</td>\n",
       "      <td>False</td>\n",
       "      <td>False</td>\n",
       "      <td>False</td>\n",
       "      <td>False</td>\n",
       "      <td>False</td>\n",
       "      <td>False</td>\n",
       "      <td>False</td>\n",
       "      <td>False</td>\n",
       "      <td>False</td>\n",
       "      <td>False</td>\n",
       "      <td>False</td>\n",
       "      <td>False</td>\n",
       "      <td>False</td>\n",
       "      <td>False</td>\n",
       "      <td>False</td>\n",
       "      <td>False</td>\n",
       "      <td>False</td>\n",
       "      <td>False</td>\n",
       "      <td>False</td>\n",
       "      <td>False</td>\n",
       "      <td>False</td>\n",
       "      <td>False</td>\n",
       "      <td>False</td>\n",
       "      <td>False</td>\n",
       "      <td>False</td>\n",
       "      <td>False</td>\n",
       "      <td>False</td>\n",
       "      <td>False</td>\n",
       "      <td>False</td>\n",
       "      <td>False</td>\n",
       "      <td>False</td>\n",
       "      <td>False</td>\n",
       "      <td>False</td>\n",
       "      <td>False</td>\n",
       "      <td>False</td>\n",
       "      <td>False</td>\n",
       "      <td>False</td>\n",
       "      <td>False</td>\n",
       "      <td>False</td>\n",
       "      <td>False</td>\n",
       "      <td>False</td>\n",
       "      <td>False</td>\n",
       "      <td>False</td>\n",
       "      <td>False</td>\n",
       "      <td>False</td>\n",
       "      <td>False</td>\n",
       "      <td>False</td>\n",
       "      <td>False</td>\n",
       "      <td>False</td>\n",
       "      <td>False</td>\n",
       "      <td>False</td>\n",
       "      <td>False</td>\n",
       "      <td>False</td>\n",
       "      <td>False</td>\n",
       "      <td>...</td>\n",
       "      <td>False</td>\n",
       "      <td>False</td>\n",
       "      <td>False</td>\n",
       "      <td>False</td>\n",
       "      <td>False</td>\n",
       "      <td>False</td>\n",
       "      <td>False</td>\n",
       "      <td>False</td>\n",
       "      <td>False</td>\n",
       "      <td>False</td>\n",
       "      <td>False</td>\n",
       "      <td>False</td>\n",
       "      <td>False</td>\n",
       "      <td>False</td>\n",
       "      <td>False</td>\n",
       "      <td>False</td>\n",
       "      <td>False</td>\n",
       "      <td>False</td>\n",
       "      <td>False</td>\n",
       "      <td>False</td>\n",
       "      <td>False</td>\n",
       "      <td>False</td>\n",
       "      <td>False</td>\n",
       "      <td>False</td>\n",
       "      <td>False</td>\n",
       "      <td>False</td>\n",
       "      <td>False</td>\n",
       "      <td>False</td>\n",
       "      <td>False</td>\n",
       "      <td>False</td>\n",
       "      <td>False</td>\n",
       "      <td>False</td>\n",
       "      <td>False</td>\n",
       "      <td>False</td>\n",
       "      <td>False</td>\n",
       "      <td>False</td>\n",
       "      <td>False</td>\n",
       "      <td>False</td>\n",
       "      <td>False</td>\n",
       "      <td>False</td>\n",
       "      <td>False</td>\n",
       "      <td>False</td>\n",
       "      <td>False</td>\n",
       "      <td>False</td>\n",
       "      <td>False</td>\n",
       "      <td>False</td>\n",
       "      <td>False</td>\n",
       "      <td>False</td>\n",
       "      <td>False</td>\n",
       "      <td>False</td>\n",
       "      <td>False</td>\n",
       "      <td>False</td>\n",
       "      <td>False</td>\n",
       "      <td>False</td>\n",
       "      <td>False</td>\n",
       "      <td>False</td>\n",
       "      <td>False</td>\n",
       "      <td>False</td>\n",
       "      <td>False</td>\n",
       "      <td>False</td>\n",
       "      <td>False</td>\n",
       "      <td>False</td>\n",
       "      <td>False</td>\n",
       "      <td>False</td>\n",
       "      <td>False</td>\n",
       "      <td>False</td>\n",
       "      <td>False</td>\n",
       "      <td>False</td>\n",
       "      <td>False</td>\n",
       "      <td>False</td>\n",
       "      <td>False</td>\n",
       "      <td>False</td>\n",
       "      <td>False</td>\n",
       "      <td>False</td>\n",
       "      <td>False</td>\n",
       "      <td>False</td>\n",
       "      <td>False</td>\n",
       "      <td>False</td>\n",
       "      <td>False</td>\n",
       "      <td>False</td>\n",
       "      <td>False</td>\n",
       "      <td>False</td>\n",
       "      <td>False</td>\n",
       "      <td>False</td>\n",
       "      <td>False</td>\n",
       "      <td>False</td>\n",
       "      <td>False</td>\n",
       "      <td>False</td>\n",
       "      <td>False</td>\n",
       "      <td>False</td>\n",
       "      <td>False</td>\n",
       "      <td>False</td>\n",
       "      <td>False</td>\n",
       "      <td>False</td>\n",
       "      <td>False</td>\n",
       "      <td>False</td>\n",
       "      <td>False</td>\n",
       "      <td>False</td>\n",
       "      <td>False</td>\n",
       "      <td>False</td>\n",
       "      <td>False</td>\n",
       "      <td>False</td>\n",
       "      <td>False</td>\n",
       "      <td>False</td>\n",
       "      <td>False</td>\n",
       "      <td>False</td>\n",
       "      <td>False</td>\n",
       "      <td>False</td>\n",
       "      <td>False</td>\n",
       "      <td>False</td>\n",
       "      <td>False</td>\n",
       "      <td>False</td>\n",
       "      <td>False</td>\n",
       "      <td>False</td>\n",
       "      <td>False</td>\n",
       "      <td>False</td>\n",
       "      <td>False</td>\n",
       "      <td>False</td>\n",
       "      <td>False</td>\n",
       "      <td>False</td>\n",
       "      <td>False</td>\n",
       "      <td>False</td>\n",
       "      <td>False</td>\n",
       "      <td>False</td>\n",
       "      <td>False</td>\n",
       "      <td>False</td>\n",
       "      <td>False</td>\n",
       "      <td>False</td>\n",
       "      <td>False</td>\n",
       "      <td>False</td>\n",
       "      <td>False</td>\n",
       "      <td>False</td>\n",
       "      <td>False</td>\n",
       "      <td>False</td>\n",
       "      <td>False</td>\n",
       "      <td>False</td>\n",
       "      <td>False</td>\n",
       "      <td>False</td>\n",
       "      <td>False</td>\n",
       "      <td>False</td>\n",
       "      <td>False</td>\n",
       "      <td>False</td>\n",
       "      <td>False</td>\n",
       "      <td>False</td>\n",
       "      <td>False</td>\n",
       "      <td>False</td>\n",
       "      <td>False</td>\n",
       "      <td>False</td>\n",
       "      <td>False</td>\n",
       "      <td>False</td>\n",
       "      <td>False</td>\n",
       "      <td>False</td>\n",
       "      <td>False</td>\n",
       "      <td>False</td>\n",
       "      <td>False</td>\n",
       "      <td>False</td>\n",
       "      <td>False</td>\n",
       "      <td>False</td>\n",
       "      <td>False</td>\n",
       "      <td>False</td>\n",
       "      <td>False</td>\n",
       "      <td>False</td>\n",
       "      <td>False</td>\n",
       "      <td>False</td>\n",
       "      <td>False</td>\n",
       "      <td>False</td>\n",
       "      <td>False</td>\n",
       "      <td>False</td>\n",
       "      <td>False</td>\n",
       "      <td>False</td>\n",
       "      <td>False</td>\n",
       "      <td>False</td>\n",
       "      <td>False</td>\n",
       "      <td>False</td>\n",
       "      <td>False</td>\n",
       "      <td>False</td>\n",
       "      <td>False</td>\n",
       "      <td>False</td>\n",
       "      <td>False</td>\n",
       "      <td>False</td>\n",
       "      <td>False</td>\n",
       "      <td>False</td>\n",
       "      <td>False</td>\n",
       "      <td>False</td>\n",
       "      <td>False</td>\n",
       "      <td>False</td>\n",
       "      <td>False</td>\n",
       "      <td>False</td>\n",
       "      <td>False</td>\n",
       "      <td>False</td>\n",
       "      <td>False</td>\n",
       "      <td>False</td>\n",
       "      <td>False</td>\n",
       "      <td>False</td>\n",
       "      <td>False</td>\n",
       "      <td>False</td>\n",
       "      <td>False</td>\n",
       "      <td>False</td>\n",
       "      <td>False</td>\n",
       "      <td>False</td>\n",
       "      <td>False</td>\n",
       "      <td>False</td>\n",
       "      <td>False</td>\n",
       "      <td>False</td>\n",
       "      <td>False</td>\n",
       "      <td>False</td>\n",
       "      <td>False</td>\n",
       "      <td>False</td>\n",
       "      <td>False</td>\n",
       "      <td>False</td>\n",
       "      <td>False</td>\n",
       "      <td>False</td>\n",
       "      <td>False</td>\n",
       "      <td>False</td>\n",
       "      <td>False</td>\n",
       "      <td>False</td>\n",
       "      <td>False</td>\n",
       "      <td>False</td>\n",
       "      <td>False</td>\n",
       "      <td>False</td>\n",
       "      <td>False</td>\n",
       "      <td>False</td>\n",
       "      <td>False</td>\n",
       "      <td>False</td>\n",
       "      <td>False</td>\n",
       "      <td>False</td>\n",
       "      <td>False</td>\n",
       "      <td>False</td>\n",
       "      <td>False</td>\n",
       "      <td>False</td>\n",
       "      <td>False</td>\n",
       "      <td>False</td>\n",
       "      <td>False</td>\n",
       "      <td>False</td>\n",
       "      <td>False</td>\n",
       "      <td>False</td>\n",
       "      <td>False</td>\n",
       "      <td>True</td>\n",
       "      <td>False</td>\n",
       "      <td>False</td>\n",
       "      <td>False</td>\n",
       "      <td>False</td>\n",
       "      <td>True</td>\n",
       "      <td>False</td>\n",
       "      <td>False</td>\n",
       "      <td>True</td>\n",
       "      <td>False</td>\n",
       "      <td>True</td>\n",
       "      <td>False</td>\n",
       "      <td>False</td>\n",
       "    </tr>\n",
       "    <tr>\n",
       "      <th>1</th>\n",
       "      <td>False</td>\n",
       "      <td>False</td>\n",
       "      <td>False</td>\n",
       "      <td>True</td>\n",
       "      <td>False</td>\n",
       "      <td>False</td>\n",
       "      <td>False</td>\n",
       "      <td>True</td>\n",
       "      <td>False</td>\n",
       "      <td>False</td>\n",
       "      <td>True</td>\n",
       "      <td>False</td>\n",
       "      <td>True</td>\n",
       "      <td>False</td>\n",
       "      <td>False</td>\n",
       "      <td>False</td>\n",
       "      <td>False</td>\n",
       "      <td>True</td>\n",
       "      <td>False</td>\n",
       "      <td>False</td>\n",
       "      <td>True</td>\n",
       "      <td>True</td>\n",
       "      <td>False</td>\n",
       "      <td>False</td>\n",
       "      <td>False</td>\n",
       "      <td>False</td>\n",
       "      <td>False</td>\n",
       "      <td>False</td>\n",
       "      <td>False</td>\n",
       "      <td>False</td>\n",
       "      <td>False</td>\n",
       "      <td>False</td>\n",
       "      <td>False</td>\n",
       "      <td>True</td>\n",
       "      <td>False</td>\n",
       "      <td>False</td>\n",
       "      <td>False</td>\n",
       "      <td>False</td>\n",
       "      <td>False</td>\n",
       "      <td>False</td>\n",
       "      <td>False</td>\n",
       "      <td>False</td>\n",
       "      <td>False</td>\n",
       "      <td>False</td>\n",
       "      <td>False</td>\n",
       "      <td>False</td>\n",
       "      <td>False</td>\n",
       "      <td>False</td>\n",
       "      <td>False</td>\n",
       "      <td>False</td>\n",
       "      <td>False</td>\n",
       "      <td>False</td>\n",
       "      <td>False</td>\n",
       "      <td>False</td>\n",
       "      <td>False</td>\n",
       "      <td>False</td>\n",
       "      <td>True</td>\n",
       "      <td>False</td>\n",
       "      <td>False</td>\n",
       "      <td>False</td>\n",
       "      <td>True</td>\n",
       "      <td>True</td>\n",
       "      <td>False</td>\n",
       "      <td>False</td>\n",
       "      <td>False</td>\n",
       "      <td>False</td>\n",
       "      <td>True</td>\n",
       "      <td>False</td>\n",
       "      <td>False</td>\n",
       "      <td>False</td>\n",
       "      <td>True</td>\n",
       "      <td>False</td>\n",
       "      <td>False</td>\n",
       "      <td>False</td>\n",
       "      <td>False</td>\n",
       "      <td>False</td>\n",
       "      <td>True</td>\n",
       "      <td>False</td>\n",
       "      <td>False</td>\n",
       "      <td>False</td>\n",
       "      <td>False</td>\n",
       "      <td>True</td>\n",
       "      <td>False</td>\n",
       "      <td>True</td>\n",
       "      <td>False</td>\n",
       "      <td>False</td>\n",
       "      <td>True</td>\n",
       "      <td>False</td>\n",
       "      <td>False</td>\n",
       "      <td>True</td>\n",
       "      <td>False</td>\n",
       "      <td>False</td>\n",
       "      <td>False</td>\n",
       "      <td>False</td>\n",
       "      <td>True</td>\n",
       "      <td>False</td>\n",
       "      <td>False</td>\n",
       "      <td>False</td>\n",
       "      <td>True</td>\n",
       "      <td>False</td>\n",
       "      <td>True</td>\n",
       "      <td>False</td>\n",
       "      <td>False</td>\n",
       "      <td>True</td>\n",
       "      <td>False</td>\n",
       "      <td>False</td>\n",
       "      <td>False</td>\n",
       "      <td>False</td>\n",
       "      <td>False</td>\n",
       "      <td>False</td>\n",
       "      <td>False</td>\n",
       "      <td>False</td>\n",
       "      <td>False</td>\n",
       "      <td>False</td>\n",
       "      <td>False</td>\n",
       "      <td>False</td>\n",
       "      <td>False</td>\n",
       "      <td>False</td>\n",
       "      <td>False</td>\n",
       "      <td>False</td>\n",
       "      <td>False</td>\n",
       "      <td>False</td>\n",
       "      <td>False</td>\n",
       "      <td>False</td>\n",
       "      <td>False</td>\n",
       "      <td>False</td>\n",
       "      <td>False</td>\n",
       "      <td>False</td>\n",
       "      <td>False</td>\n",
       "      <td>False</td>\n",
       "      <td>False</td>\n",
       "      <td>False</td>\n",
       "      <td>False</td>\n",
       "      <td>False</td>\n",
       "      <td>False</td>\n",
       "      <td>False</td>\n",
       "      <td>False</td>\n",
       "      <td>False</td>\n",
       "      <td>False</td>\n",
       "      <td>False</td>\n",
       "      <td>False</td>\n",
       "      <td>False</td>\n",
       "      <td>False</td>\n",
       "      <td>False</td>\n",
       "      <td>False</td>\n",
       "      <td>False</td>\n",
       "      <td>False</td>\n",
       "      <td>False</td>\n",
       "      <td>False</td>\n",
       "      <td>False</td>\n",
       "      <td>False</td>\n",
       "      <td>False</td>\n",
       "      <td>False</td>\n",
       "      <td>False</td>\n",
       "      <td>False</td>\n",
       "      <td>False</td>\n",
       "      <td>False</td>\n",
       "      <td>False</td>\n",
       "      <td>False</td>\n",
       "      <td>False</td>\n",
       "      <td>False</td>\n",
       "      <td>False</td>\n",
       "      <td>False</td>\n",
       "      <td>False</td>\n",
       "      <td>False</td>\n",
       "      <td>False</td>\n",
       "      <td>False</td>\n",
       "      <td>False</td>\n",
       "      <td>False</td>\n",
       "      <td>False</td>\n",
       "      <td>False</td>\n",
       "      <td>False</td>\n",
       "      <td>False</td>\n",
       "      <td>False</td>\n",
       "      <td>False</td>\n",
       "      <td>False</td>\n",
       "      <td>False</td>\n",
       "      <td>False</td>\n",
       "      <td>False</td>\n",
       "      <td>False</td>\n",
       "      <td>False</td>\n",
       "      <td>False</td>\n",
       "      <td>False</td>\n",
       "      <td>False</td>\n",
       "      <td>False</td>\n",
       "      <td>False</td>\n",
       "      <td>False</td>\n",
       "      <td>False</td>\n",
       "      <td>False</td>\n",
       "      <td>False</td>\n",
       "      <td>False</td>\n",
       "      <td>False</td>\n",
       "      <td>False</td>\n",
       "      <td>False</td>\n",
       "      <td>False</td>\n",
       "      <td>False</td>\n",
       "      <td>False</td>\n",
       "      <td>False</td>\n",
       "      <td>False</td>\n",
       "      <td>False</td>\n",
       "      <td>False</td>\n",
       "      <td>False</td>\n",
       "      <td>False</td>\n",
       "      <td>False</td>\n",
       "      <td>False</td>\n",
       "      <td>False</td>\n",
       "      <td>False</td>\n",
       "      <td>False</td>\n",
       "      <td>False</td>\n",
       "      <td>False</td>\n",
       "      <td>False</td>\n",
       "      <td>False</td>\n",
       "      <td>False</td>\n",
       "      <td>False</td>\n",
       "      <td>False</td>\n",
       "      <td>False</td>\n",
       "      <td>False</td>\n",
       "      <td>False</td>\n",
       "      <td>False</td>\n",
       "      <td>False</td>\n",
       "      <td>False</td>\n",
       "      <td>False</td>\n",
       "      <td>False</td>\n",
       "      <td>False</td>\n",
       "      <td>False</td>\n",
       "      <td>False</td>\n",
       "      <td>False</td>\n",
       "      <td>False</td>\n",
       "      <td>False</td>\n",
       "      <td>False</td>\n",
       "      <td>False</td>\n",
       "      <td>False</td>\n",
       "      <td>False</td>\n",
       "      <td>False</td>\n",
       "      <td>False</td>\n",
       "      <td>False</td>\n",
       "      <td>False</td>\n",
       "      <td>False</td>\n",
       "      <td>False</td>\n",
       "      <td>False</td>\n",
       "      <td>False</td>\n",
       "      <td>False</td>\n",
       "      <td>False</td>\n",
       "      <td>False</td>\n",
       "      <td>False</td>\n",
       "      <td>False</td>\n",
       "      <td>False</td>\n",
       "      <td>False</td>\n",
       "      <td>False</td>\n",
       "      <td>False</td>\n",
       "      <td>...</td>\n",
       "      <td>False</td>\n",
       "      <td>False</td>\n",
       "      <td>False</td>\n",
       "      <td>False</td>\n",
       "      <td>False</td>\n",
       "      <td>False</td>\n",
       "      <td>False</td>\n",
       "      <td>False</td>\n",
       "      <td>False</td>\n",
       "      <td>False</td>\n",
       "      <td>False</td>\n",
       "      <td>False</td>\n",
       "      <td>False</td>\n",
       "      <td>False</td>\n",
       "      <td>False</td>\n",
       "      <td>False</td>\n",
       "      <td>False</td>\n",
       "      <td>False</td>\n",
       "      <td>False</td>\n",
       "      <td>False</td>\n",
       "      <td>False</td>\n",
       "      <td>False</td>\n",
       "      <td>False</td>\n",
       "      <td>False</td>\n",
       "      <td>False</td>\n",
       "      <td>False</td>\n",
       "      <td>False</td>\n",
       "      <td>False</td>\n",
       "      <td>False</td>\n",
       "      <td>False</td>\n",
       "      <td>False</td>\n",
       "      <td>False</td>\n",
       "      <td>False</td>\n",
       "      <td>False</td>\n",
       "      <td>False</td>\n",
       "      <td>False</td>\n",
       "      <td>False</td>\n",
       "      <td>False</td>\n",
       "      <td>False</td>\n",
       "      <td>False</td>\n",
       "      <td>False</td>\n",
       "      <td>False</td>\n",
       "      <td>False</td>\n",
       "      <td>False</td>\n",
       "      <td>False</td>\n",
       "      <td>False</td>\n",
       "      <td>False</td>\n",
       "      <td>False</td>\n",
       "      <td>False</td>\n",
       "      <td>False</td>\n",
       "      <td>False</td>\n",
       "      <td>False</td>\n",
       "      <td>False</td>\n",
       "      <td>False</td>\n",
       "      <td>False</td>\n",
       "      <td>False</td>\n",
       "      <td>False</td>\n",
       "      <td>False</td>\n",
       "      <td>False</td>\n",
       "      <td>False</td>\n",
       "      <td>False</td>\n",
       "      <td>False</td>\n",
       "      <td>False</td>\n",
       "      <td>False</td>\n",
       "      <td>False</td>\n",
       "      <td>False</td>\n",
       "      <td>False</td>\n",
       "      <td>False</td>\n",
       "      <td>False</td>\n",
       "      <td>False</td>\n",
       "      <td>False</td>\n",
       "      <td>False</td>\n",
       "      <td>False</td>\n",
       "      <td>False</td>\n",
       "      <td>False</td>\n",
       "      <td>False</td>\n",
       "      <td>False</td>\n",
       "      <td>False</td>\n",
       "      <td>False</td>\n",
       "      <td>False</td>\n",
       "      <td>False</td>\n",
       "      <td>False</td>\n",
       "      <td>False</td>\n",
       "      <td>False</td>\n",
       "      <td>False</td>\n",
       "      <td>False</td>\n",
       "      <td>False</td>\n",
       "      <td>False</td>\n",
       "      <td>False</td>\n",
       "      <td>False</td>\n",
       "      <td>False</td>\n",
       "      <td>False</td>\n",
       "      <td>False</td>\n",
       "      <td>False</td>\n",
       "      <td>False</td>\n",
       "      <td>False</td>\n",
       "      <td>False</td>\n",
       "      <td>False</td>\n",
       "      <td>False</td>\n",
       "      <td>False</td>\n",
       "      <td>False</td>\n",
       "      <td>False</td>\n",
       "      <td>False</td>\n",
       "      <td>False</td>\n",
       "      <td>False</td>\n",
       "      <td>False</td>\n",
       "      <td>False</td>\n",
       "      <td>False</td>\n",
       "      <td>False</td>\n",
       "      <td>False</td>\n",
       "      <td>False</td>\n",
       "      <td>False</td>\n",
       "      <td>False</td>\n",
       "      <td>False</td>\n",
       "      <td>False</td>\n",
       "      <td>False</td>\n",
       "      <td>False</td>\n",
       "      <td>False</td>\n",
       "      <td>False</td>\n",
       "      <td>False</td>\n",
       "      <td>False</td>\n",
       "      <td>False</td>\n",
       "      <td>False</td>\n",
       "      <td>False</td>\n",
       "      <td>False</td>\n",
       "      <td>False</td>\n",
       "      <td>False</td>\n",
       "      <td>False</td>\n",
       "      <td>False</td>\n",
       "      <td>False</td>\n",
       "      <td>False</td>\n",
       "      <td>False</td>\n",
       "      <td>False</td>\n",
       "      <td>False</td>\n",
       "      <td>False</td>\n",
       "      <td>False</td>\n",
       "      <td>False</td>\n",
       "      <td>False</td>\n",
       "      <td>False</td>\n",
       "      <td>False</td>\n",
       "      <td>False</td>\n",
       "      <td>False</td>\n",
       "      <td>False</td>\n",
       "      <td>False</td>\n",
       "      <td>False</td>\n",
       "      <td>False</td>\n",
       "      <td>False</td>\n",
       "      <td>False</td>\n",
       "      <td>False</td>\n",
       "      <td>False</td>\n",
       "      <td>False</td>\n",
       "      <td>False</td>\n",
       "      <td>False</td>\n",
       "      <td>False</td>\n",
       "      <td>False</td>\n",
       "      <td>False</td>\n",
       "      <td>False</td>\n",
       "      <td>False</td>\n",
       "      <td>False</td>\n",
       "      <td>False</td>\n",
       "      <td>False</td>\n",
       "      <td>False</td>\n",
       "      <td>False</td>\n",
       "      <td>False</td>\n",
       "      <td>False</td>\n",
       "      <td>False</td>\n",
       "      <td>False</td>\n",
       "      <td>False</td>\n",
       "      <td>False</td>\n",
       "      <td>False</td>\n",
       "      <td>False</td>\n",
       "      <td>False</td>\n",
       "      <td>False</td>\n",
       "      <td>False</td>\n",
       "      <td>False</td>\n",
       "      <td>False</td>\n",
       "      <td>False</td>\n",
       "      <td>False</td>\n",
       "      <td>False</td>\n",
       "      <td>False</td>\n",
       "      <td>False</td>\n",
       "      <td>False</td>\n",
       "      <td>False</td>\n",
       "      <td>False</td>\n",
       "      <td>False</td>\n",
       "      <td>False</td>\n",
       "      <td>False</td>\n",
       "      <td>False</td>\n",
       "      <td>False</td>\n",
       "      <td>False</td>\n",
       "      <td>False</td>\n",
       "      <td>False</td>\n",
       "      <td>False</td>\n",
       "      <td>False</td>\n",
       "      <td>False</td>\n",
       "      <td>False</td>\n",
       "      <td>False</td>\n",
       "      <td>False</td>\n",
       "      <td>False</td>\n",
       "      <td>False</td>\n",
       "      <td>False</td>\n",
       "      <td>False</td>\n",
       "      <td>False</td>\n",
       "      <td>False</td>\n",
       "      <td>False</td>\n",
       "      <td>False</td>\n",
       "      <td>False</td>\n",
       "      <td>False</td>\n",
       "      <td>False</td>\n",
       "      <td>False</td>\n",
       "      <td>False</td>\n",
       "      <td>False</td>\n",
       "      <td>False</td>\n",
       "      <td>False</td>\n",
       "      <td>False</td>\n",
       "      <td>False</td>\n",
       "      <td>False</td>\n",
       "      <td>False</td>\n",
       "      <td>False</td>\n",
       "      <td>False</td>\n",
       "      <td>False</td>\n",
       "      <td>False</td>\n",
       "      <td>False</td>\n",
       "      <td>False</td>\n",
       "      <td>False</td>\n",
       "      <td>False</td>\n",
       "      <td>False</td>\n",
       "      <td>False</td>\n",
       "      <td>False</td>\n",
       "      <td>False</td>\n",
       "      <td>False</td>\n",
       "      <td>False</td>\n",
       "      <td>False</td>\n",
       "      <td>False</td>\n",
       "      <td>False</td>\n",
       "      <td>False</td>\n",
       "      <td>True</td>\n",
       "      <td>False</td>\n",
       "      <td>False</td>\n",
       "      <td>False</td>\n",
       "      <td>True</td>\n",
       "      <td>False</td>\n",
       "      <td>False</td>\n",
       "      <td>True</td>\n",
       "      <td>False</td>\n",
       "      <td>False</td>\n",
       "      <td>True</td>\n",
       "      <td>False</td>\n",
       "      <td>False</td>\n",
       "      <td>True</td>\n",
       "    </tr>\n",
       "    <tr>\n",
       "      <th>2</th>\n",
       "      <td>False</td>\n",
       "      <td>True</td>\n",
       "      <td>False</td>\n",
       "      <td>False</td>\n",
       "      <td>False</td>\n",
       "      <td>False</td>\n",
       "      <td>True</td>\n",
       "      <td>False</td>\n",
       "      <td>False</td>\n",
       "      <td>False</td>\n",
       "      <td>True</td>\n",
       "      <td>False</td>\n",
       "      <td>True</td>\n",
       "      <td>False</td>\n",
       "      <td>False</td>\n",
       "      <td>True</td>\n",
       "      <td>False</td>\n",
       "      <td>False</td>\n",
       "      <td>True</td>\n",
       "      <td>False</td>\n",
       "      <td>False</td>\n",
       "      <td>True</td>\n",
       "      <td>False</td>\n",
       "      <td>False</td>\n",
       "      <td>False</td>\n",
       "      <td>False</td>\n",
       "      <td>False</td>\n",
       "      <td>False</td>\n",
       "      <td>False</td>\n",
       "      <td>False</td>\n",
       "      <td>False</td>\n",
       "      <td>False</td>\n",
       "      <td>False</td>\n",
       "      <td>True</td>\n",
       "      <td>False</td>\n",
       "      <td>False</td>\n",
       "      <td>False</td>\n",
       "      <td>False</td>\n",
       "      <td>False</td>\n",
       "      <td>False</td>\n",
       "      <td>False</td>\n",
       "      <td>False</td>\n",
       "      <td>False</td>\n",
       "      <td>False</td>\n",
       "      <td>False</td>\n",
       "      <td>False</td>\n",
       "      <td>False</td>\n",
       "      <td>False</td>\n",
       "      <td>False</td>\n",
       "      <td>False</td>\n",
       "      <td>False</td>\n",
       "      <td>False</td>\n",
       "      <td>False</td>\n",
       "      <td>False</td>\n",
       "      <td>False</td>\n",
       "      <td>False</td>\n",
       "      <td>True</td>\n",
       "      <td>False</td>\n",
       "      <td>True</td>\n",
       "      <td>False</td>\n",
       "      <td>False</td>\n",
       "      <td>False</td>\n",
       "      <td>True</td>\n",
       "      <td>False</td>\n",
       "      <td>False</td>\n",
       "      <td>False</td>\n",
       "      <td>True</td>\n",
       "      <td>False</td>\n",
       "      <td>False</td>\n",
       "      <td>False</td>\n",
       "      <td>True</td>\n",
       "      <td>False</td>\n",
       "      <td>False</td>\n",
       "      <td>False</td>\n",
       "      <td>False</td>\n",
       "      <td>False</td>\n",
       "      <td>True</td>\n",
       "      <td>False</td>\n",
       "      <td>True</td>\n",
       "      <td>False</td>\n",
       "      <td>False</td>\n",
       "      <td>False</td>\n",
       "      <td>True</td>\n",
       "      <td>False</td>\n",
       "      <td>False</td>\n",
       "      <td>False</td>\n",
       "      <td>False</td>\n",
       "      <td>True</td>\n",
       "      <td>False</td>\n",
       "      <td>False</td>\n",
       "      <td>True</td>\n",
       "      <td>False</td>\n",
       "      <td>True</td>\n",
       "      <td>False</td>\n",
       "      <td>False</td>\n",
       "      <td>False</td>\n",
       "      <td>True</td>\n",
       "      <td>False</td>\n",
       "      <td>False</td>\n",
       "      <td>False</td>\n",
       "      <td>False</td>\n",
       "      <td>True</td>\n",
       "      <td>False</td>\n",
       "      <td>False</td>\n",
       "      <td>False</td>\n",
       "      <td>True</td>\n",
       "      <td>False</td>\n",
       "      <td>False</td>\n",
       "      <td>False</td>\n",
       "      <td>False</td>\n",
       "      <td>False</td>\n",
       "      <td>False</td>\n",
       "      <td>False</td>\n",
       "      <td>False</td>\n",
       "      <td>False</td>\n",
       "      <td>False</td>\n",
       "      <td>False</td>\n",
       "      <td>False</td>\n",
       "      <td>False</td>\n",
       "      <td>False</td>\n",
       "      <td>False</td>\n",
       "      <td>False</td>\n",
       "      <td>False</td>\n",
       "      <td>False</td>\n",
       "      <td>False</td>\n",
       "      <td>False</td>\n",
       "      <td>False</td>\n",
       "      <td>False</td>\n",
       "      <td>False</td>\n",
       "      <td>False</td>\n",
       "      <td>False</td>\n",
       "      <td>False</td>\n",
       "      <td>False</td>\n",
       "      <td>False</td>\n",
       "      <td>False</td>\n",
       "      <td>False</td>\n",
       "      <td>False</td>\n",
       "      <td>False</td>\n",
       "      <td>False</td>\n",
       "      <td>False</td>\n",
       "      <td>False</td>\n",
       "      <td>False</td>\n",
       "      <td>False</td>\n",
       "      <td>False</td>\n",
       "      <td>False</td>\n",
       "      <td>False</td>\n",
       "      <td>False</td>\n",
       "      <td>False</td>\n",
       "      <td>False</td>\n",
       "      <td>False</td>\n",
       "      <td>False</td>\n",
       "      <td>False</td>\n",
       "      <td>False</td>\n",
       "      <td>False</td>\n",
       "      <td>False</td>\n",
       "      <td>False</td>\n",
       "      <td>False</td>\n",
       "      <td>False</td>\n",
       "      <td>False</td>\n",
       "      <td>False</td>\n",
       "      <td>False</td>\n",
       "      <td>False</td>\n",
       "      <td>False</td>\n",
       "      <td>False</td>\n",
       "      <td>False</td>\n",
       "      <td>False</td>\n",
       "      <td>False</td>\n",
       "      <td>False</td>\n",
       "      <td>False</td>\n",
       "      <td>False</td>\n",
       "      <td>False</td>\n",
       "      <td>False</td>\n",
       "      <td>False</td>\n",
       "      <td>False</td>\n",
       "      <td>False</td>\n",
       "      <td>False</td>\n",
       "      <td>False</td>\n",
       "      <td>False</td>\n",
       "      <td>False</td>\n",
       "      <td>False</td>\n",
       "      <td>False</td>\n",
       "      <td>False</td>\n",
       "      <td>False</td>\n",
       "      <td>False</td>\n",
       "      <td>False</td>\n",
       "      <td>False</td>\n",
       "      <td>False</td>\n",
       "      <td>False</td>\n",
       "      <td>False</td>\n",
       "      <td>False</td>\n",
       "      <td>False</td>\n",
       "      <td>False</td>\n",
       "      <td>False</td>\n",
       "      <td>False</td>\n",
       "      <td>False</td>\n",
       "      <td>False</td>\n",
       "      <td>False</td>\n",
       "      <td>False</td>\n",
       "      <td>False</td>\n",
       "      <td>False</td>\n",
       "      <td>False</td>\n",
       "      <td>False</td>\n",
       "      <td>False</td>\n",
       "      <td>False</td>\n",
       "      <td>False</td>\n",
       "      <td>False</td>\n",
       "      <td>False</td>\n",
       "      <td>False</td>\n",
       "      <td>False</td>\n",
       "      <td>False</td>\n",
       "      <td>False</td>\n",
       "      <td>False</td>\n",
       "      <td>False</td>\n",
       "      <td>False</td>\n",
       "      <td>False</td>\n",
       "      <td>False</td>\n",
       "      <td>False</td>\n",
       "      <td>False</td>\n",
       "      <td>False</td>\n",
       "      <td>False</td>\n",
       "      <td>False</td>\n",
       "      <td>False</td>\n",
       "      <td>False</td>\n",
       "      <td>False</td>\n",
       "      <td>False</td>\n",
       "      <td>False</td>\n",
       "      <td>False</td>\n",
       "      <td>False</td>\n",
       "      <td>False</td>\n",
       "      <td>False</td>\n",
       "      <td>False</td>\n",
       "      <td>False</td>\n",
       "      <td>False</td>\n",
       "      <td>False</td>\n",
       "      <td>False</td>\n",
       "      <td>False</td>\n",
       "      <td>False</td>\n",
       "      <td>False</td>\n",
       "      <td>False</td>\n",
       "      <td>False</td>\n",
       "      <td>False</td>\n",
       "      <td>False</td>\n",
       "      <td>False</td>\n",
       "      <td>False</td>\n",
       "      <td>False</td>\n",
       "      <td>False</td>\n",
       "      <td>False</td>\n",
       "      <td>False</td>\n",
       "      <td>False</td>\n",
       "      <td>False</td>\n",
       "      <td>...</td>\n",
       "      <td>False</td>\n",
       "      <td>False</td>\n",
       "      <td>False</td>\n",
       "      <td>False</td>\n",
       "      <td>False</td>\n",
       "      <td>False</td>\n",
       "      <td>False</td>\n",
       "      <td>False</td>\n",
       "      <td>False</td>\n",
       "      <td>False</td>\n",
       "      <td>False</td>\n",
       "      <td>False</td>\n",
       "      <td>False</td>\n",
       "      <td>False</td>\n",
       "      <td>False</td>\n",
       "      <td>False</td>\n",
       "      <td>False</td>\n",
       "      <td>False</td>\n",
       "      <td>False</td>\n",
       "      <td>False</td>\n",
       "      <td>False</td>\n",
       "      <td>False</td>\n",
       "      <td>False</td>\n",
       "      <td>False</td>\n",
       "      <td>False</td>\n",
       "      <td>False</td>\n",
       "      <td>False</td>\n",
       "      <td>False</td>\n",
       "      <td>False</td>\n",
       "      <td>False</td>\n",
       "      <td>False</td>\n",
       "      <td>False</td>\n",
       "      <td>False</td>\n",
       "      <td>False</td>\n",
       "      <td>False</td>\n",
       "      <td>False</td>\n",
       "      <td>False</td>\n",
       "      <td>False</td>\n",
       "      <td>False</td>\n",
       "      <td>False</td>\n",
       "      <td>False</td>\n",
       "      <td>False</td>\n",
       "      <td>False</td>\n",
       "      <td>False</td>\n",
       "      <td>False</td>\n",
       "      <td>False</td>\n",
       "      <td>False</td>\n",
       "      <td>False</td>\n",
       "      <td>False</td>\n",
       "      <td>False</td>\n",
       "      <td>False</td>\n",
       "      <td>False</td>\n",
       "      <td>False</td>\n",
       "      <td>False</td>\n",
       "      <td>False</td>\n",
       "      <td>False</td>\n",
       "      <td>False</td>\n",
       "      <td>False</td>\n",
       "      <td>False</td>\n",
       "      <td>False</td>\n",
       "      <td>False</td>\n",
       "      <td>False</td>\n",
       "      <td>False</td>\n",
       "      <td>False</td>\n",
       "      <td>False</td>\n",
       "      <td>False</td>\n",
       "      <td>False</td>\n",
       "      <td>False</td>\n",
       "      <td>False</td>\n",
       "      <td>False</td>\n",
       "      <td>False</td>\n",
       "      <td>False</td>\n",
       "      <td>False</td>\n",
       "      <td>False</td>\n",
       "      <td>False</td>\n",
       "      <td>False</td>\n",
       "      <td>False</td>\n",
       "      <td>False</td>\n",
       "      <td>False</td>\n",
       "      <td>False</td>\n",
       "      <td>False</td>\n",
       "      <td>False</td>\n",
       "      <td>False</td>\n",
       "      <td>False</td>\n",
       "      <td>False</td>\n",
       "      <td>False</td>\n",
       "      <td>False</td>\n",
       "      <td>False</td>\n",
       "      <td>False</td>\n",
       "      <td>False</td>\n",
       "      <td>False</td>\n",
       "      <td>False</td>\n",
       "      <td>False</td>\n",
       "      <td>False</td>\n",
       "      <td>False</td>\n",
       "      <td>False</td>\n",
       "      <td>False</td>\n",
       "      <td>False</td>\n",
       "      <td>False</td>\n",
       "      <td>False</td>\n",
       "      <td>False</td>\n",
       "      <td>False</td>\n",
       "      <td>False</td>\n",
       "      <td>False</td>\n",
       "      <td>False</td>\n",
       "      <td>False</td>\n",
       "      <td>False</td>\n",
       "      <td>False</td>\n",
       "      <td>False</td>\n",
       "      <td>False</td>\n",
       "      <td>False</td>\n",
       "      <td>False</td>\n",
       "      <td>False</td>\n",
       "      <td>False</td>\n",
       "      <td>False</td>\n",
       "      <td>False</td>\n",
       "      <td>False</td>\n",
       "      <td>False</td>\n",
       "      <td>False</td>\n",
       "      <td>False</td>\n",
       "      <td>False</td>\n",
       "      <td>False</td>\n",
       "      <td>False</td>\n",
       "      <td>False</td>\n",
       "      <td>False</td>\n",
       "      <td>False</td>\n",
       "      <td>False</td>\n",
       "      <td>False</td>\n",
       "      <td>False</td>\n",
       "      <td>False</td>\n",
       "      <td>False</td>\n",
       "      <td>False</td>\n",
       "      <td>False</td>\n",
       "      <td>False</td>\n",
       "      <td>False</td>\n",
       "      <td>False</td>\n",
       "      <td>False</td>\n",
       "      <td>False</td>\n",
       "      <td>False</td>\n",
       "      <td>False</td>\n",
       "      <td>False</td>\n",
       "      <td>False</td>\n",
       "      <td>False</td>\n",
       "      <td>False</td>\n",
       "      <td>False</td>\n",
       "      <td>False</td>\n",
       "      <td>False</td>\n",
       "      <td>False</td>\n",
       "      <td>False</td>\n",
       "      <td>False</td>\n",
       "      <td>False</td>\n",
       "      <td>False</td>\n",
       "      <td>False</td>\n",
       "      <td>False</td>\n",
       "      <td>False</td>\n",
       "      <td>False</td>\n",
       "      <td>False</td>\n",
       "      <td>False</td>\n",
       "      <td>False</td>\n",
       "      <td>False</td>\n",
       "      <td>False</td>\n",
       "      <td>False</td>\n",
       "      <td>False</td>\n",
       "      <td>False</td>\n",
       "      <td>False</td>\n",
       "      <td>False</td>\n",
       "      <td>False</td>\n",
       "      <td>False</td>\n",
       "      <td>False</td>\n",
       "      <td>False</td>\n",
       "      <td>False</td>\n",
       "      <td>False</td>\n",
       "      <td>False</td>\n",
       "      <td>False</td>\n",
       "      <td>False</td>\n",
       "      <td>False</td>\n",
       "      <td>False</td>\n",
       "      <td>False</td>\n",
       "      <td>False</td>\n",
       "      <td>False</td>\n",
       "      <td>False</td>\n",
       "      <td>False</td>\n",
       "      <td>False</td>\n",
       "      <td>False</td>\n",
       "      <td>False</td>\n",
       "      <td>False</td>\n",
       "      <td>False</td>\n",
       "      <td>False</td>\n",
       "      <td>False</td>\n",
       "      <td>False</td>\n",
       "      <td>False</td>\n",
       "      <td>False</td>\n",
       "      <td>False</td>\n",
       "      <td>False</td>\n",
       "      <td>False</td>\n",
       "      <td>False</td>\n",
       "      <td>False</td>\n",
       "      <td>False</td>\n",
       "      <td>False</td>\n",
       "      <td>False</td>\n",
       "      <td>False</td>\n",
       "      <td>False</td>\n",
       "      <td>False</td>\n",
       "      <td>False</td>\n",
       "      <td>False</td>\n",
       "      <td>False</td>\n",
       "      <td>False</td>\n",
       "      <td>False</td>\n",
       "      <td>False</td>\n",
       "      <td>False</td>\n",
       "      <td>False</td>\n",
       "      <td>False</td>\n",
       "      <td>False</td>\n",
       "      <td>False</td>\n",
       "      <td>False</td>\n",
       "      <td>False</td>\n",
       "      <td>False</td>\n",
       "      <td>False</td>\n",
       "      <td>False</td>\n",
       "      <td>False</td>\n",
       "      <td>False</td>\n",
       "      <td>False</td>\n",
       "      <td>False</td>\n",
       "      <td>False</td>\n",
       "      <td>False</td>\n",
       "      <td>False</td>\n",
       "      <td>False</td>\n",
       "      <td>False</td>\n",
       "      <td>False</td>\n",
       "      <td>False</td>\n",
       "      <td>False</td>\n",
       "      <td>False</td>\n",
       "      <td>False</td>\n",
       "      <td>False</td>\n",
       "      <td>False</td>\n",
       "      <td>True</td>\n",
       "      <td>False</td>\n",
       "      <td>False</td>\n",
       "      <td>False</td>\n",
       "      <td>False</td>\n",
       "      <td>False</td>\n",
       "      <td>False</td>\n",
       "      <td>True</td>\n",
       "      <td>False</td>\n",
       "      <td>False</td>\n",
       "      <td>True</td>\n",
       "      <td>False</td>\n",
       "      <td>True</td>\n",
       "      <td>False</td>\n",
       "      <td>False</td>\n",
       "    </tr>\n",
       "    <tr>\n",
       "      <th>3</th>\n",
       "      <td>False</td>\n",
       "      <td>False</td>\n",
       "      <td>False</td>\n",
       "      <td>False</td>\n",
       "      <td>False</td>\n",
       "      <td>False</td>\n",
       "      <td>False</td>\n",
       "      <td>False</td>\n",
       "      <td>False</td>\n",
       "      <td>False</td>\n",
       "      <td>False</td>\n",
       "      <td>False</td>\n",
       "      <td>False</td>\n",
       "      <td>False</td>\n",
       "      <td>False</td>\n",
       "      <td>False</td>\n",
       "      <td>False</td>\n",
       "      <td>False</td>\n",
       "      <td>False</td>\n",
       "      <td>False</td>\n",
       "      <td>False</td>\n",
       "      <td>False</td>\n",
       "      <td>False</td>\n",
       "      <td>False</td>\n",
       "      <td>True</td>\n",
       "      <td>False</td>\n",
       "      <td>False</td>\n",
       "      <td>True</td>\n",
       "      <td>False</td>\n",
       "      <td>False</td>\n",
       "      <td>False</td>\n",
       "      <td>True</td>\n",
       "      <td>False</td>\n",
       "      <td>False</td>\n",
       "      <td>True</td>\n",
       "      <td>True</td>\n",
       "      <td>False</td>\n",
       "      <td>False</td>\n",
       "      <td>False</td>\n",
       "      <td>False</td>\n",
       "      <td>False</td>\n",
       "      <td>True</td>\n",
       "      <td>False</td>\n",
       "      <td>True</td>\n",
       "      <td>False</td>\n",
       "      <td>False</td>\n",
       "      <td>False</td>\n",
       "      <td>False</td>\n",
       "      <td>False</td>\n",
       "      <td>False</td>\n",
       "      <td>True</td>\n",
       "      <td>True</td>\n",
       "      <td>False</td>\n",
       "      <td>False</td>\n",
       "      <td>False</td>\n",
       "      <td>False</td>\n",
       "      <td>True</td>\n",
       "      <td>False</td>\n",
       "      <td>False</td>\n",
       "      <td>True</td>\n",
       "      <td>False</td>\n",
       "      <td>False</td>\n",
       "      <td>True</td>\n",
       "      <td>False</td>\n",
       "      <td>False</td>\n",
       "      <td>False</td>\n",
       "      <td>True</td>\n",
       "      <td>False</td>\n",
       "      <td>False</td>\n",
       "      <td>True</td>\n",
       "      <td>False</td>\n",
       "      <td>False</td>\n",
       "      <td>False</td>\n",
       "      <td>False</td>\n",
       "      <td>False</td>\n",
       "      <td>False</td>\n",
       "      <td>False</td>\n",
       "      <td>False</td>\n",
       "      <td>True</td>\n",
       "      <td>False</td>\n",
       "      <td>False</td>\n",
       "      <td>False</td>\n",
       "      <td>False</td>\n",
       "      <td>False</td>\n",
       "      <td>True</td>\n",
       "      <td>False</td>\n",
       "      <td>False</td>\n",
       "      <td>True</td>\n",
       "      <td>False</td>\n",
       "      <td>False</td>\n",
       "      <td>True</td>\n",
       "      <td>False</td>\n",
       "      <td>False</td>\n",
       "      <td>False</td>\n",
       "      <td>True</td>\n",
       "      <td>False</td>\n",
       "      <td>True</td>\n",
       "      <td>False</td>\n",
       "      <td>False</td>\n",
       "      <td>False</td>\n",
       "      <td>False</td>\n",
       "      <td>True</td>\n",
       "      <td>False</td>\n",
       "      <td>False</td>\n",
       "      <td>False</td>\n",
       "      <td>True</td>\n",
       "      <td>False</td>\n",
       "      <td>False</td>\n",
       "      <td>False</td>\n",
       "      <td>False</td>\n",
       "      <td>False</td>\n",
       "      <td>False</td>\n",
       "      <td>False</td>\n",
       "      <td>False</td>\n",
       "      <td>False</td>\n",
       "      <td>False</td>\n",
       "      <td>False</td>\n",
       "      <td>False</td>\n",
       "      <td>False</td>\n",
       "      <td>False</td>\n",
       "      <td>False</td>\n",
       "      <td>False</td>\n",
       "      <td>False</td>\n",
       "      <td>False</td>\n",
       "      <td>False</td>\n",
       "      <td>False</td>\n",
       "      <td>False</td>\n",
       "      <td>False</td>\n",
       "      <td>False</td>\n",
       "      <td>False</td>\n",
       "      <td>False</td>\n",
       "      <td>False</td>\n",
       "      <td>False</td>\n",
       "      <td>False</td>\n",
       "      <td>False</td>\n",
       "      <td>False</td>\n",
       "      <td>False</td>\n",
       "      <td>False</td>\n",
       "      <td>False</td>\n",
       "      <td>False</td>\n",
       "      <td>False</td>\n",
       "      <td>False</td>\n",
       "      <td>False</td>\n",
       "      <td>False</td>\n",
       "      <td>False</td>\n",
       "      <td>False</td>\n",
       "      <td>False</td>\n",
       "      <td>False</td>\n",
       "      <td>False</td>\n",
       "      <td>False</td>\n",
       "      <td>False</td>\n",
       "      <td>False</td>\n",
       "      <td>False</td>\n",
       "      <td>False</td>\n",
       "      <td>False</td>\n",
       "      <td>False</td>\n",
       "      <td>False</td>\n",
       "      <td>False</td>\n",
       "      <td>False</td>\n",
       "      <td>False</td>\n",
       "      <td>False</td>\n",
       "      <td>False</td>\n",
       "      <td>False</td>\n",
       "      <td>False</td>\n",
       "      <td>False</td>\n",
       "      <td>False</td>\n",
       "      <td>False</td>\n",
       "      <td>False</td>\n",
       "      <td>False</td>\n",
       "      <td>False</td>\n",
       "      <td>False</td>\n",
       "      <td>False</td>\n",
       "      <td>False</td>\n",
       "      <td>False</td>\n",
       "      <td>False</td>\n",
       "      <td>False</td>\n",
       "      <td>False</td>\n",
       "      <td>False</td>\n",
       "      <td>False</td>\n",
       "      <td>False</td>\n",
       "      <td>False</td>\n",
       "      <td>False</td>\n",
       "      <td>False</td>\n",
       "      <td>False</td>\n",
       "      <td>False</td>\n",
       "      <td>False</td>\n",
       "      <td>False</td>\n",
       "      <td>False</td>\n",
       "      <td>False</td>\n",
       "      <td>False</td>\n",
       "      <td>False</td>\n",
       "      <td>False</td>\n",
       "      <td>False</td>\n",
       "      <td>False</td>\n",
       "      <td>False</td>\n",
       "      <td>False</td>\n",
       "      <td>False</td>\n",
       "      <td>False</td>\n",
       "      <td>False</td>\n",
       "      <td>False</td>\n",
       "      <td>False</td>\n",
       "      <td>False</td>\n",
       "      <td>False</td>\n",
       "      <td>False</td>\n",
       "      <td>False</td>\n",
       "      <td>False</td>\n",
       "      <td>False</td>\n",
       "      <td>False</td>\n",
       "      <td>False</td>\n",
       "      <td>False</td>\n",
       "      <td>False</td>\n",
       "      <td>False</td>\n",
       "      <td>False</td>\n",
       "      <td>False</td>\n",
       "      <td>False</td>\n",
       "      <td>False</td>\n",
       "      <td>False</td>\n",
       "      <td>False</td>\n",
       "      <td>False</td>\n",
       "      <td>False</td>\n",
       "      <td>False</td>\n",
       "      <td>False</td>\n",
       "      <td>False</td>\n",
       "      <td>False</td>\n",
       "      <td>False</td>\n",
       "      <td>False</td>\n",
       "      <td>False</td>\n",
       "      <td>False</td>\n",
       "      <td>False</td>\n",
       "      <td>False</td>\n",
       "      <td>False</td>\n",
       "      <td>False</td>\n",
       "      <td>False</td>\n",
       "      <td>False</td>\n",
       "      <td>False</td>\n",
       "      <td>False</td>\n",
       "      <td>False</td>\n",
       "      <td>False</td>\n",
       "      <td>False</td>\n",
       "      <td>False</td>\n",
       "      <td>False</td>\n",
       "      <td>False</td>\n",
       "      <td>False</td>\n",
       "      <td>False</td>\n",
       "      <td>False</td>\n",
       "      <td>False</td>\n",
       "      <td>False</td>\n",
       "      <td>False</td>\n",
       "      <td>False</td>\n",
       "      <td>False</td>\n",
       "      <td>...</td>\n",
       "      <td>False</td>\n",
       "      <td>False</td>\n",
       "      <td>False</td>\n",
       "      <td>False</td>\n",
       "      <td>False</td>\n",
       "      <td>False</td>\n",
       "      <td>False</td>\n",
       "      <td>False</td>\n",
       "      <td>False</td>\n",
       "      <td>False</td>\n",
       "      <td>False</td>\n",
       "      <td>False</td>\n",
       "      <td>False</td>\n",
       "      <td>False</td>\n",
       "      <td>False</td>\n",
       "      <td>False</td>\n",
       "      <td>False</td>\n",
       "      <td>False</td>\n",
       "      <td>False</td>\n",
       "      <td>False</td>\n",
       "      <td>False</td>\n",
       "      <td>False</td>\n",
       "      <td>False</td>\n",
       "      <td>False</td>\n",
       "      <td>False</td>\n",
       "      <td>False</td>\n",
       "      <td>False</td>\n",
       "      <td>False</td>\n",
       "      <td>False</td>\n",
       "      <td>False</td>\n",
       "      <td>False</td>\n",
       "      <td>False</td>\n",
       "      <td>False</td>\n",
       "      <td>False</td>\n",
       "      <td>False</td>\n",
       "      <td>False</td>\n",
       "      <td>False</td>\n",
       "      <td>False</td>\n",
       "      <td>False</td>\n",
       "      <td>False</td>\n",
       "      <td>False</td>\n",
       "      <td>False</td>\n",
       "      <td>False</td>\n",
       "      <td>False</td>\n",
       "      <td>False</td>\n",
       "      <td>False</td>\n",
       "      <td>False</td>\n",
       "      <td>False</td>\n",
       "      <td>False</td>\n",
       "      <td>False</td>\n",
       "      <td>False</td>\n",
       "      <td>False</td>\n",
       "      <td>False</td>\n",
       "      <td>False</td>\n",
       "      <td>False</td>\n",
       "      <td>False</td>\n",
       "      <td>False</td>\n",
       "      <td>False</td>\n",
       "      <td>False</td>\n",
       "      <td>False</td>\n",
       "      <td>False</td>\n",
       "      <td>False</td>\n",
       "      <td>False</td>\n",
       "      <td>False</td>\n",
       "      <td>False</td>\n",
       "      <td>False</td>\n",
       "      <td>False</td>\n",
       "      <td>False</td>\n",
       "      <td>False</td>\n",
       "      <td>False</td>\n",
       "      <td>False</td>\n",
       "      <td>False</td>\n",
       "      <td>False</td>\n",
       "      <td>False</td>\n",
       "      <td>False</td>\n",
       "      <td>False</td>\n",
       "      <td>False</td>\n",
       "      <td>False</td>\n",
       "      <td>False</td>\n",
       "      <td>False</td>\n",
       "      <td>False</td>\n",
       "      <td>False</td>\n",
       "      <td>False</td>\n",
       "      <td>False</td>\n",
       "      <td>False</td>\n",
       "      <td>False</td>\n",
       "      <td>False</td>\n",
       "      <td>False</td>\n",
       "      <td>False</td>\n",
       "      <td>False</td>\n",
       "      <td>False</td>\n",
       "      <td>False</td>\n",
       "      <td>False</td>\n",
       "      <td>False</td>\n",
       "      <td>False</td>\n",
       "      <td>False</td>\n",
       "      <td>False</td>\n",
       "      <td>False</td>\n",
       "      <td>False</td>\n",
       "      <td>False</td>\n",
       "      <td>False</td>\n",
       "      <td>False</td>\n",
       "      <td>False</td>\n",
       "      <td>False</td>\n",
       "      <td>False</td>\n",
       "      <td>False</td>\n",
       "      <td>False</td>\n",
       "      <td>False</td>\n",
       "      <td>False</td>\n",
       "      <td>False</td>\n",
       "      <td>False</td>\n",
       "      <td>False</td>\n",
       "      <td>False</td>\n",
       "      <td>False</td>\n",
       "      <td>False</td>\n",
       "      <td>False</td>\n",
       "      <td>False</td>\n",
       "      <td>False</td>\n",
       "      <td>False</td>\n",
       "      <td>False</td>\n",
       "      <td>False</td>\n",
       "      <td>False</td>\n",
       "      <td>False</td>\n",
       "      <td>False</td>\n",
       "      <td>False</td>\n",
       "      <td>False</td>\n",
       "      <td>False</td>\n",
       "      <td>False</td>\n",
       "      <td>False</td>\n",
       "      <td>False</td>\n",
       "      <td>False</td>\n",
       "      <td>False</td>\n",
       "      <td>False</td>\n",
       "      <td>False</td>\n",
       "      <td>False</td>\n",
       "      <td>False</td>\n",
       "      <td>False</td>\n",
       "      <td>False</td>\n",
       "      <td>False</td>\n",
       "      <td>False</td>\n",
       "      <td>False</td>\n",
       "      <td>False</td>\n",
       "      <td>False</td>\n",
       "      <td>False</td>\n",
       "      <td>False</td>\n",
       "      <td>False</td>\n",
       "      <td>False</td>\n",
       "      <td>False</td>\n",
       "      <td>False</td>\n",
       "      <td>False</td>\n",
       "      <td>False</td>\n",
       "      <td>False</td>\n",
       "      <td>False</td>\n",
       "      <td>False</td>\n",
       "      <td>False</td>\n",
       "      <td>False</td>\n",
       "      <td>False</td>\n",
       "      <td>False</td>\n",
       "      <td>False</td>\n",
       "      <td>False</td>\n",
       "      <td>False</td>\n",
       "      <td>False</td>\n",
       "      <td>False</td>\n",
       "      <td>False</td>\n",
       "      <td>False</td>\n",
       "      <td>False</td>\n",
       "      <td>False</td>\n",
       "      <td>False</td>\n",
       "      <td>False</td>\n",
       "      <td>False</td>\n",
       "      <td>False</td>\n",
       "      <td>False</td>\n",
       "      <td>False</td>\n",
       "      <td>False</td>\n",
       "      <td>False</td>\n",
       "      <td>False</td>\n",
       "      <td>True</td>\n",
       "      <td>False</td>\n",
       "      <td>False</td>\n",
       "      <td>False</td>\n",
       "      <td>False</td>\n",
       "      <td>False</td>\n",
       "      <td>False</td>\n",
       "      <td>False</td>\n",
       "      <td>False</td>\n",
       "      <td>False</td>\n",
       "      <td>False</td>\n",
       "      <td>False</td>\n",
       "      <td>False</td>\n",
       "      <td>False</td>\n",
       "      <td>False</td>\n",
       "      <td>False</td>\n",
       "      <td>False</td>\n",
       "      <td>False</td>\n",
       "      <td>False</td>\n",
       "      <td>False</td>\n",
       "      <td>False</td>\n",
       "      <td>False</td>\n",
       "      <td>False</td>\n",
       "      <td>False</td>\n",
       "      <td>False</td>\n",
       "      <td>False</td>\n",
       "      <td>False</td>\n",
       "      <td>False</td>\n",
       "      <td>False</td>\n",
       "      <td>False</td>\n",
       "      <td>False</td>\n",
       "      <td>False</td>\n",
       "      <td>False</td>\n",
       "      <td>False</td>\n",
       "      <td>False</td>\n",
       "      <td>False</td>\n",
       "      <td>False</td>\n",
       "      <td>False</td>\n",
       "      <td>False</td>\n",
       "      <td>False</td>\n",
       "      <td>False</td>\n",
       "      <td>False</td>\n",
       "      <td>False</td>\n",
       "      <td>False</td>\n",
       "      <td>False</td>\n",
       "      <td>False</td>\n",
       "      <td>False</td>\n",
       "      <td>False</td>\n",
       "      <td>False</td>\n",
       "      <td>False</td>\n",
       "      <td>False</td>\n",
       "      <td>False</td>\n",
       "      <td>False</td>\n",
       "      <td>False</td>\n",
       "      <td>False</td>\n",
       "      <td>False</td>\n",
       "      <td>False</td>\n",
       "      <td>False</td>\n",
       "      <td>False</td>\n",
       "      <td>False</td>\n",
       "      <td>False</td>\n",
       "      <td>True</td>\n",
       "      <td>False</td>\n",
       "      <td>False</td>\n",
       "      <td>False</td>\n",
       "      <td>False</td>\n",
       "      <td>False</td>\n",
       "      <td>False</td>\n",
       "      <td>False</td>\n",
       "      <td>False</td>\n",
       "      <td>False</td>\n",
       "      <td>False</td>\n",
       "      <td>False</td>\n",
       "      <td>False</td>\n",
       "    </tr>\n",
       "    <tr>\n",
       "      <th>4</th>\n",
       "      <td>False</td>\n",
       "      <td>True</td>\n",
       "      <td>False</td>\n",
       "      <td>False</td>\n",
       "      <td>False</td>\n",
       "      <td>False</td>\n",
       "      <td>False</td>\n",
       "      <td>False</td>\n",
       "      <td>True</td>\n",
       "      <td>True</td>\n",
       "      <td>False</td>\n",
       "      <td>False</td>\n",
       "      <td>True</td>\n",
       "      <td>False</td>\n",
       "      <td>False</td>\n",
       "      <td>False</td>\n",
       "      <td>True</td>\n",
       "      <td>False</td>\n",
       "      <td>False</td>\n",
       "      <td>True</td>\n",
       "      <td>False</td>\n",
       "      <td>True</td>\n",
       "      <td>False</td>\n",
       "      <td>False</td>\n",
       "      <td>False</td>\n",
       "      <td>False</td>\n",
       "      <td>False</td>\n",
       "      <td>False</td>\n",
       "      <td>False</td>\n",
       "      <td>False</td>\n",
       "      <td>False</td>\n",
       "      <td>False</td>\n",
       "      <td>False</td>\n",
       "      <td>True</td>\n",
       "      <td>False</td>\n",
       "      <td>False</td>\n",
       "      <td>False</td>\n",
       "      <td>False</td>\n",
       "      <td>False</td>\n",
       "      <td>False</td>\n",
       "      <td>False</td>\n",
       "      <td>False</td>\n",
       "      <td>False</td>\n",
       "      <td>False</td>\n",
       "      <td>False</td>\n",
       "      <td>False</td>\n",
       "      <td>False</td>\n",
       "      <td>False</td>\n",
       "      <td>False</td>\n",
       "      <td>False</td>\n",
       "      <td>False</td>\n",
       "      <td>False</td>\n",
       "      <td>False</td>\n",
       "      <td>False</td>\n",
       "      <td>False</td>\n",
       "      <td>False</td>\n",
       "      <td>True</td>\n",
       "      <td>True</td>\n",
       "      <td>False</td>\n",
       "      <td>False</td>\n",
       "      <td>False</td>\n",
       "      <td>False</td>\n",
       "      <td>True</td>\n",
       "      <td>False</td>\n",
       "      <td>False</td>\n",
       "      <td>False</td>\n",
       "      <td>False</td>\n",
       "      <td>True</td>\n",
       "      <td>False</td>\n",
       "      <td>True</td>\n",
       "      <td>False</td>\n",
       "      <td>False</td>\n",
       "      <td>False</td>\n",
       "      <td>False</td>\n",
       "      <td>False</td>\n",
       "      <td>False</td>\n",
       "      <td>True</td>\n",
       "      <td>False</td>\n",
       "      <td>True</td>\n",
       "      <td>False</td>\n",
       "      <td>False</td>\n",
       "      <td>False</td>\n",
       "      <td>False</td>\n",
       "      <td>False</td>\n",
       "      <td>True</td>\n",
       "      <td>False</td>\n",
       "      <td>False</td>\n",
       "      <td>True</td>\n",
       "      <td>False</td>\n",
       "      <td>True</td>\n",
       "      <td>False</td>\n",
       "      <td>False</td>\n",
       "      <td>False</td>\n",
       "      <td>False</td>\n",
       "      <td>True</td>\n",
       "      <td>False</td>\n",
       "      <td>False</td>\n",
       "      <td>False</td>\n",
       "      <td>True</td>\n",
       "      <td>False</td>\n",
       "      <td>False</td>\n",
       "      <td>True</td>\n",
       "      <td>False</td>\n",
       "      <td>True</td>\n",
       "      <td>False</td>\n",
       "      <td>False</td>\n",
       "      <td>False</td>\n",
       "      <td>False</td>\n",
       "      <td>False</td>\n",
       "      <td>False</td>\n",
       "      <td>False</td>\n",
       "      <td>False</td>\n",
       "      <td>False</td>\n",
       "      <td>False</td>\n",
       "      <td>False</td>\n",
       "      <td>False</td>\n",
       "      <td>False</td>\n",
       "      <td>False</td>\n",
       "      <td>False</td>\n",
       "      <td>False</td>\n",
       "      <td>False</td>\n",
       "      <td>False</td>\n",
       "      <td>False</td>\n",
       "      <td>False</td>\n",
       "      <td>False</td>\n",
       "      <td>False</td>\n",
       "      <td>False</td>\n",
       "      <td>False</td>\n",
       "      <td>False</td>\n",
       "      <td>False</td>\n",
       "      <td>False</td>\n",
       "      <td>False</td>\n",
       "      <td>False</td>\n",
       "      <td>False</td>\n",
       "      <td>False</td>\n",
       "      <td>False</td>\n",
       "      <td>False</td>\n",
       "      <td>False</td>\n",
       "      <td>False</td>\n",
       "      <td>False</td>\n",
       "      <td>False</td>\n",
       "      <td>False</td>\n",
       "      <td>False</td>\n",
       "      <td>False</td>\n",
       "      <td>False</td>\n",
       "      <td>False</td>\n",
       "      <td>False</td>\n",
       "      <td>False</td>\n",
       "      <td>False</td>\n",
       "      <td>False</td>\n",
       "      <td>False</td>\n",
       "      <td>False</td>\n",
       "      <td>False</td>\n",
       "      <td>False</td>\n",
       "      <td>False</td>\n",
       "      <td>False</td>\n",
       "      <td>False</td>\n",
       "      <td>False</td>\n",
       "      <td>False</td>\n",
       "      <td>False</td>\n",
       "      <td>False</td>\n",
       "      <td>False</td>\n",
       "      <td>False</td>\n",
       "      <td>False</td>\n",
       "      <td>False</td>\n",
       "      <td>False</td>\n",
       "      <td>False</td>\n",
       "      <td>False</td>\n",
       "      <td>False</td>\n",
       "      <td>False</td>\n",
       "      <td>False</td>\n",
       "      <td>False</td>\n",
       "      <td>False</td>\n",
       "      <td>False</td>\n",
       "      <td>False</td>\n",
       "      <td>False</td>\n",
       "      <td>False</td>\n",
       "      <td>False</td>\n",
       "      <td>False</td>\n",
       "      <td>False</td>\n",
       "      <td>False</td>\n",
       "      <td>False</td>\n",
       "      <td>False</td>\n",
       "      <td>False</td>\n",
       "      <td>False</td>\n",
       "      <td>False</td>\n",
       "      <td>False</td>\n",
       "      <td>False</td>\n",
       "      <td>False</td>\n",
       "      <td>False</td>\n",
       "      <td>False</td>\n",
       "      <td>False</td>\n",
       "      <td>False</td>\n",
       "      <td>False</td>\n",
       "      <td>False</td>\n",
       "      <td>False</td>\n",
       "      <td>False</td>\n",
       "      <td>False</td>\n",
       "      <td>False</td>\n",
       "      <td>False</td>\n",
       "      <td>False</td>\n",
       "      <td>False</td>\n",
       "      <td>False</td>\n",
       "      <td>True</td>\n",
       "      <td>False</td>\n",
       "      <td>False</td>\n",
       "      <td>False</td>\n",
       "      <td>False</td>\n",
       "      <td>False</td>\n",
       "      <td>False</td>\n",
       "      <td>False</td>\n",
       "      <td>False</td>\n",
       "      <td>False</td>\n",
       "      <td>False</td>\n",
       "      <td>False</td>\n",
       "      <td>False</td>\n",
       "      <td>False</td>\n",
       "      <td>False</td>\n",
       "      <td>False</td>\n",
       "      <td>False</td>\n",
       "      <td>False</td>\n",
       "      <td>False</td>\n",
       "      <td>False</td>\n",
       "      <td>False</td>\n",
       "      <td>False</td>\n",
       "      <td>False</td>\n",
       "      <td>False</td>\n",
       "      <td>False</td>\n",
       "      <td>False</td>\n",
       "      <td>False</td>\n",
       "      <td>False</td>\n",
       "      <td>False</td>\n",
       "      <td>False</td>\n",
       "      <td>False</td>\n",
       "      <td>False</td>\n",
       "      <td>False</td>\n",
       "      <td>False</td>\n",
       "      <td>False</td>\n",
       "      <td>False</td>\n",
       "      <td>False</td>\n",
       "      <td>False</td>\n",
       "      <td>False</td>\n",
       "      <td>False</td>\n",
       "      <td>False</td>\n",
       "      <td>False</td>\n",
       "      <td>False</td>\n",
       "      <td>False</td>\n",
       "      <td>False</td>\n",
       "      <td>False</td>\n",
       "      <td>False</td>\n",
       "      <td>...</td>\n",
       "      <td>False</td>\n",
       "      <td>False</td>\n",
       "      <td>False</td>\n",
       "      <td>False</td>\n",
       "      <td>False</td>\n",
       "      <td>False</td>\n",
       "      <td>False</td>\n",
       "      <td>False</td>\n",
       "      <td>False</td>\n",
       "      <td>False</td>\n",
       "      <td>False</td>\n",
       "      <td>False</td>\n",
       "      <td>False</td>\n",
       "      <td>False</td>\n",
       "      <td>False</td>\n",
       "      <td>False</td>\n",
       "      <td>False</td>\n",
       "      <td>False</td>\n",
       "      <td>False</td>\n",
       "      <td>False</td>\n",
       "      <td>False</td>\n",
       "      <td>False</td>\n",
       "      <td>False</td>\n",
       "      <td>False</td>\n",
       "      <td>False</td>\n",
       "      <td>False</td>\n",
       "      <td>False</td>\n",
       "      <td>False</td>\n",
       "      <td>False</td>\n",
       "      <td>False</td>\n",
       "      <td>False</td>\n",
       "      <td>False</td>\n",
       "      <td>False</td>\n",
       "      <td>False</td>\n",
       "      <td>False</td>\n",
       "      <td>False</td>\n",
       "      <td>False</td>\n",
       "      <td>False</td>\n",
       "      <td>False</td>\n",
       "      <td>False</td>\n",
       "      <td>False</td>\n",
       "      <td>False</td>\n",
       "      <td>False</td>\n",
       "      <td>False</td>\n",
       "      <td>False</td>\n",
       "      <td>False</td>\n",
       "      <td>False</td>\n",
       "      <td>False</td>\n",
       "      <td>False</td>\n",
       "      <td>False</td>\n",
       "      <td>False</td>\n",
       "      <td>False</td>\n",
       "      <td>False</td>\n",
       "      <td>False</td>\n",
       "      <td>False</td>\n",
       "      <td>False</td>\n",
       "      <td>False</td>\n",
       "      <td>False</td>\n",
       "      <td>True</td>\n",
       "      <td>False</td>\n",
       "      <td>False</td>\n",
       "      <td>False</td>\n",
       "      <td>False</td>\n",
       "      <td>False</td>\n",
       "      <td>False</td>\n",
       "      <td>False</td>\n",
       "      <td>False</td>\n",
       "      <td>False</td>\n",
       "      <td>False</td>\n",
       "      <td>False</td>\n",
       "      <td>False</td>\n",
       "      <td>False</td>\n",
       "      <td>False</td>\n",
       "      <td>False</td>\n",
       "      <td>False</td>\n",
       "      <td>False</td>\n",
       "      <td>False</td>\n",
       "      <td>False</td>\n",
       "      <td>False</td>\n",
       "      <td>False</td>\n",
       "      <td>False</td>\n",
       "      <td>False</td>\n",
       "      <td>False</td>\n",
       "      <td>False</td>\n",
       "      <td>False</td>\n",
       "      <td>False</td>\n",
       "      <td>False</td>\n",
       "      <td>False</td>\n",
       "      <td>False</td>\n",
       "      <td>False</td>\n",
       "      <td>False</td>\n",
       "      <td>False</td>\n",
       "      <td>False</td>\n",
       "      <td>False</td>\n",
       "      <td>False</td>\n",
       "      <td>False</td>\n",
       "      <td>False</td>\n",
       "      <td>False</td>\n",
       "      <td>False</td>\n",
       "      <td>False</td>\n",
       "      <td>False</td>\n",
       "      <td>False</td>\n",
       "      <td>False</td>\n",
       "      <td>False</td>\n",
       "      <td>False</td>\n",
       "      <td>False</td>\n",
       "      <td>False</td>\n",
       "      <td>False</td>\n",
       "      <td>False</td>\n",
       "      <td>False</td>\n",
       "      <td>False</td>\n",
       "      <td>False</td>\n",
       "      <td>False</td>\n",
       "      <td>False</td>\n",
       "      <td>False</td>\n",
       "      <td>False</td>\n",
       "      <td>False</td>\n",
       "      <td>False</td>\n",
       "      <td>False</td>\n",
       "      <td>False</td>\n",
       "      <td>False</td>\n",
       "      <td>False</td>\n",
       "      <td>False</td>\n",
       "      <td>False</td>\n",
       "      <td>False</td>\n",
       "      <td>False</td>\n",
       "      <td>False</td>\n",
       "      <td>False</td>\n",
       "      <td>False</td>\n",
       "      <td>False</td>\n",
       "      <td>False</td>\n",
       "      <td>False</td>\n",
       "      <td>False</td>\n",
       "      <td>False</td>\n",
       "      <td>False</td>\n",
       "      <td>False</td>\n",
       "      <td>False</td>\n",
       "      <td>False</td>\n",
       "      <td>False</td>\n",
       "      <td>False</td>\n",
       "      <td>False</td>\n",
       "      <td>False</td>\n",
       "      <td>False</td>\n",
       "      <td>False</td>\n",
       "      <td>False</td>\n",
       "      <td>False</td>\n",
       "      <td>False</td>\n",
       "      <td>False</td>\n",
       "      <td>False</td>\n",
       "      <td>False</td>\n",
       "      <td>False</td>\n",
       "      <td>False</td>\n",
       "      <td>False</td>\n",
       "      <td>False</td>\n",
       "      <td>False</td>\n",
       "      <td>False</td>\n",
       "      <td>False</td>\n",
       "      <td>False</td>\n",
       "      <td>False</td>\n",
       "      <td>False</td>\n",
       "      <td>False</td>\n",
       "      <td>False</td>\n",
       "      <td>False</td>\n",
       "      <td>False</td>\n",
       "      <td>False</td>\n",
       "      <td>False</td>\n",
       "      <td>False</td>\n",
       "      <td>False</td>\n",
       "      <td>False</td>\n",
       "      <td>False</td>\n",
       "      <td>False</td>\n",
       "      <td>False</td>\n",
       "      <td>False</td>\n",
       "      <td>False</td>\n",
       "      <td>False</td>\n",
       "      <td>False</td>\n",
       "      <td>False</td>\n",
       "      <td>False</td>\n",
       "      <td>False</td>\n",
       "      <td>False</td>\n",
       "      <td>False</td>\n",
       "      <td>False</td>\n",
       "      <td>False</td>\n",
       "      <td>False</td>\n",
       "      <td>False</td>\n",
       "      <td>False</td>\n",
       "      <td>False</td>\n",
       "      <td>False</td>\n",
       "      <td>False</td>\n",
       "      <td>False</td>\n",
       "      <td>False</td>\n",
       "      <td>False</td>\n",
       "      <td>False</td>\n",
       "      <td>False</td>\n",
       "      <td>False</td>\n",
       "      <td>False</td>\n",
       "      <td>False</td>\n",
       "      <td>False</td>\n",
       "      <td>False</td>\n",
       "      <td>False</td>\n",
       "      <td>False</td>\n",
       "      <td>False</td>\n",
       "      <td>False</td>\n",
       "      <td>False</td>\n",
       "      <td>False</td>\n",
       "      <td>False</td>\n",
       "      <td>False</td>\n",
       "      <td>False</td>\n",
       "      <td>False</td>\n",
       "      <td>False</td>\n",
       "      <td>False</td>\n",
       "      <td>False</td>\n",
       "      <td>False</td>\n",
       "      <td>False</td>\n",
       "      <td>False</td>\n",
       "      <td>False</td>\n",
       "      <td>False</td>\n",
       "      <td>False</td>\n",
       "      <td>False</td>\n",
       "      <td>False</td>\n",
       "      <td>False</td>\n",
       "      <td>False</td>\n",
       "      <td>False</td>\n",
       "      <td>False</td>\n",
       "      <td>False</td>\n",
       "      <td>False</td>\n",
       "      <td>False</td>\n",
       "      <td>False</td>\n",
       "      <td>False</td>\n",
       "      <td>False</td>\n",
       "      <td>False</td>\n",
       "      <td>False</td>\n",
       "      <td>False</td>\n",
       "      <td>False</td>\n",
       "      <td>False</td>\n",
       "      <td>False</td>\n",
       "      <td>False</td>\n",
       "      <td>True</td>\n",
       "      <td>False</td>\n",
       "      <td>False</td>\n",
       "      <td>True</td>\n",
       "      <td>False</td>\n",
       "      <td>True</td>\n",
       "      <td>False</td>\n",
       "      <td>False</td>\n",
       "      <td>True</td>\n",
       "      <td>False</td>\n",
       "      <td>False</td>\n",
       "      <td>True</td>\n",
       "      <td>False</td>\n",
       "    </tr>\n",
       "  </tbody>\n",
       "</table>\n",
       "<p>5 rows × 3274 columns</p>\n",
       "</div>"
      ],
      "text/plain": [
       "   Q10: I don't know  Q10: Neither easy nor difficult  Q10: Somewhat difficult  Q10: Somewhat easy  Q10: Very difficult  Q10: Very easy  Q11: Maybe  Q11: No  Q11: Yes  Q12: Maybe  Q12: No  Q12: Yes  Q13: Maybe  Q13: No  Q13: Yes  Q14: Maybe  Q14: No  Q14: Yes  Q15: I don't know  Q15: No  Q15: Yes  Q16: No  Q16: Yes  Q17: 0.0  Q17: 1.0  Q18: I know some  Q18: No, I don't know any  Q18: Yes, I know several  Q19: No, because it doesn't matter  Q19: No, because it would impact me negatively  Q19: Not applicable to me  Q19: Sometimes, if it comes up  Q19: Yes, always  Q1: 0  Q1: 1  Q20: I'm not sure  Q20: No  Q20: Yes  Q21: No, because it doesn't matter  Q21: No, because it would impact me negatively  Q21: Not applicable to me  Q21: Sometimes, if it comes up  Q21: Yes, always  Q22: I'm not sure  Q22: No  Q22: Not applicable to me  Q22: Yes  Q23: No  Q23: Not applicable to me  Q23: Unsure  Q23: Yes  Q24: 1-25%  Q24: 26-50%  Q24: 51-75%  Q24: 76-100%  Q25: 0  Q25: 1  Q26: I don't know  \\\n",
       "0              False                            False                    False               False                False            True       False     True     False       False     True     False        True    False     False       False    False      True               True    False     False     True     False     False     False             False                      False                     False                               False                                           False                      False                           False             False   True  False              False    False     False                               False                                           False                      False                           False             False              False    False                      False     False    False                      False        False     False       False        False        False         False   False    True              False   \n",
       "1              False                            False                    False                True                False           False       False     True     False       False     True     False        True    False     False       False    False      True              False    False      True     True     False     False     False             False                      False                     False                               False                                           False                      False                           False             False   True  False              False    False     False                               False                                           False                      False                           False             False              False    False                      False     False    False                      False        False     False       False        False        False         False   False    True              False   \n",
       "2              False                             True                    False               False                False           False        True    False     False       False     True     False        True    False     False        True    False     False               True    False     False     True     False     False     False             False                      False                     False                               False                                           False                      False                           False             False   True  False              False    False     False                               False                                           False                      False                           False             False              False    False                      False     False    False                      False        False     False       False        False        False         False   False    True              False   \n",
       "3              False                            False                    False               False                False           False       False    False     False       False    False     False       False    False     False       False    False     False              False    False     False    False     False     False      True             False                      False                      True                               False                                           False                      False                            True             False  False   True               True    False     False                               False                                           False                      False                            True             False               True    False                      False     False    False                      False        False      True        True        False        False         False   False    True              False   \n",
       "4              False                             True                    False               False                False           False       False    False      True        True    False     False        True    False     False       False     True     False              False     True     False     True     False     False     False             False                      False                     False                               False                                           False                      False                           False             False   True  False              False    False     False                               False                                           False                      False                           False             False              False    False                      False     False    False                      False        False     False       False        False        False         False   False    True               True   \n",
       "\n",
       "   Q26: No, none did  Q26: Some did  Q26: Yes, they all did  Q27: I was aware of some  Q27: N/A (not currently aware)  Q27: No, I only became aware later  Q27: Yes, I was aware of all of them  Q28: I don't know  Q28: None did  Q28: Some did  Q28: Yes, they all did  Q29: None did  Q29: Some did  Q29: Yes, they all did  Q2: 1-5  Q2: 100-500  Q2: 26-100  Q2: 500-1000  Q2: 6-25  Q2: More than 1000  Q30: I don't know  Q30: No  Q30: Sometimes  Q30: Yes, always  Q31: I don't know  Q31: None of them  Q31: Some of them  Q31: Yes, all of them  Q32: None of them  Q32: Some of them  Q32: Yes, all of them  Q33: No, at none of my previous employers  Q33: Some of my previous employers  Q33: Yes, at all of my previous employers  Q34: I don't know  Q34: No, at none of my previous employers  Q34: Some of my previous employers  Q34: Yes, at all of my previous employers  Q35: I don't know  Q35: None did  Q35: Some did  Q35: Yes, they all did  Q36: None of them  Q36: Some of them  Q36: Yes, all of them  \\\n",
       "0               True          False                   False                     False                            True                               False                                 False               True          False          False                   False           True          False                   False    False        False        True         False     False               False               True    False           False             False              False              False               True                  False               True              False                  False                                      False                                True                                      False              False                                      False                                True                                      False               True          False          False                   False               True              False                  False   \n",
       "1              False          False                    True                      True                           False                               False                                 False              False           True          False                   False          False           True                   False    False        False       False         False      True               False              False    False           False              True              False               True              False                  False               True              False                  False                                       True                               False                                      False              False                                      False                                True                                      False              False          False           True                   False               True              False                  False   \n",
       "2               True          False                   False                     False                            True                               False                                 False              False           True          False                   False          False           True                   False    False        False       False         False      True               False               True    False           False             False               True              False              False                  False              False               True                  False                                      False                                True                                      False               True                                      False                               False                                      False               True          False          False                   False              False               True                  False   \n",
       "3              False           True                   False                     False                            True                               False                                 False              False           True          False                   False           True          False                   False    False        False       False         False     False               False               True    False           False             False              False              False               True                  False              False               True                  False                                      False                                True                                      False              False                                      False                                True                                      False               True          False          False                   False              False               True                  False   \n",
       "4              False          False                   False                     False                            True                               False                                 False              False          False           True                   False           True          False                   False    False        False       False         False      True               False               True    False           False             False              False              False               True                  False              False               True                  False                                       True                               False                                      False              False                                      False                                True                                      False              False          False           True                   False              False               True                  False   \n",
       "\n",
       "   Q37: Maybe  Q37: No  Q37: Yes  Q38:  Don't trust potential employers to not judge.  Q38:  QF  Q38: .  Q38: ?  Q38: A health issue would have a negative effect on getting the job.  Q38: A place where I need to look and sound my best doesn't seem like the time to mention that I have something \"disordered\" about me.  Q38: A sleep-related disorder prevents me from being able to arrive at early hours, which a large part of employers require.  Q38: AFAIK, during an interview, it's recommended to not discuss things that may impair one's availability, or might cause excessive drain on insurance benefits. So much so that it might cause the employer to choose another candidate.  \\\n",
       "0        True    False     False                                              False       False   False   False                                              False                                                                 False                                                                                                                                   False                                                                                                                         False                                                                                                                                                                                            \n",
       "1        True    False     False                                              False       False   False   False                                              False                                                                 False                                                                                                                                   False                                                                                                                         False                                                                                                                                                                                            \n",
       "2       False    False      True                                              False       False   False   False                                              False                                                                 False                                                                                                                                   False                                                                                                                         False                                                                                                                                                                                            \n",
       "3       False    False      True                                              False       False   False   False                                              False                                                                 False                                                                                                                                   False                                                                                                                         False                                                                                                                                                                                            \n",
       "4        True    False     False                                              False       False   False   False                                              False                                                                 False                                                                                                                                   False                                                                                                                         False                                                                                                                                                                                            \n",
       "\n",
       "   Q38: AT least at the places I have worked - IT in banking..it was a very macho hardass culture across the board. In nonprofit spots - the budgets were so tight everyone complained all the time and had it hard...not as hard as me with untreated ADHD, depression and anxiety...but hard. It should have come up in all previous workplaces but I never feel safe bringing it up. I freelance now so I can deal with structuring my own work hours etc...but, I am really really struggling both due to isolation and just...freelancing is a real grind. If I didn't have Obamacare I would be completely screwed. AS it is I am only semi screwed. ALSO  - what I wish you would ask in this survey is about caretaking. \\nI am female in IT..and disabled. I take care of my elderly mother and my developmentally disabled brother. \\nWhat NEVER gets discussed is who does the caretaking in families when someone breaks down or is unable to work...it's women, sisters, daughters, mothers... So PLEASE work caretaking survey questions into your surveys.\\n\\nI can't just say it's about me...I'm under water because no one is helping with my brother or mother..least of all my father who died penniless after years on wall street making millions. He was ADHD too...and alcoholic and depressed...but, he was a \"master of the universe\" type doing IPOs for tech companies...and a \"liberatarian\"... \\n\\nSo yeah - please get more intersectional in how you survey this landscape. I'm screwed NOT just because of my disabilities...but my gender as well.\\n\\nSooo - this survey should have a \"Did we miss anything\" open question at the end. Two things. One - My ADHD is an asset when treated and understood...Also - When I finally got coverage at work 20 years ago...I was put on a med which I had a very bad reaction to - at work. Getting treated (after decades) ended up cratering my worklife for ten years or so. Wrong meds *really* messed me up - along with wrong DX. I couldn't be open about it. And then had a serious breakdown at work...and was fired immediately. No mercy. No understanding - I told them what was going on and I was gone. Because I wasn't well.. I couldn't defend myself. I became homeless for a while. I'm OK now...but it was a *mess* caused BY getting poor medical treatment for pretty run of the mill depression...I was in Silicon Valley at the time and over 30 and female. There was NO space for me to be anything less that 120% perfect as I was one of very few women working in SV at the time.  \\\n",
       "0                                              False                                                                                                                                                                                                                                                                                                                                                                                                                                                                                                                                                                                                                                                                                                                                                                                                                                                                                                                                                                                                                                                                                                                                                                                                                                                                                                                                                                                                                                                                                                                                                                                                                                                                                                                                                                                                                                                                                                                                                                                                                                                                                                                                                                                                                                                                                                                                                                                                                                                                                                                                          \n",
       "1                                              False                                                                                                                                                                                                                                                                                                                                                                                                                                                                                                                                                                                                                                                                                                                                                                                                                                                                                                                                                                                                                                                                                                                                                                                                                                                                                                                                                                                                                                                                                                                                                                                                                                                                                                                                                                                                                                                                                                                                                                                                                                                                                                                                                                                                                                                                                                                                                                                                                                                                                                                                          \n",
       "2                                              False                                                                                                                                                                                                                                                                                                                                                                                                                                                                                                                                                                                                                                                                                                                                                                                                                                                                                                                                                                                                                                                                                                                                                                                                                                                                                                                                                                                                                                                                                                                                                                                                                                                                                                                                                                                                                                                                                                                                                                                                                                                                                                                                                                                                                                                                                                                                                                                                                                                                                                                                          \n",
       "3                                              False                                                                                                                                                                                                                                                                                                                                                                                                                                                                                                                                                                                                                                                                                                                                                                                                                                                                                                                                                                                                                                                                                                                                                                                                                                                                                                                                                                                                                                                                                                                                                                                                                                                                                                                                                                                                                                                                                                                                                                                                                                                                                                                                                                                                                                                                                                                                                                                                                                                                                                                                          \n",
       "4                                              False                                                                                                                                                                                                                                                                                                                                                                                                                                                                                                                                                                                                                                                                                                                                                                                                                                                                                                                                                                                                                                                                                                                                                                                                                                                                                                                                                                                                                                                                                                                                                                                                                                                                                                                                                                                                                                                                                                                                                                                                                                                                                                                                                                                                                                                                                                                                                                                                                                                                                                                                          \n",
       "\n",
       "   Q38: Afraid it would affect outcome  Q38: Afraid it would cost me the job.  Q38: Afraid of adding something negative to the balance sheet  Q38: Afraid of prejudice   Q38: Afraid of seeming weak.  Q38: Although I know in some places employers are not supposed to discriminate against candidates due to ability status, some still do. If and only if it were something that would require significant accommodations or if it was a visible disability, like a wheelchair, would I bring it up.  Q38: Although illegal, I wouldn't want a physical health issue to weigh on someones mind when they make the decision whether or not to hire me.  Q38: Although it should be protected, not convinced it wouldn't harm my chances.  Q38: An employer should know any limitations you have.  \\\n",
       "0                                False                                  False                                              False                                  False                         False                                              False                                                                                                                                                                                                                                                                                              False                                                                                                                                            False                                                                             False        \n",
       "1                                False                                  False                                              False                                  False                         False                                              False                                                                                                                                                                                                                                                                                              False                                                                                                                                            False                                                                             False        \n",
       "2                                False                                  False                                              False                                  False                         False                                              False                                                                                                                                                                                                                                                                                              False                                                                                                                                            False                                                                             False        \n",
       "3                                False                                  False                                              False                                  False                         False                                              False                                                                                                                                                                                                                                                                                              False                                                                                                                                            False                                                                             False        \n",
       "4                                False                                  False                                              False                                  False                         False                                              False                                                                                                                                                                                                                                                                                              False                                                                                                                                            False                                                                             False        \n",
       "\n",
       "   Q38: An employer weighs the impact to quality/availability of work and the cost to productivity as well as the cost (in my case) to ensure that I have the proper equipment (I'm obese).  Unfortunately, it's not something that's avoidable for the employer to notice.  Q38: Any health issue is potentially a liability, so I would hesitate to mention it unless it had direct bearing on the job responsibilities.  Q38: Any perceived issue could affect hirability, anti-discrimination policy or no.   Q38: Anything that would add complications or additional load on my potential employer seems to only have negative ramifications.  Q38: As I don't suffer from anything particularly serious it's hard to imagine, but if I did I feel more as if I would be compelled to state this; as if it was likely to affect my ability to work I would want to be upfront about it. If it didn't affect my ability to work I might avoid mentioning it straight away to mitigate the chance of negative concequences  \\\n",
       "0                                              False                                                                                                                                                                                                                                                                     False                                                                                                                                          False                                                                                 False                                                                                                                              False                                                                                                                                                                                                                                                                                                                           \n",
       "1                                              False                                                                                                                                                                                                                                                                     False                                                                                                                                          False                                                                                 False                                                                                                                              False                                                                                                                                                                                                                                                                                                                           \n",
       "2                                              False                                                                                                                                                                                                                                                                     False                                                                                                                                          False                                                                                 False                                                                                                                              False                                                                                                                                                                                                                                                                                                                           \n",
       "3                                              False                                                                                                                                                                                                                                                                     False                                                                                                                                          False                                                                                 False                                                                                                                              False                                                                                                                                                                                                                                                                                                                           \n",
       "4                                              False                                                                                                                                                                                                                                                                     False                                                                                                                                          False                                                                                 False                                                                                                                              False                                                                                                                                                                                                                                                                                                                           \n",
       "\n",
       "   Q38: As a matter of privacy, I would not.  Q38: As a middle-aged women coder, I feel I already have two strikes against me when I interview.  Q38: As a type 1 diabetic I try to advocate for equal treatment and would not avoid bringing up a physical health issue  Q38: As it may inhibit my chances of getting the position.  Q38: BECAUSE  Q38: Because I don't trust insurance companies.  Q38: Because I feel it would be a big negative.  Q38: Because I think it would hurt your chances of being hired. Although it depends on the physical issue.  Q38: Because I value honesty very much and know that setting expectations in very beneficial for everybody  Q38: Because I would want the job.  Q38: Because I wouldn't want to work for a company who wouldn't support someone with a condition.  Q38: Because I'd be automatically sorted out. Let's face it folks: Whether its a \"physical\" or a \"mental\" impairment, reality and the \"would be nice\" situation / laws are two complete different things.  \\\n",
       "0                                      False                                              False                                                                                              False                                                                                                                    False                  False                                            False                                            False                                              False                                                                                                       False                                                                                        False                                              False                                                                                              False                                                                                                                                                           \n",
       "1                                      False                                              False                                                                                              False                                                                                                                    False                  False                                            False                                            False                                              False                                                                                                       False                                                                                        False                                              False                                                                                              False                                                                                                                                                           \n",
       "2                                      False                                              False                                                                                              False                                                                                                                    False                  False                                            False                                            False                                              False                                                                                                       False                                                                                        False                                              False                                                                                              False                                                                                                                                                           \n",
       "3                                      False                                              False                                                                                              False                                                                                                                    False                  False                                            False                                            False                                              False                                                                                                       False                                                                                        False                                              False                                                                                              False                                                                                                                                                           \n",
       "4                                      False                                              False                                                                                              False                                                                                                                    False                  False                                            False                                            False                                              False                                                                                                       False                                                                                        False                                              False                                                                                              False                                                                                                                                                           \n",
       "\n",
       "   Q38: Because I'd die if I had to physically work beyond my capacity.  Q38: Because I'd want to know if they can provide an ergonomic keyboard, or are happy with a worker plugging their own keyboard into their computers.  Q38: Because as long as I can do my job, it's really not any of their business.  Q38: Because despite all of the laws governing non discrimination, employers will go with what's easiest and come up with a different reason as to why they're not hiring you. Employees are ultimately resources to be leveraged, and companies don't want to get less for their money.   Q38: Because if they can't deal with it, then I don't want to work with them.  Q38: Because it can be seen as a weakness and they may chose another applicant over me because of it.  Q38: Because it is important  Q38: Because it may have some significant impact on my performance if I am not accomodated accordingly.  Q38: Because it might affect my ability to get to the office in the future.  \\\n",
       "0                                              False                                                                 False                                                                                                                                                  False                                                                            False                                                                                                                                                                                                                                                                                      False                                                                          False                                                                             False                                              False                                                                                                    False                             \n",
       "1                                              False                                                                 False                                                                                                                                                  False                                                                            False                                                                                                                                                                                                                                                                                      False                                                                          False                                                                             False                                              False                                                                                                    False                             \n",
       "2                                              False                                                                 False                                                                                                                                                  False                                                                            False                                                                                                                                                                                                                                                                                      False                                                                          False                                                                             False                                              False                                                                                                    False                             \n",
       "3                                              False                                                                 False                                                                                                                                                  False                                                                            False                                                                                                                                                                                                                                                                                      False                                                                          False                                                                             False                                              False                                                                                                    False                             \n",
       "4                                              False                                                                 False                                                                                                                                                  False                                                                            False                                                                                                                                                                                                                                                                                      False                                                                          False                                                                             False                                              False                                                                                                    False                             \n",
       "\n",
       "   Q38: Because it might be important for the employer in case it affects my productivity.  Q38: Because it might mean I don't get the job. I have in the last if I knew I had time off coming up or it meant I needed special treatment   Q38: Because it would impact the relationship (there might be adjustments needed to the work space for example) and I believe honesty up front to be the best approach.  Q38: Because it's an unfortunate part of who I am.  Q38: Because it's common  Q38: Because it's illegal for them to ask and there is no obligation for me to offer the information.  Q38: Because it's important for them to know who they are hiring and for me to establish my needs early.  Q38: Because it's important.  Q38: Because it's none of their business.   Q38: Because its apparent and more accepted than a mental issue   \\\n",
       "0                                              False                                                                                    False                                                                                                                                          False                                                                                                                                                                    False                      False                                              False                                                                                                  False                                                                                False                                       False                                              False                  \n",
       "1                                              False                                                                                    False                                                                                                                                          False                                                                                                                                                                    False                      False                                              False                                                                                                  False                                                                                False                                       False                                              False                  \n",
       "2                                              False                                                                                    False                                                                                                                                          False                                                                                                                                                                    False                      False                                              False                                                                                                  False                                                                                False                                       False                                              False                  \n",
       "3                                              False                                                                                    False                                                                                                                                          False                                                                                                                                                                    False                      False                                              False                                                                                                  False                                                                                False                                       False                                              False                  \n",
       "4                                              False                                                                                    False                                                                                                                                          False                                                                                                                                                                    False                      False                                              False                                                                                                  False                                                                                False                                       False                                              False                  \n",
       "\n",
       "   Q38: Because my working environment might require improvement or at least adaptation like a lighter place/bigger screen/special desk. I think this conversation will be receive normal. Or at least as normal as speaking about money and advantages.  Q38: Because of the potential for discrimination  Q38: Because physical health is an accepted illness. Mental illness is considered to be an opt-out at times.   Q38: Because physical issues are visible  Q38: Because the “survival of the fittest\" mentality. No one wants to ihre someone with the probably highscore of sick days  Q38: Because there's nothing to be ashamed of.  Q38: Because they should know up front and it is illegal for them to not hire someone because of a physical impairment or issue  Q38: Because they wouldn't hire me probably  Q38: Because why do they need to know.  \\\n",
       "0                                              False                                                                                                                                                                                                                                                 False                                              False                                                                                                 False                                              False                                                                                                                     False                                              False                                                                                                                      False                                   False   \n",
       "1                                              False                                                                                                                                                                                                                                                 False                                              False                                                                                                 False                                              False                                                                                                                     False                                              False                                                                                                                      False                                   False   \n",
       "2                                              False                                                                                                                                                                                                                                                 False                                              False                                                                                                 False                                              False                                                                                                                     False                                              False                                                                                                                      False                                   False   \n",
       "3                                              False                                                                                                                                                                                                                                                 False                                              False                                                                                                 False                                              False                                                                                                                     False                                              False                                                                                                                      False                                   False   \n",
       "4                                              False                                                                                                                                                                                                                                                 False                                              False                                                                                                 False                                              False                                                                                                                     False                                              False                                                                                                                      False                                   False   \n",
       "\n",
       "   Q38: Because you cannot lie about it, since it's gonna show up at some point since physical disorder often comes with not being able to do certain things the same way as people who don't suffer disorders.  Q38: Because, if it were a physical health issue that might affect my job performance, it'd be difficult to hide and a potential might resent the fact that I wasn't forthcoming about it in an interview.  Q38: Being honest upfront shows respect for the future employer. If they see that as a stumbling block in hiring you, then it probably wouldn't have been a good fit in the long run anyways.  Q38: Being open usually is the best  Q38: Being viewed as problematic. Too personal. Maybe allude to it vaguely, at best.  Q38: Better to disclose something like that up front in case it impacts work.  Q38: Better to have it out with them now rather than wait. Have spoken in the industry about burnout.  \\\n",
       "0                                              False                                                                                                                                                                                                         False                                                                                                                                                                                                       False                                                                                                                                                                            False                                              False                                                                                 False                                                                          False                                                       \n",
       "1                                              False                                                                                                                                                                                                         False                                                                                                                                                                                                       False                                                                                                                                                                            False                                              False                                                                                 False                                                                          False                                                       \n",
       "2                                              False                                                                                                                                                                                                         False                                                                                                                                                                                                       False                                                                                                                                                                            False                                              False                                                                                 False                                                                          False                                                       \n",
       "3                                              False                                                                                                                                                                                                         False                                                                                                                                                                                                       False                                                                                                                                                                            False                                              False                                                                                 False                                                                          False                                                       \n",
       "4                                              False                                                                                                                                                                                                         False                                                                                                                                                                                                       False                                                                                                                                                                            False                                              False                                                                                 False                                                                          False                                                       \n",
       "\n",
       "   Q38: Bias happens. I wouldn't want it to be a factor. However, I'm overweight, and I know it's been a factor in some interviews. Can't hide that. Even though that is the only thing I have wrong with me.  Q38: Bias towards something that may not be relevant to the work  Q38: Biases exist   Q38: Bit knowing the environment if the new employer would make me nervous to do so  Q38: Bringing up such an issue can only decrease your chances of employment. However, I don't feel it would have a strong effect in my line of work.  Q38: Can damage my opportunity to ge in the job  Q38: Chronic physical health issues often affect hiring decisions, even though employers won't say so.  I'm diabetic, and have observed this to be true.  Q38: Comfort discussing personal issues with someone who I've presumably only recently met.  Q38: Companies are more equipped to accommodate physical health issues and it looks bad if they don't.   \\\n",
       "0                                              False                                                                                                                                                                                                       False                              False                                              False                                                                                False                                                                                                                                               False                                              False                                                                                                                                                     False                                                                                        False                                                         \n",
       "1                                              False                                                                                                                                                                                                       False                              False                                              False                                                                                False                                                                                                                                               False                                              False                                                                                                                                                     False                                                                                        False                                                         \n",
       "2                                              False                                                                                                                                                                                                       False                              False                                              False                                                                                False                                                                                                                                               False                                              False                                                                                                                                                     False                                                                                        False                                                         \n",
       "3                                              False                                                                                                                                                                                                       False                              False                                              False                                                                                False                                                                                                                                               False                                              False                                                                                                                                                     False                                                                                        False                                                         \n",
       "4                                              False                                                                                                                                                                                                       False                              False                                              False                                                                                False                                                                                                                                               False                                              False                                                                                                                                                     False                                                                                        False                                                         \n",
       "\n",
       "   Q38: Completely dependant on the relevance of the mental health issue and it's impact on the work being applied for.   Q38: Completely depends upon what the issue would be.  Q38: Concern it could overshadow legit issues  Q38: Concerned would not get the job  Q38: Correctness and openness the base for a healthy wirk relationship  Q38: Could be seen as a potential problem in the future   Q38: Could be seen as a weakness, or a reason why you couldn't be as productive.  Q38: Could impact the outcome of the interview.  Q38: Could impact their willingness to hire, even subconsciously.  Q38: Could only hurt my chances  Q38: Cultural bias and potential elimination from consideration.  Q38: Deafness can be viewed as a physical health issue, and not many employers are willing to go out of their way to accommodate that.  \\\n",
       "0                                              False                                                                                                                  False                                              False                                 False                                              False                                                                   False                                                     False                                                                           False                                              False                                            False                                              False                                                             False                                                                                        \n",
       "1                                              False                                                                                                                  False                                              False                                 False                                              False                                                                   False                                                     False                                                                           False                                              False                                            False                                              False                                                             False                                                                                        \n",
       "2                                              False                                                                                                                  False                                              False                                 False                                              False                                                                   False                                                     False                                                                           False                                              False                                            False                                              False                                                             False                                                                                        \n",
       "3                                              False                                                                                                                  False                                              False                                 False                                              False                                                                   False                                                     False                                                                           False                                              False                                            False                                              False                                                             False                                                                                        \n",
       "4                                              False                                                                                                                  False                                              False                                 False                                              False                                                                   False                                                     False                                                                           False                                              False                                            False                                              False                                                             False                                                                                        \n",
       "\n",
       "   Q38: Dependant on how comfortable I felt speaking the interviewer(s), dependant if they have mentioned there is an avenue/approach they embrace to address physical health issues.  Q38: Dependent upon impact on work duties.  Q38: Depending  on work impact   Q38: Depending on how 'safe' I'm made to feel during the interview process I might feel it might reflect badly which, if I really *needed* the job I might not want to risk.  Q38: Depending on how strong my position as interviewee is, I might prefer to wait until the offer stage rather than bring it up at interview  Q38: Depending on the exact nature of the issue I might think they wouldn't want to hire me  Q38: Depending on the interview stage and whether I required an accommodation, I would  Q38: Depending on the nature of the health issue, I may feel uncomfortable sharing it with someone I'm not close to.  \\\n",
       "0                                              False                                                                                                                                                                        False                            False                                              False                                                                                                                                                                         False                                                                                                                                          False                                                                                        False                                                                                   False                                                                      \n",
       "1                                              False                                                                                                                                                                        False                            False                                              False                                                                                                                                                                         False                                                                                                                                          False                                                                                        False                                                                                   False                                                                      \n",
       "2                                              False                                                                                                                                                                        False                            False                                              False                                                                                                                                                                         False                                                                                                                                          False                                                                                        False                                                                                   False                                                                      \n",
       "3                                              False                                                                                                                                                                        False                            False                                              False                                                                                                                                                                         False                                                                                                                                          False                                                                                        False                                                                                   False                                                                      \n",
       "4                                              False                                                                                                                                                                        False                            False                                              False                                                                                                                                                                         False                                                                                                                                          False                                                                                         True                                                                                   False                                                                      \n",
       "\n",
       "   Q38: Depends greatly on the job involved.  I can adapt quickly to jobs involving heavy lifting, for example, but would not admit that it would probably wind me to start with.  Most physical health issues severe enough to discuss are visible, and if they are not (say I have cancer and am going to be going on chemo) I would not discuss because of huge possibility of not being hired due to potential for medical leave / lots of absence.    Q38: Depends if it affected the job  Q38: Depends if it's going to have an impact on that particular job  Q38: Depends if it's relevant  Q38: Depends in the health issue  Q38: Depends in the interview, would it be relevant at that point, am I seriously interested in the job or not  Q38: Depends on how acute the issue was  Q38: Depends on how personal and to what extent it would affect my position  \\\n",
       "0                                              False                                                                                                                                                                                                                                                                                                                                                                                                                                     False                                              False                                            False                             False                                              False                                                                                                 False                                              False                             \n",
       "1                                              False                                                                                                                                                                                                                                                                                                                                                                                                                                     False                                              False                                            False                             False                                              False                                                                                                 False                                              False                             \n",
       "2                                              False                                                                                                                                                                                                                                                                                                                                                                                                                                     False                                              False                                            False                             False                                              False                                                                                                 False                                              False                             \n",
       "3                                              False                                                                                                                                                                                                                                                                                                                                                                                                                                     False                                              False                                            False                             False                                              False                                                                                                 False                                              False                             \n",
       "4                                              False                                                                                                                                                                                                                                                                                                                                                                                                                                     False                                              False                                            False                             False                                              False                                                                                                 False                                              False                             \n",
       "\n",
       "   Q38: Depends on if it would affect my job, and even then I wouldn't necessarily bring it up in case it made them not hire me. Like a pregnancy for example.  Q38: Depends on potential impact on job  Q38: Depends on relevance to performance  Q38: Depends on relevance to work   Q38: Depends on relevancy to the job.  Q38: Depends on the ability to do the job. If it has no bearing, then I wouldn't discuss it. If I needed accommodations to do the job, I may.  Q38: Depends on the context, usually they have no need to know  Q38: Depends on the context.  Q38: Depends on the employer and how specifically it is referenced.  Likely would ask about their short-term disability and qualifying events  Q38: Depends on the employer, the mood and the flow of the conversation. Nothing is set in stone, conversations like these are fluid.  Q38: Depends on the feel of the interview  Q38: Depends on the issue and whether it would impact my ability to do the job in question or not.   \\\n",
       "0                                              False                                                                                                                                              False                                     False                               False                                  False                                              False                                                                                                                                          False                                      False                                              False                                                                                                                                          False                                                                                                                          False                                              False                                                     \n",
       "1                                              False                                                                                                                                              False                                     False                               False                                  False                                              False                                                                                                                                          False                                      False                                              False                                                                                                                                          False                                                                                                                          False                                              False                                                     \n",
       "2                                              False                                                                                                                                              False                                     False                               False                                  False                                              False                                                                                                                                          False                                      False                                              False                                                                                                                                          False                                                                                                                          False                                              False                                                     \n",
       "3                                              False                                                                                                                                              False                                     False                               False                                  False                                              False                                                                                                                                          False                                      False                                              False                                                                                                                                          False                                                                                                                          False                                              False                                                     \n",
       "4                                              False                                                                                                                                              False                                     False                               False                                  False                                              False                                                                                                                                          False                                      False                                              False                                                                                                                                          False                                                                                                                          False                                              False                                                     \n",
       "\n",
       "   Q38: Depends on the issue, how it affected my work or responsibilities.  Q38: Depends on the issue. Maybe you would need accommodations for a wheelchair.  Q38: Depends on the job and organisation  Q38: Depends on the nature of the physical health issue, whether it was chronic and the impact on the work. In almost all cases, I would not discuss it because just increases the chance of discrimination.  Q38: Depends on the physical health issue and how severely it affects me. For example, I would talk about my carpal tunnel, because it affects my job performance and I need ergonomic keyboards and mice in order to not be in constant pain. I wouldn't bring up my polycystic ovarian syndrome (PCOS) because it does not affect my work performance.  Q38: Depends on the physical issue and how impacting it is to my ability to work.  Q38: Depends on the physical issue and/or the position being applied for.  Q38: Depends on the social perception of the issue.  \\\n",
       "0                                              False                                                                    False                                                                    False                                              False                                                                                                                                                                                                         False                                                                                                                                                                                                                                                                                                                                                     False                                                                              False                                                                      False     \n",
       "1                                              False                                                                    False                                                                    False                                              False                                                                                                                                                                                                         False                                                                                                                                                                                                                                                                                                                                                     False                                                                              False                                                                      False     \n",
       "2                                              False                                                                    False                                                                    False                                              False                                                                                                                                                                                                         False                                                                                                                                                                                                                                                                                                                                                     False                                                                              False                                                                      False     \n",
       "3                                              False                                                                    False                                                                    False                                              False                                                                                                                                                                                                         False                                                                                                                                                                                                                                                                                                                                                     False                                                                              False                                                                      False     \n",
       "4                                              False                                                                    False                                                                    False                                              False                                                                                                                                                                                                         False                                                                                                                                                                                                                                                                                                                                                     False                                                                              False                                                                      False     \n",
       "\n",
       "   Q38: Depends on the type of job, if it would affect my work, I would bring it up.  Q38: Depends on the vibe from the interview.  Q38: Depends on the view of the employer about mental health.  Q38: Depends on their character.  Q38: Depends on what it is and how embarrassing it is  Q38: Depends on what it is.   Q38: Depends on what the issue was and whether it would affect the kind of work I could do.  Q38: Depends on whether I thought it would have a negative impact on me getting the job  Q38: Depends on whether I thought it would impact job performance, and whether I would expect allowances to be made for my health issue.  Q38: Depends on whether it might hinder or modify the way I work at the employer   Q38: Depends on whether it would put me in the position of needing to ask for accommodations.  Q38: Depends what it is. If it's something relevant that affects my physical functioning (e.g. if I was blinded or had no legs or something)  \\\n",
       "0                                              False                                                                         False                                              False                                         False                                              False                             False                                              False                                                                                        False                                                                                    False                                                                                                                                     False                                                                              False                                                                                          False                                                                                              \n",
       "1                                              False                                                                         False                                              False                                         False                                              False                             False                                              False                                                                                        False                                                                                    False                                                                                                                                     False                                                                              False                                                                                          False                                                                                              \n",
       "2                                              False                                                                         False                                              False                                         False                                              False                             False                                              False                                                                                        False                                                                                    False                                                                                                                                     False                                                                              False                                                                                          False                                                                                              \n",
       "3                                              False                                                                         False                                              False                                         False                                              False                             False                                              False                                                                                        False                                                                                    False                                                                                                                                     False                                                                              False                                                                                          False                                                                                              \n",
       "4                                              False                                                                         False                                              False                                         False                                              False                             False                                              False                                                                                        False                                                                                    False                                                                                                                                     False                                                                              False                                                                                          False                                                                                              \n",
       "\n",
       "   Q38: Depends what it was and how it affected my ability to do the job, no change in ability, no discussion.  Q38: Depends whether it would affect my ability to carry out the job.  Q38: Depends whether it would be relevant to my performance or cause significant outages.   Q38: Depends, if it affected the job then yes I would talk about it.   Q38: Depends, if it affects the productivity, no   ...     Q62: Designer|Support|Supervisor/Team Lead  Q62: Dev Evangelist/Advocate  Q62: Dev Evangelist/Advocate|Back-end Developer  Q62: Dev Evangelist/Advocate|Back-end Developer|Designer|Front-end Developer  Q62: Dev Evangelist/Advocate|Back-end Developer|Front-end Developer  Q62: Dev Evangelist/Advocate|Back-end Developer|Support  Q62: Dev Evangelist/Advocate|DevOps/SysAdmin  Q62: Dev Evangelist/Advocate|DevOps/SysAdmin|Back-end Developer  Q62: Dev Evangelist/Advocate|DevOps/SysAdmin|Designer|Front-end Developer|Back-end Developer  \\\n",
       "0                                              False                                                                                                        False                                                                  False                                                                                       False                                                                 False   ...                                          False                         False                                            False                                              False                                                                         False                                                                False                                               False                                              False                                                            False                                              \n",
       "1                                              False                                                                                                        False                                                                  False                                                                                       False                                                                 False   ...                                          False                         False                                            False                                              False                                                                         False                                                                False                                               False                                              False                                                            False                                              \n",
       "2                                              False                                                                                                        False                                                                  False                                                                                       False                                                                 False   ...                                          False                         False                                            False                                              False                                                                         False                                                                False                                               False                                              False                                                            False                                              \n",
       "3                                              False                                                                                                        False                                                                  False                                                                                       False                                                                 False   ...                                          False                         False                                            False                                              False                                                                         False                                                                False                                               False                                              False                                                            False                                              \n",
       "4                                              False                                                                                                        False                                                                  False                                                                                       False                                                                 False   ...                                          False                         False                                            False                                              False                                                                         False                                                                False                                               False                                              False                                                            False                                              \n",
       "\n",
       "   Q62: Dev Evangelist/Advocate|DevOps/SysAdmin|Designer|Front-end Developer|Support  Q62: Dev Evangelist/Advocate|DevOps/SysAdmin|Support|Back-end Developer|Front-end Developer|One-person shop  Q62: Dev Evangelist/Advocate|Front-end Developer|Back-end Developer|DevOps/SysAdmin  Q62: Dev Evangelist/Advocate|One-person shop|Back-end Developer|Support|DevOps/SysAdmin  Q62: Dev Evangelist/Advocate|Support  Q62: Dev Evangelist/Advocate|Support|Back-end Developer  Q62: Dev Evangelist/Advocate|Support|Back-end Developer|Front-end Developer  Q62: DevOps/SysAdmin  Q62: DevOps/SysAdmin|Back-end Developer  Q62: DevOps/SysAdmin|Back-end Developer|Front-end Developer  Q62: DevOps/SysAdmin|Back-end Developer|Front-end Developer|Designer  Q62: DevOps/SysAdmin|Back-end Developer|Front-end Developer|One-person shop  Q62: DevOps/SysAdmin|Back-end Developer|One-person shop  Q62: DevOps/SysAdmin|Back-end Developer|One-person shop|Front-end Developer  Q62: DevOps/SysAdmin|Designer  \\\n",
       "0                                              False                                                                              False                                                                                                        False                                                                                False                                                                       False                                              False                                                    False                                           False                                    False                                              False                                                        False                                                                 False                                                                        False                                                    False                                                    False   \n",
       "1                                              False                                                                              False                                                                                                        False                                                                                False                                                                       False                                              False                                                    False                                           False                                    False                                              False                                                        False                                                                 False                                                                        False                                                    False                                                    False   \n",
       "2                                              False                                                                              False                                                                                                        False                                                                                False                                                                       False                                              False                                                    False                                           False                                    False                                              False                                                        False                                                                 False                                                                        False                                                    False                                                    False   \n",
       "3                                              False                                                                              False                                                                                                        False                                                                                False                                                                       False                                              False                                                    False                                           False                                    False                                              False                                                        False                                                                 False                                                                        False                                                    False                                                    False   \n",
       "4                                              False                                                                              False                                                                                                        False                                                                                False                                                                       False                                              False                                                    False                                           False                                    False                                              False                                                        False                                                                 False                                                                        False                                                    False                                                    False   \n",
       "\n",
       "   Q62: DevOps/SysAdmin|Designer|Front-end Developer|Back-end Developer  Q62: DevOps/SysAdmin|Dev Evangelist/Advocate|Supervisor/Team Lead|Executive Leadership  Q62: DevOps/SysAdmin|Executive Leadership  Q62: DevOps/SysAdmin|Front-end Developer|Back-end Developer  Q62: DevOps/SysAdmin|Front-end Developer|Back-end Developer|Support  Q62: DevOps/SysAdmin|One-person shop  Q62: DevOps/SysAdmin|One-person shop|Front-end Developer|Back-end Developer  Q62: DevOps/SysAdmin|Other  Q62: DevOps/SysAdmin|Supervisor/Team Lead  Q62: DevOps/SysAdmin|Support  Q62: DevOps/SysAdmin|Support|Back-end Developer  Q62: DevOps/SysAdmin|Support|Back-end Developer|Front-end Developer  Q62: DevOps/SysAdmin|Support|Back-end Developer|Front-end Developer|Designer  Q62: DevOps/SysAdmin|Support|Back-end Developer|One-person shop  Q62: DevOps/SysAdmin|Support|Back-end Developer|One-person shop|Front-end Developer  Q62: DevOps/SysAdmin|Support|Front-end Developer|Back-end Developer  \\\n",
       "0                                              False                                                                 False                                                                           False                                              False                                                        False                                                   False                                              False                                                 False                                      False                         False                                            False                                              False                                                                False                                                                         False                                                            False                                                                                False                     \n",
       "1                                              False                                                                 False                                                                           False                                              False                                                        False                                                   False                                              False                                                 False                                      False                         False                                            False                                              False                                                                False                                                                         False                                                            False                                                                                False                     \n",
       "2                                              False                                                                 False                                                                           False                                              False                                                        False                                                   False                                              False                                                 False                                      False                         False                                            False                                              False                                                                False                                                                         False                                                            False                                                                                False                     \n",
       "3                                              False                                                                 False                                                                           False                                              False                                                        False                                                   False                                              False                                                 False                                      False                         False                                            False                                              False                                                                False                                                                         False                                                            False                                                                                False                     \n",
       "4                                              False                                                                 False                                                                           False                                              False                                                        False                                                   False                                              False                                                 False                                      False                         False                                            False                                              False                                                                False                                                                         False                                                            False                                                                                False                     \n",
       "\n",
       "   Q62: DevOps/SysAdmin|Support|One-person shop  Q62: DevOps/SysAdmin|Support|Sales|Front-end Developer|Designer|One-person shop  Q62: DevOps/SysAdmin|Support|Sales|One-person shop|Designer|Front-end Developer|Back-end Developer  Q62: Executive Leadership  Q62: Executive Leadership|Back-end Developer|Front-end Developer  Q62: Executive Leadership|Dev Evangelist/Advocate  Q62: Executive Leadership|DevOps/SysAdmin|Back-end Developer  Q62: Executive Leadership|DevOps/SysAdmin|Back-end Developer|Support  Q62: Executive Leadership|Front-end Developer|Back-end Developer|Sales|Supervisor/Team Lead  Q62: Executive Leadership|One-person shop|Front-end Developer|Back-end Developer|Support|Supervisor/Team Lead  Q62: Executive Leadership|Other  Q62: Executive Leadership|Supervisor/Team Lead  Q62: Executive Leadership|Supervisor/Team Lead|Back-end Developer  Q62: Executive Leadership|Supervisor/Team Lead|Back-end Developer|DevOps/SysAdmin  \\\n",
       "0                                         False                                              False                                                                            False                                                                       False                                              False                                                             False                                              False                                                         False                                                                 False                                                                                        False                                                                                        False                                           False                                              False                                                              False                                   \n",
       "1                                         False                                              False                                                                            False                                                                       False                                              False                                                             False                                              False                                                         False                                                                 False                                                                                        False                                                                                        False                                           False                                              False                                                              False                                   \n",
       "2                                         False                                              False                                                                            False                                                                       False                                              False                                                             False                                              False                                                         False                                                                 False                                                                                        False                                                                                        False                                           False                                              False                                                              False                                   \n",
       "3                                         False                                              False                                                                            False                                                                       False                                              False                                                             False                                              False                                                         False                                                                 False                                                                                        False                                                                                        False                                           False                                              False                                                              False                                   \n",
       "4                                         False                                              False                                                                            False                                                                       False                                              False                                                             False                                              False                                                         False                                                                 False                                                                                        False                                                                                        False                                           False                                              False                                                              False                                   \n",
       "\n",
       "   Q62: Executive Leadership|Supervisor/Team Lead|Back-end Developer|Front-end Developer|Designer  Q62: Executive Leadership|Supervisor/Team Lead|Designer  Q62: Executive Leadership|Supervisor/Team Lead|Dev Evangelist/Advocate|Back-end Developer  Q62: Executive Leadership|Supervisor/Team Lead|Dev Evangelist/Advocate|DevOps/SysAdmin|Back-end Developer|Front-end Developer  Q62: Executive Leadership|Supervisor/Team Lead|Dev Evangelist/Advocate|DevOps/SysAdmin|Support|Back-end Developer|Front-end Developer  Q62: Executive Leadership|Supervisor/Team Lead|DevOps/SysAdmin|Back-end Developer|Front-end Developer|One-person shop  Q62: Executive Leadership|Supervisor/Team Lead|DevOps/SysAdmin|Support|Back-end Developer|Front-end Developer  Q62: Executive Leadership|Supervisor/Team Lead|Front-end Developer  Q62: Executive Leadership|Supervisor/Team Lead|Front-end Developer|Back-end Developer  \\\n",
       "0                                              False                                                                                           False                                                    False                                                                                      False                                                                                                                          False                                                                                                                                  False                                                                                                                  False                                                                                                          False                                                               False                                       \n",
       "1                                              False                                                                                           False                                                    False                                                                                      False                                                                                                                          False                                                                                                                                  False                                                                                                                  False                                                                                                          False                                                               False                                       \n",
       "2                                              False                                                                                           False                                                    False                                                                                      False                                                                                                                          False                                                                                                                                  False                                                                                                                  False                                                                                                          False                                                               False                                       \n",
       "3                                              False                                                                                           False                                                    False                                                                                      False                                                                                                                          False                                                                                                                                  False                                                                                                                  False                                                                                                          False                                                               False                                       \n",
       "4                                              False                                                                                           False                                                    False                                                                                      False                                                                                                                           True                                                                                                                                  False                                                                                                                  False                                                                                                          False                                                               False                                       \n",
       "\n",
       "   Q62: Executive Leadership|Supervisor/Team Lead|HR|DevOps/SysAdmin|Support|Sales|Back-end Developer|One-person shop|Designer|Front-end Developer  Q62: Executive Leadership|Supervisor/Team Lead|Sales  Q62: Executive Leadership|Supervisor/Team Lead|Support|Sales|Designer|Front-end Developer|Back-end Developer  Q62: Front-end Developer  Q62: Front-end Developer|Back-end Developer  Q62: Front-end Developer|Back-end Developer|Dev Evangelist/Advocate  Q62: Front-end Developer|Back-end Developer|Dev Evangelist/Advocate|Supervisor/Team Lead  Q62: Front-end Developer|Back-end Developer|DevOps/SysAdmin  Q62: Front-end Developer|Back-end Developer|DevOps/SysAdmin|Dev Evangelist/Advocate  Q62: Front-end Developer|Back-end Developer|DevOps/SysAdmin|Supervisor/Team Lead  Q62: Front-end Developer|Back-end Developer|DevOps/SysAdmin|Supervisor/Team Lead|Executive Leadership  Q62: Front-end Developer|Back-end Developer|Executive Leadership  Q62: Front-end Developer|Back-end Developer|Other  \\\n",
       "0                                              False                                                                                                                                            False                                                 False                                                                                False                                        False                                              False                                                                False                                                                                     False                                                        False                                                                                False                                                                             False                                                                                                  False                                                             False   \n",
       "1                                              False                                                                                                                                            False                                                 False                                                                                False                                        False                                              False                                                                False                                                                                     False                                                        False                                                                                False                                                                             False                                                                                                  False                                                             False   \n",
       "2                                              False                                                                                                                                            False                                                 False                                                                                False                                        False                                              False                                                                False                                                                                     False                                                        False                                                                                False                                                                             False                                                                                                  False                                                             False   \n",
       "3                                              False                                                                                                                                            False                                                 False                                                                                False                                        False                                              False                                                                False                                                                                     False                                                        False                                                                                False                                                                             False                                                                                                  False                                                             False   \n",
       "4                                              False                                                                                                                                            False                                                 False                                                                                False                                        False                                              False                                                                False                                                                                     False                                                        False                                                                                False                                                                             False                                                                                                  False                                                             False   \n",
       "\n",
       "   Q62: Front-end Developer|Back-end Developer|Sales|DevOps/SysAdmin  Q62: Front-end Developer|Back-end Developer|Sales|Executive Leadership  Q62: Front-end Developer|Back-end Developer|Sales|Support|DevOps/SysAdmin|Supervisor/Team Lead|Executive Leadership  Q62: Front-end Developer|Back-end Developer|Supervisor/Team Lead  Q62: Front-end Developer|Back-end Developer|Supervisor/Team Lead|Executive Leadership  Q62: Front-end Developer|Back-end Developer|Support  Q62: Front-end Developer|Back-end Developer|Support|Dev Evangelist/Advocate  Q62: Front-end Developer|Back-end Developer|Support|DevOps/SysAdmin  Q62: Front-end Developer|Back-end Developer|Support|DevOps/SysAdmin|Dev Evangelist/Advocate  Q62: Front-end Developer|Back-end Developer|Support|DevOps/SysAdmin|Executive Leadership  Q62: Front-end Developer|Back-end Developer|Support|Other  Q62: Front-end Developer|Back-end Developer|Support|Supervisor/Team Lead  Q62: Front-end Developer|Designer  \\\n",
       "0                                              False                                                              False                                                                   False                                                                                                                False                                                             False                                                                                  False                                                False                                                                        False                                                                False                                                                                        False                                                                                     False                                                      False                                                     False   \n",
       "1                                              False                                                              False                                                                   False                                                                                                                False                                                             False                                                                                  False                                                False                                                                        False                                                                False                                                                                        False                                                                                     False                                                      False                                                     False   \n",
       "2                                              False                                                              False                                                                   False                                                                                                                False                                                             False                                                                                  False                                                False                                                                        False                                                                False                                                                                        False                                                                                     False                                                      False                                                     False   \n",
       "3                                              False                                                              False                                                                   False                                                                                                                False                                                             False                                                                                  False                                                False                                                                        False                                                                False                                                                                        False                                                                                     False                                                      False                                                     False   \n",
       "4                                              False                                                              False                                                                   False                                                                                                                False                                                             False                                                                                  False                                                False                                                                        False                                                                False                                                                                        False                                                                                     False                                                      False                                                     False   \n",
       "\n",
       "   Q62: Front-end Developer|Designer|One-person shop  Q62: Front-end Developer|Executive Leadership  Q62: Front-end Developer|One-person shop  Q62: Front-end Developer|Supervisor/Team Lead  Q62: Front-end Developer|Support  Q62: HR  Q62: HR|Dev Evangelist/Advocate|Sales  Q62: HR|Supervisor/Team Lead|Executive Leadership  Q62: One-person shop  Q62: One-person shop|Back-end Developer  Q62: One-person shop|Back-end Developer|Dev Evangelist/Advocate  Q62: One-person shop|Back-end Developer|DevOps/SysAdmin  Q62: One-person shop|Back-end Developer|DevOps/SysAdmin|Dev Evangelist/Advocate|Other  Q62: One-person shop|Back-end Developer|Other  Q62: One-person shop|Back-end Developer|Sales|DevOps/SysAdmin|Executive Leadership  Q62: One-person shop|Back-end Developer|Sales|Support|DevOps/SysAdmin|Dev Evangelist/Advocate|Supervisor/Team Lead|Executive Leadership|Other  Q62: One-person shop|Back-end Developer|Sales|Support|Supervisor/Team Lead|Executive Leadership  \\\n",
       "0                                              False                                          False                                     False                                          False                             False    False                                  False                                              False                 False                                    False                                              False                                                            False                                                    False                                                                              False                                              False                                                                               False                                                                                                                                          False                                                 \n",
       "1                                              False                                          False                                     False                                          False                             False    False                                  False                                              False                 False                                    False                                              False                                                            False                                                    False                                                                              False                                              False                                                                               False                                                                                                                                          False                                                 \n",
       "2                                              False                                          False                                     False                                          False                             False    False                                  False                                              False                 False                                    False                                              False                                                            False                                                    False                                                                              False                                              False                                                                               False                                                                                                                                          False                                                 \n",
       "3                                              False                                          False                                     False                                          False                             False    False                                  False                                              False                 False                                    False                                              False                                                            False                                                    False                                                                              False                                              False                                                                               False                                                                                                                                          False                                                 \n",
       "4                                              False                                          False                                     False                                          False                             False    False                                  False                                              False                 False                                    False                                              False                                                            False                                                    False                                                                              False                                              False                                                                               False                                                                                                                                          False                                                 \n",
       "\n",
       "   Q62: One-person shop|Back-end Developer|Supervisor/Team Lead  Q62: One-person shop|Designer  Q62: One-person shop|Designer|Front-end Developer  Q62: One-person shop|Designer|Front-end Developer|Back-end Developer  Q62: One-person shop|Designer|Front-end Developer|Back-end Developer|Dev Evangelist/Advocate|Supervisor/Team Lead  Q62: One-person shop|Designer|Front-end Developer|Back-end Developer|Sales|Support  Q62: One-person shop|Designer|Front-end Developer|Back-end Developer|Support  Q62: One-person shop|Designer|Front-end Developer|Back-end Developer|Support|Dev Evangelist/Advocate  Q62: One-person shop|Designer|Front-end Developer|Back-end Developer|Support|DevOps/SysAdmin|Other  Q62: One-person shop|Designer|Front-end Developer|Supervisor/Team Lead  Q62: One-person shop|Designer|Front-end Developer|Support  Q62: One-person shop|Designer|Front-end Developer|Support|Dev Evangelist/Advocate  Q62: One-person shop|Designer|Sales|Executive Leadership  \\\n",
       "0                                              False                                     False                                              False                                              False                                                                 False                                                                                                              False                                                                               False                                                                         False                                                                                                 False                                                                                               False                                                                   False                                                      False                                                                              False          \n",
       "1                                              False                                     False                                              False                                              False                                                                 False                                                                                                              False                                                                               False                                                                         False                                                                                                 False                                                                                               False                                                                   False                                                      False                                                                              False          \n",
       "2                                              False                                     False                                              False                                              False                                                                 False                                                                                                              False                                                                               False                                                                         False                                                                                                 False                                                                                               False                                                                   False                                                      False                                                                              False          \n",
       "3                                              False                                     False                                              False                                              False                                                                 False                                                                                                              False                                                                               False                                                                         False                                                                                                 False                                                                                               False                                                                   False                                                      False                                                                              False          \n",
       "4                                              False                                     False                                              False                                              False                                                                 False                                                                                                              False                                                                               False                                                                         False                                                                                                 False                                                                                               False                                                                   False                                                      False                                                                              False          \n",
       "\n",
       "   Q62: One-person shop|Designer|Sales|Support|Supervisor/Team Lead  Q62: One-person shop|Designer|Support  Q62: One-person shop|DevOps/SysAdmin  Q62: One-person shop|DevOps/SysAdmin|Executive Leadership  Q62: One-person shop|Front-end Developer  Q62: One-person shop|Front-end Developer|Back-end Developer  Q62: One-person shop|Front-end Developer|Back-end Developer|Dev Evangelist/Advocate|Other  Q62: One-person shop|Front-end Developer|Back-end Developer|DevOps/SysAdmin  Q62: One-person shop|Front-end Developer|Back-end Developer|DevOps/SysAdmin|Supervisor/Team Lead  Q62: One-person shop|Front-end Developer|Back-end Developer|DevOps/SysAdmin|Supervisor/Team Lead|Executive Leadership  Q62: One-person shop|Front-end Developer|Back-end Developer|Sales|Support|DevOps/SysAdmin  Q62: One-person shop|Front-end Developer|Back-end Developer|Supervisor/Team Lead|Executive Leadership  Q62: One-person shop|Front-end Developer|Back-end Developer|Support|Other  Q62: One-person shop|Other  \\\n",
       "0                                              False                                                 False                                 False                                              False                                             False                                              False                                                        False                                                                                      False                                                                        False                                                                                             False                                                                                                                  False                                                                                      False                                                                                                  False                                               False   \n",
       "1                                              False                                                 False                                 False                                              False                                             False                                              False                                                        False                                                                                      False                                                                        False                                                                                             False                                                                                                                  False                                                                                      False                                                                                                  False                                               False   \n",
       "2                                              False                                                 False                                 False                                              False                                             False                                              False                                                        False                                                                                      False                                                                        False                                                                                             False                                                                                                                  False                                                                                      False                                                                                                  False                                               False   \n",
       "3                                              False                                                 False                                 False                                              False                                             False                                              False                                                        False                                                                                      False                                                                        False                                                                                             False                                                                                                                  False                                                                                      False                                                                                                  False                                               False   \n",
       "4                                              False                                                 False                                 False                                              False                                             False                                              False                                                        False                                                                                      False                                                                        False                                                                                             False                                                                                                                  False                                                                                      False                                                                                                  False                                               False   \n",
       "\n",
       "   Q62: Other  Q62: Other|Back-end Developer  Q62: Other|Back-end Developer|Front-end Developer  Q62: Other|Back-end Developer|Front-end Developer|Designer  Q62: Other|Back-end Developer|Front-end Developer|One-person shop  Q62: Other|Back-end Developer|Supervisor/Team Lead  Q62: Other|Designer|Front-end Developer  Q62: Other|Dev Evangelist/Advocate  Q62: Other|Dev Evangelist/Advocate|Back-end Developer|Front-end Developer  Q62: Other|Dev Evangelist/Advocate|DevOps/SysAdmin|Support|Back-end Developer|Front-end Developer|One-person shop  Q62: Other|Dev Evangelist/Advocate|One-person shop  Q62: Other|Dev Evangelist/Advocate|Sales|Back-end Developer|Front-end Developer  Q62: Other|Dev Evangelist/Advocate|Support  Q62: Other|DevOps/SysAdmin|Back-end Developer  Q62: Other|DevOps/SysAdmin|Support|Back-end Developer  Q62: Other|Executive Leadership  Q62: Other|Executive Leadership|Supervisor/Team Lead|Back-end Developer  \\\n",
       "0       False                          False                                              False                                              False                                                       False                                                              False                                     False                               False                                              False                                                                      False                                                                                                              False                                               False                                                                     False                                          False                                              False                                False                                              False                         \n",
       "1       False                          False                                              False                                              False                                                       False                                                              False                                     False                               False                                              False                                                                      False                                                                                                              False                                               False                                                                     False                                          False                                              False                                False                                              False                         \n",
       "2       False                          False                                              False                                              False                                                       False                                                              False                                     False                               False                                              False                                                                      False                                                                                                              False                                               False                                                                     False                                          False                                              False                                False                                              False                         \n",
       "3       False                          False                                              False                                              False                                                       False                                                              False                                     False                               False                                              False                                                                      False                                                                                                              False                                               False                                                                     False                                          False                                              False                                False                                              False                         \n",
       "4       False                          False                                              False                                              False                                                       False                                                              False                                     False                               False                                              False                                                                      False                                                                                                              False                                               False                                                                     False                                          False                                              False                                False                                              False                         \n",
       "\n",
       "   Q62: Other|Executive Leadership|Supervisor/Team Lead|Dev Evangelist/Advocate|DevOps/SysAdmin|Back-end Developer|One-person shop  Q62: Other|Executive Leadership|Supervisor/Team Lead|HR|Support|Sales|Designer|One-person shop  Q62: Other|Front-end Developer  Q62: Other|Front-end Developer|Back-end Developer|Sales|DevOps/SysAdmin|Dev Evangelist/Advocate  Q62: Other|Front-end Developer|Designer  Q62: Other|Front-end Developer|Designer|One-person shop  Q62: Other|HR  Q62: Other|One-person shop  Q62: Other|One-person shop|Back-end Developer|Sales|Support|DevOps/SysAdmin|Dev Evangelist/Advocate|Supervisor/Team Lead  Q62: Other|One-person shop|Designer|Front-end Developer  Q62: Other|One-person shop|Designer|Front-end Developer|Back-end Developer|Support|Supervisor/Team Lead  Q62: Other|Supervisor/Team Lead  Q62: Other|Supervisor/Team Lead|Back-end Developer|Front-end Developer  Q62: Other|Supervisor/Team Lead|Back-end Developer|One-person shop  \\\n",
       "0                                              False                                                                                                                            False                                                                        False                                              False                                                                                  False                                              False                False                       False                                              False                                                                                                                     False                                                    False                                                                                  False                                              False                                                                   False                    \n",
       "1                                              False                                                                                                                            False                                                                        False                                              False                                                                                  False                                              False                False                       False                                              False                                                                                                                     False                                                    False                                                                                  False                                              False                                                                   False                    \n",
       "2                                              False                                                                                                                            False                                                                        False                                              False                                                                                  False                                              False                False                       False                                              False                                                                                                                     False                                                    False                                                                                  False                                              False                                                                   False                    \n",
       "3                                              False                                                                                                                            False                                                                        False                                              False                                                                                  False                                              False                False                       False                                              False                                                                                                                     False                                                    False                                                                                  False                                              False                                                                   False                    \n",
       "4                                              False                                                                                                                            False                                                                        False                                              False                                                                                  False                                              False                False                       False                                              False                                                                                                                     False                                                    False                                                                                  False                                              False                                                                   False                    \n",
       "\n",
       "   Q62: Other|Supervisor/Team Lead|Dev Evangelist/Advocate  Q62: Other|Supervisor/Team Lead|Dev Evangelist/Advocate|DevOps/SysAdmin|Support|Back-end Developer  Q62: Other|Supervisor/Team Lead|Dev Evangelist/Advocate|DevOps/SysAdmin|Support|Back-end Developer|Front-end Developer|Designer|One-person shop  Q62: Other|Supervisor/Team Lead|Dev Evangelist/Advocate|DevOps/SysAdmin|Support|Back-end Developer|Front-end Developer|One-person shop  Q62: Other|Supervisor/Team Lead|DevOps/SysAdmin|Back-end Developer|Support  Q62: Other|Supervisor/Team Lead|DevOps/SysAdmin|Support|Front-end Developer|Back-end Developer  Q62: Other|Supervisor/Team Lead|Front-end Developer  Q62: Other|Supervisor/Team Lead|Support|Back-end Developer|Designer  Q62: Other|Support  Q62: Other|Support|Back-end Developer|Front-end Developer|Designer  Q62: Sales  Q62: Sales|Support|DevOps/SysAdmin|Executive Leadership  Q62: Supervisor/Team Lead  Q62: Supervisor/Team Lead|Back-end Developer  \\\n",
       "0                                              False                                                    False                                                                                               False                                                                                                                                            False                                                                                                                                   False                                                                       False                                                                                           False                                                False                                 False                                              False                        False                                              False                            False                                         False   \n",
       "1                                              False                                                    False                                                                                               False                                                                                                                                            False                                                                                                                                   False                                                                       False                                                                                           False                                                False                                 False                                              False                        False                                              False                            False                                         False   \n",
       "2                                              False                                                    False                                                                                               False                                                                                                                                            False                                                                                                                                   False                                                                       False                                                                                           False                                                False                                 False                                              False                        False                                              False                            False                                         False   \n",
       "3                                              False                                                    False                                                                                               False                                                                                                                                            False                                                                                                                                   False                                                                       False                                                                                           False                                                False                                 False                                              False                        False                                              False                             True                                         False   \n",
       "4                                              False                                                    False                                                                                               False                                                                                                                                            False                                                                                                                                   False                                                                       False                                                                                           False                                                False                                 False                                              False                        False                                              False                            False                                         False   \n",
       "\n",
       "   Q62: Supervisor/Team Lead|Back-end Developer|Designer  Q62: Supervisor/Team Lead|Back-end Developer|DevOps/SysAdmin  Q62: Supervisor/Team Lead|Back-end Developer|DevOps/SysAdmin|Dev Evangelist/Advocate  Q62: Supervisor/Team Lead|Back-end Developer|Front-end Developer  Q62: Supervisor/Team Lead|Back-end Developer|Front-end Developer|Designer  Q62: Supervisor/Team Lead|Back-end Developer|Front-end Developer|One-person shop  Q62: Supervisor/Team Lead|Back-end Developer|One-person shop  Q62: Supervisor/Team Lead|Back-end Developer|Support|DevOps/SysAdmin  Q62: Supervisor/Team Lead|Designer  Q62: Supervisor/Team Lead|Designer|Front-end Developer|Support  Q62: Supervisor/Team Lead|Dev Evangelist/Advocate|Back-end Developer  Q62: Supervisor/Team Lead|Dev Evangelist/Advocate|Back-end Developer|Designer|Front-end Developer  Q62: Supervisor/Team Lead|Dev Evangelist/Advocate|Back-end Developer|Front-end Developer  \\\n",
       "0                                              False                                                  False                                                         False                                                                                 False                                                             False                                                                      False                                                                             False                                                         False                                                  False                                              False                                                           False                                                                 False                                                                                              False                                          \n",
       "1                                              False                                                  False                                                         False                                                                                 False                                                             False                                                                      False                                                                             False                                                         False                                                  False                                              False                                                           False                                                                 False                                                                                              False                                          \n",
       "2                                              False                                                  False                                                         False                                                                                 False                                                             False                                                                      False                                                                             False                                                         False                                                  False                                              False                                                           False                                                                 False                                                                                              False                                          \n",
       "3                                              False                                                  False                                                         False                                                                                 False                                                             False                                                                      False                                                                             False                                                         False                                                  False                                              False                                                           False                                                                 False                                                                                              False                                          \n",
       "4                                              False                                                  False                                                         False                                                                                 False                                                             False                                                                      False                                                                             False                                                         False                                                  False                                              False                                                           False                                                                 False                                                                                              False                                          \n",
       "\n",
       "   Q62: Supervisor/Team Lead|Dev Evangelist/Advocate|DevOps/SysAdmin|Support|Back-end Developer|Designer|Front-end Developer  Q62: Supervisor/Team Lead|DevOps/SysAdmin  Q62: Supervisor/Team Lead|DevOps/SysAdmin|Back-end Developer  Q62: Supervisor/Team Lead|DevOps/SysAdmin|Back-end Developer|Designer  Q62: Supervisor/Team Lead|DevOps/SysAdmin|Back-end Developer|Designer|Front-end Developer  Q62: Supervisor/Team Lead|DevOps/SysAdmin|Back-end Developer|Front-end Developer  Q62: Supervisor/Team Lead|DevOps/SysAdmin|Back-end Developer|Support  Q62: Supervisor/Team Lead|DevOps/SysAdmin|Front-end Developer|Back-end Developer  Q62: Supervisor/Team Lead|DevOps/SysAdmin|HR  Q62: Supervisor/Team Lead|DevOps/SysAdmin|Support  Q62: Supervisor/Team Lead|DevOps/SysAdmin|Support|Back-end Developer  Q62: Supervisor/Team Lead|DevOps/SysAdmin|Support|Back-end Developer|Front-end Developer  Q62: Supervisor/Team Lead|DevOps/SysAdmin|Support|Back-end Developer|Front-end Developer|Designer  \\\n",
       "0                                              False                                                                                                              False                                              False                                                         False                                                                  False                                                                                      False                                                                             False                                                                 False                                                                        False                                              False                                              False                                                                 False                                                                                     False                                                   \n",
       "1                                              False                                                                                                              False                                              False                                                         False                                                                  False                                                                                      False                                                                             False                                                                 False                                                                        False                                              False                                              False                                                                 False                                                                                     False                                                   \n",
       "2                                              False                                                                                                              False                                              False                                                         False                                                                  False                                                                                      False                                                                             False                                                                 False                                                                        False                                              False                                              False                                                                 False                                                                                     False                                                   \n",
       "3                                              False                                                                                                              False                                              False                                                         False                                                                  False                                                                                      False                                                                             False                                                                 False                                                                        False                                              False                                              False                                                                 False                                                                                     False                                                   \n",
       "4                                              False                                                                                                              False                                              False                                                         False                                                                  False                                                                                      False                                                                             False                                                                 False                                                                        False                                              False                                              False                                                                 False                                                                                     False                                                   \n",
       "\n",
       "   Q62: Supervisor/Team Lead|DevOps/SysAdmin|Support|Front-end Developer|Designer|One-person shop  Q62: Supervisor/Team Lead|Executive Leadership  Q62: Supervisor/Team Lead|Front-end Developer  Q62: Supervisor/Team Lead|Front-end Developer|Back-end Developer  Q62: Supervisor/Team Lead|Front-end Developer|Back-end Developer|Dev Evangelist/Advocate  Q62: Supervisor/Team Lead|Front-end Developer|Back-end Developer|DevOps/SysAdmin  Q62: Supervisor/Team Lead|Front-end Developer|Back-end Developer|DevOps/SysAdmin|Dev Evangelist/Advocate  Q62: Supervisor/Team Lead|Front-end Developer|Back-end Developer|Support|DevOps/SysAdmin  Q62: Supervisor/Team Lead|Front-end Developer|Designer  Q62: Supervisor/Team Lead|Other  Q62: Supervisor/Team Lead|Sales  Q62: Supervisor/Team Lead|Support  Q62: Supervisor/Team Lead|Support|Back-end Developer  Q62: Supervisor/Team Lead|Support|Back-end Developer|Front-end Developer  Q62: Supervisor/Team Lead|Support|Front-end Developer|Back-end Developer  \\\n",
       "0                                              False                                                                                        False                                          False                                              False                                                             False                                                                                     False                                                                             False                                                                                                     False                                                                                     False                                 False                            False                              False                                              False                                                 False                                                                     False                          \n",
       "1                                              False                                                                                        False                                          False                                              False                                                             False                                                                                     False                                                                             False                                                                                                     False                                                                                     False                                 False                            False                              False                                              False                                                 False                                                                     False                          \n",
       "2                                              False                                                                                        False                                          False                                              False                                                             False                                                                                     False                                                                             False                                                                                                     False                                                                                     False                                 False                            False                              False                                              False                                                 False                                                                     False                          \n",
       "3                                              False                                                                                        False                                          False                                              False                                                             False                                                                                     False                                                                             False                                                                                                     False                                                                                     False                                 False                            False                              False                                              False                                                 False                                                                     False                          \n",
       "4                                              False                                                                                        False                                          False                                              False                                                             False                                                                                     False                                                                             False                                                                                                     False                                                                                     False                                 False                            False                              False                                              False                                                 False                                                                     False                          \n",
       "\n",
       "   Q62: Supervisor/Team Lead|Support|One-person shop|Designer|Front-end Developer|Sales  Q62: Support  Q62: Support|Back-end Developer  Q62: Support|Back-end Developer|Front-end Developer  Q62: Support|Back-end Developer|Front-end Developer|Designer  Q62: Support|Back-end Developer|Front-end Developer|One-person shop  Q62: Support|Back-end Developer|One-person shop  Q62: Support|Designer  Q62: Support|Designer|Front-end Developer  Q62: Support|DevOps/SysAdmin  Q62: Support|Front-end Developer|Back-end Developer  Q62: Support|Front-end Developer|Designer  Q62: Support|HR|Supervisor/Team Lead|Executive Leadership  Q62: Support|Other  Q62: Support|Sales|Back-end Developer|Front-end Developer|Designer|One-person shop  Q62: Support|Sales|Designer  Q63: Always  Q63: Never  Q63: Sometimes  Q6: I am not sure  Q6: No  Q6: Yes  Q7: I don't know  Q7: No  Q7: Yes  Q8: I don't know  Q8: No  Q8: Yes  Q9: I don't know  Q9: No  Q9: Yes  \n",
       "0                                              False                                            False                            False                                              False                                                False                                                         False                                                              False                  False                                      False                         False                                              False                                        False                                              False                       False                                              False                                                         False        False       False            True              False   False    False             False    True    False             False    True    False              True   False    False  \n",
       "1                                              False                                            False                            False                                              False                                                False                                                         False                                                              False                  False                                      False                         False                                              False                                        False                                              False                       False                                              False                                                         False        False        True           False              False   False     True             False   False     True             False   False     True             False   False     True  \n",
       "2                                              False                                            False                            False                                              False                                                False                                                         False                                                              False                  False                                      False                         False                                              False                                        False                                              False                       False                                              False                                                         False         True       False           False              False   False    False             False    True    False             False    True    False              True   False    False  \n",
       "3                                              False                                            False                            False                                              False                                                False                                                         False                                                              False                  False                                      False                         False                                              False                                        False                                              False                       False                                              False                                                         False        False       False            True              False   False    False             False   False    False             False   False    False             False   False    False  \n",
       "4                                              False                                            False                            False                                              False                                                False                                                         False                                                              False                  False                                      False                         False                                              False                                        False                                              False                       False                                              False                                                         False        False       False            True              False   False     True             False    True    False             False    True    False             False    True    False  \n",
       "\n",
       "[5 rows x 3274 columns]"
      ]
     },
     "execution_count": 128,
     "metadata": {},
     "output_type": "execute_result"
    }
   ],
   "source": [
    "#Compute binary database\n",
    "oht = OnehotTransactions()\n",
    "oht_ary = oht.fit(cleaned_lists).transform(cleaned_lists)\n",
    "binary_database = pd.DataFrame(oht_ary, columns=oht.columns_)\n",
    "binary_database.head()"
   ]
  },
  {
   "cell_type": "markdown",
   "metadata": {
    "colab_type": "text",
    "id": "oExIi_-0xVsq"
   },
   "source": [
    "## 2.2. Finding Associations"
   ]
  },
  {
   "cell_type": "markdown",
   "metadata": {
    "colab_type": "text",
    "id": "WE729xfgxVsr"
   },
   "source": [
    "Computing frequent item sets using apriori. Since we have a lot of columns and a lot of instances we are chhosing a min support of 40%"
   ]
  },
  {
   "cell_type": "code",
   "execution_count": 129,
   "metadata": {},
   "outputs": [],
   "source": [
    "from mlxtend.frequent_patterns import apriori"
   ]
  },
  {
   "cell_type": "code",
   "execution_count": 130,
   "metadata": {},
   "outputs": [],
   "source": [
    "min_sup = 0.1"
   ]
  },
  {
   "cell_type": "code",
   "execution_count": null,
   "metadata": {},
   "outputs": [],
   "source": [
    "frequent_itemsets = apriori(binary_database, min_support=min_sup)\n",
    "frequent_itemsets.head()"
   ]
  },
  {
   "cell_type": "code",
   "execution_count": null,
   "metadata": {},
   "outputs": [],
   "source": [
    "frequent_itemsets = apriori(binary_database, min_support=min_sup, use_colnames=True)\n",
    "frequent_itemsets.head()"
   ]
  },
  {
   "cell_type": "code",
   "execution_count": null,
   "metadata": {},
   "outputs": [],
   "source": [
    "from mlxtend.frequent_patterns import association_rules"
   ]
  },
  {
   "cell_type": "code",
   "execution_count": null,
   "metadata": {},
   "outputs": [],
   "source": [
    "pd.set_option('display.height', 1000)\n",
    "pd.set_option('display.max_rows', 500)\n",
    "pd.set_option('display.max_columns', 500)\n",
    "pd.set_option('display.width', 1000)"
   ]
  },
  {
   "cell_type": "code",
   "execution_count": null,
   "metadata": {},
   "outputs": [],
   "source": [
    "rules = association_rules(frequent_itemsets, metric=\"confidence\", min_threshold=0.9)\n",
    "rules[rules['consequents'] == {\"Q48: Yes\"}]"
   ]
  },
  {
   "cell_type": "code",
   "execution_count": null,
   "metadata": {},
   "outputs": [],
   "source": [
    "top_5_rules = rules[rules['consequents'] == {\"Q48: Yes\"}].sort_values(by='support', ascending=False).head(5)\n",
    "top_5_rules"
   ]
  },
  {
   "cell_type": "markdown",
   "metadata": {
    "colab_type": "text",
    "id": "mI2_5gGWxVss"
   },
   "source": [
    "## 2.3 Association Rules - Results and Discussion "
   ]
  },
  {
   "cell_type": "code",
   "execution_count": null,
   "metadata": {},
   "outputs": [],
   "source": [
    "rule_sets = [set(x) for x in top_5_rules['antecedents'].tolist()]\n",
    "rule_sets"
   ]
  },
  {
   "cell_type": "markdown",
   "metadata": {
    "colab_type": "text",
    "id": "dI8o26LGxVst"
   },
   "source": [
    "We took here the top five rules, we minded and examined how they are coming together. Every of these rules has 'Q46: Yes', 'Q47: Yes', 'Q51: Yes' and 'Q55: Often'.\n",
    "So the people being most likely to suffer from a mental disorder:\n",
    "*  have people with mental disorders in their family\n",
    "*  had a mental disorder in their past\n",
    "*  have been diagnosed by a professional with a mental disorder\n",
    "\n",
    "And either work in the USA, live in the USA or both"
   ]
  },
  {
   "cell_type": "markdown",
   "metadata": {
    "colab_type": "text",
    "id": "GmT_dPumxVsu"
   },
   "source": [
    "## 2.4. Preprocess Data for Clustering"
   ]
  },
  {
   "cell_type": "markdown",
   "metadata": {
    "colab_type": "text",
    "id": "mHfRPgPJxVsv"
   },
   "source": [
    "..."
   ]
  },
  {
   "cell_type": "markdown",
   "metadata": {
    "colab_type": "text",
    "id": "pr39jmKyxVsv"
   },
   "source": [
    "## 2.5. Finding Groups"
   ]
  },
  {
   "cell_type": "markdown",
   "metadata": {
    "colab_type": "text",
    "id": "7UmSQ02IxVsw"
   },
   "source": [
    "..."
   ]
  },
  {
   "cell_type": "markdown",
   "metadata": {
    "colab_type": "text",
    "id": "Pnhwn2DnxVsx"
   },
   "source": [
    "## 2.6. Clustering - Results and Discussion "
   ]
  },
  {
   "cell_type": "markdown",
   "metadata": {
    "colab_type": "text",
    "id": "P7Jm1ZRuxVsx"
   },
   "source": [
    "..."
   ]
  },
  {
   "cell_type": "markdown",
   "metadata": {
    "colab_type": "text",
    "id": "slRJnWDCxVsy"
   },
   "source": [
    "## 3. Final Comments and Conclusions"
   ]
  },
  {
   "cell_type": "markdown",
   "metadata": {
    "colab_type": "text",
    "id": "W7ioRy0vxVsz"
   },
   "source": [
    "..."
   ]
  }
 ],
 "metadata": {
  "colab": {
   "collapsed_sections": [],
   "name": "AA_201819_Project.ipynb",
   "provenance": [],
   "version": "0.3.2"
  },
  "kernelspec": {
   "display_name": "Python 3",
   "language": "python",
   "name": "python3"
  },
  "language_info": {
   "codemirror_mode": {
    "name": "ipython",
    "version": 3
   },
   "file_extension": ".py",
   "mimetype": "text/x-python",
   "name": "python",
   "nbconvert_exporter": "python",
   "pygments_lexer": "ipython3",
   "version": "3.7.0"
  }
 },
 "nbformat": 4,
 "nbformat_minor": 2
}
