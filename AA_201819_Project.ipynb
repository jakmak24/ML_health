{
 "cells": [
  {
   "cell_type": "markdown",
   "metadata": {
    "colab_type": "text",
    "id": "_nL1N0FUxVsP"
   },
   "source": [
    "# Machine Learning / Aprendizagem Automática\n",
    "\n",
    "## Sara C. Madeira, 2018/19\n",
    "\n",
    "# ML Project  - Learning from Mental Health in Tech Surveys "
   ]
  },
  {
   "cell_type": "markdown",
   "metadata": {
    "colab_type": "text",
    "id": "TrZEWwU6xVsR"
   },
   "source": [
    "## Logistics\n",
    "\n",
    "**Students are encouraged to work in teams of 4 people**. \n",
    "\n",
    "Projects with smaller teams are allowed, but will not have better grades for this reason. \n",
    "\n",
    "The quality of the project will dictate its grade, not the number of people working.\n",
    "\n",
    "**The project's solution should be uploaded in Moodle before the end of January, 9th 2019 (last day before the exams season).** \n",
    "\n",
    "**Other deadline date might be considered provided the majority of the students agree with it.**\n",
    "\n",
    "Students should **upload a `.zip` file** containing all the files necessary for project evaluation. \n",
    "\n",
    "**It is mandatory to produce a Jupyter notebook containing code and text/images/tables/etc describing the solution and the results.**\n",
    "\n",
    "**Decisions should be fundamented and results should be critically discussed.**"
   ]
  },
  {
   "cell_type": "markdown",
   "metadata": {
    "colab_type": "text",
    "id": "9WRhqHDvxVsT"
   },
   "source": [
    "## Tools\n",
    "\n",
    "You should use [Python 3](https://www.python.org) and [Jupyter Notebook](http://jupyter.org), together with **[Scikit-learn](http://scikit-learn.org/stable/)**, **[Orange3](https://orange.biolab.si)**, or **both**.\n",
    "\n",
    "**[Orange3](https://orange.biolab.si)** can be used through its **[programmatic version](https://docs.orange.biolab.si/3/data-mining-library/)**, by importing and using its packages, or throught its **workflow version**. \n",
    "\n",
    "If you use workflows you have to deliver the workflow files and explain the options taken in each widget in your notebook."
   ]
  },
  {
   "cell_type": "markdown",
   "metadata": {
    "colab_type": "text",
    "id": "QNDtYYhqxVsV"
   },
   "source": [
    "## Dataset\n",
    "\n",
    "The dataset to be analysed is **`mental-heath-in-tech-2016.csv`**, made avaliable together with this project description. \n",
    "\n",
    "This dataset, downloaded from [Kaggle](https://www.kaggle.com), contains data from [OSMI Mental Health in Tech Survey](https://www.kaggle.com/osmi/mental-health-in-tech-survey), collected during a survey aiming at measuring **attitudes towards mental health and frequency of mental health disorders in the Tech workplace**, carried out in 2016.\n",
    "\n",
    "The **1433 surveys/instances** are described by **63 categorical/numerical features**, where the following questions were asked:\n",
    "\n",
    "* Q1 - \"Are you self-employed?\"\n",
    "* Q2 - \"How many employees does your company or organization have?\"\n",
    "* Q3 - \"Is your employer primarily a tech company/organization?\"\n",
    "* Q4 - \"Is your primary role within your company related to tech/IT?\"\n",
    "* Q5 - \"Does your employer provide mental health benefits as part of healthcare coverage?\"\n",
    "* Q6 - \"Do you know the options for mental health care available under your employer-provided coverage?\"\n",
    "* Q7 - \"Has your employer ever formally discussed mental health (for example, as part of a wellness campaign or other official communication)?\"\n",
    "* Q8 - \"Does your employer offer resources to learn more about mental health concerns and options for seeking help?\"\n",
    "* Q9 - \"Is your anonymity protected if you choose to take advantage of mental health or substance abuse treatment resources provided by your employer?\"\n",
    "* Q10 - \"If a mental health issue prompted you to request a medical leave from work, asking for that leave would be:...\"\n",
    "* Q11 - \"Do you think that discussing a mental health disorder with your employer would have negative consequences?\"\n",
    "* Q12 - \"Do you think that discussing a physical health issue with your employer would have negative consequences?\"\n",
    "* Q13 - \"Would you feel comfortable discussing a mental health disorder with your coworkers?\"\n",
    "* Q14 - \"Would you feel comfortable discussing a mental health disorder with your direct supervisor(s)?\"\n",
    "* Q15 - \"Do you feel that your employer takes mental health as seriously as physical health?\"\n",
    "* Q16 - \"Have you heard of or observed negative consequences for co-workers who have been open about mental health issues in your workplace?\"\n",
    "* Q17 - \"Do you have medical coverage (private insurance or state-provided) which includes treatment of  mental health issues?\"\n",
    "* Q18 - \"Do you know local or online resources to seek help for a mental health disorder?\"\n",
    "* Q19 - \"If you have been diagnosed or treated for a mental health disorder, do you ever reveal this to clients or business contacts?\"\n",
    "* Q20 - \"If you have revealed a mental health issue to a client or business contact, do you believe this has impacted you negatively?\"\n",
    "* Q21 - \"If you have been diagnosed or treated for a mental health disorder, do you ever reveal this to coworkers or employees?\"\n",
    "* Q22 - \"If you have revealed a mental health issue to a coworker or employee, do you believe this has impacted you negatively?\"\n",
    "* Q23 - \"Do you believe your productivity is ever affected by a mental health issue?\"\n",
    "    * Q24 - \"If yes, what percentage of your work time (time performing primary or secondary job functions) is affected by a mental health issue?\"\n",
    "* Q25 - \"Do you have previous employers?\"\n",
    "* Q26 - \"Have your previous employers provided mental health benefits?\"\n",
    "* Q27 - \"Were you aware of the options for mental health care provided by your previous employers?\"\n",
    "* Q28 - \"Did your previous employers ever formally discuss mental health (as part of a wellness campaign or other offi8cial communication)?\"\n",
    "* Q29 - \"Did your previous employers provide resources to learn more about mental health issues and how to seek help?\"\n",
    "* Q30 - \"Was your anonymity protected if you chose to take advantage of mental health or substance abuse treatment resources with previous employers?\"\n",
    "* Q31 - \"Do you think that discussing a mental health disorder with previous employers would have negative consequences?\"\n",
    "* Q32 - \"Do you think that discussing a physical health issue with previous employers would have negative consequences?\"\n",
    "* Q33 - \"Would you have been willing to discuss a mental health issue with your previous co-workers?\"\n",
    "* Q34 - \"Would you have been willing to discuss a mental health issue with your direct supervisor(s)?\"\n",
    "* Q35 - \"Did you feel that your previous employers took mental health as seriously as physical health?\"\n",
    "* Q36 - \"Did you hear of or observe negative consequences for co-workers with mental health issues in your previous workplaces?\"\n",
    "* Q37 - \"Would you be willing to bring up a physical health issue with a potential employer in an interview?\"\n",
    "    * Q38 - \"Why or why not?\"\n",
    "* Q39 - \"Would you bring up a mental health issue with a potential employer in an interview?\" \n",
    "    * Q40 - \"Why or why not?\"\n",
    "* Q41 - \"Do you feel that being identified as a person with a mental health issue would hurt your career?\"\n",
    "* Q42 - \"Do you think that team members/co-workers would view you more negatively if they knew you suffered from a mental health issue?\"\n",
    "* Q43 - \"How willing would you be to share with friends and family that you have a mental illness?\"\n",
    "* Q44 - \"Have you observed or experienced an unsupportive or badly handled response to a mental health issue in your current or previous workplace?\"\n",
    "* Q45 - \"Have your observations of how another individual who discussed a mental health disorder made you less likely to reveal a mental health issue yourself in your current workplace?\"\n",
    "* Q46 - \"Do you have a family history of mental illness?\"\n",
    "* Q47 - \"Have you had a mental health disorder in the past?\"\n",
    "* **Q48 - \"Do you currently have a mental health disorder?\"**\n",
    "    * **Q49 - \"If yes, what condition(s) have you been diagnosed with?\"**\n",
    "    * **Q50 - \"If maybe, what condition(s) do you believe you have?\"**\n",
    "* Q51 - \"Have you been diagnosed with a mental health condition by a medical professional?\"\n",
    "    * Q52 - \"If so, what condition(s) were you diagnosed with?\"\n",
    "* Q53 - \"Have you ever sought treatment for a mental health issue from a mental health professional?\"\n",
    "* Q54 - \"If you have a mental health issue, do you feel that it interferes with your work when being treated effectively?\"\n",
    "* Q55 - \"If you have a mental health issue, do you feel that it interferes with your work when NOT being treated effectively?\"\n",
    "* Q56 - \"What is your age?\"\n",
    "* Q57 - \"What is your gender?\"\n",
    "* Q58 - \"What country do you live in?\"\n",
    "    * Q59 - \"What US state or territory do you live in?\"\n",
    "* Q60 - \"What country do you work in?\"\n",
    "    * Q61 - \"What US state or territory do you work in?\"\n",
    "* Q62 - \"Which of the following best describes your work position?\"\n",
    "* Q63 - \"Do you work remotely?\"\n",
    "\n",
    "**IMPORTANT NOTES:**\n",
    "\n",
    "   1. **Some questions might not be asked**. For example, Q49 and Q50 will only be asked if Q48 is \"yes\". \n",
    "   2. Data can contain **errors/typos**, whose correction might improve the analysis.\n",
    "   3. Data can contain **missing values**, that you might decide to fill.\n",
    "   4. **Not all features are necessarily important** for the analysis.\n",
    "   5. Depending on the analysis, **some features might have to be excluded**. An example is when we want to predict a certain feature and there are other features that only have values for certain values of the target."
   ]
  },
  {
   "cell_type": "markdown",
   "metadata": {
    "colab_type": "text",
    "id": "KewUrA1lxVsW"
   },
   "source": [
    "## Task 0 (Know your Data) - Preliminary Data Analysis"
   ]
  },
  {
   "cell_type": "code",
   "execution_count": 225,
   "metadata": {
    "colab": {},
    "colab_type": "code",
    "id": "gEkQJzYZzKvU"
   },
   "outputs": [],
   "source": [
    "import pandas as pd\n",
    "import numpy as np\n",
    "\n",
    "import matplotlib\n",
    "import matplotlib.pyplot as plt\n",
    "\n",
    "pd.set_option('display.max_rows', 500)\n",
    "pd.set_option('display.max_columns', 500)\n",
    "pd.set_option('display.width', 1000)"
   ]
  },
  {
   "cell_type": "markdown",
   "metadata": {
    "colab_type": "text",
    "id": "MwbqpudrxVsX"
   },
   "source": [
    "## 0.1. Loading Data"
   ]
  },
  {
   "cell_type": "code",
   "execution_count": 226,
   "metadata": {
    "colab": {
     "base_uri": "https://localhost:8080/",
     "height": 986
    },
    "colab_type": "code",
    "id": "UjqQQT-gxZEs",
    "outputId": "e255c78d-6d79-4618-a4fd-9dbace2c1e37"
   },
   "outputs": [
    {
     "data": {
      "text/html": [
       "<div>\n",
       "<style scoped>\n",
       "    .dataframe tbody tr th:only-of-type {\n",
       "        vertical-align: middle;\n",
       "    }\n",
       "\n",
       "    .dataframe tbody tr th {\n",
       "        vertical-align: top;\n",
       "    }\n",
       "\n",
       "    .dataframe thead th {\n",
       "        text-align: right;\n",
       "    }\n",
       "</style>\n",
       "<table border=\"1\" class=\"dataframe\">\n",
       "  <thead>\n",
       "    <tr style=\"text-align: right;\">\n",
       "      <th></th>\n",
       "      <th>Are you self-employed?</th>\n",
       "      <th>How many employees does your company or organization have?</th>\n",
       "      <th>Is your employer primarily a tech company/organization?</th>\n",
       "      <th>Is your primary role within your company related to tech/IT?</th>\n",
       "      <th>Does your employer provide mental health benefits as part of healthcare coverage?</th>\n",
       "      <th>Do you know the options for mental health care available under your employer-provided coverage?</th>\n",
       "      <th>Has your employer ever formally discussed mental health (for example, as part of a wellness campaign or other official communication)?</th>\n",
       "      <th>Does your employer offer resources to learn more about mental health concerns and options for seeking help?</th>\n",
       "      <th>Is your anonymity protected if you choose to take advantage of mental health or substance abuse treatment resources provided by your employer?</th>\n",
       "      <th>If a mental health issue prompted you to request a medical leave from work, asking for that leave would be:</th>\n",
       "      <th>Do you think that discussing a mental health disorder with your employer would have negative consequences?</th>\n",
       "      <th>Do you think that discussing a physical health issue with your employer would have negative consequences?</th>\n",
       "      <th>Would you feel comfortable discussing a mental health disorder with your coworkers?</th>\n",
       "      <th>Would you feel comfortable discussing a mental health disorder with your direct supervisor(s)?</th>\n",
       "      <th>Do you feel that your employer takes mental health as seriously as physical health?</th>\n",
       "      <th>Have you heard of or observed negative consequences for co-workers who have been open about mental health issues in your workplace?</th>\n",
       "      <th>Do you have medical coverage (private insurance or state-provided) which includes treatment of  mental health issues?</th>\n",
       "      <th>Do you know local or online resources to seek help for a mental health disorder?</th>\n",
       "      <th>If you have been diagnosed or treated for a mental health disorder, do you ever reveal this to clients or business contacts?</th>\n",
       "      <th>If you have revealed a mental health issue to a client or business contact, do you believe this has impacted you negatively?</th>\n",
       "      <th>If you have been diagnosed or treated for a mental health disorder, do you ever reveal this to coworkers or employees?</th>\n",
       "      <th>If you have revealed a mental health issue to a coworker or employee, do you believe this has impacted you negatively?</th>\n",
       "      <th>Do you believe your productivity is ever affected by a mental health issue?</th>\n",
       "      <th>If yes, what percentage of your work time (time performing primary or secondary job functions) is affected by a mental health issue?</th>\n",
       "      <th>Do you have previous employers?</th>\n",
       "      <th>Have your previous employers provided mental health benefits?</th>\n",
       "      <th>Were you aware of the options for mental health care provided by your previous employers?</th>\n",
       "      <th>Did your previous employers ever formally discuss mental health (as part of a wellness campaign or other official communication)?</th>\n",
       "      <th>Did your previous employers provide resources to learn more about mental health issues and how to seek help?</th>\n",
       "      <th>Was your anonymity protected if you chose to take advantage of mental health or substance abuse treatment resources with previous employers?</th>\n",
       "      <th>Do you think that discussing a mental health disorder with previous employers would have negative consequences?</th>\n",
       "      <th>Do you think that discussing a physical health issue with previous employers would have negative consequences?</th>\n",
       "      <th>Would you have been willing to discuss a mental health issue with your previous co-workers?</th>\n",
       "      <th>Would you have been willing to discuss a mental health issue with your direct supervisor(s)?</th>\n",
       "      <th>Did you feel that your previous employers took mental health as seriously as physical health?</th>\n",
       "      <th>Did you hear of or observe negative consequences for co-workers with mental health issues in your previous workplaces?</th>\n",
       "      <th>Would you be willing to bring up a physical health issue with a potential employer in an interview?</th>\n",
       "      <th>Why or why not?</th>\n",
       "      <th>Would you bring up a mental health issue with a potential employer in an interview?</th>\n",
       "      <th>Why or why not?.1</th>\n",
       "      <th>Do you feel that being identified as a person with a mental health issue would hurt your career?</th>\n",
       "      <th>Do you think that team members/co-workers would view you more negatively if they knew you suffered from a mental health issue?</th>\n",
       "      <th>How willing would you be to share with friends and family that you have a mental illness?</th>\n",
       "      <th>Have you observed or experienced an unsupportive or badly handled response to a mental health issue in your current or previous workplace?</th>\n",
       "      <th>Have your observations of how another individual who discussed a mental health disorder made you less likely to reveal a mental health issue yourself in your current workplace?</th>\n",
       "      <th>Do you have a family history of mental illness?</th>\n",
       "      <th>Have you had a mental health disorder in the past?</th>\n",
       "      <th>Do you currently have a mental health disorder?</th>\n",
       "      <th>If yes, what condition(s) have you been diagnosed with?</th>\n",
       "      <th>If maybe, what condition(s) do you believe you have?</th>\n",
       "      <th>Have you been diagnosed with a mental health condition by a medical professional?</th>\n",
       "      <th>If so, what condition(s) were you diagnosed with?</th>\n",
       "      <th>Have you ever sought treatment for a mental health issue from a mental health professional?</th>\n",
       "      <th>If you have a mental health issue, do you feel that it interferes with your work when being treated effectively?</th>\n",
       "      <th>If you have a mental health issue, do you feel that it interferes with your work when NOT being treated effectively?</th>\n",
       "      <th>What is your age?</th>\n",
       "      <th>What is your gender?</th>\n",
       "      <th>What country do you live in?</th>\n",
       "      <th>What US state or territory do you live in?</th>\n",
       "      <th>What country do you work in?</th>\n",
       "      <th>What US state or territory do you work in?</th>\n",
       "      <th>Which of the following best describes your work position?</th>\n",
       "      <th>Do you work remotely?</th>\n",
       "    </tr>\n",
       "  </thead>\n",
       "  <tbody>\n",
       "    <tr>\n",
       "      <th>0</th>\n",
       "      <td>0</td>\n",
       "      <td>26-100</td>\n",
       "      <td>1.0</td>\n",
       "      <td>NaN</td>\n",
       "      <td>Not eligible for coverage / N/A</td>\n",
       "      <td>NaN</td>\n",
       "      <td>No</td>\n",
       "      <td>No</td>\n",
       "      <td>I don't know</td>\n",
       "      <td>Very easy</td>\n",
       "      <td>No</td>\n",
       "      <td>No</td>\n",
       "      <td>Maybe</td>\n",
       "      <td>Yes</td>\n",
       "      <td>I don't know</td>\n",
       "      <td>No</td>\n",
       "      <td>NaN</td>\n",
       "      <td>NaN</td>\n",
       "      <td>NaN</td>\n",
       "      <td>NaN</td>\n",
       "      <td>NaN</td>\n",
       "      <td>NaN</td>\n",
       "      <td>NaN</td>\n",
       "      <td>NaN</td>\n",
       "      <td>1</td>\n",
       "      <td>No, none did</td>\n",
       "      <td>N/A (not currently aware)</td>\n",
       "      <td>I don't know</td>\n",
       "      <td>None did</td>\n",
       "      <td>I don't know</td>\n",
       "      <td>Some of them</td>\n",
       "      <td>None of them</td>\n",
       "      <td>Some of my previous employers</td>\n",
       "      <td>Some of my previous employers</td>\n",
       "      <td>I don't know</td>\n",
       "      <td>None of them</td>\n",
       "      <td>Maybe</td>\n",
       "      <td>NaN</td>\n",
       "      <td>Maybe</td>\n",
       "      <td>NaN</td>\n",
       "      <td>Maybe</td>\n",
       "      <td>No, I don't think they would</td>\n",
       "      <td>Somewhat open</td>\n",
       "      <td>No</td>\n",
       "      <td>NaN</td>\n",
       "      <td>No</td>\n",
       "      <td>Yes</td>\n",
       "      <td>No</td>\n",
       "      <td>NaN</td>\n",
       "      <td>NaN</td>\n",
       "      <td>Yes</td>\n",
       "      <td>Anxiety Disorder (Generalized, Social, Phobia,...</td>\n",
       "      <td>0</td>\n",
       "      <td>Not applicable to me</td>\n",
       "      <td>Not applicable to me</td>\n",
       "      <td>39</td>\n",
       "      <td>Male</td>\n",
       "      <td>United Kingdom</td>\n",
       "      <td>NaN</td>\n",
       "      <td>United Kingdom</td>\n",
       "      <td>NaN</td>\n",
       "      <td>Back-end Developer</td>\n",
       "      <td>Sometimes</td>\n",
       "    </tr>\n",
       "    <tr>\n",
       "      <th>1</th>\n",
       "      <td>0</td>\n",
       "      <td>6-25</td>\n",
       "      <td>1.0</td>\n",
       "      <td>NaN</td>\n",
       "      <td>No</td>\n",
       "      <td>Yes</td>\n",
       "      <td>Yes</td>\n",
       "      <td>Yes</td>\n",
       "      <td>Yes</td>\n",
       "      <td>Somewhat easy</td>\n",
       "      <td>No</td>\n",
       "      <td>No</td>\n",
       "      <td>Maybe</td>\n",
       "      <td>Yes</td>\n",
       "      <td>Yes</td>\n",
       "      <td>No</td>\n",
       "      <td>NaN</td>\n",
       "      <td>NaN</td>\n",
       "      <td>NaN</td>\n",
       "      <td>NaN</td>\n",
       "      <td>NaN</td>\n",
       "      <td>NaN</td>\n",
       "      <td>NaN</td>\n",
       "      <td>NaN</td>\n",
       "      <td>1</td>\n",
       "      <td>Yes, they all did</td>\n",
       "      <td>I was aware of some</td>\n",
       "      <td>None did</td>\n",
       "      <td>Some did</td>\n",
       "      <td>Yes, always</td>\n",
       "      <td>None of them</td>\n",
       "      <td>None of them</td>\n",
       "      <td>No, at none of my previous employers</td>\n",
       "      <td>Some of my previous employers</td>\n",
       "      <td>Some did</td>\n",
       "      <td>None of them</td>\n",
       "      <td>Maybe</td>\n",
       "      <td>It would depend on the health issue. If there ...</td>\n",
       "      <td>No</td>\n",
       "      <td>While mental health has become a more prominen...</td>\n",
       "      <td>No, I don't think it would</td>\n",
       "      <td>No, I don't think they would</td>\n",
       "      <td>Somewhat open</td>\n",
       "      <td>No</td>\n",
       "      <td>NaN</td>\n",
       "      <td>Yes</td>\n",
       "      <td>Yes</td>\n",
       "      <td>Yes</td>\n",
       "      <td>Anxiety Disorder (Generalized, Social, Phobia,...</td>\n",
       "      <td>NaN</td>\n",
       "      <td>Yes</td>\n",
       "      <td>Anxiety Disorder (Generalized, Social, Phobia,...</td>\n",
       "      <td>1</td>\n",
       "      <td>Rarely</td>\n",
       "      <td>Sometimes</td>\n",
       "      <td>29</td>\n",
       "      <td>male</td>\n",
       "      <td>United States of America</td>\n",
       "      <td>Illinois</td>\n",
       "      <td>United States of America</td>\n",
       "      <td>Illinois</td>\n",
       "      <td>Back-end Developer|Front-end Developer</td>\n",
       "      <td>Never</td>\n",
       "    </tr>\n",
       "    <tr>\n",
       "      <th>2</th>\n",
       "      <td>0</td>\n",
       "      <td>6-25</td>\n",
       "      <td>1.0</td>\n",
       "      <td>NaN</td>\n",
       "      <td>No</td>\n",
       "      <td>NaN</td>\n",
       "      <td>No</td>\n",
       "      <td>No</td>\n",
       "      <td>I don't know</td>\n",
       "      <td>Neither easy nor difficult</td>\n",
       "      <td>Maybe</td>\n",
       "      <td>No</td>\n",
       "      <td>Maybe</td>\n",
       "      <td>Maybe</td>\n",
       "      <td>I don't know</td>\n",
       "      <td>No</td>\n",
       "      <td>NaN</td>\n",
       "      <td>NaN</td>\n",
       "      <td>NaN</td>\n",
       "      <td>NaN</td>\n",
       "      <td>NaN</td>\n",
       "      <td>NaN</td>\n",
       "      <td>NaN</td>\n",
       "      <td>NaN</td>\n",
       "      <td>1</td>\n",
       "      <td>No, none did</td>\n",
       "      <td>N/A (not currently aware)</td>\n",
       "      <td>None did</td>\n",
       "      <td>Some did</td>\n",
       "      <td>I don't know</td>\n",
       "      <td>I don't know</td>\n",
       "      <td>Some of them</td>\n",
       "      <td>Some of my previous employers</td>\n",
       "      <td>I don't know</td>\n",
       "      <td>I don't know</td>\n",
       "      <td>Some of them</td>\n",
       "      <td>Yes</td>\n",
       "      <td>They would provable need to know, to Judge if ...</td>\n",
       "      <td>Yes</td>\n",
       "      <td>Stigma, mainly.</td>\n",
       "      <td>Maybe</td>\n",
       "      <td>Maybe</td>\n",
       "      <td>Somewhat open</td>\n",
       "      <td>Maybe/Not sure</td>\n",
       "      <td>Yes</td>\n",
       "      <td>No</td>\n",
       "      <td>Maybe</td>\n",
       "      <td>No</td>\n",
       "      <td>NaN</td>\n",
       "      <td>NaN</td>\n",
       "      <td>No</td>\n",
       "      <td>NaN</td>\n",
       "      <td>1</td>\n",
       "      <td>Not applicable to me</td>\n",
       "      <td>Not applicable to me</td>\n",
       "      <td>38</td>\n",
       "      <td>Male</td>\n",
       "      <td>United Kingdom</td>\n",
       "      <td>NaN</td>\n",
       "      <td>United Kingdom</td>\n",
       "      <td>NaN</td>\n",
       "      <td>Back-end Developer</td>\n",
       "      <td>Always</td>\n",
       "    </tr>\n",
       "    <tr>\n",
       "      <th>3</th>\n",
       "      <td>1</td>\n",
       "      <td>NaN</td>\n",
       "      <td>NaN</td>\n",
       "      <td>NaN</td>\n",
       "      <td>NaN</td>\n",
       "      <td>NaN</td>\n",
       "      <td>NaN</td>\n",
       "      <td>NaN</td>\n",
       "      <td>NaN</td>\n",
       "      <td>NaN</td>\n",
       "      <td>NaN</td>\n",
       "      <td>NaN</td>\n",
       "      <td>NaN</td>\n",
       "      <td>NaN</td>\n",
       "      <td>NaN</td>\n",
       "      <td>NaN</td>\n",
       "      <td>1.0</td>\n",
       "      <td>Yes, I know several</td>\n",
       "      <td>Sometimes, if it comes up</td>\n",
       "      <td>I'm not sure</td>\n",
       "      <td>Sometimes, if it comes up</td>\n",
       "      <td>I'm not sure</td>\n",
       "      <td>Yes</td>\n",
       "      <td>1-25%</td>\n",
       "      <td>1</td>\n",
       "      <td>Some did</td>\n",
       "      <td>N/A (not currently aware)</td>\n",
       "      <td>None did</td>\n",
       "      <td>None did</td>\n",
       "      <td>I don't know</td>\n",
       "      <td>Some of them</td>\n",
       "      <td>Some of them</td>\n",
       "      <td>Some of my previous employers</td>\n",
       "      <td>Some of my previous employers</td>\n",
       "      <td>I don't know</td>\n",
       "      <td>Some of them</td>\n",
       "      <td>Yes</td>\n",
       "      <td>old back injury, doesn't cause me many issues ...</td>\n",
       "      <td>Maybe</td>\n",
       "      <td>would not if I was not 100% sure that the disc...</td>\n",
       "      <td>Yes, I think it would</td>\n",
       "      <td>Maybe</td>\n",
       "      <td>Neutral</td>\n",
       "      <td>No</td>\n",
       "      <td>NaN</td>\n",
       "      <td>No</td>\n",
       "      <td>Yes</td>\n",
       "      <td>Yes</td>\n",
       "      <td>Anxiety Disorder (Generalized, Social, Phobia,...</td>\n",
       "      <td>NaN</td>\n",
       "      <td>Yes</td>\n",
       "      <td>Anxiety Disorder (Generalized, Social, Phobia,...</td>\n",
       "      <td>1</td>\n",
       "      <td>Sometimes</td>\n",
       "      <td>Sometimes</td>\n",
       "      <td>43</td>\n",
       "      <td>male</td>\n",
       "      <td>United Kingdom</td>\n",
       "      <td>NaN</td>\n",
       "      <td>United Kingdom</td>\n",
       "      <td>NaN</td>\n",
       "      <td>Supervisor/Team Lead</td>\n",
       "      <td>Sometimes</td>\n",
       "    </tr>\n",
       "    <tr>\n",
       "      <th>4</th>\n",
       "      <td>0</td>\n",
       "      <td>6-25</td>\n",
       "      <td>0.0</td>\n",
       "      <td>1.0</td>\n",
       "      <td>Yes</td>\n",
       "      <td>Yes</td>\n",
       "      <td>No</td>\n",
       "      <td>No</td>\n",
       "      <td>No</td>\n",
       "      <td>Neither easy nor difficult</td>\n",
       "      <td>Yes</td>\n",
       "      <td>Maybe</td>\n",
       "      <td>Maybe</td>\n",
       "      <td>No</td>\n",
       "      <td>No</td>\n",
       "      <td>No</td>\n",
       "      <td>NaN</td>\n",
       "      <td>NaN</td>\n",
       "      <td>NaN</td>\n",
       "      <td>NaN</td>\n",
       "      <td>NaN</td>\n",
       "      <td>NaN</td>\n",
       "      <td>NaN</td>\n",
       "      <td>NaN</td>\n",
       "      <td>1</td>\n",
       "      <td>I don't know</td>\n",
       "      <td>N/A (not currently aware)</td>\n",
       "      <td>Some did</td>\n",
       "      <td>None did</td>\n",
       "      <td>I don't know</td>\n",
       "      <td>Some of them</td>\n",
       "      <td>Some of them</td>\n",
       "      <td>No, at none of my previous employers</td>\n",
       "      <td>Some of my previous employers</td>\n",
       "      <td>Some did</td>\n",
       "      <td>Some of them</td>\n",
       "      <td>Maybe</td>\n",
       "      <td>Depending on the interview stage and whether I...</td>\n",
       "      <td>No</td>\n",
       "      <td>I don't know</td>\n",
       "      <td>Yes, I think it would</td>\n",
       "      <td>Maybe</td>\n",
       "      <td>Somewhat open</td>\n",
       "      <td>Yes, I experienced</td>\n",
       "      <td>Yes</td>\n",
       "      <td>Yes</td>\n",
       "      <td>Yes</td>\n",
       "      <td>Yes</td>\n",
       "      <td>Anxiety Disorder (Generalized, Social, Phobia,...</td>\n",
       "      <td>NaN</td>\n",
       "      <td>Yes</td>\n",
       "      <td>Anxiety Disorder (Generalized, Social, Phobia,...</td>\n",
       "      <td>1</td>\n",
       "      <td>Sometimes</td>\n",
       "      <td>Sometimes</td>\n",
       "      <td>43</td>\n",
       "      <td>Female</td>\n",
       "      <td>United States of America</td>\n",
       "      <td>Illinois</td>\n",
       "      <td>United States of America</td>\n",
       "      <td>Illinois</td>\n",
       "      <td>Executive Leadership|Supervisor/Team Lead|Dev ...</td>\n",
       "      <td>Sometimes</td>\n",
       "    </tr>\n",
       "  </tbody>\n",
       "</table>\n",
       "</div>"
      ],
      "text/plain": [
       "   Are you self-employed? How many employees does your company or organization have?  Is your employer primarily a tech company/organization?  Is your primary role within your company related to tech/IT? Does your employer provide mental health benefits as part of healthcare coverage? Do you know the options for mental health care available under your employer-provided coverage? Has your employer ever formally discussed mental health (for example, as part of a wellness campaign or other official communication)? Does your employer offer resources to learn more about mental health concerns and options for seeking help? Is your anonymity protected if you choose to take advantage of mental health or substance abuse treatment resources provided by your employer? If a mental health issue prompted you to request a medical leave from work, asking for that leave would be: Do you think that discussing a mental health disorder with your employer would have negative consequences?  \\\n",
       "0                       0                                             26-100                                                        1.0                                                      NaN                               Not eligible for coverage / N/A                                                                               NaN                                                                                              No                                                                                                                                     No                                                                                                I don't know                                                                                                                                      Very easy                                                                                                          No                                                           \n",
       "1                       0                                               6-25                                                        1.0                                                      NaN                                                            No                                                                               Yes                                                                                             Yes                                                                                                                                    Yes                                                                                                         Yes                                                                                                                                  Somewhat easy                                                                                                          No                                                           \n",
       "2                       0                                               6-25                                                        1.0                                                      NaN                                                            No                                                                               NaN                                                                                              No                                                                                                                                     No                                                                                                I don't know                                                                                                                     Neither easy nor difficult                                                                                                       Maybe                                                           \n",
       "3                       1                                                NaN                                                        NaN                                                      NaN                                                           NaN                                                                               NaN                                                                                             NaN                                                                                                                                    NaN                                                                                                         NaN                                                                                                                                            NaN                                                                                                         NaN                                                           \n",
       "4                       0                                               6-25                                                        0.0                                                      1.0                                                           Yes                                                                               Yes                                                                                              No                                                                                                                                     No                                                                                                          No                                                                                                                     Neither easy nor difficult                                                                                                         Yes                                                           \n",
       "\n",
       "  Do you think that discussing a physical health issue with your employer would have negative consequences? Would you feel comfortable discussing a mental health disorder with your coworkers? Would you feel comfortable discussing a mental health disorder with your direct supervisor(s)? Do you feel that your employer takes mental health as seriously as physical health? Have you heard of or observed negative consequences for co-workers who have been open about mental health issues in your workplace?  Do you have medical coverage (private insurance or state-provided) which includes treatment of  mental health issues? Do you know local or online resources to seek help for a mental health disorder? If you have been diagnosed or treated for a mental health disorder, do you ever reveal this to clients or business contacts? If you have revealed a mental health issue to a client or business contact, do you believe this has impacted you negatively?  \\\n",
       "0                                                 No                                                                                                     Maybe                                                                                 Yes                                                                                   I don't know                                                                                  No                                                                                                                                 NaN                                                                                                                    NaN                                                                              NaN                                                                                                                          NaN                                                                             \n",
       "1                                                 No                                                                                                     Maybe                                                                                 Yes                                                                                            Yes                                                                                  No                                                                                                                                 NaN                                                                                                                    NaN                                                                              NaN                                                                                                                          NaN                                                                             \n",
       "2                                                 No                                                                                                     Maybe                                                                               Maybe                                                                                   I don't know                                                                                  No                                                                                                                                 NaN                                                                                                                    NaN                                                                              NaN                                                                                                                          NaN                                                                             \n",
       "3                                                NaN                                                                                                       NaN                                                                                 NaN                                                                                            NaN                                                                                 NaN                                                                                                                                 1.0                                                                                                    Yes, I know several                                                        Sometimes, if it comes up                                                                                                                 I'm not sure                                                                             \n",
       "4                                              Maybe                                                                                                     Maybe                                                                                  No                                                                                             No                                                                                  No                                                                                                                                 NaN                                                                                                                    NaN                                                                              NaN                                                                                                                          NaN                                                                             \n",
       "\n",
       "  If you have been diagnosed or treated for a mental health disorder, do you ever reveal this to coworkers or employees? If you have revealed a mental health issue to a coworker or employee, do you believe this has impacted you negatively? Do you believe your productivity is ever affected by a mental health issue? If yes, what percentage of your work time (time performing primary or secondary job functions) is affected by a mental health issue?  Do you have previous employers? Have your previous employers provided mental health benefits? Were you aware of the options for mental health care provided by your previous employers? Did your previous employers ever formally discuss mental health (as part of a wellness campaign or other official communication)? Did your previous employers provide resources to learn more about mental health issues and how to seek help?  \\\n",
       "0                                                NaN                                                                                                                    NaN                                                                                                                    NaN                                                                         NaN                                                                                                                  1                                       No, none did                                     N/A (not currently aware)                                                                              I don't know                                                                                                                          None did                                                             \n",
       "1                                                NaN                                                                                                                    NaN                                                                                                                    NaN                                                                         NaN                                                                                                                  1                                  Yes, they all did                                           I was aware of some                                                                                  None did                                                                                                                          Some did                                                             \n",
       "2                                                NaN                                                                                                                    NaN                                                                                                                    NaN                                                                         NaN                                                                                                                  1                                       No, none did                                     N/A (not currently aware)                                                                                  None did                                                                                                                          Some did                                                             \n",
       "3                          Sometimes, if it comes up                                                                                                           I'm not sure                                                                                                                    Yes                                                                       1-25%                                                                                                                  1                                           Some did                                     N/A (not currently aware)                                                                                  None did                                                                                                                          None did                                                             \n",
       "4                                                NaN                                                                                                                    NaN                                                                                                                    NaN                                                                         NaN                                                                                                                  1                                       I don't know                                     N/A (not currently aware)                                                                                  Some did                                                                                                                          None did                                                             \n",
       "\n",
       "  Was your anonymity protected if you chose to take advantage of mental health or substance abuse treatment resources with previous employers? Do you think that discussing a mental health disorder with previous employers would have negative consequences? Do you think that discussing a physical health issue with previous employers would have negative consequences? Would you have been willing to discuss a mental health issue with your previous co-workers? Would you have been willing to discuss a mental health issue with your direct supervisor(s)? Did you feel that your previous employers took mental health as seriously as physical health? Did you hear of or observe negative consequences for co-workers with mental health issues in your previous workplaces? Would you be willing to bring up a physical health issue with a potential employer in an interview?                                    Why or why not?  \\\n",
       "0                                       I don't know                                                                                                                                 Some of them                                                                                                    None of them                                                                                  Some of my previous employers                                                               Some of my previous employers                                                                                 I don't know                                                                                  None of them                                                                                                                  Maybe                                                                                                 NaN   \n",
       "1                                        Yes, always                                                                                                                                 None of them                                                                                                    None of them                                                                           No, at none of my previous employers                                                               Some of my previous employers                                                                                     Some did                                                                                  None of them                                                                                                                  Maybe                                                   It would depend on the health issue. If there ...   \n",
       "2                                       I don't know                                                                                                                                 I don't know                                                                                                    Some of them                                                                                  Some of my previous employers                                                                                I don't know                                                                                 I don't know                                                                                  Some of them                                                                                                                    Yes                                                   They would provable need to know, to Judge if ...   \n",
       "3                                       I don't know                                                                                                                                 Some of them                                                                                                    Some of them                                                                                  Some of my previous employers                                                               Some of my previous employers                                                                                 I don't know                                                                                  Some of them                                                                                                                    Yes                                                   old back injury, doesn't cause me many issues ...   \n",
       "4                                       I don't know                                                                                                                                 Some of them                                                                                                    Some of them                                                                           No, at none of my previous employers                                                               Some of my previous employers                                                                                     Some did                                                                                  Some of them                                                                                                                  Maybe                                                   Depending on the interview stage and whether I...   \n",
       "\n",
       "  Would you bring up a mental health issue with a potential employer in an interview?                                  Why or why not?.1 Do you feel that being identified as a person with a mental health issue would hurt your career? Do you think that team members/co-workers would view you more negatively if they knew you suffered from a mental health issue? How willing would you be to share with friends and family that you have a mental illness? Have you observed or experienced an unsupportive or badly handled response to a mental health issue in your current or previous workplace? Have your observations of how another individual who discussed a mental health disorder made you less likely to reveal a mental health issue yourself in your current workplace? Do you have a family history of mental illness? Have you had a mental health disorder in the past? Do you currently have a mental health disorder? If yes, what condition(s) have you been diagnosed with?  \\\n",
       "0                                              Maybe                                                                                 NaN                                              Maybe                                                                     No, I don't think they would                                                                                                                  Somewhat open                                                                                        No                                                                                                                                        NaN                                                                                                                                                                            No                                                Yes                                              No                                                NaN        \n",
       "1                                                 No                                   While mental health has become a more prominen...                         No, I don't think it would                                                                     No, I don't think they would                                                                                                                  Somewhat open                                                                                        No                                                                                                                                        NaN                                                                                                                                                                           Yes                                                Yes                                             Yes  Anxiety Disorder (Generalized, Social, Phobia,...        \n",
       "2                                                Yes                                                                    Stigma, mainly.                                               Maybe                                                                                            Maybe                                                                                                                  Somewhat open                                                                            Maybe/Not sure                                                                                                                                        Yes                                                                                                                                                                            No                                              Maybe                                              No                                                NaN        \n",
       "3                                              Maybe                                   would not if I was not 100% sure that the disc...                              Yes, I think it would                                                                                            Maybe                                                                                                                        Neutral                                                                                        No                                                                                                                                        NaN                                                                                                                                                                            No                                                Yes                                             Yes  Anxiety Disorder (Generalized, Social, Phobia,...        \n",
       "4                                                 No                                                                        I don't know                              Yes, I think it would                                                                                            Maybe                                                                                                                  Somewhat open                                                                        Yes, I experienced                                                                                                                                        Yes                                                                                                                                                                           Yes                                                Yes                                             Yes  Anxiety Disorder (Generalized, Social, Phobia,...        \n",
       "\n",
       "  If maybe, what condition(s) do you believe you have? Have you been diagnosed with a mental health condition by a medical professional?  If so, what condition(s) were you diagnosed with?  Have you ever sought treatment for a mental health issue from a mental health professional? If you have a mental health issue, do you feel that it interferes with your work when being treated effectively? If you have a mental health issue, do you feel that it interferes with your work when NOT being treated effectively?  What is your age? What is your gender? What country do you live in? What US state or territory do you live in? What country do you work in? What US state or territory do you work in? Which of the following best describes your work position? Do you work remotely?  \n",
       "0                                                NaN                                                  Yes                                 Anxiety Disorder (Generalized, Social, Phobia,...                                                  0                                                                         Not applicable to me                                                                                             Not applicable to me                                                                                   39                 Male               United Kingdom                                        NaN               United Kingdom                                        NaN                                 Back-end Developer                    Sometimes  \n",
       "1                                                NaN                                                  Yes                                 Anxiety Disorder (Generalized, Social, Phobia,...                                                  1                                                                                       Rarely                                                                                                        Sometimes                                                                                   29                 male     United States of America                                   Illinois     United States of America                                   Illinois             Back-end Developer|Front-end Developer                        Never  \n",
       "2                                                NaN                                                   No                                                                               NaN                                                  1                                                                         Not applicable to me                                                                                             Not applicable to me                                                                                   38                Male                United Kingdom                                        NaN               United Kingdom                                        NaN                                 Back-end Developer                       Always  \n",
       "3                                                NaN                                                  Yes                                 Anxiety Disorder (Generalized, Social, Phobia,...                                                  1                                                                                    Sometimes                                                                                                        Sometimes                                                                                   43                 male               United Kingdom                                        NaN               United Kingdom                                        NaN                               Supervisor/Team Lead                    Sometimes  \n",
       "4                                                NaN                                                  Yes                                 Anxiety Disorder (Generalized, Social, Phobia,...                                                  1                                                                                    Sometimes                                                                                                        Sometimes                                                                                   43               Female     United States of America                                   Illinois     United States of America                                   Illinois  Executive Leadership|Supervisor/Team Lead|Dev ...                    Sometimes  "
      ]
     },
     "execution_count": 226,
     "metadata": {},
     "output_type": "execute_result"
    }
   ],
   "source": [
    "df = pd.read_csv('mental-heath-in-tech-2016.csv')\n",
    "df.head()"
   ]
  },
  {
   "cell_type": "markdown",
   "metadata": {
    "colab_type": "text",
    "id": "AHd54IFyxVsa"
   },
   "source": [
    "## 0.2. Understanding Data"
   ]
  },
  {
   "cell_type": "markdown",
   "metadata": {
    "colab_type": "text",
    "id": "oNaBW9NvxVsb"
   },
   "source": [
    "In this task you should understand better the features you have, the distribution of values, potential errors, etc and plan/describe what data preprocessing steps should be performed next."
   ]
  },
  {
   "cell_type": "code",
   "execution_count": 227,
   "metadata": {},
   "outputs": [
    {
     "name": "stdout",
     "output_type": "stream",
     "text": [
      "5\n"
     ]
    },
    {
     "data": {
      "text/plain": [
       "Developer          720\n",
       "Leader             287\n",
       "Other              160\n",
       "Designer           135\n",
       "One-person shop    130\n",
       "Name: Q62, dtype: int64"
      ]
     },
     "execution_count": 227,
     "metadata": {},
     "output_type": "execute_result"
    }
   ],
   "source": [
    "path_to_df = 'mental-heath-in-tech-2016.csv'\n",
    "refactored_df = pd.read_csv(path_to_df)\n",
    "names = ['Q{}'.format(i+1) for i in range(len(df.columns))]\n",
    "refactored_df.columns = names\n",
    "\n",
    "for i in range(2,17):\n",
    "    refactored_df[\"Q\"+str(i)] = refactored_df.apply(lambda row: \"Not asked\" if row[\"Q1\"] == 1 else row[\"Q\"+str(i)],axis=1)\n",
    "\n",
    "for i in range(17,25):\n",
    "    refactored_df[\"Q\"+str(i)] = refactored_df.apply(lambda row: \"Not asked\" if row[\"Q1\"] == 0 else row[\"Q\"+str(i)],axis=1)\n",
    "    \n",
    "for i in range(26,37):\n",
    "    refactored_df[\"Q\"+str(i)] = refactored_df.apply(lambda row: \"Not asked\" if row[\"Q25\"] == 0 else row[\"Q\"+str(i)],axis=1)\n",
    "\n",
    "refactored_df[\"Q6\"] = refactored_df[\"Q6\"].map(lambda x: \"No\" if x is np.nan  else x)\n",
    "\n",
    "refactored_df[\"Q24\"] = refactored_df.apply(lambda row: \"Not applicable to me\" if row[\"Q23\"] not in [\"Yes\",\"Not asked\"] else row[\"Q24\"],axis=1)\n",
    "    \n",
    "refactored_df[\"Q44\"] = refactored_df[\"Q44\"].map(lambda x: \"Maybe/Not sure\" if x is np.nan else x)\n",
    "refactored_df[\"Q45\"] = refactored_df[\"Q45\"].map(lambda x: \"Not answered\" if x is np.nan else x)# may be possible to make some assumptions\n",
    "   \n",
    "#merge Qs 49+50+52 into Q49\n",
    "refactored_df[\"Q49\"] = refactored_df.apply(lambda row: row[\"Q49\"] if row[\"Q48\"] == \"Yes\" else row[\"Q50\"], axis=1) \n",
    "refactored_df[\"Q49\"] = refactored_df.apply(lambda row: \"Not identified\" if row[\"Q48\"] == \"No\" else row[\"Q49\"], axis=1) \n",
    "refactored_df[\"Q49\"] = refactored_df.apply(lambda row: row[\"Q52\"] if row[\"Q51\"] == \"Yes\" and row[\"Q49\"] is np.nan else row[\"Q49\"], axis=1) \n",
    "refactored_df[\"Q49\"] = refactored_df.apply(lambda row: \"Not identified\" if row[\"Q49\"] is np.nan else row[\"Q49\"], axis=1)\n",
    "refactored_df[\"Q49\"] = refactored_df[\"Q49\"].map(lambda x: \"Not identified\" if x in [\"We're all hurt, right?!\"] else x)\n",
    "refactored_df.drop([\"Q50\",\"Q52\"], axis=1, inplace=True)\n",
    "\n",
    "refactored_df = refactored_df[refactored_df[\"Q56\"] != 15] \n",
    "\n",
    "age_mean = round(refactored_df[\"Q56\"].map(lambda x: x if x > 15 and x < 90 else np.nan).mean())\n",
    "refactored_df[\"Q56\"] = refactored_df[\"Q56\"].map(lambda x: x if x > 15 and x < 90 else age_mean)\n",
    "\n",
    "refactored_df[\"Q57\"] = refactored_df[\"Q57\"].map(lambda x: \"F\" if isinstance(x,str) and x.lower().strip() in [\"woman\",\"female\",\"f\",\"fm\",\"fem\",\"f|\"] else x)\n",
    "refactored_df[\"Q57\"] = refactored_df[\"Q57\"].map(lambda x: \"M\" if isinstance(x,str) and x.lower().strip() in [\"male\",\"m\",\"man\",\"dude\",\"m|\"] else x)\n",
    "refactored_df[\"Q57\"] = refactored_df[\"Q57\"].map(lambda x: \"M\" if isinstance(x,str) and x.lower().strip().find(\"ma\") == 0 else x)\n",
    "refactored_df[\"Q57\"] = refactored_df[\"Q57\"].map(lambda x: \"F\" if isinstance(x,str) and x.lower().strip().find(\"female\") >= 0 else x)\n",
    "refactored_df[\"Q57\"] = refactored_df[\"Q57\"].map(lambda x: \"F\" if isinstance(x,str) and x.lower().strip().find(\"woman\") >= 0 else x)\n",
    "refactored_df[\"Q57\"] = refactored_df[\"Q57\"].map(lambda x: \"F\" if isinstance(x,str) and x.lower().strip().find(\"feminine\") >= 0 else x)\n",
    "refactored_df[\"Q57\"] = refactored_df[\"Q57\"].map(lambda x: \"M\" if isinstance(x,str) and x.lower().strip().find(\"male\") >= 0 else x)\n",
    "refactored_df[\"Q57\"] = refactored_df[\"Q57\"].map(lambda x: \"M\" if isinstance(x,str) and x.lower().strip().find(\"man\") >= 0 else x)\n",
    "refactored_df[\"Q57\"] = refactored_df[\"Q57\"].map(lambda x: \"M\" if isinstance(x,str) and x.lower().strip().find(\"masculine\") >= 0 else x)\n",
    "refactored_df[\"Q57\"] = refactored_df[\"Q57\"].map(lambda x: \"M\" if isinstance(x,str) and x.lower().strip().find(\"dude\") >= 0 else x)\n",
    "refactored_df[\"Q57\"] = refactored_df[\"Q57\"].map(lambda x: \"U\" if x not in [\"F\",\"M\"] else x)\n",
    "\n",
    "refactored_df[\"Q59\"] = refactored_df[\"Q59\"].map(lambda x: \"Not USA\" if x is np.nan else x) # may be possible to make some assumptions\n",
    "refactored_df[\"Q61\"] = refactored_df[\"Q61\"].map(lambda x: \"Not USA\" if x is np.nan  else x) # may be possible to make some assumptions\n",
    "\n",
    "#descriptions or little impact\n",
    "refactored_df.drop([\"Q4\",\"Q20\",\"Q38\",\"Q40\",\"Q51\"], axis=1, inplace=True)\n",
    "\n",
    "refactored_df[\"Q62\"] = refactored_df[\"Q62\"].map(lambda x: \"Designer\" if isinstance(x,str) and x.lower().strip().find(\"design\") >= 0 else x)\n",
    "refactored_df[\"Q62\"] = refactored_df[\"Q62\"].map(lambda x: \"One-person shop\" if isinstance(x,str) and x.lower().strip().find(\"shop\") >= 0 else x)\n",
    "refactored_df[\"Q62\"] = refactored_df[\"Q62\"].map(lambda x: \"Leader\" if isinstance(x,str) and x.lower().strip().find(\"lead\") >= 0 else x)\n",
    "refactored_df[\"Q62\"] = refactored_df[\"Q62\"].map(lambda x: \"Developer\" if isinstance(x,str) and x.lower().strip().find(\"dev\") >= 0 else x)\n",
    "refactored_df[\"Q62\"] = refactored_df[\"Q62\"].map(lambda x: \"Other\" if x not in [\"Leader\",\"One-person shop\",\"Developer\",\"Designer\"] else x)\n",
    "\n",
    "print(len(refactored_df[\"Q62\"].unique()))\n",
    "refactored_df[\"Q62\"].value_counts()"
   ]
  },
  {
   "cell_type": "markdown",
   "metadata": {
    "colab_type": "text",
    "id": "hQh5ChcvxVsd"
   },
   "source": [
    "## Task 1 (Supervised Learning) - Predicting if a person has a mental health disorder "
   ]
  },
  {
   "cell_type": "markdown",
   "metadata": {
    "colab_type": "text",
    "id": "_qW7v3vSxVsf"
   },
   "source": [
    "In this task you should **learn classifiers to predict if a person currently has a mental health disorder**:\n",
    "\n",
    "* Choose one classifier in each category: Tree models, Rule models, Linear models, Distance-based models, and Probabilistic models.\n",
    "* Use a train/test scheme or cross-valiation.\n",
    "* Describe the parameters used.\n",
    "* Evaluate the results using an evaluation measure and confusion matrices.\n",
    "* Choose the best classifier and fundament you choice."
   ]
  },
  {
   "cell_type": "markdown",
   "metadata": {
    "colab_type": "text",
    "id": "pLC6gvU3xVsg"
   },
   "source": [
    "## 1.1. Preprocessing Data for Classification"
   ]
  },
  {
   "cell_type": "markdown",
   "metadata": {
    "colab_type": "raw",
    "id": "rTWvABGHxVsh"
   },
   "source": [
    "### Flattening of categorical values\n",
    "To transform our data to a suitable format by projecting all non numerical values into a totally ordered numerical space"
   ]
  },
  {
   "cell_type": "code",
   "execution_count": 228,
   "metadata": {},
   "outputs": [],
   "source": [
    "normalised_df = refactored_df.copy()"
   ]
  },
  {
   "cell_type": "code",
   "execution_count": 229,
   "metadata": {},
   "outputs": [
    {
     "data": {
      "text/plain": [
       "array([0, 1], dtype=int64)"
      ]
     },
     "execution_count": 229,
     "metadata": {},
     "output_type": "execute_result"
    }
   ],
   "source": [
    "refactored_df['Q1'].unique()"
   ]
  },
  {
   "cell_type": "code",
   "execution_count": 230,
   "metadata": {},
   "outputs": [
    {
     "data": {
      "text/plain": [
       "array(['26-100', '6-25', 'Not asked', 'More than 1000', '100-500',\n",
       "       '500-1000', '1-5'], dtype=object)"
      ]
     },
     "execution_count": 230,
     "metadata": {},
     "output_type": "execute_result"
    }
   ],
   "source": [
    "refactored_df['Q2'].unique()"
   ]
  },
  {
   "cell_type": "code",
   "execution_count": 231,
   "metadata": {},
   "outputs": [
    {
     "data": {
      "text/plain": [
       "array([3, 2, 0, 6, 4, 5, 1], dtype=int64)"
      ]
     },
     "execution_count": 231,
     "metadata": {},
     "output_type": "execute_result"
    }
   ],
   "source": [
    "normalised_df[\"Q2\"] = refactored_df[\"Q2\"].map(lambda x: ['Not asked','1-5','6-25','26-100','100-500','500-1000','More than 1000'].index(x))\n",
    "normalised_df['Q2'].unique()"
   ]
  },
  {
   "cell_type": "code",
   "execution_count": 232,
   "metadata": {},
   "outputs": [
    {
     "data": {
      "text/plain": [
       "array([1.0, 'Not asked', 0.0], dtype=object)"
      ]
     },
     "execution_count": 232,
     "metadata": {},
     "output_type": "execute_result"
    }
   ],
   "source": [
    "refactored_df['Q3'].unique()"
   ]
  },
  {
   "cell_type": "code",
   "execution_count": 233,
   "metadata": {},
   "outputs": [
    {
     "data": {
      "text/plain": [
       "array([ 1., -1.,  0.])"
      ]
     },
     "execution_count": 233,
     "metadata": {},
     "output_type": "execute_result"
    }
   ],
   "source": [
    "normalised_df[\"Q3\"] = refactored_df[\"Q3\"].map(lambda x: x if x != 'Not asked' else -1)\n",
    "normalised_df['Q3'].unique()"
   ]
  },
  {
   "cell_type": "code",
   "execution_count": 234,
   "metadata": {},
   "outputs": [
    {
     "data": {
      "text/plain": [
       "array(['Not eligible for coverage / N/A', 'No', 'Not asked', 'Yes',\n",
       "       \"I don't know\"], dtype=object)"
      ]
     },
     "execution_count": 234,
     "metadata": {},
     "output_type": "execute_result"
    }
   ],
   "source": [
    "refactored_df['Q5'].unique()"
   ]
  },
  {
   "cell_type": "code",
   "execution_count": 235,
   "metadata": {},
   "outputs": [
    {
     "data": {
      "text/plain": [
       "array([-1,  0,  2,  1], dtype=int64)"
      ]
     },
     "execution_count": 235,
     "metadata": {},
     "output_type": "execute_result"
    }
   ],
   "source": [
    "normalised_df[\"Q5\"] = refactored_df[\"Q5\"].map(lambda x: ['No',\"I don't know\",'Yes'].index(x) if x in ['No',\"I don't know\",'Yes'] else -1)\n",
    "normalised_df[\"Q5\"].unique()"
   ]
  },
  {
   "cell_type": "code",
   "execution_count": 236,
   "metadata": {},
   "outputs": [
    {
     "data": {
      "text/plain": [
       "array(['No', 'Yes', 'Not asked', 'I am not sure'], dtype=object)"
      ]
     },
     "execution_count": 236,
     "metadata": {},
     "output_type": "execute_result"
    }
   ],
   "source": [
    "refactored_df['Q6'].unique()"
   ]
  },
  {
   "cell_type": "code",
   "execution_count": 237,
   "metadata": {},
   "outputs": [
    {
     "data": {
      "text/plain": [
       "array([ 0,  2, -1,  1], dtype=int64)"
      ]
     },
     "execution_count": 237,
     "metadata": {},
     "output_type": "execute_result"
    }
   ],
   "source": [
    "normalised_df[\"Q6\"] = refactored_df[\"Q6\"].map(lambda x: ['No',\"I am not sure\",'Yes'].index(x) if x in ['No',\"I am not sure\",'Yes'] else -1)\n",
    "normalised_df[\"Q6\"].unique()"
   ]
  },
  {
   "cell_type": "code",
   "execution_count": 238,
   "metadata": {},
   "outputs": [
    {
     "data": {
      "text/plain": [
       "array(['No', 'Yes', 'Not asked', \"I don't know\"], dtype=object)"
      ]
     },
     "execution_count": 238,
     "metadata": {},
     "output_type": "execute_result"
    }
   ],
   "source": [
    "refactored_df['Q7'].unique()"
   ]
  },
  {
   "cell_type": "code",
   "execution_count": 239,
   "metadata": {},
   "outputs": [
    {
     "data": {
      "text/plain": [
       "array([ 0,  2, -1,  1], dtype=int64)"
      ]
     },
     "execution_count": 239,
     "metadata": {},
     "output_type": "execute_result"
    }
   ],
   "source": [
    "normalised_df[\"Q7\"] = refactored_df[\"Q7\"].map(lambda x: ['No',\"I don't know\",'Yes'].index(x) if x in ['No',\"I don't know\",'Yes'] else -1)\n",
    "normalised_df[\"Q7\"].unique()"
   ]
  },
  {
   "cell_type": "code",
   "execution_count": 240,
   "metadata": {},
   "outputs": [
    {
     "data": {
      "text/plain": [
       "array(['No', 'Yes', 'Not asked', \"I don't know\"], dtype=object)"
      ]
     },
     "execution_count": 240,
     "metadata": {},
     "output_type": "execute_result"
    }
   ],
   "source": [
    "refactored_df['Q8'].unique()"
   ]
  },
  {
   "cell_type": "code",
   "execution_count": 241,
   "metadata": {},
   "outputs": [
    {
     "data": {
      "text/plain": [
       "array([ 0,  2, -1,  1], dtype=int64)"
      ]
     },
     "execution_count": 241,
     "metadata": {},
     "output_type": "execute_result"
    }
   ],
   "source": [
    "normalised_df[\"Q8\"] = refactored_df[\"Q8\"].map(lambda x: ['No',\"I don't know\",'Yes'].index(x) if x in ['No',\"I don't know\",'Yes'] else -1)\n",
    "normalised_df[\"Q8\"].unique()"
   ]
  },
  {
   "cell_type": "code",
   "execution_count": 242,
   "metadata": {},
   "outputs": [
    {
     "data": {
      "text/plain": [
       "array([\"I don't know\", 'Yes', 'Not asked', 'No'], dtype=object)"
      ]
     },
     "execution_count": 242,
     "metadata": {},
     "output_type": "execute_result"
    }
   ],
   "source": [
    "refactored_df['Q9'].unique()"
   ]
  },
  {
   "cell_type": "code",
   "execution_count": 243,
   "metadata": {},
   "outputs": [
    {
     "data": {
      "text/plain": [
       "array([ 1,  2, -1,  0], dtype=int64)"
      ]
     },
     "execution_count": 243,
     "metadata": {},
     "output_type": "execute_result"
    }
   ],
   "source": [
    "normalised_df[\"Q9\"] = refactored_df[\"Q9\"].map(lambda x: ['No',\"I don't know\",'Yes'].index(x) if x in ['No',\"I don't know\",'Yes'] else -1)\n",
    "normalised_df[\"Q9\"].unique()"
   ]
  },
  {
   "cell_type": "code",
   "execution_count": 244,
   "metadata": {},
   "outputs": [
    {
     "data": {
      "text/plain": [
       "array(['Very easy', 'Somewhat easy', 'Neither easy nor difficult',\n",
       "       'Not asked', 'Very difficult', 'Somewhat difficult',\n",
       "       \"I don't know\"], dtype=object)"
      ]
     },
     "execution_count": 244,
     "metadata": {},
     "output_type": "execute_result"
    }
   ],
   "source": [
    "refactored_df['Q10'].unique()"
   ]
  },
  {
   "cell_type": "code",
   "execution_count": 245,
   "metadata": {},
   "outputs": [
    {
     "data": {
      "text/plain": [
       "array([ 5,  4,  3, -1,  0,  1,  2], dtype=int64)"
      ]
     },
     "execution_count": 245,
     "metadata": {},
     "output_type": "execute_result"
    }
   ],
   "source": [
    "normalised_df[\"Q10\"] = refactored_df[\"Q10\"].map(lambda x: ['Very difficult', 'Somewhat difficult', \"I don't know\",'Neither easy nor difficult','Somewhat easy','Very easy'].index(x) if x in ['Very difficult', 'Somewhat difficult', \"I don't know\",'Neither easy nor difficult','Somewhat easy','Very easy'] else -1) \n",
    "normalised_df[\"Q10\"].unique()"
   ]
  },
  {
   "cell_type": "code",
   "execution_count": 246,
   "metadata": {},
   "outputs": [
    {
     "data": {
      "text/plain": [
       "array(['No', 'Maybe', 'Not asked', 'Yes'], dtype=object)"
      ]
     },
     "execution_count": 246,
     "metadata": {},
     "output_type": "execute_result"
    }
   ],
   "source": [
    "refactored_df['Q11'].unique()"
   ]
  },
  {
   "cell_type": "code",
   "execution_count": 247,
   "metadata": {},
   "outputs": [
    {
     "data": {
      "text/plain": [
       "array([ 0,  1, -1,  2], dtype=int64)"
      ]
     },
     "execution_count": 247,
     "metadata": {},
     "output_type": "execute_result"
    }
   ],
   "source": [
    "normalised_df[\"Q11\"] = refactored_df[\"Q11\"].map(lambda x: ['No',\"Maybe\",'Yes'].index(x) if x in ['No',\"Maybe\",'Yes'] else -1)\n",
    "normalised_df[\"Q11\"].unique()"
   ]
  },
  {
   "cell_type": "code",
   "execution_count": 248,
   "metadata": {},
   "outputs": [
    {
     "data": {
      "text/plain": [
       "array(['No', 'Not asked', 'Maybe', 'Yes'], dtype=object)"
      ]
     },
     "execution_count": 248,
     "metadata": {},
     "output_type": "execute_result"
    }
   ],
   "source": [
    "refactored_df['Q12'].unique()"
   ]
  },
  {
   "cell_type": "code",
   "execution_count": 249,
   "metadata": {},
   "outputs": [
    {
     "data": {
      "text/plain": [
       "array([ 0, -1,  1,  2], dtype=int64)"
      ]
     },
     "execution_count": 249,
     "metadata": {},
     "output_type": "execute_result"
    }
   ],
   "source": [
    "normalised_df[\"Q12\"] = refactored_df[\"Q12\"].map(lambda x: ['No',\"Maybe\",'Yes'].index(x) if x in ['No',\"Maybe\",'Yes'] else -1)\n",
    "normalised_df[\"Q12\"].unique()"
   ]
  },
  {
   "cell_type": "code",
   "execution_count": 250,
   "metadata": {},
   "outputs": [
    {
     "data": {
      "text/plain": [
       "array(['Maybe', 'Not asked', 'Yes', 'No'], dtype=object)"
      ]
     },
     "execution_count": 250,
     "metadata": {},
     "output_type": "execute_result"
    }
   ],
   "source": [
    "refactored_df['Q13'].unique()"
   ]
  },
  {
   "cell_type": "code",
   "execution_count": 251,
   "metadata": {},
   "outputs": [
    {
     "data": {
      "text/plain": [
       "array([ 1, -1,  2,  0], dtype=int64)"
      ]
     },
     "execution_count": 251,
     "metadata": {},
     "output_type": "execute_result"
    }
   ],
   "source": [
    "normalised_df[\"Q13\"] = refactored_df[\"Q13\"].map(lambda x: ['No',\"Maybe\",'Yes'].index(x) if x in ['No',\"Maybe\",'Yes'] else -1)\n",
    "normalised_df[\"Q13\"].unique()"
   ]
  },
  {
   "cell_type": "code",
   "execution_count": 252,
   "metadata": {},
   "outputs": [
    {
     "data": {
      "text/plain": [
       "array(['Yes', 'Maybe', 'Not asked', 'No'], dtype=object)"
      ]
     },
     "execution_count": 252,
     "metadata": {},
     "output_type": "execute_result"
    }
   ],
   "source": [
    "refactored_df['Q14'].unique()"
   ]
  },
  {
   "cell_type": "code",
   "execution_count": 253,
   "metadata": {},
   "outputs": [
    {
     "data": {
      "text/plain": [
       "array([ 2,  1, -1,  0], dtype=int64)"
      ]
     },
     "execution_count": 253,
     "metadata": {},
     "output_type": "execute_result"
    }
   ],
   "source": [
    "normalised_df[\"Q14\"] = refactored_df[\"Q14\"].map(lambda x: ['No',\"Maybe\",'Yes'].index(x) if x in ['No',\"Maybe\",'Yes'] else -1)\n",
    "normalised_df[\"Q14\"].unique()"
   ]
  },
  {
   "cell_type": "code",
   "execution_count": 254,
   "metadata": {},
   "outputs": [
    {
     "data": {
      "text/plain": [
       "array([\"I don't know\", 'Yes', 'Not asked', 'No'], dtype=object)"
      ]
     },
     "execution_count": 254,
     "metadata": {},
     "output_type": "execute_result"
    }
   ],
   "source": [
    "refactored_df['Q15'].unique()"
   ]
  },
  {
   "cell_type": "code",
   "execution_count": 255,
   "metadata": {},
   "outputs": [
    {
     "data": {
      "text/plain": [
       "array([ 1,  2, -1,  0], dtype=int64)"
      ]
     },
     "execution_count": 255,
     "metadata": {},
     "output_type": "execute_result"
    }
   ],
   "source": [
    "normalised_df[\"Q15\"] = refactored_df[\"Q15\"].map(lambda x: ['No',\"I don't know\",'Yes'].index(x) if x in ['No',\"I don't know\",'Yes'] else -1)\n",
    "normalised_df[\"Q15\"].unique()"
   ]
  },
  {
   "cell_type": "code",
   "execution_count": 256,
   "metadata": {},
   "outputs": [
    {
     "data": {
      "text/plain": [
       "array(['No', 'Not asked', 'Yes'], dtype=object)"
      ]
     },
     "execution_count": 256,
     "metadata": {},
     "output_type": "execute_result"
    }
   ],
   "source": [
    "refactored_df['Q16'].unique()"
   ]
  },
  {
   "cell_type": "code",
   "execution_count": 257,
   "metadata": {},
   "outputs": [
    {
     "data": {
      "text/plain": [
       "array([ 0, -1,  1], dtype=int64)"
      ]
     },
     "execution_count": 257,
     "metadata": {},
     "output_type": "execute_result"
    }
   ],
   "source": [
    "normalised_df[\"Q16\"] = refactored_df[\"Q16\"].map(lambda x: ['No','Yes'].index(x) if x in ['No','Yes'] else -1)\n",
    "normalised_df[\"Q16\"].unique()"
   ]
  },
  {
   "cell_type": "code",
   "execution_count": 258,
   "metadata": {},
   "outputs": [
    {
     "data": {
      "text/plain": [
       "array(['Not asked', 1.0, 0.0], dtype=object)"
      ]
     },
     "execution_count": 258,
     "metadata": {},
     "output_type": "execute_result"
    }
   ],
   "source": [
    "refactored_df['Q17'].unique()"
   ]
  },
  {
   "cell_type": "code",
   "execution_count": 259,
   "metadata": {},
   "outputs": [
    {
     "data": {
      "text/plain": [
       "array([-1.,  1.,  0.])"
      ]
     },
     "execution_count": 259,
     "metadata": {},
     "output_type": "execute_result"
    }
   ],
   "source": [
    "normalised_df[\"Q17\"] = refactored_df[\"Q17\"].map(lambda x: x if x != 'Not asked' else -1)\n",
    "normalised_df['Q17'].unique()"
   ]
  },
  {
   "cell_type": "code",
   "execution_count": 260,
   "metadata": {},
   "outputs": [
    {
     "data": {
      "text/plain": [
       "array(['Not asked', 'Yes, I know several', 'I know some',\n",
       "       \"No, I don't know any\"], dtype=object)"
      ]
     },
     "execution_count": 260,
     "metadata": {},
     "output_type": "execute_result"
    }
   ],
   "source": [
    "refactored_df['Q18'].unique()"
   ]
  },
  {
   "cell_type": "code",
   "execution_count": 261,
   "metadata": {},
   "outputs": [
    {
     "data": {
      "text/plain": [
       "array([-1,  2,  1,  0], dtype=int64)"
      ]
     },
     "execution_count": 261,
     "metadata": {},
     "output_type": "execute_result"
    }
   ],
   "source": [
    "normalised_df[\"Q18\"] = refactored_df[\"Q18\"].map(lambda x: [\"No, I don't know any\", 'I know some','Yes, I know several'].index(x) if x in [\"No, I don't know any\", 'I know some','Yes, I know several'] else -1)\n",
    "normalised_df['Q18'].unique()"
   ]
  },
  {
   "cell_type": "code",
   "execution_count": 262,
   "metadata": {},
   "outputs": [
    {
     "data": {
      "text/plain": [
       "array(['Not asked', 'Sometimes, if it comes up',\n",
       "       \"No, because it doesn't matter\",\n",
       "       'No, because it would impact me negatively',\n",
       "       'Not applicable to me', 'Yes, always'], dtype=object)"
      ]
     },
     "execution_count": 262,
     "metadata": {},
     "output_type": "execute_result"
    }
   ],
   "source": [
    "refactored_df['Q19'].unique()"
   ]
  },
  {
   "cell_type": "code",
   "execution_count": 263,
   "metadata": {},
   "outputs": [
    {
     "data": {
      "text/plain": [
       "array([-1,  3,  1,  0,  2,  4], dtype=int64)"
      ]
     },
     "execution_count": 263,
     "metadata": {},
     "output_type": "execute_result"
    }
   ],
   "source": [
    "normalised_df[\"Q19\"] = refactored_df[\"Q19\"].map(lambda x: ['No, because it would impact me negatively',\"No, because it doesn't matter\",'Not applicable to me','Sometimes, if it comes up','Yes, always'].index(x) if x in ['No, because it would impact me negatively',\"No, because it doesn't matter\",'Not applicable to me','Sometimes, if it comes up','Yes, always'] else -1)\n",
    "normalised_df['Q19'].unique()"
   ]
  },
  {
   "cell_type": "code",
   "execution_count": 264,
   "metadata": {},
   "outputs": [
    {
     "data": {
      "text/plain": [
       "array(['Not asked', 'Sometimes, if it comes up',\n",
       "       'No, because it would impact me negatively',\n",
       "       'Not applicable to me', 'Yes, always',\n",
       "       \"No, because it doesn't matter\"], dtype=object)"
      ]
     },
     "execution_count": 264,
     "metadata": {},
     "output_type": "execute_result"
    }
   ],
   "source": [
    "refactored_df['Q21'].unique()"
   ]
  },
  {
   "cell_type": "code",
   "execution_count": 265,
   "metadata": {},
   "outputs": [
    {
     "data": {
      "text/plain": [
       "array([-1,  3,  0,  2,  4,  1], dtype=int64)"
      ]
     },
     "execution_count": 265,
     "metadata": {},
     "output_type": "execute_result"
    }
   ],
   "source": [
    "normalised_df[\"Q21\"] = refactored_df[\"Q21\"].map(lambda x: ['No, because it would impact me negatively',\"No, because it doesn't matter\",'Not applicable to me','Sometimes, if it comes up','Yes, always'].index(x) if x in ['No, because it would impact me negatively',\"No, because it doesn't matter\",'Not applicable to me','Sometimes, if it comes up','Yes, always'] else -1)\n",
    "normalised_df['Q21'].unique()"
   ]
  },
  {
   "cell_type": "code",
   "execution_count": 266,
   "metadata": {},
   "outputs": [
    {
     "data": {
      "text/plain": [
       "array(['Not asked', \"I'm not sure\", 'No', 'Yes', 'Not applicable to me'],\n",
       "      dtype=object)"
      ]
     },
     "execution_count": 266,
     "metadata": {},
     "output_type": "execute_result"
    }
   ],
   "source": [
    "refactored_df['Q22'].unique()"
   ]
  },
  {
   "cell_type": "code",
   "execution_count": 267,
   "metadata": {},
   "outputs": [
    {
     "data": {
      "text/plain": [
       "array([-1,  1,  0,  2], dtype=int64)"
      ]
     },
     "execution_count": 267,
     "metadata": {},
     "output_type": "execute_result"
    }
   ],
   "source": [
    "normalised_df[\"Q22\"] = refactored_df[\"Q22\"].map(lambda x: ['No',\"I'm not sure\",'Yes'].index(x) if x in ['No',\"I'm not sure\",'Yes'] else -1)\n",
    "normalised_df['Q22'].unique()"
   ]
  },
  {
   "cell_type": "code",
   "execution_count": 268,
   "metadata": {},
   "outputs": [
    {
     "data": {
      "text/plain": [
       "array(['Not asked', 'Yes', 'Not applicable to me', 'No', 'Unsure'],\n",
       "      dtype=object)"
      ]
     },
     "execution_count": 268,
     "metadata": {},
     "output_type": "execute_result"
    }
   ],
   "source": [
    "refactored_df['Q23'].unique()"
   ]
  },
  {
   "cell_type": "code",
   "execution_count": 269,
   "metadata": {},
   "outputs": [
    {
     "data": {
      "text/plain": [
       "array([-1,  2,  0,  1], dtype=int64)"
      ]
     },
     "execution_count": 269,
     "metadata": {},
     "output_type": "execute_result"
    }
   ],
   "source": [
    "normalised_df[\"Q23\"] = refactored_df[\"Q23\"].map(lambda x: ['No',\"Unsure\",'Yes'].index(x) if x in ['No',\"Unsure\",'Yes'] else -1)\n",
    "normalised_df['Q23'].unique()"
   ]
  },
  {
   "cell_type": "code",
   "execution_count": 270,
   "metadata": {},
   "outputs": [
    {
     "data": {
      "text/plain": [
       "array(['Not asked', '1-25%', '76-100%', 'Not applicable to me', '26-50%',\n",
       "       '51-75%'], dtype=object)"
      ]
     },
     "execution_count": 270,
     "metadata": {},
     "output_type": "execute_result"
    }
   ],
   "source": [
    "refactored_df['Q24'].unique()"
   ]
  },
  {
   "cell_type": "code",
   "execution_count": 271,
   "metadata": {},
   "outputs": [
    {
     "data": {
      "text/plain": [
       "array([-1,  0,  3,  1,  2], dtype=int64)"
      ]
     },
     "execution_count": 271,
     "metadata": {},
     "output_type": "execute_result"
    }
   ],
   "source": [
    "normalised_df[\"Q24\"] = refactored_df[\"Q24\"].map(lambda x: ['1-25%','26-50%','51-75%','76-100%'].index(x) if x in ['1-25%','26-50%','51-75%','76-100%'] else -1)\n",
    "normalised_df['Q24'].unique()"
   ]
  },
  {
   "cell_type": "code",
   "execution_count": 272,
   "metadata": {},
   "outputs": [
    {
     "data": {
      "text/plain": [
       "array([1, 0], dtype=int64)"
      ]
     },
     "execution_count": 272,
     "metadata": {},
     "output_type": "execute_result"
    }
   ],
   "source": [
    "refactored_df['Q25'].unique()"
   ]
  },
  {
   "cell_type": "code",
   "execution_count": 273,
   "metadata": {},
   "outputs": [
    {
     "data": {
      "text/plain": [
       "array(['No, none did', 'Yes, they all did', 'Some did', \"I don't know\",\n",
       "       'Not asked'], dtype=object)"
      ]
     },
     "execution_count": 273,
     "metadata": {},
     "output_type": "execute_result"
    }
   ],
   "source": [
    "refactored_df['Q26'].unique()"
   ]
  },
  {
   "cell_type": "code",
   "execution_count": 274,
   "metadata": {},
   "outputs": [
    {
     "data": {
      "text/plain": [
       "array([ 0,  3,  2,  1, -1], dtype=int64)"
      ]
     },
     "execution_count": 274,
     "metadata": {},
     "output_type": "execute_result"
    }
   ],
   "source": [
    "normalised_df[\"Q26\"] = refactored_df[\"Q26\"].map(lambda x: ['No, none did',\"I don't know\", 'Some did','Yes, they all did'].index(x) if x in ['No, none did',\"I don't know\", 'Some did','Yes, they all did'] else -1)\n",
    "normalised_df['Q26'].unique()"
   ]
  },
  {
   "cell_type": "code",
   "execution_count": 275,
   "metadata": {},
   "outputs": [
    {
     "data": {
      "text/plain": [
       "array(['N/A (not currently aware)', 'I was aware of some',\n",
       "       'Yes, I was aware of all of them', 'No, I only became aware later',\n",
       "       'Not asked'], dtype=object)"
      ]
     },
     "execution_count": 275,
     "metadata": {},
     "output_type": "execute_result"
    }
   ],
   "source": [
    "refactored_df['Q27'].unique()"
   ]
  },
  {
   "cell_type": "code",
   "execution_count": 276,
   "metadata": {},
   "outputs": [
    {
     "data": {
      "text/plain": [
       "array([-1,  1,  2,  0], dtype=int64)"
      ]
     },
     "execution_count": 276,
     "metadata": {},
     "output_type": "execute_result"
    }
   ],
   "source": [
    "normalised_df[\"Q27\"] = refactored_df[\"Q27\"].map(lambda x: ['No, I only became aware later','I was aware of some','Yes, I was aware of all of them'].index(x) if x in ['No, I only became aware later','I was aware of some','Yes, I was aware of all of them'] else -1)\n",
    "normalised_df['Q27'].unique()"
   ]
  },
  {
   "cell_type": "code",
   "execution_count": 277,
   "metadata": {},
   "outputs": [
    {
     "data": {
      "text/plain": [
       "array(['N/A (not currently aware)', 'I was aware of some',\n",
       "       'Yes, I was aware of all of them', 'No, I only became aware later',\n",
       "       'Not asked'], dtype=object)"
      ]
     },
     "execution_count": 277,
     "metadata": {},
     "output_type": "execute_result"
    }
   ],
   "source": [
    "refactored_df['Q27'].unique()"
   ]
  },
  {
   "cell_type": "code",
   "execution_count": 278,
   "metadata": {},
   "outputs": [
    {
     "data": {
      "text/plain": [
       "array([ 1,  0,  2, -1,  3], dtype=int64)"
      ]
     },
     "execution_count": 278,
     "metadata": {},
     "output_type": "execute_result"
    }
   ],
   "source": [
    "normalised_df[\"Q28\"] = refactored_df[\"Q28\"].map(lambda x: ['None did',\"I don't know\", 'Some did','Yes, they all did'].index(x) if x in ['None did',\"I don't know\", 'Some did','Yes, they all did'] else -1)\n",
    "normalised_df['Q28'].unique()"
   ]
  },
  {
   "cell_type": "code",
   "execution_count": 279,
   "metadata": {},
   "outputs": [
    {
     "data": {
      "text/plain": [
       "array(['None did', 'Some did', 'Not asked', 'Yes, they all did'],\n",
       "      dtype=object)"
      ]
     },
     "execution_count": 279,
     "metadata": {},
     "output_type": "execute_result"
    }
   ],
   "source": [
    "refactored_df['Q29'].unique()"
   ]
  },
  {
   "cell_type": "code",
   "execution_count": 280,
   "metadata": {},
   "outputs": [
    {
     "data": {
      "text/plain": [
       "array([ 0,  1, -1,  2], dtype=int64)"
      ]
     },
     "execution_count": 280,
     "metadata": {},
     "output_type": "execute_result"
    }
   ],
   "source": [
    "normalised_df[\"Q29\"] = refactored_df[\"Q29\"].map(lambda x: ['None did', 'Some did','Yes, they all did'].index(x) if x in ['None did', 'Some did','Yes, they all did'] else -1)\n",
    "normalised_df['Q29'].unique()"
   ]
  },
  {
   "cell_type": "code",
   "execution_count": 281,
   "metadata": {},
   "outputs": [
    {
     "data": {
      "text/plain": [
       "array([\"I don't know\", 'Yes, always', 'Sometimes', 'No', 'Not asked'],\n",
       "      dtype=object)"
      ]
     },
     "execution_count": 281,
     "metadata": {},
     "output_type": "execute_result"
    }
   ],
   "source": [
    "refactored_df['Q30'].unique()"
   ]
  },
  {
   "cell_type": "code",
   "execution_count": 282,
   "metadata": {},
   "outputs": [
    {
     "data": {
      "text/plain": [
       "array([ 1,  3,  2,  0, -1], dtype=int64)"
      ]
     },
     "execution_count": 282,
     "metadata": {},
     "output_type": "execute_result"
    }
   ],
   "source": [
    "normalised_df[\"Q30\"] = refactored_df[\"Q30\"].map(lambda x: ['No',\"I don't know\", 'Sometimes','Yes, always'].index(x) if x in ['No',\"I don't know\", 'Sometimes','Yes, always'] else -1)\n",
    "normalised_df['Q30'].unique()"
   ]
  },
  {
   "cell_type": "code",
   "execution_count": 283,
   "metadata": {},
   "outputs": [
    {
     "data": {
      "text/plain": [
       "array(['Some of them', 'None of them', \"I don't know\", 'Yes, all of them',\n",
       "       'Not asked'], dtype=object)"
      ]
     },
     "execution_count": 283,
     "metadata": {},
     "output_type": "execute_result"
    }
   ],
   "source": [
    "refactored_df['Q31'].unique()"
   ]
  },
  {
   "cell_type": "code",
   "execution_count": 284,
   "metadata": {},
   "outputs": [
    {
     "data": {
      "text/plain": [
       "array([ 2,  0,  1,  3, -1], dtype=int64)"
      ]
     },
     "execution_count": 284,
     "metadata": {},
     "output_type": "execute_result"
    }
   ],
   "source": [
    "normalised_df[\"Q31\"] = refactored_df[\"Q31\"].map(lambda x: ['None of them', \"I don't know\",'Some of them', 'Yes, all of them'].index(x) if x in ['None of them', \"I don't know\",'Some of them', 'Yes, all of them'] else -1)\n",
    "normalised_df['Q31'].unique()"
   ]
  },
  {
   "cell_type": "code",
   "execution_count": 285,
   "metadata": {},
   "outputs": [
    {
     "data": {
      "text/plain": [
       "array(['None of them', 'Some of them', 'Yes, all of them', 'Not asked'],\n",
       "      dtype=object)"
      ]
     },
     "execution_count": 285,
     "metadata": {},
     "output_type": "execute_result"
    }
   ],
   "source": [
    "refactored_df['Q32'].unique()"
   ]
  },
  {
   "cell_type": "code",
   "execution_count": 286,
   "metadata": {},
   "outputs": [
    {
     "data": {
      "text/plain": [
       "array([ 0,  2,  3, -1], dtype=int64)"
      ]
     },
     "execution_count": 286,
     "metadata": {},
     "output_type": "execute_result"
    }
   ],
   "source": [
    "normalised_df[\"Q32\"] = refactored_df[\"Q32\"].map(lambda x: ['None of them', \"I don't know\",'Some of them', 'Yes, all of them'].index(x) if x in ['None of them', \"I don't know\",'Some of them', 'Yes, all of them'] else -1)\n",
    "normalised_df['Q32'].unique()"
   ]
  },
  {
   "cell_type": "code",
   "execution_count": 287,
   "metadata": {},
   "outputs": [
    {
     "data": {
      "text/plain": [
       "array(['Some of my previous employers',\n",
       "       'No, at none of my previous employers',\n",
       "       'Yes, at all of my previous employers', 'Not asked'], dtype=object)"
      ]
     },
     "execution_count": 287,
     "metadata": {},
     "output_type": "execute_result"
    }
   ],
   "source": [
    "refactored_df['Q33'].unique()"
   ]
  },
  {
   "cell_type": "code",
   "execution_count": 288,
   "metadata": {},
   "outputs": [
    {
     "data": {
      "text/plain": [
       "array([ 1,  0,  2, -1], dtype=int64)"
      ]
     },
     "execution_count": 288,
     "metadata": {},
     "output_type": "execute_result"
    }
   ],
   "source": [
    "normalised_df[\"Q33\"] = refactored_df[\"Q33\"].map(lambda x: ['No, at none of my previous employers','Some of my previous employers','Yes, at all of my previous employers'].index(x) if x in ['No, at none of my previous employers','Some of my previous employers','Yes, at all of my previous employers'] else -1)\n",
    "normalised_df['Q33'].unique()"
   ]
  },
  {
   "cell_type": "code",
   "execution_count": 289,
   "metadata": {},
   "outputs": [
    {
     "data": {
      "text/plain": [
       "array(['Some of my previous employers', \"I don't know\",\n",
       "       'No, at none of my previous employers',\n",
       "       'Yes, at all of my previous employers', 'Not asked'], dtype=object)"
      ]
     },
     "execution_count": 289,
     "metadata": {},
     "output_type": "execute_result"
    }
   ],
   "source": [
    "refactored_df['Q34'].unique()"
   ]
  },
  {
   "cell_type": "code",
   "execution_count": 290,
   "metadata": {},
   "outputs": [
    {
     "data": {
      "text/plain": [
       "array([ 2,  1,  0,  3, -1], dtype=int64)"
      ]
     },
     "execution_count": 290,
     "metadata": {},
     "output_type": "execute_result"
    }
   ],
   "source": [
    "normalised_df[\"Q34\"] = refactored_df[\"Q34\"].map(lambda x: ['No, at none of my previous employers',\"I don't know\",'Some of my previous employers','Yes, at all of my previous employers'].index(x) if x in ['No, at none of my previous employers',\"I don't know\",'Some of my previous employers','Yes, at all of my previous employers'] else -1)\n",
    "normalised_df['Q34'].unique()"
   ]
  },
  {
   "cell_type": "code",
   "execution_count": 291,
   "metadata": {},
   "outputs": [
    {
     "data": {
      "text/plain": [
       "array([\"I don't know\", 'Some did', 'None did', 'Yes, they all did',\n",
       "       'Not asked'], dtype=object)"
      ]
     },
     "execution_count": 291,
     "metadata": {},
     "output_type": "execute_result"
    }
   ],
   "source": [
    "refactored_df['Q35'].unique()"
   ]
  },
  {
   "cell_type": "code",
   "execution_count": 292,
   "metadata": {},
   "outputs": [
    {
     "data": {
      "text/plain": [
       "array([ 1,  2,  0,  3, -1], dtype=int64)"
      ]
     },
     "execution_count": 292,
     "metadata": {},
     "output_type": "execute_result"
    }
   ],
   "source": [
    "normalised_df[\"Q35\"] = refactored_df[\"Q35\"].map(lambda x: ['None did',\"I don't know\", 'Some did','Yes, they all did'].index(x) if x in ['None did',\"I don't know\", 'Some did','Yes, they all did'] else -1)\n",
    "normalised_df['Q35'].unique()"
   ]
  },
  {
   "cell_type": "code",
   "execution_count": 293,
   "metadata": {},
   "outputs": [
    {
     "data": {
      "text/plain": [
       "array(['None of them', 'Some of them', 'Not asked', 'Yes, all of them'],\n",
       "      dtype=object)"
      ]
     },
     "execution_count": 293,
     "metadata": {},
     "output_type": "execute_result"
    }
   ],
   "source": [
    "refactored_df['Q36'].unique()"
   ]
  },
  {
   "cell_type": "code",
   "execution_count": 294,
   "metadata": {},
   "outputs": [
    {
     "data": {
      "text/plain": [
       "array([ 0,  1, -1,  2], dtype=int64)"
      ]
     },
     "execution_count": 294,
     "metadata": {},
     "output_type": "execute_result"
    }
   ],
   "source": [
    "normalised_df[\"Q36\"] = refactored_df[\"Q36\"].map(lambda x: ['None of them','Some of them', 'Yes, all of them'].index(x) if x in ['None of them','Some of them', 'Yes, all of them'] else -1)\n",
    "normalised_df['Q36'].unique()"
   ]
  },
  {
   "cell_type": "code",
   "execution_count": 295,
   "metadata": {},
   "outputs": [
    {
     "data": {
      "text/plain": [
       "array(['Maybe', 'Yes', 'No'], dtype=object)"
      ]
     },
     "execution_count": 295,
     "metadata": {},
     "output_type": "execute_result"
    }
   ],
   "source": [
    "refactored_df['Q37'].unique()"
   ]
  },
  {
   "cell_type": "code",
   "execution_count": 296,
   "metadata": {},
   "outputs": [
    {
     "data": {
      "text/plain": [
       "array([1, 2, 0], dtype=int64)"
      ]
     },
     "execution_count": 296,
     "metadata": {},
     "output_type": "execute_result"
    }
   ],
   "source": [
    "normalised_df[\"Q37\"] = refactored_df[\"Q37\"].map(lambda x: ['No',\"Maybe\",'Yes'].index(x))\n",
    "normalised_df['Q37'].unique()"
   ]
  },
  {
   "cell_type": "code",
   "execution_count": 297,
   "metadata": {},
   "outputs": [
    {
     "data": {
      "text/plain": [
       "array(['Maybe', 'No', 'Yes'], dtype=object)"
      ]
     },
     "execution_count": 297,
     "metadata": {},
     "output_type": "execute_result"
    }
   ],
   "source": [
    "refactored_df['Q39'].unique()"
   ]
  },
  {
   "cell_type": "code",
   "execution_count": 298,
   "metadata": {},
   "outputs": [
    {
     "data": {
      "text/plain": [
       "array([1, 0, 2], dtype=int64)"
      ]
     },
     "execution_count": 298,
     "metadata": {},
     "output_type": "execute_result"
    }
   ],
   "source": [
    "normalised_df[\"Q39\"] = refactored_df[\"Q39\"].map(lambda x: ['No',\"Maybe\",'Yes'].index(x))\n",
    "normalised_df['Q39'].unique()"
   ]
  },
  {
   "cell_type": "code",
   "execution_count": 299,
   "metadata": {},
   "outputs": [
    {
     "data": {
      "text/plain": [
       "array(['Maybe', \"No, I don't think it would\", 'Yes, I think it would',\n",
       "       'No, it has not', 'Yes, it has'], dtype=object)"
      ]
     },
     "execution_count": 299,
     "metadata": {},
     "output_type": "execute_result"
    }
   ],
   "source": [
    "refactored_df['Q41'].unique()"
   ]
  },
  {
   "cell_type": "code",
   "execution_count": 300,
   "metadata": {},
   "outputs": [
    {
     "data": {
      "text/plain": [
       "array([2, 1, 3, 0, 4], dtype=int64)"
      ]
     },
     "execution_count": 300,
     "metadata": {},
     "output_type": "execute_result"
    }
   ],
   "source": [
    "normalised_df[\"Q41\"] = refactored_df[\"Q41\"].map(lambda x: ['No, it has not',\"No, I don't think it would\",'Maybe','Yes, I think it would','Yes, it has'].index(x))\n",
    "normalised_df['Q41'].unique()"
   ]
  },
  {
   "cell_type": "code",
   "execution_count": 301,
   "metadata": {},
   "outputs": [
    {
     "data": {
      "text/plain": [
       "array([\"No, I don't think they would\", 'Maybe', 'Yes, they do',\n",
       "       'Yes, I think they would', 'No, they do not'], dtype=object)"
      ]
     },
     "execution_count": 301,
     "metadata": {},
     "output_type": "execute_result"
    }
   ],
   "source": [
    "refactored_df['Q42'].unique()"
   ]
  },
  {
   "cell_type": "code",
   "execution_count": 302,
   "metadata": {},
   "outputs": [
    {
     "data": {
      "text/plain": [
       "array([1, 2, 4, 3, 0], dtype=int64)"
      ]
     },
     "execution_count": 302,
     "metadata": {},
     "output_type": "execute_result"
    }
   ],
   "source": [
    "normalised_df[\"Q42\"] = refactored_df[\"Q42\"].map(lambda x: ['No, they do not',\"No, I don't think they would\",'Maybe','Yes, I think they would','Yes, they do'].index(x))\n",
    "normalised_df['Q42'].unique()"
   ]
  },
  {
   "cell_type": "code",
   "execution_count": 303,
   "metadata": {
    "scrolled": true
   },
   "outputs": [
    {
     "data": {
      "text/plain": [
       "array(['Somewhat open', 'Neutral',\n",
       "       'Not applicable to me (I do not have a mental illness)',\n",
       "       'Very open', 'Not open at all', 'Somewhat not open'], dtype=object)"
      ]
     },
     "execution_count": 303,
     "metadata": {},
     "output_type": "execute_result"
    }
   ],
   "source": [
    "refactored_df['Q43'].unique()"
   ]
  },
  {
   "cell_type": "code",
   "execution_count": 304,
   "metadata": {},
   "outputs": [
    {
     "data": {
      "text/plain": [
       "array([4, 2, 3, 5, 0, 1], dtype=int64)"
      ]
     },
     "execution_count": 304,
     "metadata": {},
     "output_type": "execute_result"
    }
   ],
   "source": [
    "normalised_df[\"Q43\"] = refactored_df[\"Q43\"].map(lambda x: ['Not open at all','Somewhat not open','Neutral','Not applicable to me (I do not have a mental illness)','Somewhat open','Very open'].index(x))\n",
    "normalised_df['Q43'].unique()"
   ]
  },
  {
   "cell_type": "code",
   "execution_count": 305,
   "metadata": {},
   "outputs": [
    {
     "data": {
      "text/plain": [
       "array(['No', 'Maybe/Not sure', 'Yes, I experienced', 'Yes, I observed'],\n",
       "      dtype=object)"
      ]
     },
     "execution_count": 305,
     "metadata": {},
     "output_type": "execute_result"
    }
   ],
   "source": [
    "refactored_df['Q44'].unique()"
   ]
  },
  {
   "cell_type": "code",
   "execution_count": 306,
   "metadata": {},
   "outputs": [
    {
     "data": {
      "text/plain": [
       "array([0, 1, 3, 2], dtype=int64)"
      ]
     },
     "execution_count": 306,
     "metadata": {},
     "output_type": "execute_result"
    }
   ],
   "source": [
    "normalised_df[\"Q44\"] = refactored_df[\"Q44\"].map(lambda x: ['No', 'Maybe/Not sure','Yes, I observed','Yes, I experienced'].index(x))\n",
    "normalised_df['Q44'].unique()"
   ]
  },
  {
   "cell_type": "code",
   "execution_count": 307,
   "metadata": {},
   "outputs": [
    {
     "data": {
      "text/plain": [
       "array(['Not answered', 'Yes', 'No', 'Maybe'], dtype=object)"
      ]
     },
     "execution_count": 307,
     "metadata": {},
     "output_type": "execute_result"
    }
   ],
   "source": [
    "refactored_df['Q45'].unique()"
   ]
  },
  {
   "cell_type": "code",
   "execution_count": 308,
   "metadata": {},
   "outputs": [
    {
     "data": {
      "text/plain": [
       "array([-1,  2,  0,  1], dtype=int64)"
      ]
     },
     "execution_count": 308,
     "metadata": {},
     "output_type": "execute_result"
    }
   ],
   "source": [
    "normalised_df[\"Q45\"] = refactored_df[\"Q45\"].map(lambda x: ['No',\"Maybe\",'Yes'].index(x) if x in ['No',\"Maybe\",'Yes'] else -1)\n",
    "normalised_df['Q45'].unique()"
   ]
  },
  {
   "cell_type": "code",
   "execution_count": 309,
   "metadata": {},
   "outputs": [
    {
     "data": {
      "text/plain": [
       "array(['No', 'Yes', \"I don't know\"], dtype=object)"
      ]
     },
     "execution_count": 309,
     "metadata": {},
     "output_type": "execute_result"
    }
   ],
   "source": [
    "refactored_df['Q46'].unique()"
   ]
  },
  {
   "cell_type": "code",
   "execution_count": 310,
   "metadata": {},
   "outputs": [
    {
     "data": {
      "text/plain": [
       "array([0, 2, 1], dtype=int64)"
      ]
     },
     "execution_count": 310,
     "metadata": {},
     "output_type": "execute_result"
    }
   ],
   "source": [
    "normalised_df[\"Q46\"] = refactored_df[\"Q46\"].map(lambda x: ['No',\"I don't know\",'Yes'].index(x))\n",
    "normalised_df['Q46'].unique()"
   ]
  },
  {
   "cell_type": "code",
   "execution_count": 311,
   "metadata": {},
   "outputs": [
    {
     "data": {
      "text/plain": [
       "array(['Yes', 'Maybe', 'No'], dtype=object)"
      ]
     },
     "execution_count": 311,
     "metadata": {},
     "output_type": "execute_result"
    }
   ],
   "source": [
    "refactored_df['Q47'].unique()"
   ]
  },
  {
   "cell_type": "code",
   "execution_count": 312,
   "metadata": {},
   "outputs": [
    {
     "data": {
      "text/plain": [
       "array([2, 1, 0], dtype=int64)"
      ]
     },
     "execution_count": 312,
     "metadata": {},
     "output_type": "execute_result"
    }
   ],
   "source": [
    "normalised_df[\"Q47\"] = refactored_df[\"Q47\"].map(lambda x: ['No',\"Maybe\",'Yes'].index(x))\n",
    "normalised_df['Q47'].unique()"
   ]
  },
  {
   "cell_type": "code",
   "execution_count": 313,
   "metadata": {},
   "outputs": [
    {
     "data": {
      "text/plain": [
       "array(['No', 'Yes', 'Maybe'], dtype=object)"
      ]
     },
     "execution_count": 313,
     "metadata": {},
     "output_type": "execute_result"
    }
   ],
   "source": [
    "#target Do you have disorder('No',\"Maybe\",'Yes')\n",
    "refactored_df['Q48'].unique()"
   ]
  },
  {
   "cell_type": "code",
   "execution_count": 314,
   "metadata": {},
   "outputs": [
    {
     "data": {
      "text/plain": [
       "array([0, 2, 1], dtype=int64)"
      ]
     },
     "execution_count": 314,
     "metadata": {},
     "output_type": "execute_result"
    }
   ],
   "source": [
    "normalised_df[\"Q48\"] = refactored_df[\"Q48\"].map(lambda x: ['No',\"Maybe\",'Yes'].index(x))\n",
    "normalised_df['Q48'].unique()"
   ]
  },
  {
   "cell_type": "code",
   "execution_count": 315,
   "metadata": {},
   "outputs": [
    {
     "data": {
      "text/plain": [
       "array(['Not identified',\n",
       "       'Anxiety Disorder (Generalized, Social, Phobia, etc)|Mood Disorder (Depression, Bipolar Disorder, etc)',\n",
       "       'Anxiety Disorder (Generalized, Social, Phobia, etc)|Stress Response Syndromes',\n",
       "       'Anxiety Disorder (Generalized, Social, Phobia, etc)|Stress Response Syndromes|Substance Use Disorder',\n",
       "       'Anxiety Disorder (Generalized, Social, Phobia, etc)|Substance Use Disorder',\n",
       "       'Mood Disorder (Depression, Bipolar Disorder, etc)',\n",
       "       'Anxiety Disorder (Generalized, Social, Phobia, etc)',\n",
       "       'Substance Use Disorder|Addictive Disorder',\n",
       "       'Anxiety Disorder (Generalized, Social, Phobia, etc)|Obsessive-Compulsive Disorder',\n",
       "       'Anxiety Disorder (Generalized, Social, Phobia, etc)|Mood Disorder (Depression, Bipolar Disorder, etc)|Eating Disorder (Anorexia, Bulimia, etc)|Obsessive-Compulsive Disorder',\n",
       "       'Personality Disorder (Borderline, Antisocial, Paranoid, etc)|Attention Deficit Hyperactivity Disorder',\n",
       "       'Anxiety Disorder (Generalized, Social, Phobia, etc)|Mood Disorder (Depression, Bipolar Disorder, etc)|Substance Use Disorder|Addictive Disorder',\n",
       "       'Mood Disorder (Depression, Bipolar Disorder, etc)|Personality Disorder (Borderline, Antisocial, Paranoid, etc)',\n",
       "       'Mood Disorder (Depression, Bipolar Disorder, etc)|Anxiety Disorder (Generalized, Social, Phobia, etc)',\n",
       "       'Anxiety Disorder (Generalized, Social, Phobia, etc)|Mood Disorder (Depression, Bipolar Disorder, etc)|Personality Disorder (Borderline, Antisocial, Paranoid, etc)',\n",
       "       'Mood Disorder (Depression, Bipolar Disorder, etc)|Attention Deficit Hyperactivity Disorder',\n",
       "       'Anxiety Disorder (Generalized, Social, Phobia, etc)|Attention Deficit Hyperactivity Disorder',\n",
       "       'Anxiety Disorder (Generalized, Social, Phobia, etc)|Mood Disorder (Depression, Bipolar Disorder, etc)|Psychotic Disorder (Schizophrenia, Schizoaffective, etc)',\n",
       "       'Mood Disorder (Depression, Bipolar Disorder, etc)|Attention Deficit Hyperactivity Disorder|Post-traumatic Stress Disorder',\n",
       "       'Anxiety Disorder (Generalized, Social, Phobia, etc)|Mood Disorder (Depression, Bipolar Disorder, etc)|Attention Deficit Hyperactivity Disorder',\n",
       "       'Personality Disorder (Borderline, Antisocial, Paranoid, etc)',\n",
       "       'Anxiety Disorder (Generalized, Social, Phobia, etc)|Mood Disorder (Depression, Bipolar Disorder, etc)|Eating Disorder (Anorexia, Bulimia, etc)',\n",
       "       'Mood Disorder (Depression, Bipolar Disorder, etc)|Eating Disorder (Anorexia, Bulimia, etc)|Personality Disorder (Borderline, Antisocial, Paranoid, etc)',\n",
       "       'Mood Disorder (Depression, Bipolar Disorder, etc)|Eating Disorder (Anorexia, Bulimia, etc)|Obsessive-Compulsive Disorder',\n",
       "       'Attention Deficit Hyperactivity Disorder|Pervasive Developmental Disorder (Not Otherwise Specified)',\n",
       "       'Mood Disorder (Depression, Bipolar Disorder, etc)|Attention Deficit Hyperactivity Disorder|Addictive Disorder',\n",
       "       'Anxiety Disorder (Generalized, Social, Phobia, etc)|Eating Disorder (Anorexia, Bulimia, etc)|Stress Response Syndromes',\n",
       "       'Seasonal Affective Disorder',\n",
       "       'Attention Deficit Hyperactivity Disorder|Mood Disorder (Depression, Bipolar Disorder, etc)',\n",
       "       'Burn out',\n",
       "       'Anxiety Disorder (Generalized, Social, Phobia, etc)|Mood Disorder (Depression, Bipolar Disorder, etc)|Obsessive-Compulsive Disorder',\n",
       "       'PDD-NOS',\n",
       "       'Mood Disorder (Depression, Bipolar Disorder, etc)|Substance Use Disorder',\n",
       "       'Mood Disorder (Depression, Bipolar Disorder, etc)|Eating Disorder (Anorexia, Bulimia, etc)',\n",
       "       'Obsessive-Compulsive Disorder|Suicidal Ideation',\n",
       "       'Anxiety Disorder (Generalized, Social, Phobia, etc)|Post-traumatic Stress Disorder|Stress Response Syndromes',\n",
       "       'Attention Deficit Hyperactivity Disorder',\n",
       "       'Post-traumatic Stress Disorder|Dissociative Disorder',\n",
       "       'Mood Disorder (Depression, Bipolar Disorder, etc)|Attention Deficit Hyperactivity Disorder|Substance Use Disorder',\n",
       "       'Anxiety Disorder (Generalized, Social, Phobia, etc)|Mood Disorder (Depression, Bipolar Disorder, etc)|Stress Response Syndromes',\n",
       "       'Anxiety Disorder (Generalized, Social, Phobia, etc)|Mood Disorder (Depression, Bipolar Disorder, etc)|Obsessive-Compulsive Disorder|Stress Response Syndromes',\n",
       "       'Burnout',\n",
       "       'Anxiety Disorder (Generalized, Social, Phobia, etc)|Mood Disorder (Depression, Bipolar Disorder, etc)|Addictive Disorder',\n",
       "       'Anxiety Disorder (Generalized, Social, Phobia, etc)|Mood Disorder (Depression, Bipolar Disorder, etc)|Eating Disorder (Anorexia, Bulimia, etc)|Personality Disorder (Borderline, Antisocial, Paranoid, etc)|Obsessive-Compulsive Disorder|Stress Response Syndromes|Dissociative Disorder|Substance Use Disorder',\n",
       "       'Gender Identity Disorder',\n",
       "       'Anxiety Disorder (Generalized, Social, Phobia, etc)|Mood Disorder (Depression, Bipolar Disorder, etc)|Attention Deficit Hyperactivity Disorder|Personality Disorder (Borderline, Antisocial, Paranoid, etc)',\n",
       "       'Substance Use Disorder',\n",
       "       'Stress Response Syndromes|Anxiety Disorder (Generalized, Social, Phobia, etc)',\n",
       "       'Mood Disorder (Depression, Bipolar Disorder, etc)|Obsessive-Compulsive Disorder|Stress Response Syndromes|Addictive Disorder',\n",
       "       'Anxiety Disorder (Generalized, Social, Phobia, etc)|Mood Disorder (Depression, Bipolar Disorder, etc)|Attention Deficit Hyperactivity Disorder|Obsessive-Compulsive Disorder|Substance Use Disorder',\n",
       "       'Anxiety Disorder (Generalized, Social, Phobia, etc)|Mood Disorder (Depression, Bipolar Disorder, etc)|Personality Disorder (Borderline, Antisocial, Paranoid, etc)|Post-traumatic Stress Disorder|Substance Use Disorder|Addictive Disorder',\n",
       "       'Attention Deficit Hyperactivity Disorder|Obsessive-Compulsive Disorder|Stress Response Syndromes',\n",
       "       'Anxiety Disorder (Generalized, Social, Phobia, etc)|Mood Disorder (Depression, Bipolar Disorder, etc)|Post-traumatic Stress Disorder',\n",
       "       'Mood Disorder (Depression, Bipolar Disorder, etc)|Personality Disorder (Borderline, Antisocial, Paranoid, etc)|Substance Use Disorder',\n",
       "       'Anxiety Disorder (Generalized, Social, Phobia, etc)|Addictive Disorder',\n",
       "       'Mood Disorder (Depression, Bipolar Disorder, etc)|Personality Disorder (Borderline, Antisocial, Paranoid, etc)|Post-traumatic Stress Disorder',\n",
       "       'Mood Disorder (Depression, Bipolar Disorder, etc)|Attention Deficit Hyperactivity Disorder|Personality Disorder (Borderline, Antisocial, Paranoid, etc)',\n",
       "       'Anxiety Disorder (Generalized, Social, Phobia, etc)|Mood Disorder (Depression, Bipolar Disorder, etc)|Substance Use Disorder',\n",
       "       'Anxiety Disorder (Generalized, Social, Phobia, etc)|Post-traumatic Stress Disorder',\n",
       "       'Anxiety Disorder (Generalized, Social, Phobia, etc)|Tinnitus',\n",
       "       'Anxiety Disorder (Generalized, Social, Phobia, etc)|Mood Disorder (Depression, Bipolar Disorder, etc)|Post-traumatic Stress Disorder|Substance Use Disorder|Addictive Disorder',\n",
       "       'Anxiety Disorder (Generalized, Social, Phobia, etc)|Attention Deficit Hyperactivity Disorder|Post-traumatic Stress Disorder',\n",
       "       'Psychotic Disorder (Schizophrenia, Schizoaffective, etc)|Personality Disorder (Borderline, Antisocial, Paranoid, etc)|Stress Response Syndromes',\n",
       "       'Mood Disorder (Depression, Bipolar Disorder, etc)|Obsessive-Compulsive Disorder',\n",
       "       'Mood Disorder (Depression, Bipolar Disorder, etc)|Post-traumatic Stress Disorder',\n",
       "       'Addictive Disorder|Substance Use Disorder|Obsessive-Compulsive Disorder|Personality Disorder (Borderline, Antisocial, Paranoid, etc)|Mood Disorder (Depression, Bipolar Disorder, etc)',\n",
       "       'Anxiety Disorder (Generalized, Social, Phobia, etc)|Mood Disorder (Depression, Bipolar Disorder, etc)|Attention Deficit Hyperactivity Disorder|Post-traumatic Stress Disorder|Substance Use Disorder',\n",
       "       'Depression', \"Autism (Asperger's)\",\n",
       "       'Anxiety Disorder (Generalized, Social, Phobia, etc)|Obsessive-Compulsive Disorder|Post-traumatic Stress Disorder',\n",
       "       'Anxiety Disorder (Generalized, Social, Phobia, etc)|Mood Disorder (Depression, Bipolar Disorder, etc)|Psychotic Disorder (Schizophrenia, Schizoaffective, etc)|Personality Disorder (Borderline, Antisocial, Paranoid, etc)|Stress Response Syndromes',\n",
       "       'Mood Disorder (Depression, Bipolar Disorder, etc)|Personality Disorder (Borderline, Antisocial, Paranoid, etc)|Addictive Disorder',\n",
       "       'Anxiety Disorder (Generalized, Social, Phobia, etc)|Mood Disorder (Depression, Bipolar Disorder, etc)|Attention Deficit Hyperactivity Disorder|Post-traumatic Stress Disorder',\n",
       "       'Traumatic Brain Injury',\n",
       "       'Anxiety Disorder (Generalized, Social, Phobia, etc)|Mood Disorder (Depression, Bipolar Disorder, etc)|Dissociative Disorder',\n",
       "       'Anxiety Disorder (Generalized, Social, Phobia, etc)|Mood Disorder (Depression, Bipolar Disorder, etc)|Eating Disorder (Anorexia, Bulimia, etc)|Attention Deficit Hyperactivity Disorder',\n",
       "       'Mood Disorder (Depression, Bipolar Disorder, etc)|Addictive Disorder',\n",
       "       'Addictive Disorder',\n",
       "       'Mood Disorder (Depression, Bipolar Disorder, etc)|Personality Disorder (Borderline, Antisocial, Paranoid, etc)|Obsessive-Compulsive Disorder|Substance Use Disorder',\n",
       "       'Anxiety Disorder (Generalized, Social, Phobia, etc)|Mood Disorder (Depression, Bipolar Disorder, etc)|Attention Deficit Hyperactivity Disorder|Personality Disorder (Borderline, Antisocial, Paranoid, etc)|Obsessive-Compulsive Disorder|Post-traumatic Stress Disorder',\n",
       "       'Anxiety Disorder (Generalized, Social, Phobia, etc)|Attention Deficit Hyperactivity Disorder|Obsessive-Compulsive Disorder',\n",
       "       'Anxiety Disorder (Generalized, Social, Phobia, etc)|Mood Disorder (Depression, Bipolar Disorder, etc)|Stress Response Syndromes|Substance Use Disorder',\n",
       "       'Anxiety Disorder (Generalized, Social, Phobia, etc)|Personality Disorder (Borderline, Antisocial, Paranoid, etc)|Obsessive-Compulsive Disorder',\n",
       "       'Mood Disorder (Depression, Bipolar Disorder, etc)|Gender Dysphoria',\n",
       "       'Anxiety Disorder (Generalized, Social, Phobia, etc)|Asperges',\n",
       "       'Obsessive-Compulsive Disorder',\n",
       "       'Anxiety Disorder (Generalized, Social, Phobia, etc)|Mood Disorder (Depression, Bipolar Disorder, etc)|Attention Deficit Hyperactivity Disorder|Personality Disorder (Borderline, Antisocial, Paranoid, etc)|Obsessive-Compulsive Disorder',\n",
       "       'Anxiety Disorder (Generalized, Social, Phobia, etc)|Stress Response Syndromes|Addictive Disorder',\n",
       "       'Attention Deficit Hyperactivity Disorder|PTSD (undiagnosed)',\n",
       "       'Post-traumatic Stress Disorder|Stress Response Syndromes',\n",
       "       'Mood Disorder (Depression, Bipolar Disorder, etc)|Stress Response Syndromes',\n",
       "       'Post-traumatic Stress Disorder',\n",
       "       'Mood Disorder (Depression, Bipolar Disorder, etc)|Eating Disorder (Anorexia, Bulimia, etc)|Attention Deficit Hyperactivity Disorder|Personality Disorder (Borderline, Antisocial, Paranoid, etc)|Stress Response Syndromes',\n",
       "       'Anxiety Disorder (Generalized, Social, Phobia, etc)|Mood Disorder (Depression, Bipolar Disorder, etc)|Personality Disorder (Borderline, Antisocial, Paranoid, etc)|Post-traumatic Stress Disorder',\n",
       "       'Stress Response Syndromes|Substance Use Disorder|Addictive Disorder',\n",
       "       'Psychotic Disorder (Schizophrenia, Schizoaffective, etc)|Stress Response Syndromes',\n",
       "       'Anxiety Disorder (Generalized, Social, Phobia, etc)|Attention Deficit Hyperactivity Disorder|Substance Use Disorder',\n",
       "       'Anxiety Disorder (Generalized, Social, Phobia, etc)|Mood Disorder (Depression, Bipolar Disorder, etc)|Post-traumatic Stress Disorder|Stress Response Syndromes',\n",
       "       'Psychotic Disorder (Schizophrenia, Schizoaffective, etc)',\n",
       "       'Personality Disorder (Borderline, Antisocial, Paranoid, etc)|Mood Disorder (Depression, Bipolar Disorder, etc)|Anxiety Disorder (Generalized, Social, Phobia, etc)',\n",
       "       'Anxiety Disorder (Generalized, Social, Phobia, etc)|Mood Disorder (Depression, Bipolar Disorder, etc)|Attention Deficit Hyperactivity Disorder|Obsessive-Compulsive Disorder',\n",
       "       'Anxiety Disorder (Generalized, Social, Phobia, etc)|Mood Disorder (Depression, Bipolar Disorder, etc)|Attention Deficit Hyperactivity Disorder|Personality Disorder (Borderline, Antisocial, Paranoid, etc)|Stress Response Syndromes|Addictive Disorder',\n",
       "       'Mood Disorder (Depression, Bipolar Disorder, etc)|Psychotic Disorder (Schizophrenia, Schizoaffective, etc)|Attention Deficit Hyperactivity Disorder|Personality Disorder (Borderline, Antisocial, Paranoid, etc)|Post-traumatic Stress Disorder|Dissociative Disorder|Depersonalisation',\n",
       "       'Anxiety Disorder (Generalized, Social, Phobia, etc)|Mood Disorder (Depression, Bipolar Disorder, etc)|Obsessive-Compulsive Disorder|Post-traumatic Stress Disorder|Stress Response Syndromes',\n",
       "       'Anxiety Disorder (Generalized, Social, Phobia, etc)|Mood Disorder (Depression, Bipolar Disorder, etc)|Eating Disorder (Anorexia, Bulimia, etc)|Personality Disorder (Borderline, Antisocial, Paranoid, etc)|Post-traumatic Stress Disorder|Substance Use Disorder|Addictive Disorder',\n",
       "       'Mood Disorder (Depression, Bipolar Disorder, etc)|Attention Deficit Hyperactivity Disorder|Obsessive-Compulsive Disorder|Addictive Disorder',\n",
       "       'Anxiety Disorder (Generalized, Social, Phobia, etc)|Mood Disorder (Depression, Bipolar Disorder, etc)|Personality Disorder (Borderline, Antisocial, Paranoid, etc)|Post-traumatic Stress Disorder|Stress Response Syndromes|Substance Use Disorder|Addictive Disorder',\n",
       "       'Anxiety Disorder (Generalized, Social, Phobia, etc)|Mood Disorder (Depression, Bipolar Disorder, etc)|Post-traumatic Stress Disorder|Addictive Disorder|Autism',\n",
       "       'Anxiety Disorder (Generalized, Social, Phobia, etc)|Mood Disorder (Depression, Bipolar Disorder, etc)|Post-traumatic Stress Disorder|Addictive Disorder',\n",
       "       'Anxiety Disorder (Generalized, Social, Phobia, etc)|Mood Disorder (Depression, Bipolar Disorder, etc)|Attention Deficit Hyperactivity Disorder|Obsessive-Compulsive Disorder|Post-traumatic Stress Disorder|Substance Use Disorder',\n",
       "       'post-partum / anxiety',\n",
       "       'Obsessive-Compulsive Disorder|Substance Use Disorder',\n",
       "       'Anxiety Disorder (Generalized, Social, Phobia, etc)|Personality Disorder (Borderline, Antisocial, Paranoid, etc)',\n",
       "       'Stress Response Syndromes',\n",
       "       'Mood Disorder (Depression, Bipolar Disorder, etc)|Attention Deficit Hyperactivity Disorder|Personality Disorder (Borderline, Antisocial, Paranoid, etc)|Stress Response Syndromes|Addictive Disorder',\n",
       "       'Mood Disorder (Depression, Bipolar Disorder, etc)|Post-traumatic Stress Disorder|Dissociative Disorder',\n",
       "       'Anxiety Disorder (Generalized, Social, Phobia, etc)|Mood Disorder (Depression, Bipolar Disorder, etc)|Personality Disorder (Borderline, Antisocial, Paranoid, etc)|Substance Use Disorder|Addictive Disorder',\n",
       "       'Anxiety Disorder (Generalized, Social, Phobia, etc)|Attention Deficit Hyperactivity Disorder|Stress Response Syndromes',\n",
       "       'Anxiety Disorder (Generalized, Social, Phobia, etc)|Obsessive-Compulsive Disorder|Stress Response Syndromes',\n",
       "       'Dissociative Disorder|Post-traumatic Stress Disorder|Personality Disorder (Borderline, Antisocial, Paranoid, etc)',\n",
       "       'Anxiety Disorder (Generalized, Social, Phobia, etc)|Mood Disorder (Depression, Bipolar Disorder, etc)|Attention Deficit Hyperactivity Disorder|Stress Response Syndromes',\n",
       "       'Mood Disorder (Depression, Bipolar Disorder, etc)|Post-traumatic Stress Disorder|Addictive Disorder',\n",
       "       'Sexual addiction',\n",
       "       'Dissociative Disorder|Stress Response Syndromes|Personality Disorder (Borderline, Antisocial, Paranoid, etc)|Mood Disorder (Depression, Bipolar Disorder, etc)|Anxiety Disorder (Generalized, Social, Phobia, etc)',\n",
       "       'Anxiety Disorder (Generalized, Social, Phobia, etc)|Attention Deficit Hyperactivity Disorder|Post-traumatic Stress Disorder|Addictive Disorder',\n",
       "       'Combination of physical impairment (strongly near-sighted) with a possibly mental one (MCD / \"ADHD\", though its actually a stimulus filtering impairment)',\n",
       "       'Anxiety Disorder (Generalized, Social, Phobia, etc)|Mood Disorder (Depression, Bipolar Disorder, etc)|Psychotic Disorder (Schizophrenia, Schizoaffective, etc)|Obsessive-Compulsive Disorder|Post-traumatic Stress Disorder',\n",
       "       'Anxiety Disorder (Generalized, Social, Phobia, etc)|Mood Disorder (Depression, Bipolar Disorder, etc)|Personality Disorder (Borderline, Antisocial, Paranoid, etc)|Stress Response Syndromes',\n",
       "       'Anxiety Disorder (Generalized, Social, Phobia, etc)|Mood Disorder (Depression, Bipolar Disorder, etc)|Personality Disorder (Borderline, Antisocial, Paranoid, etc)|Obsessive-Compulsive Disorder',\n",
       "       'Mood Disorder (Depression, Bipolar Disorder, etc)|Attention Deficit Hyperactivity Disorder|Post-traumatic Stress Disorder|Substance Use Disorder',\n",
       "       'Anxiety Disorder (Generalized, Social, Phobia, etc)|Personality Disorder (Borderline, Antisocial, Paranoid, etc)|Substance Use Disorder|Addictive Disorder',\n",
       "       'Mood Disorder (Depression, Bipolar Disorder, etc)|Attention Deficit Hyperactivity Disorder|Dissociative Disorder',\n",
       "       'Anxiety Disorder (Generalized, Social, Phobia, etc)|Mood Disorder (Depression, Bipolar Disorder, etc)|Psychotic Disorder (Schizophrenia, Schizoaffective, etc)|Eating Disorder (Anorexia, Bulimia, etc)|Attention Deficit Hyperactivity Disorder|Obsessive-Compulsive Disorder|Post-traumatic Stress Disorder|Stress Response Syndromes',\n",
       "       'Stress Response Syndromes|Sleeping Disorder',\n",
       "       \"I haven't been formally diagnosed, so I felt uncomfortable answering, but Social Anxiety and Depression.\",\n",
       "       'Anxiety Disorder (Generalized, Social, Phobia, etc)|Mood Disorder (Depression, Bipolar Disorder, etc)|Eating Disorder (Anorexia, Bulimia, etc)|Post-traumatic Stress Disorder',\n",
       "       'Personality Disorder (Borderline, Antisocial, Paranoid, etc)|Substance Use Disorder|Addictive Disorder',\n",
       "       'Eating Disorder (Anorexia, Bulimia, etc)|Mood Disorder (Depression, Bipolar Disorder, etc)',\n",
       "       'Attention Deficit Hyperactivity Disorder|Post-traumatic Stress Disorder|Substance Use Disorder',\n",
       "       'Personality Disorder (Borderline, Antisocial, Paranoid, etc)|Addictive Disorder',\n",
       "       'Attention Deficit Hyperactivity Disorder|Mood Disorder (Depression, Bipolar Disorder, etc)|Anxiety Disorder (Generalized, Social, Phobia, etc)',\n",
       "       'Anxiety Disorder (Generalized, Social, Phobia, etc)|Mood Disorder (Depression, Bipolar Disorder, etc)|Obsessive-Compulsive Disorder|Post-traumatic Stress Disorder',\n",
       "       'Eating Disorder (Anorexia, Bulimia, etc)',\n",
       "       'Anxiety Disorder (Generalized, Social, Phobia, etc)|Attention Deficit Hyperactivity Disorder|Dissociative Disorder|Substance Use Disorder',\n",
       "       'Autism Spectrum Disorder',\n",
       "       'Anxiety Disorder (Generalized, Social, Phobia, etc)|Mood Disorder (Depression, Bipolar Disorder, etc)|Personality Disorder (Borderline, Antisocial, Paranoid, etc)|Post-traumatic Stress Disorder|Dissociative Disorder|Substance Use Disorder|Addictive Disorder',\n",
       "       'Anxiety Disorder (Generalized, Social, Phobia, etc)|Mood Disorder (Depression, Bipolar Disorder, etc)|Obsessive-Compulsive Disorder|Substance Use Disorder',\n",
       "       'Obsessive-Compulsive Disorder|Personality Disorder (Borderline, Antisocial, Paranoid, etc)|Mood Disorder (Depression, Bipolar Disorder, etc)|Anxiety Disorder (Generalized, Social, Phobia, etc)',\n",
       "       'Anxiety Disorder (Generalized, Social, Phobia, etc)|Attention Deficit Hyperactivity Disorder|Addictive Disorder',\n",
       "       'Anxiety Disorder (Generalized, Social, Phobia, etc)|Mood Disorder (Depression, Bipolar Disorder, etc)|Personality Disorder (Borderline, Antisocial, Paranoid, etc)|Obsessive-Compulsive Disorder|Stress Response Syndromes|Addictive Disorder',\n",
       "       'Asperger Syndrome',\n",
       "       'Transgender|Mood Disorder (Depression, Bipolar Disorder, etc)|Anxiety Disorder (Generalized, Social, Phobia, etc)',\n",
       "       'Anxiety Disorder (Generalized, Social, Phobia, etc)|Mood Disorder (Depression, Bipolar Disorder, etc)|Eating Disorder (Anorexia, Bulimia, etc)|Attention Deficit Hyperactivity Disorder|Personality Disorder (Borderline, Antisocial, Paranoid, etc)|Obsessive-Compulsive Disorder|Post-traumatic Stress Disorder|Stress Response Syndromes',\n",
       "       'Anxiety Disorder (Generalized, Social, Phobia, etc)|Mood Disorder (Depression, Bipolar Disorder, etc)|Personality Disorder (Borderline, Antisocial, Paranoid, etc)|Stress Response Syndromes|Addictive Disorder',\n",
       "       'Anxiety Disorder (Generalized, Social, Phobia, etc)|Dissociative Disorder|Autism',\n",
       "       'Mood Disorder (Depression, Bipolar Disorder, etc)|Eating Disorder (Anorexia, Bulimia, etc)|Attention Deficit Hyperactivity Disorder|Personality Disorder (Borderline, Antisocial, Paranoid, etc)',\n",
       "       'Anxiety Disorder (Generalized, Social, Phobia, etc)|Mood Disorder (Depression, Bipolar Disorder, etc)|Attention Deficit Hyperactivity Disorder|Substance Use Disorder',\n",
       "       \"Anxiety Disorder (Generalized, Social, Phobia, etc)|Attention Deficit Hyperactivity Disorder|Asperger's\",\n",
       "       'Mood Disorder (Depression, Bipolar Disorder, etc)|Addictive Disorder|Intimate Disorder',\n",
       "       'Anxiety Disorder (Generalized, Social, Phobia, etc)|Mood Disorder (Depression, Bipolar Disorder, etc)|Dissociative Disorder|Autism',\n",
       "       'Attention Deficit Hyperactivity Disorder|Obsessive-Compulsive Disorder',\n",
       "       'depersonalization disorder',\n",
       "       'Personality Disorder (Borderline, Antisocial, Paranoid, etc)|Mood Disorder (Depression, Bipolar Disorder, etc)',\n",
       "       'Anxiety Disorder (Generalized, Social, Phobia, etc)|Mood Disorder (Depression, Bipolar Disorder, etc)|Attention Deficit Hyperactivity Disorder|Obsessive-Compulsive Disorder|Addictive Disorder',\n",
       "       'Autism',\n",
       "       'Anxiety Disorder (Generalized, Social, Phobia, etc)|Mood Disorder (Depression, Bipolar Disorder, etc)|Post-traumatic Stress Disorder|Substance Use Disorder',\n",
       "       'Anxiety Disorder (Generalized, Social, Phobia, etc)|Mood Disorder (Depression, Bipolar Disorder, etc)|Eating Disorder (Anorexia, Bulimia, etc)|Attention Deficit Hyperactivity Disorder|Post-traumatic Stress Disorder',\n",
       "       'Obsessive-Compulsive Disorder|Mood Disorder (Depression, Bipolar Disorder, etc)',\n",
       "       'Anxiety Disorder (Generalized, Social, Phobia, etc)|Mood Disorder (Depression, Bipolar Disorder, etc)|Attention Deficit Hyperactivity Disorder|Post-traumatic Stress Disorder|Addictive Disorder',\n",
       "       'Stress Response Syndromes|Post-traumatic Stress Disorder|Personality Disorder (Borderline, Antisocial, Paranoid, etc)|Attention Deficit Hyperactivity Disorder|Mood Disorder (Depression, Bipolar Disorder, etc)',\n",
       "       'Substance Use Disorder|Obsessive-Compulsive Disorder',\n",
       "       'Attention Deficit Hyperactivity Disorder|Addictive Disorder',\n",
       "       'Psychotic Disorder (Schizophrenia, Schizoaffective, etc)|Obsessive-Compulsive Disorder|ADD (w/o Hyperactivity)',\n",
       "       'Anxiety Disorder (Generalized, Social, Phobia, etc)|Mood Disorder (Depression, Bipolar Disorder, etc)|Eating Disorder (Anorexia, Bulimia, etc)|Attention Deficit Hyperactivity Disorder|Obsessive-Compulsive Disorder|Post-traumatic Stress Disorder|Stress Response Syndromes|Dissociative Disorder|Addictive Disorder',\n",
       "       'Anxiety Disorder (Generalized, Social, Phobia, etc)|Mood Disorder (Depression, Bipolar Disorder, etc)|Attention Deficit Hyperactivity Disorder|Personality Disorder (Borderline, Antisocial, Paranoid, etc)|Addictive Disorder',\n",
       "       'Anxiety Disorder (Generalized, Social, Phobia, etc)|Mood Disorder (Depression, Bipolar Disorder, etc)|Attention Deficit Hyperactivity Disorder|Dissociative Disorder',\n",
       "       'Schizotypal Personality Disorder',\n",
       "       'Anxiety Disorder (Generalized, Social, Phobia, etc)|Post-traumatic Stress Disorder|Stress Response Syndromes|Autism spectrum disorder',\n",
       "       'Obsessive-Compulsive Disorder|Eating Disorder (Anorexia, Bulimia, etc)|Mood Disorder (Depression, Bipolar Disorder, etc)|Anxiety Disorder (Generalized, Social, Phobia, etc)'],\n",
       "      dtype=object)"
      ]
     },
     "execution_count": 315,
     "metadata": {},
     "output_type": "execute_result"
    }
   ],
   "source": [
    "refactored_df['Q49'].unique()#target disorder type, not used in this chapter"
   ]
  },
  {
   "cell_type": "code",
   "execution_count": 316,
   "metadata": {},
   "outputs": [
    {
     "data": {
      "text/plain": [
       "array([0, 1], dtype=int64)"
      ]
     },
     "execution_count": 316,
     "metadata": {},
     "output_type": "execute_result"
    }
   ],
   "source": [
    "refactored_df['Q53'].unique()"
   ]
  },
  {
   "cell_type": "code",
   "execution_count": 317,
   "metadata": {},
   "outputs": [
    {
     "data": {
      "text/plain": [
       "array(['Not applicable to me', 'Rarely', 'Sometimes', 'Never', 'Often'],\n",
       "      dtype=object)"
      ]
     },
     "execution_count": 317,
     "metadata": {},
     "output_type": "execute_result"
    }
   ],
   "source": [
    "refactored_df['Q54'].unique()"
   ]
  },
  {
   "cell_type": "code",
   "execution_count": 318,
   "metadata": {},
   "outputs": [
    {
     "data": {
      "text/plain": [
       "array([0, 2, 3, 1, 4], dtype=int64)"
      ]
     },
     "execution_count": 318,
     "metadata": {},
     "output_type": "execute_result"
    }
   ],
   "source": [
    "normalised_df[\"Q54\"] = refactored_df[\"Q54\"].map(lambda x: ['Not applicable to me','Never', 'Rarely', 'Sometimes', 'Often'].index(x))\n",
    "normalised_df['Q54'].unique()"
   ]
  },
  {
   "cell_type": "code",
   "execution_count": 319,
   "metadata": {},
   "outputs": [
    {
     "data": {
      "text/plain": [
       "array(['Not applicable to me', 'Sometimes', 'Often', 'Rarely', 'Never'],\n",
       "      dtype=object)"
      ]
     },
     "execution_count": 319,
     "metadata": {},
     "output_type": "execute_result"
    }
   ],
   "source": [
    "refactored_df['Q55'].unique()"
   ]
  },
  {
   "cell_type": "code",
   "execution_count": 320,
   "metadata": {},
   "outputs": [
    {
     "data": {
      "text/plain": [
       "array([0, 3, 4, 2, 1], dtype=int64)"
      ]
     },
     "execution_count": 320,
     "metadata": {},
     "output_type": "execute_result"
    }
   ],
   "source": [
    "normalised_df[\"Q55\"] = refactored_df[\"Q55\"].map(lambda x: ['Not applicable to me','Never', 'Rarely', 'Sometimes', 'Often'].index(x))\n",
    "normalised_df['Q55'].unique()"
   ]
  },
  {
   "cell_type": "code",
   "execution_count": 321,
   "metadata": {},
   "outputs": [
    {
     "data": {
      "text/plain": [
       "0       39\n",
       "1       29\n",
       "2       38\n",
       "3       43\n",
       "4       43\n",
       "5       42\n",
       "6       30\n",
       "7       37\n",
       "8       44\n",
       "9       30\n",
       "10      28\n",
       "11      34\n",
       "12      30\n",
       "13      44\n",
       "14      35\n",
       "15      52\n",
       "16      32\n",
       "17      34\n",
       "18      25\n",
       "19      31\n",
       "20      26\n",
       "21      35\n",
       "22      25\n",
       "23      33\n",
       "24      38\n",
       "25      42\n",
       "26      27\n",
       "27      35\n",
       "28      34\n",
       "29      32\n",
       "30      32\n",
       "31      30\n",
       "32      31\n",
       "33      37\n",
       "34      36\n",
       "35      33\n",
       "36      44\n",
       "37      29\n",
       "38      29\n",
       "39      44\n",
       "40      34\n",
       "41      40\n",
       "42      46\n",
       "43      28\n",
       "44      41\n",
       "45      33\n",
       "46      32\n",
       "47      45\n",
       "48      43\n",
       "49      37\n",
       "50      37\n",
       "51      27\n",
       "52      31\n",
       "53      36\n",
       "54      34\n",
       "55      31\n",
       "56      30\n",
       "57      32\n",
       "58      40\n",
       "59      40\n",
       "60      41\n",
       "61      27\n",
       "62      30\n",
       "63      29\n",
       "64      38\n",
       "65      35\n",
       "66      35\n",
       "67      29\n",
       "68      28\n",
       "69      27\n",
       "70      39\n",
       "71      28\n",
       "72      46\n",
       "73      40\n",
       "74      37\n",
       "75      41\n",
       "76      19\n",
       "77      38\n",
       "78      33\n",
       "79      33\n",
       "80      21\n",
       "81      36\n",
       "82      39\n",
       "83      35\n",
       "84      36\n",
       "85      45\n",
       "86      41\n",
       "87      35\n",
       "88      30\n",
       "89      24\n",
       "90      33\n",
       "91      35\n",
       "92      26\n",
       "93      17\n",
       "94      29\n",
       "95      26\n",
       "96      36\n",
       "97      46\n",
       "98      39\n",
       "99      28\n",
       "100     40\n",
       "101     23\n",
       "102     30\n",
       "103     28\n",
       "104     27\n",
       "105     31\n",
       "106     39\n",
       "107     34\n",
       "108     30\n",
       "109     30\n",
       "110     31\n",
       "111     30\n",
       "112     32\n",
       "113     22\n",
       "114     37\n",
       "115     51\n",
       "116     26\n",
       "117     41\n",
       "118     39\n",
       "119     43\n",
       "120     30\n",
       "121     24\n",
       "122     30\n",
       "123     28\n",
       "124     48\n",
       "125     55\n",
       "126     36\n",
       "127     38\n",
       "128     34\n",
       "129     44\n",
       "130     45\n",
       "131     45\n",
       "132     30\n",
       "133     34\n",
       "134     37\n",
       "135     38\n",
       "136     31\n",
       "137     33\n",
       "138     29\n",
       "139     35\n",
       "140     42\n",
       "141     26\n",
       "142     36\n",
       "143     21\n",
       "144     34\n",
       "145     40\n",
       "146     35\n",
       "147     44\n",
       "148     35\n",
       "149     45\n",
       "150     42\n",
       "151     40\n",
       "152     50\n",
       "153     36\n",
       "154     31\n",
       "155     29\n",
       "156     37\n",
       "157     31\n",
       "158     42\n",
       "159     25\n",
       "160     27\n",
       "161     41\n",
       "162     41\n",
       "163     55\n",
       "164     21\n",
       "165     37\n",
       "166     34\n",
       "167     40\n",
       "168     25\n",
       "169     36\n",
       "170     25\n",
       "171     35\n",
       "172     37\n",
       "173     45\n",
       "174     26\n",
       "175     23\n",
       "176     22\n",
       "177     46\n",
       "178     31\n",
       "179     27\n",
       "180     37\n",
       "181     37\n",
       "182     26\n",
       "183     23\n",
       "184     40\n",
       "185     29\n",
       "186     37\n",
       "187     34\n",
       "188     40\n",
       "189     39\n",
       "190     28\n",
       "191     28\n",
       "192     27\n",
       "193     48\n",
       "194     49\n",
       "195     35\n",
       "196     35\n",
       "197     38\n",
       "198     32\n",
       "199     42\n",
       "200     33\n",
       "201     35\n",
       "202     24\n",
       "203     29\n",
       "204     29\n",
       "205     24\n",
       "206     30\n",
       "207     30\n",
       "208     44\n",
       "209     37\n",
       "210     28\n",
       "211     42\n",
       "212     30\n",
       "213     36\n",
       "214     30\n",
       "215     29\n",
       "216     25\n",
       "217     25\n",
       "218     24\n",
       "219     25\n",
       "220     31\n",
       "221     37\n",
       "222     35\n",
       "223     26\n",
       "224     31\n",
       "225     29\n",
       "226     33\n",
       "227     30\n",
       "228     30\n",
       "229     29\n",
       "230     25\n",
       "231     27\n",
       "232     26\n",
       "233     38\n",
       "234     49\n",
       "235     30\n",
       "236     34\n",
       "237     31\n",
       "238     29\n",
       "239     31\n",
       "240     34\n",
       "241     28\n",
       "242     35\n",
       "243     27\n",
       "244     33\n",
       "245     37\n",
       "246     45\n",
       "247     31\n",
       "248     36\n",
       "249     30\n",
       "        ..\n",
       "1183    33\n",
       "1184    29\n",
       "1185    32\n",
       "1186    43\n",
       "1187    49\n",
       "1188    44\n",
       "1189    29\n",
       "1190    27\n",
       "1191    30\n",
       "1192    43\n",
       "1193    30\n",
       "1194    33\n",
       "1195    27\n",
       "1196    26\n",
       "1197    47\n",
       "1198    30\n",
       "1199    39\n",
       "1200    36\n",
       "1201    34\n",
       "1202    25\n",
       "1203    28\n",
       "1204    38\n",
       "1205    39\n",
       "1206    32\n",
       "1207    27\n",
       "1208    31\n",
       "1209    30\n",
       "1210    34\n",
       "1211    26\n",
       "1212    27\n",
       "1213    29\n",
       "1214    37\n",
       "1215    49\n",
       "1216    39\n",
       "1217    42\n",
       "1218    28\n",
       "1219    33\n",
       "1220    30\n",
       "1221    70\n",
       "1222    25\n",
       "1223    45\n",
       "1224    63\n",
       "1225    40\n",
       "1226    39\n",
       "1227    31\n",
       "1228    34\n",
       "1229    44\n",
       "1230    45\n",
       "1231    43\n",
       "1232    29\n",
       "1233    27\n",
       "1234    37\n",
       "1235    41\n",
       "1236    30\n",
       "1237    28\n",
       "1238    28\n",
       "1239    39\n",
       "1240    22\n",
       "1241    31\n",
       "1242    29\n",
       "1243    33\n",
       "1244    37\n",
       "1245    42\n",
       "1246    31\n",
       "1247    34\n",
       "1248    49\n",
       "1249    29\n",
       "1250    40\n",
       "1251    46\n",
       "1252    31\n",
       "1253    43\n",
       "1254    45\n",
       "1255    32\n",
       "1256    38\n",
       "1257    40\n",
       "1258    38\n",
       "1259    32\n",
       "1260    37\n",
       "1261    24\n",
       "1262    25\n",
       "1263    24\n",
       "1264    34\n",
       "1265    55\n",
       "1266    32\n",
       "1267    29\n",
       "1268    20\n",
       "1269    41\n",
       "1270    33\n",
       "1271    25\n",
       "1272    29\n",
       "1273    24\n",
       "1274    39\n",
       "1275    39\n",
       "1276    44\n",
       "1277    30\n",
       "1278    31\n",
       "1279    37\n",
       "1280    42\n",
       "1281    35\n",
       "1282    30\n",
       "1283    30\n",
       "1284    33\n",
       "1285    31\n",
       "1286    39\n",
       "1287    27\n",
       "1288    34\n",
       "1289    31\n",
       "1290    30\n",
       "1291    34\n",
       "1292    20\n",
       "1293    39\n",
       "1294    50\n",
       "1295    22\n",
       "1296    41\n",
       "1297    37\n",
       "1298    32\n",
       "1299    26\n",
       "1300    38\n",
       "1301    21\n",
       "1302    27\n",
       "1303    37\n",
       "1304    45\n",
       "1305    26\n",
       "1306    30\n",
       "1307    21\n",
       "1308    21\n",
       "1309    29\n",
       "1310    46\n",
       "1311    28\n",
       "1312    26\n",
       "1313    37\n",
       "1314    44\n",
       "1315    45\n",
       "1316    35\n",
       "1317    39\n",
       "1318    37\n",
       "1319    35\n",
       "1320    29\n",
       "1321    49\n",
       "1322    21\n",
       "1323    26\n",
       "1324    35\n",
       "1325    56\n",
       "1326    53\n",
       "1327    48\n",
       "1328    24\n",
       "1329    37\n",
       "1330    27\n",
       "1331    39\n",
       "1332    31\n",
       "1333    34\n",
       "1334    33\n",
       "1335    22\n",
       "1336    25\n",
       "1337    34\n",
       "1338    30\n",
       "1339    37\n",
       "1340    26\n",
       "1341    29\n",
       "1342    29\n",
       "1343    27\n",
       "1344    27\n",
       "1345    23\n",
       "1346    24\n",
       "1347    22\n",
       "1348    28\n",
       "1349    22\n",
       "1350    32\n",
       "1351    35\n",
       "1352    26\n",
       "1353    31\n",
       "1354    32\n",
       "1355    37\n",
       "1356    24\n",
       "1357    33\n",
       "1358    28\n",
       "1359    22\n",
       "1360    46\n",
       "1361    30\n",
       "1362    29\n",
       "1363    22\n",
       "1364    24\n",
       "1365    29\n",
       "1366    30\n",
       "1367    25\n",
       "1368    39\n",
       "1369    31\n",
       "1370    25\n",
       "1371    39\n",
       "1372    31\n",
       "1373    35\n",
       "1374    31\n",
       "1375    23\n",
       "1376    30\n",
       "1377    28\n",
       "1378    23\n",
       "1379    26\n",
       "1380    24\n",
       "1381    32\n",
       "1382    35\n",
       "1383    30\n",
       "1384    32\n",
       "1385    35\n",
       "1386    26\n",
       "1387    30\n",
       "1388    29\n",
       "1389    39\n",
       "1390    37\n",
       "1391    35\n",
       "1392    25\n",
       "1393    22\n",
       "1394    33\n",
       "1395    23\n",
       "1396    29\n",
       "1397    28\n",
       "1398    30\n",
       "1399    28\n",
       "1400    28\n",
       "1401    37\n",
       "1402    30\n",
       "1403    27\n",
       "1404    29\n",
       "1405    28\n",
       "1406    26\n",
       "1407    29\n",
       "1408    34\n",
       "1409    36\n",
       "1410    38\n",
       "1411    22\n",
       "1412    24\n",
       "1413    24\n",
       "1414    36\n",
       "1415    24\n",
       "1416    24\n",
       "1417    31\n",
       "1418    39\n",
       "1419    41\n",
       "1420    29\n",
       "1421    37\n",
       "1422    30\n",
       "1423    24\n",
       "1424    22\n",
       "1425    24\n",
       "1426    26\n",
       "1427    38\n",
       "1428    34\n",
       "1429    56\n",
       "1430    52\n",
       "1431    30\n",
       "1432    25\n",
       "Name: Q56, Length: 1432, dtype: int64"
      ]
     },
     "execution_count": 321,
     "metadata": {},
     "output_type": "execute_result"
    }
   ],
   "source": [
    "normalised_df[\"Q56\"]#TODO make buckets?"
   ]
  },
  {
   "cell_type": "code",
   "execution_count": 322,
   "metadata": {},
   "outputs": [
    {
     "data": {
      "text/plain": [
       "array(['M', 'F', 'U'], dtype=object)"
      ]
     },
     "execution_count": 322,
     "metadata": {},
     "output_type": "execute_result"
    }
   ],
   "source": [
    "refactored_df[\"Q57\"].unique()"
   ]
  },
  {
   "cell_type": "code",
   "execution_count": 323,
   "metadata": {},
   "outputs": [
    {
     "data": {
      "text/plain": [
       "array([0, 1, 2], dtype=int64)"
      ]
     },
     "execution_count": 323,
     "metadata": {},
     "output_type": "execute_result"
    }
   ],
   "source": [
    "normalised_df[\"Q57\"] = refactored_df[\"Q57\"].map(lambda x: ['M', 'F', 'U'].index(x))\n",
    "normalised_df['Q57'].unique()"
   ]
  },
  {
   "cell_type": "code",
   "execution_count": 324,
   "metadata": {},
   "outputs": [],
   "source": [
    "#\"Q58\",\"Q59\",\"Q60\",\"Q61\",\"Q62\""
   ]
  },
  {
   "cell_type": "code",
   "execution_count": null,
   "metadata": {},
   "outputs": [],
   "source": []
  },
  {
   "cell_type": "code",
   "execution_count": 325,
   "metadata": {},
   "outputs": [
    {
     "data": {
      "text/plain": [
       "array(['United Kingdom', 'United States of America', 'Canada', 'Germany',\n",
       "       'Netherlands', 'Czech Republic', 'Lithuania', 'Australia',\n",
       "       'France', 'Venezuela', 'Poland', 'Belgium', 'Brazil', 'Denmark',\n",
       "       'Sweden', 'Russia', 'Spain', 'India', 'Mexico', 'Switzerland',\n",
       "       'Norway', 'Argentina', 'Ireland', 'Italy', 'Finland', 'Colombia',\n",
       "       'Costa Rica', 'Vietnam', 'Bulgaria', 'New Zealand', 'South Africa',\n",
       "       'Slovakia', 'Austria', 'Bangladesh', 'Algeria', 'Pakistan',\n",
       "       'Afghanistan', 'Greece', 'Romania', 'Other', 'Brunei', 'Japan',\n",
       "       'Iran', 'Hungary', 'Israel', 'Ecuador', 'Bosnia and Herzegovina',\n",
       "       'China', 'Chile', 'Guatemala', 'Taiwan', 'Serbia', 'Estonia'],\n",
       "      dtype=object)"
      ]
     },
     "execution_count": 325,
     "metadata": {},
     "output_type": "execute_result"
    }
   ],
   "source": [
    "refactored_df[\"Q58\"].unique()"
   ]
  },
  {
   "cell_type": "code",
   "execution_count": 326,
   "metadata": {},
   "outputs": [
    {
     "data": {
      "text/plain": [
       "array([ 0,  1,  2,  3,  4,  5,  6,  7,  8,  9, 10, 11, 12, 13, 14, 15, 16,\n",
       "       17, 18, 19, 20, 21, 22, 23, 24, 25, 26, 27, 28, 29, 30, 31, 32, 33,\n",
       "       34, 35, 36, 37, 38, 39, 40, 41, 42, 43, 44, 45, 46, 47, 48, 49, 50,\n",
       "       51, 52], dtype=int64)"
      ]
     },
     "execution_count": 326,
     "metadata": {},
     "output_type": "execute_result"
    }
   ],
   "source": [
    "normalised_df[\"Q58\"] = refactored_df[\"Q58\"].map(lambda x: list(refactored_df[\"Q58\"].unique()).index(x))\n",
    "normalised_df['Q58'].unique()"
   ]
  },
  {
   "cell_type": "code",
   "execution_count": 327,
   "metadata": {},
   "outputs": [
    {
     "data": {
      "text/plain": [
       "array(['Not USA', 'Illinois', 'Tennessee', 'Virginia', 'California',\n",
       "       'Kentucky', 'Oregon', 'Pennsylvania', 'New Jersey', 'Georgia',\n",
       "       'Washington', 'New York', 'Indiana', 'Minnesota', 'West Virginia',\n",
       "       'Florida', 'Massachusetts', 'North Dakota', 'Texas', 'Maryland',\n",
       "       'Wisconsin', 'Michigan', 'Vermont', 'North Carolina', 'Kansas',\n",
       "       'District of Columbia', 'Nevada', 'Utah', 'Connecticut',\n",
       "       'Colorado', 'Ohio', 'Iowa', 'South Dakota', 'Nebraska', 'Maine',\n",
       "       'Missouri', 'Arizona', 'Oklahoma', 'Idaho', 'Rhode Island',\n",
       "       'Alabama', 'Louisiana', 'South Carolina', 'New Hampshire',\n",
       "       'New Mexico', 'Montana', 'Alaska', 'Delaware'], dtype=object)"
      ]
     },
     "execution_count": 327,
     "metadata": {},
     "output_type": "execute_result"
    }
   ],
   "source": [
    "refactored_df[\"Q59\"].unique()"
   ]
  },
  {
   "cell_type": "code",
   "execution_count": 328,
   "metadata": {},
   "outputs": [
    {
     "data": {
      "text/plain": [
       "array([ 0,  1,  2,  3,  4,  5,  6,  7,  8,  9, 10, 11, 12, 13, 14, 15, 16,\n",
       "       17, 18, 19, 20, 21, 22, 23, 24, 25, 26, 27, 28, 29, 30, 31, 32, 33,\n",
       "       34, 35, 36, 37, 38, 39, 40, 41, 42, 43, 44, 45, 46, 47],\n",
       "      dtype=int64)"
      ]
     },
     "execution_count": 328,
     "metadata": {},
     "output_type": "execute_result"
    }
   ],
   "source": [
    "normalised_df[\"Q59\"] = refactored_df[\"Q59\"].map(lambda x: list(refactored_df[\"Q59\"].unique()).index(x))\n",
    "normalised_df['Q59'].unique()"
   ]
  },
  {
   "cell_type": "code",
   "execution_count": 329,
   "metadata": {},
   "outputs": [
    {
     "data": {
      "text/plain": [
       "array(['United Kingdom', 'United States of America', 'Canada', 'Germany',\n",
       "       'Netherlands', 'Czech Republic', 'Lithuania', 'Australia',\n",
       "       'France', 'Venezuela', 'Poland', 'Belgium', 'Brazil', 'Denmark',\n",
       "       'Sweden', 'Russia', 'Spain', 'India', 'United Arab Emirates',\n",
       "       'Mexico', 'Switzerland', 'Norway', 'Argentina', 'Ireland', 'Italy',\n",
       "       'Finland', 'Turkey', 'Colombia', 'Costa Rica', 'Vietnam',\n",
       "       'Bulgaria', 'New Zealand', 'South Africa', 'Slovakia', 'Austria',\n",
       "       'Bangladesh', 'Pakistan', 'Afghanistan', 'Greece', 'Other',\n",
       "       'Romania', 'Brunei', 'Iran', 'Hungary', 'Israel', 'Japan',\n",
       "       'Ecuador', 'Bosnia and Herzegovina', 'China', 'Chile', 'Guatemala',\n",
       "       'Serbia', 'Estonia'], dtype=object)"
      ]
     },
     "execution_count": 329,
     "metadata": {},
     "output_type": "execute_result"
    }
   ],
   "source": [
    "refactored_df[\"Q60\"].unique()"
   ]
  },
  {
   "cell_type": "code",
   "execution_count": 330,
   "metadata": {},
   "outputs": [
    {
     "data": {
      "text/plain": [
       "array([ 0,  1,  2,  3,  4,  5,  6,  7,  8,  9, 10, 11, 12, 13, 14, 15, 16,\n",
       "       17, 18, 19, 20, 21, 22, 23, 24, 25, 26, 27, 28, 29, 30, 31, 32, 33,\n",
       "       34, 35, 36, 37, 38, 39, 40, 41, 42, 43, 44, 45, 46, 47, 48, 49, 50,\n",
       "       51, 52], dtype=int64)"
      ]
     },
     "execution_count": 330,
     "metadata": {},
     "output_type": "execute_result"
    }
   ],
   "source": [
    "normalised_df[\"Q60\"] = refactored_df[\"Q60\"].map(lambda x: list(refactored_df[\"Q60\"].unique()).index(x))\n",
    "normalised_df['Q60'].unique()"
   ]
  },
  {
   "cell_type": "code",
   "execution_count": 331,
   "metadata": {},
   "outputs": [
    {
     "data": {
      "text/plain": [
       "array(['Not USA', 'Illinois', 'Tennessee', 'Virginia', 'California',\n",
       "       'Kentucky', 'Oregon', 'Pennsylvania', 'New Jersey', 'Georgia',\n",
       "       'Washington', 'New York', 'Indiana', 'Minnesota', 'Ohio',\n",
       "       'Florida', 'Massachusetts', 'North Dakota', 'Texas',\n",
       "       'District of Columbia', 'Michigan', 'Vermont', 'North Carolina',\n",
       "       'Missouri', 'Kansas', 'Nevada', 'Utah', 'Connecticut', 'Maryland',\n",
       "       'Colorado', 'Iowa', 'South Dakota', 'Hawaii', 'Nebraska', 'Maine',\n",
       "       'Arizona', 'Oklahoma', 'Wisconsin', 'Rhode Island', 'Alabama',\n",
       "       'West Virginia', 'Louisiana', 'South Carolina', 'New Hampshire',\n",
       "       'New Mexico', 'Montana', 'Idaho', 'Alaska', 'Delaware'],\n",
       "      dtype=object)"
      ]
     },
     "execution_count": 331,
     "metadata": {},
     "output_type": "execute_result"
    }
   ],
   "source": [
    "refactored_df[\"Q61\"].unique()"
   ]
  },
  {
   "cell_type": "code",
   "execution_count": 332,
   "metadata": {},
   "outputs": [
    {
     "data": {
      "text/plain": [
       "array([ 0,  1,  2,  3,  4,  5,  6,  7,  8,  9, 10, 11, 12, 13, 14, 15, 16,\n",
       "       17, 18, 19, 20, 21, 22, 23, 24, 25, 26, 27, 28, 29, 30, 31, 32, 33,\n",
       "       34, 35, 36, 37, 38, 39, 40, 41, 42, 43, 44, 45, 46, 47, 48],\n",
       "      dtype=int64)"
      ]
     },
     "execution_count": 332,
     "metadata": {},
     "output_type": "execute_result"
    }
   ],
   "source": [
    "normalised_df[\"Q61\"] = refactored_df[\"Q61\"].map(lambda x: list(refactored_df[\"Q61\"].unique()).index(x))\n",
    "normalised_df['Q61'].unique()"
   ]
  },
  {
   "cell_type": "code",
   "execution_count": 333,
   "metadata": {},
   "outputs": [
    {
     "data": {
      "text/plain": [
       "array(['Developer', 'Leader', 'Designer', 'One-person shop', 'Other'],\n",
       "      dtype=object)"
      ]
     },
     "execution_count": 333,
     "metadata": {},
     "output_type": "execute_result"
    }
   ],
   "source": [
    "refactored_df[\"Q62\"].unique()"
   ]
  },
  {
   "cell_type": "code",
   "execution_count": 334,
   "metadata": {},
   "outputs": [
    {
     "data": {
      "text/plain": [
       "array([0, 1, 2, 3, 4], dtype=int64)"
      ]
     },
     "execution_count": 334,
     "metadata": {},
     "output_type": "execute_result"
    }
   ],
   "source": [
    "normalised_df[\"Q62\"] = refactored_df[\"Q62\"].map(lambda x: list(refactored_df[\"Q62\"].unique()).index(x))\n",
    "normalised_df['Q62'].unique()"
   ]
  },
  {
   "cell_type": "code",
   "execution_count": 335,
   "metadata": {},
   "outputs": [
    {
     "data": {
      "text/plain": [
       "array(['Sometimes', 'Never', 'Always'], dtype=object)"
      ]
     },
     "execution_count": 335,
     "metadata": {},
     "output_type": "execute_result"
    }
   ],
   "source": [
    "refactored_df[\"Q63\"].unique()"
   ]
  },
  {
   "cell_type": "code",
   "execution_count": 336,
   "metadata": {},
   "outputs": [
    {
     "data": {
      "text/plain": [
       "array([1, 0, 2], dtype=int64)"
      ]
     },
     "execution_count": 336,
     "metadata": {},
     "output_type": "execute_result"
    }
   ],
   "source": [
    "normalised_df[\"Q63\"] = refactored_df[\"Q63\"].map(lambda x: ['Never','Sometimes','Always'].index(x))\n",
    "normalised_df['Q63'].unique()"
   ]
  },
  {
   "cell_type": "markdown",
   "metadata": {
    "colab_type": "text",
    "id": "XMQKf9IPxVsi"
   },
   "source": [
    "## 1.2. Learning Classifiers"
   ]
  },
  {
   "cell_type": "markdown",
   "metadata": {
    "colab_type": "text",
    "id": "UUQs6MbIxVsj"
   },
   "source": [
    "..."
   ]
  },
  {
   "cell_type": "code",
   "execution_count": 337,
   "metadata": {
    "scrolled": false
   },
   "outputs": [],
   "source": [
    "import seaborn as sns; sns.set()\n",
    "from sklearn.metrics import confusion_matrix\n",
    "import matplotlib.pyplot as plt\n",
    "from sklearn.model_selection import train_test_split\n",
    "\n",
    "X = normalised_df[[col for col in normalised_df if col not in ['Q48', 'Q49']]]\n",
    "y = normalised_df[\"Q48\"]\n",
    "\n",
    "X_train, X_test, y_train, y_test = train_test_split(X, y, test_size=0.33, random_state=42)\n",
    "\n",
    "def evaluate(clf,name=\"\"):\n",
    "    \n",
    "    clf = clf.fit(X_train, y_train)\n",
    "    print(\"Training set score =\", clf.score(X_train, y_train))\n",
    "    print(\"Test set score =\", clf.score(X_test, y_test))\n",
    "    \n",
    "    plt.suptitle('Confusion Matrix - '+name)\n",
    "    plt.subplot(1, 2, 1)\n",
    "    y_train_pred = clf.predict(X_train)\n",
    "    y_train_pred = np.round(y_train_pred)\n",
    "    cm_test = confusion_matrix(y_train, y_train_pred)\n",
    "    sns.heatmap(cm_test.T, square=True, annot=True, fmt='d', cbar=False,xticklabels=[\"No\",\"Maybe\",\"Yes\"],yticklabels=[\"No\",\"Maybe\",\"Yes\"])\n",
    "    plt.title('Train data')\n",
    "\n",
    "    plt.subplot(1, 2, 2)\n",
    "    y_test_pred = clf.predict(X_test)\n",
    "    y_test_pred = np.round(y_test_pred)\n",
    "    cm_test = confusion_matrix(y_test, y_test_pred)\n",
    "    sns.heatmap(cm_test.T, square=True, annot=True, fmt='d', cbar=False,xticklabels=[\"No\",\"Maybe\",\"Yes\"],yticklabels=[\"No\",\"Maybe\",\"Yes\"])\n",
    "    plt.title('Test data')\n",
    "\n",
    "    plt.tight_layout()\n",
    "    plt.show()\n",
    "    "
   ]
  },
  {
   "cell_type": "code",
   "execution_count": 338,
   "metadata": {},
   "outputs": [
    {
     "name": "stdout",
     "output_type": "stream",
     "text": [
      "Training set score = 1.0\n",
      "Test set score = 0.6448202959830867\n"
     ]
    },
    {
     "data": {
      "image/png": "[encoded data removed]",
      "text/plain": [
       "<Figure size 432x288 with 2 Axes>"
      ]
     },
     "metadata": {},
     "output_type": "display_data"
    }
   ],
   "source": [
    "from sklearn import tree\n",
    "tree_clf = tree.DecisionTreeClassifier()\n",
    "evaluate(tree_clf,\"Tree classifier\")\n",
    "# import graphviz \n",
    "# dot_data = tree.export_graphviz(tree_clf, out_file=\"tree.dot\", feature_names= X.columns, filled=True, rounded=True, special_characters=True)  \n",
    "# from subprocess import call\n",
    "# call(['dot.bat', '-T', 'png', 'tree.dot', '-o', 'tree.png'])"
   ]
  },
  {
   "cell_type": "code",
   "execution_count": 339,
   "metadata": {},
   "outputs": [
    {
     "name": "stdout",
     "output_type": "stream",
     "text": [
      "Training set score = 0.605769142696774\n",
      "Test set score = 0.555376484602085\n"
     ]
    },
    {
     "data": {
      "image/png": "[encoded data removed]",
      "text/plain": [
       "<Figure size 432x288 with 2 Axes>"
      ]
     },
     "metadata": {},
     "output_type": "display_data"
    }
   ],
   "source": [
    "from sklearn.linear_model import LinearRegression\n",
    "lr_clf = LinearRegression()\n",
    "evaluate(lr_clf,\"LinearRegression classifier\")"
   ]
  },
  {
   "cell_type": "code",
   "execution_count": 340,
   "metadata": {},
   "outputs": [
    {
     "name": "stdout",
     "output_type": "stream",
     "text": [
      "Training set score = 0.7382690302398331\n",
      "Test set score = 0.7061310782241015\n"
     ]
    },
    {
     "data": {
      "image/png": "[encoded data removed]",
      "text/plain": [
       "<Figure size 432x288 with 2 Axes>"
      ]
     },
     "metadata": {},
     "output_type": "display_data"
    }
   ],
   "source": [
    "from sklearn.linear_model import LogisticRegression\n",
    "logreg_clf = LogisticRegression(multi_class=\"auto\",solver=\"liblinear\")\n",
    "evaluate(logreg_clf ,\"LogisticRegression classifier\")"
   ]
  },
  {
   "cell_type": "code",
   "execution_count": 341,
   "metadata": {
    "scrolled": false
   },
   "outputs": [
    {
     "name": "stdout",
     "output_type": "stream",
     "text": [
      "Training set score = 0.6056385196274943\n",
      "Test set score = 0.5573497396847733\n"
     ]
    },
    {
     "data": {
      "image/png": "[encoded data removed]",
      "text/plain": [
       "<Figure size 432x288 with 2 Axes>"
      ]
     },
     "metadata": {},
     "output_type": "display_data"
    }
   ],
   "source": [
    "from sklearn.linear_model import Ridge\n",
    "ridge_clf = Ridge()\n",
    "evaluate(ridge_clf ,\"Ridge classifier\")"
   ]
  },
  {
   "cell_type": "code",
   "execution_count": 342,
   "metadata": {},
   "outputs": [
    {
     "name": "stdout",
     "output_type": "stream",
     "text": [
      "Training set score = 0.7497393117831074\n",
      "Test set score = 0.5517970401691332\n"
     ]
    },
    {
     "data": {
      "image/png": "[encoded data removed]",
      "text/plain": [
       "<Figure size 432x288 with 2 Axes>"
      ]
     },
     "metadata": {},
     "output_type": "display_data"
    }
   ],
   "source": [
    "from sklearn.neighbors import KNeighborsClassifier\n",
    "knn_clf = KNeighborsClassifier(n_neighbors=3)\n",
    "evaluate(knn_clf ,\"KNN classifier\")"
   ]
  },
  {
   "cell_type": "code",
   "execution_count": 344,
   "metadata": {},
   "outputs": [
    {
     "name": "stdout",
     "output_type": "stream",
     "text": [
      "Training set score = 0.64859228362878\n",
      "Test set score = 0.6469344608879493\n"
     ]
    },
    {
     "data": {
      "image/png": "[encoded data removed]",
      "text/plain": [
       "<Figure size 432x288 with 2 Axes>"
      ]
     },
     "metadata": {},
     "output_type": "display_data"
    }
   ],
   "source": [
    "from sklearn.naive_bayes import GaussianNB\n",
    "gnb_clf = GaussianNB()\n",
    "evaluate(gnb_clf ,\"GNB classifier\")"
   ]
  },
  {
   "cell_type": "markdown",
   "metadata": {
    "colab_type": "text",
    "id": "mlTrhdYDxVsk"
   },
   "source": [
    "## 1.3. Classification - Results and Discussion "
   ]
  },
  {
   "cell_type": "markdown",
   "metadata": {
    "colab_type": "text",
    "id": "cqlqU4iDxVsm"
   },
   "source": [
    "..."
   ]
  },
  {
   "cell_type": "markdown",
   "metadata": {
    "colab_type": "text",
    "id": "2bs1_ubfxVsn"
   },
   "source": [
    "## Task 2 (Unsupervised Learning) - Charactering people with mental health disorders"
   ]
  },
  {
   "cell_type": "markdown",
   "metadata": {
    "colab_type": "text",
    "id": "xZzPoI8DxVso"
   },
   "source": [
    "In this task you should **use unsupervised learning algorithms and try to characterize people with mental health disorders**:\n",
    "* Use association rule mining to find **associations between features and mental health disorders**.\n",
    "* Use **clustering algorithms to find groups describing similar people**, for example, is it possible to find groups of people with the same/similar mental health disorders.\n",
    "* **Be creative and define your own unsupervised analysis!** What would it be interesting to find out ?"
   ]
  },
  {
   "cell_type": "markdown",
   "metadata": {
    "colab_type": "text",
    "id": "qLPo83vTxVsp"
   },
   "source": [
    "## 2.1. Preprocessing Data for Association Rule Mining"
   ]
  },
  {
   "cell_type": "markdown",
   "metadata": {
    "colab_type": "text",
    "id": "fRzL__4zxVsp"
   },
   "source": [
    "..."
   ]
  },
  {
   "cell_type": "markdown",
   "metadata": {
    "colab_type": "text",
    "id": "oExIi_-0xVsq"
   },
   "source": [
    "## 2.2. Finding Associations"
   ]
  },
  {
   "cell_type": "markdown",
   "metadata": {
    "colab_type": "text",
    "id": "WE729xfgxVsr"
   },
   "source": [
    "..."
   ]
  },
  {
   "cell_type": "markdown",
   "metadata": {
    "colab_type": "text",
    "id": "mI2_5gGWxVss"
   },
   "source": [
    "## 2.3 Association Rules - Results and Discussion "
   ]
  },
  {
   "cell_type": "markdown",
   "metadata": {
    "colab_type": "text",
    "id": "dI8o26LGxVst"
   },
   "source": [
    "..."
   ]
  },
  {
   "cell_type": "markdown",
   "metadata": {
    "colab_type": "text",
    "id": "GmT_dPumxVsu"
   },
   "source": [
    "## 2.4. Preprocess Data for Clustering"
   ]
  },
  {
   "cell_type": "markdown",
   "metadata": {
    "colab_type": "text",
    "id": "mHfRPgPJxVsv"
   },
   "source": [
    "..."
   ]
  },
  {
   "cell_type": "markdown",
   "metadata": {
    "colab_type": "text",
    "collapsed": true,
    "id": "pr39jmKyxVsv"
   },
   "source": [
    "## 2.5. Finding Groups"
   ]
  },
  {
   "cell_type": "markdown",
   "metadata": {
    "colab_type": "text",
    "id": "7UmSQ02IxVsw"
   },
   "source": [
    "..."
   ]
  },
  {
   "cell_type": "markdown",
   "metadata": {
    "colab_type": "text",
    "id": "Pnhwn2DnxVsx"
   },
   "source": [
    "## 2.6. Clustering - Results and Discussion "
   ]
  },
  {
   "cell_type": "markdown",
   "metadata": {
    "colab_type": "text",
    "id": "P7Jm1ZRuxVsx"
   },
   "source": [
    "..."
   ]
  },
  {
   "cell_type": "markdown",
   "metadata": {
    "colab_type": "text",
    "id": "slRJnWDCxVsy"
   },
   "source": [
    "## 3. Final Comments and Conclusions"
   ]
  },
  {
   "cell_type": "markdown",
   "metadata": {
    "colab_type": "text",
    "id": "W7ioRy0vxVsz"
   },
   "source": [
    "..."
   ]
  }
 ],
 "metadata": {
  "colab": {
   "collapsed_sections": [],
   "name": "AA_201819_Project.ipynb",
   "provenance": [],
   "version": "0.3.2"
  },
  "kernelspec": {
   "display_name": "Python 3",
   "language": "python",
   "name": "python3"
  },
  "language_info": {
   "codemirror_mode": {
    "name": "ipython",
    "version": 3
   },
   "file_extension": ".py",
   "mimetype": "text/x-python",
   "name": "python",
   "nbconvert_exporter": "python",
   "pygments_lexer": "ipython3",
   "version": "3.7.0"
  }
 },
 "nbformat": 4,
 "nbformat_minor": 1
}
